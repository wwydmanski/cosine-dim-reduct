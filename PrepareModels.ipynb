{
 "cells": [
  {
   "cell_type": "code",
   "execution_count": 27,
   "metadata": {},
   "outputs": [],
   "source": [
    "import pickle\n",
    "import torch\n",
    "from sklearn.decomposition import PCA\n",
    "import pandas as pd\n",
    "from sklearn.metrics.pairwise import cosine_similarity\n",
    "from sklearn.model_selection import train_test_split\n",
    "import tqdm\n",
    "import numpy as np\n",
    "from loguru import logger\n",
    "import json\n",
    "import glob"
   ]
  },
  {
   "cell_type": "code",
   "execution_count": 3,
   "metadata": {},
   "outputs": [],
   "source": [
    "import warnings\n",
    "warnings.filterwarnings(\"ignore\")"
   ]
  },
  {
   "cell_type": "code",
   "execution_count": 4,
   "metadata": {},
   "outputs": [],
   "source": [
    "from torch import nn\n",
    "import torch.nn.functional as F"
   ]
  },
  {
   "cell_type": "code",
   "execution_count": 6,
   "metadata": {},
   "outputs": [
    {
     "data": {
      "text/plain": [
       "2"
      ]
     },
     "execution_count": 6,
     "metadata": {},
     "output_type": "execute_result"
    }
   ],
   "source": [
    "logger.remove()\n",
    "logger.add(\"log2.txt\")"
   ]
  },
  {
   "cell_type": "code",
   "execution_count": 1,
   "metadata": {},
   "outputs": [],
   "source": [
    "DEVICE = \"cuda:0\""
   ]
  },
  {
   "cell_type": "markdown",
   "metadata": {},
   "source": [
    "## Load models for vector generation"
   ]
  },
  {
   "cell_type": "markdown",
   "metadata": {},
   "source": [
    "## Load data"
   ]
  },
  {
   "cell_type": "markdown",
   "metadata": {},
   "source": [
    "### Read vectors"
   ]
  },
  {
   "cell_type": "code",
   "execution_count": 7,
   "metadata": {},
   "outputs": [],
   "source": [
    "embeddings = np.load(\"data/vectors.npy\")"
   ]
  },
  {
   "cell_type": "code",
   "execution_count": 8,
   "metadata": {},
   "outputs": [
    {
     "name": "stdout",
     "output_type": "stream",
     "text": [
      "(69982, 768)\n",
      "(29993, 768)\n"
     ]
    }
   ],
   "source": [
    "indices = np.arange(embeddings.shape[0]//3)\n",
    "\n",
    "train_idx, test_idx = train_test_split(indices, test_size=0.3, random_state=42)\n",
    "\n",
    "train_data = [embeddings[train_idx*3], embeddings[train_idx*3+1], embeddings[train_idx*3+2]]\n",
    "test_data = [embeddings[test_idx*3], embeddings[test_idx*3+1], embeddings[test_idx*3+2]]\n",
    "\n",
    "print(train_data[0].shape)\n",
    "print(test_data[0].shape)"
   ]
  },
  {
   "cell_type": "markdown",
   "metadata": {},
   "source": [
    "## Measure cosine similarity differences between pos and neg"
   ]
  },
  {
   "cell_type": "code",
   "execution_count": 9,
   "metadata": {},
   "outputs": [],
   "source": [
    "def calculate_metrics(method, data, name, show_pbar=True):\n",
    "    orig_shape = data[0].shape[1]\n",
    "    pos_similarity = []\n",
    "    neg_similarity = []\n",
    "\n",
    "    queue = []\n",
    "    anchors = method(data[0])\n",
    "    positives = method(data[1])\n",
    "    negatives = method(data[2])\n",
    "   \n",
    "    for i in tqdm.trange(len(anchors), disable=not show_pbar):\n",
    "        query, pos, neg = anchors[i], positives[i], negatives[i]\n",
    "        pos_similarity.append(cosine_similarity([query], [pos])[0][0])\n",
    "        neg_similarity.append(cosine_similarity([query], [neg])[0][0])\n",
    "\n",
    "    pos_similarity = np.array(pos_similarity)\n",
    "    neg_similarity = np.array(neg_similarity)\n",
    "    \n",
    "    ratio = np.sum(pos_similarity>neg_similarity)/len(pos_similarity)\n",
    "    mean_diff = pos_similarity.mean()-neg_similarity.mean()\n",
    "    mean_pos_sim = pos_similarity.mean()\n",
    "    \n",
    "    reduction_rate = orig_shape/len(anchors[0])\n",
    "    return pd.DataFrame.from_dict([{\n",
    "                        \"ratio\": ratio,\n",
    "                        \"mean_pos_sim\": mean_pos_sim,\n",
    "                        \"mean_diff\": mean_diff,\n",
    "                        \"method\": name,\n",
    "                        \"reduction_rate\": reduction_rate\n",
    "                    }])"
   ]
  },
  {
   "cell_type": "markdown",
   "metadata": {},
   "source": [
    "## Prepare models for final evaluation"
   ]
  },
  {
   "cell_type": "markdown",
   "metadata": {},
   "source": [
    "### Load benchmark results"
   ]
  },
  {
   "cell_type": "code",
   "execution_count": 14,
   "metadata": {},
   "outputs": [],
   "source": [
    "bench_results = pd.read_csv(\"results/total.csv\", index_col=\"method\")"
   ]
  },
  {
   "cell_type": "code",
   "execution_count": 24,
   "metadata": {},
   "outputs": [],
   "source": [
    "top_ratios = bench_results.groupby(\"reduction_rate\").max([\"ratio\"])[[\"ratio\"]].to_dict()['ratio']"
   ]
  },
  {
   "cell_type": "code",
   "execution_count": 26,
   "metadata": {},
   "outputs": [
    {
     "data": {
      "text/html": [
       "<div>\n",
       "<style scoped>\n",
       "    .dataframe tbody tr th:only-of-type {\n",
       "        vertical-align: middle;\n",
       "    }\n",
       "\n",
       "    .dataframe tbody tr th {\n",
       "        vertical-align: top;\n",
       "    }\n",
       "\n",
       "    .dataframe thead th {\n",
       "        text-align: right;\n",
       "    }\n",
       "</style>\n",
       "<table border=\"1\" class=\"dataframe\">\n",
       "  <thead>\n",
       "    <tr style=\"text-align: right;\">\n",
       "      <th></th>\n",
       "      <th>Unnamed: 0</th>\n",
       "      <th>Unnamed: 0.1</th>\n",
       "      <th>ratio</th>\n",
       "      <th>mean_pos_sim</th>\n",
       "      <th>mean_diff</th>\n",
       "      <th>reduction_rate</th>\n",
       "    </tr>\n",
       "    <tr>\n",
       "      <th>method</th>\n",
       "      <th></th>\n",
       "      <th></th>\n",
       "      <th></th>\n",
       "      <th></th>\n",
       "      <th></th>\n",
       "      <th></th>\n",
       "    </tr>\n",
       "  </thead>\n",
       "  <tbody>\n",
       "    <tr>\n",
       "      <th>PCA (768x1)</th>\n",
       "      <td>0</td>\n",
       "      <td>0</td>\n",
       "      <td>0.143567</td>\n",
       "      <td>0.732938</td>\n",
       "      <td>0.137099</td>\n",
       "      <td>768.0</td>\n",
       "    </tr>\n",
       "    <tr>\n",
       "      <th>Siamese network (768x2) [hidden: 128]</th>\n",
       "      <td>0</td>\n",
       "      <td>0</td>\n",
       "      <td>0.664555</td>\n",
       "      <td>0.909573</td>\n",
       "      <td>0.148700</td>\n",
       "      <td>384.0</td>\n",
       "    </tr>\n",
       "    <tr>\n",
       "      <th>Siamese network (768x4) [hidden: 64]</th>\n",
       "      <td>1</td>\n",
       "      <td>0</td>\n",
       "      <td>0.756276</td>\n",
       "      <td>0.836421</td>\n",
       "      <td>0.212844</td>\n",
       "      <td>192.0</td>\n",
       "    </tr>\n",
       "    <tr>\n",
       "      <th>PCA (128x1)</th>\n",
       "      <td>3</td>\n",
       "      <td>0</td>\n",
       "      <td>0.743307</td>\n",
       "      <td>0.702645</td>\n",
       "      <td>0.197961</td>\n",
       "      <td>128.0</td>\n",
       "    </tr>\n",
       "    <tr>\n",
       "      <th>Siamese network (768x8) [hidden: 128]</th>\n",
       "      <td>2</td>\n",
       "      <td>0</td>\n",
       "      <td>0.822292</td>\n",
       "      <td>0.771496</td>\n",
       "      <td>0.251995</td>\n",
       "      <td>96.0</td>\n",
       "    </tr>\n",
       "    <tr>\n",
       "      <th>PCA (64x1)</th>\n",
       "      <td>5</td>\n",
       "      <td>0</td>\n",
       "      <td>0.823392</td>\n",
       "      <td>0.705868</td>\n",
       "      <td>0.224480</td>\n",
       "      <td>64.0</td>\n",
       "    </tr>\n",
       "    <tr>\n",
       "      <th>Siamese network (768x16) [hidden: 128]</th>\n",
       "      <td>4</td>\n",
       "      <td>0</td>\n",
       "      <td>0.871403</td>\n",
       "      <td>0.728268</td>\n",
       "      <td>0.269258</td>\n",
       "      <td>48.0</td>\n",
       "    </tr>\n",
       "    <tr>\n",
       "      <th>Average parts (32)</th>\n",
       "      <td>6</td>\n",
       "      <td>0</td>\n",
       "      <td>0.884240</td>\n",
       "      <td>0.731807</td>\n",
       "      <td>0.232372</td>\n",
       "      <td>32.0</td>\n",
       "    </tr>\n",
       "    <tr>\n",
       "      <th>Average parts (24)</th>\n",
       "      <td>7</td>\n",
       "      <td>0</td>\n",
       "      <td>0.903611</td>\n",
       "      <td>0.734490</td>\n",
       "      <td>0.231183</td>\n",
       "      <td>24.0</td>\n",
       "    </tr>\n",
       "    <tr>\n",
       "      <th>PCA (64x4)</th>\n",
       "      <td>9</td>\n",
       "      <td>0</td>\n",
       "      <td>0.923015</td>\n",
       "      <td>0.734515</td>\n",
       "      <td>0.219317</td>\n",
       "      <td>16.0</td>\n",
       "    </tr>\n",
       "    <tr>\n",
       "      <th>Whitening (768x64)</th>\n",
       "      <td>8</td>\n",
       "      <td>0</td>\n",
       "      <td>0.937863</td>\n",
       "      <td>0.793159</td>\n",
       "      <td>0.210244</td>\n",
       "      <td>12.0</td>\n",
       "    </tr>\n",
       "    <tr>\n",
       "      <th>PCA (768x96)</th>\n",
       "      <td>11</td>\n",
       "      <td>0</td>\n",
       "      <td>0.950388</td>\n",
       "      <td>0.770916</td>\n",
       "      <td>0.212187</td>\n",
       "      <td>8.0</td>\n",
       "    </tr>\n",
       "    <tr>\n",
       "      <th>PCA (768x128)</th>\n",
       "      <td>12</td>\n",
       "      <td>0</td>\n",
       "      <td>0.958490</td>\n",
       "      <td>0.766521</td>\n",
       "      <td>0.217327</td>\n",
       "      <td>6.0</td>\n",
       "    </tr>\n",
       "    <tr>\n",
       "      <th>Average parts (4)</th>\n",
       "      <td>11</td>\n",
       "      <td>0</td>\n",
       "      <td>0.959691</td>\n",
       "      <td>0.732543</td>\n",
       "      <td>0.229968</td>\n",
       "      <td>4.0</td>\n",
       "    </tr>\n",
       "    <tr>\n",
       "      <th>PCA (384x128)</th>\n",
       "      <td>14</td>\n",
       "      <td>0</td>\n",
       "      <td>0.964225</td>\n",
       "      <td>0.752691</td>\n",
       "      <td>0.220374</td>\n",
       "      <td>3.0</td>\n",
       "    </tr>\n",
       "    <tr>\n",
       "      <th>PCA (64x32)</th>\n",
       "      <td>15</td>\n",
       "      <td>0</td>\n",
       "      <td>0.965992</td>\n",
       "      <td>0.735349</td>\n",
       "      <td>0.226656</td>\n",
       "      <td>2.0</td>\n",
       "    </tr>\n",
       "  </tbody>\n",
       "</table>\n",
       "</div>"
      ],
      "text/plain": [
       "                                        Unnamed: 0  Unnamed: 0.1     ratio  \\\n",
       "method                                                                       \n",
       "PCA (768x1)                                      0             0  0.143567   \n",
       "Siamese network (768x2) [hidden: 128]            0             0  0.664555   \n",
       "Siamese network (768x4) [hidden: 64]             1             0  0.756276   \n",
       "PCA (128x1)                                      3             0  0.743307   \n",
       "Siamese network (768x8) [hidden: 128]            2             0  0.822292   \n",
       "PCA (64x1)                                       5             0  0.823392   \n",
       "Siamese network (768x16) [hidden: 128]           4             0  0.871403   \n",
       "Average parts (32)                               6             0  0.884240   \n",
       "Average parts (24)                               7             0  0.903611   \n",
       "PCA (64x4)                                       9             0  0.923015   \n",
       "Whitening (768x64)                               8             0  0.937863   \n",
       "PCA (768x96)                                    11             0  0.950388   \n",
       "PCA (768x128)                                   12             0  0.958490   \n",
       "Average parts (4)                               11             0  0.959691   \n",
       "PCA (384x128)                                   14             0  0.964225   \n",
       "PCA (64x32)                                     15             0  0.965992   \n",
       "\n",
       "                                        mean_pos_sim  mean_diff  \\\n",
       "method                                                            \n",
       "PCA (768x1)                                 0.732938   0.137099   \n",
       "Siamese network (768x2) [hidden: 128]       0.909573   0.148700   \n",
       "Siamese network (768x4) [hidden: 64]        0.836421   0.212844   \n",
       "PCA (128x1)                                 0.702645   0.197961   \n",
       "Siamese network (768x8) [hidden: 128]       0.771496   0.251995   \n",
       "PCA (64x1)                                  0.705868   0.224480   \n",
       "Siamese network (768x16) [hidden: 128]      0.728268   0.269258   \n",
       "Average parts (32)                          0.731807   0.232372   \n",
       "Average parts (24)                          0.734490   0.231183   \n",
       "PCA (64x4)                                  0.734515   0.219317   \n",
       "Whitening (768x64)                          0.793159   0.210244   \n",
       "PCA (768x96)                                0.770916   0.212187   \n",
       "PCA (768x128)                               0.766521   0.217327   \n",
       "Average parts (4)                           0.732543   0.229968   \n",
       "PCA (384x128)                               0.752691   0.220374   \n",
       "PCA (64x32)                                 0.735349   0.226656   \n",
       "\n",
       "                                        reduction_rate  \n",
       "method                                                  \n",
       "PCA (768x1)                                      768.0  \n",
       "Siamese network (768x2) [hidden: 128]            384.0  \n",
       "Siamese network (768x4) [hidden: 64]             192.0  \n",
       "PCA (128x1)                                      128.0  \n",
       "Siamese network (768x8) [hidden: 128]             96.0  \n",
       "PCA (64x1)                                        64.0  \n",
       "Siamese network (768x16) [hidden: 128]            48.0  \n",
       "Average parts (32)                                32.0  \n",
       "Average parts (24)                                24.0  \n",
       "PCA (64x4)                                        16.0  \n",
       "Whitening (768x64)                                12.0  \n",
       "PCA (768x96)                                       8.0  \n",
       "PCA (768x128)                                      6.0  \n",
       "Average parts (4)                                  4.0  \n",
       "PCA (384x128)                                      3.0  \n",
       "PCA (64x32)                                        2.0  "
      ]
     },
     "execution_count": 26,
     "metadata": {},
     "output_type": "execute_result"
    }
   ],
   "source": [
    "bench_results[bench_results.apply(lambda x: top_ratios[x[\"reduction_rate\"]]==x[\"ratio\"], axis=1)]"
   ]
  },
  {
   "cell_type": "markdown",
   "metadata": {},
   "source": [
    "### Prepare PCA models"
   ]
  },
  {
   "cell_type": "code",
   "execution_count": 31,
   "metadata": {},
   "outputs": [],
   "source": [
    "from sklearn.decomposition import PCA"
   ]
  },
  {
   "cell_type": "code",
   "execution_count": 29,
   "metadata": {},
   "outputs": [
    {
     "data": {
      "text/plain": [
       "(299925, 768)"
      ]
     },
     "execution_count": 29,
     "metadata": {},
     "output_type": "execute_result"
    }
   ],
   "source": [
    "embeddings.shape"
   ]
  },
  {
   "cell_type": "code",
   "execution_count": 30,
   "metadata": {},
   "outputs": [],
   "source": [
    "def get_pca(input_dim, output_dim):\n",
    "    model = PCA(output_dim)\n",
    "    # data = train_data[0].reshape(-1, input_dim)\n",
    "    data = embeddings.reshape(-1, input_dim)\n",
    "    model.fit(data)\n",
    "    return model"
   ]
  },
  {
   "cell_type": "code",
   "execution_count": 32,
   "metadata": {},
   "outputs": [
    {
     "name": "stdout",
     "output_type": "stream",
     "text": [
      "[64, 32]\n",
      "[384, 128]\n",
      "[768, 128]\n",
      "[384, 96]\n",
      "[64, 4]\n"
     ]
    }
   ],
   "source": [
    "for shape in [[64, 32],\n",
    "              [384, 128],\n",
    "              [768, 128],\n",
    "              [384, 96],\n",
    "              [64, 4]]:\n",
    "    print(shape)\n",
    "    model = get_pca(shape[0], shape[1])\n",
    "    with open(f\"models/PCA_{shape[0]}x{shape[1]}.pickle\", \"wb\") as f:\n",
    "        pickle.dump(model, f)\n",
    "          "
   ]
  },
  {
   "cell_type": "code",
   "execution_count": null,
   "metadata": {},
   "outputs": [],
   "source": []
  }
 ],
 "metadata": {
  "kernelspec": {
   "display_name": "img_processing",
   "language": "python",
   "name": "img_processing"
  },
  "language_info": {
   "codemirror_mode": {
    "name": "ipython",
    "version": 3
   },
   "file_extension": ".py",
   "mimetype": "text/x-python",
   "name": "python",
   "nbconvert_exporter": "python",
   "pygments_lexer": "ipython3",
   "version": "3.8.12"
  }
 },
 "nbformat": 4,
 "nbformat_minor": 4
}
