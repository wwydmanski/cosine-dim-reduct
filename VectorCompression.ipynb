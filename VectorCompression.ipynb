{
 "cells": [
  {
   "cell_type": "code",
   "execution_count": 1,
   "metadata": {},
   "outputs": [],
   "source": [
    "from comet_ml import Experiment\n",
    "import torch\n",
    "from sklearn.decomposition import PCA\n",
    "import pandas as pd\n",
    "from sklearn.metrics.pairwise import cosine_similarity\n",
    "from sklearn.model_selection import train_test_split\n",
    "import tqdm\n",
    "import numpy as np\n",
    "from loguru import logger\n",
    "import json\n",
    "from livelossplot import PlotLosses"
   ]
  },
  {
   "cell_type": "code",
   "execution_count": 2,
   "metadata": {},
   "outputs": [],
   "source": [
    "from torch import nn\n",
    "import torch.nn.functional as F"
   ]
  },
  {
   "cell_type": "code",
   "execution_count": 3,
   "metadata": {},
   "outputs": [
    {
     "data": {
      "text/plain": [
       "1"
      ]
     },
     "execution_count": 3,
     "metadata": {},
     "output_type": "execute_result"
    }
   ],
   "source": [
    "logger.remove()\n",
    "logger.add(\"log.txt\")"
   ]
  },
  {
   "cell_type": "code",
   "execution_count": 4,
   "metadata": {},
   "outputs": [],
   "source": [
    "DEVICE = \"cuda:1\""
   ]
  },
  {
   "cell_type": "markdown",
   "metadata": {},
   "source": [
    "## Load models for vector generation"
   ]
  },
  {
   "cell_type": "markdown",
   "metadata": {},
   "source": [
    "## Load data"
   ]
  },
  {
   "cell_type": "markdown",
   "metadata": {},
   "source": [
    "### Read vectors"
   ]
  },
  {
   "cell_type": "code",
   "execution_count": 5,
   "metadata": {},
   "outputs": [],
   "source": [
    "embeddings = np.load(\"data/vectors.npy\")"
   ]
  },
  {
   "cell_type": "code",
   "execution_count": 41,
   "metadata": {},
   "outputs": [
    {
     "name": "stdout",
     "output_type": "stream",
     "text": [
      "(69982, 768)\n",
      "(29993, 768)\n"
     ]
    }
   ],
   "source": [
    "indices = np.arange(embeddings.shape[0]//3)\n",
    "\n",
    "train_idx, test_idx = train_test_split(indices, test_size=0.3, random_state=42)\n",
    "\n",
    "train_data = [embeddings[train_idx*3], embeddings[train_idx*3+1], embeddings[train_idx*3+2]]\n",
    "test_data = [embeddings[test_idx*3], embeddings[test_idx*3+1], embeddings[test_idx*3+2]]\n",
    "\n",
    "print(train_data[0].shape)\n",
    "print(test_data[0].shape)"
   ]
  },
  {
   "cell_type": "markdown",
   "metadata": {},
   "source": [
    "## Measure cosine similarity differences between pos and neg"
   ]
  },
  {
   "cell_type": "code",
   "execution_count": 52,
   "metadata": {},
   "outputs": [],
   "source": [
    "def calculate_metrics(method, data, name, show_pbar=True):\n",
    "    orig_shape = data[0].shape[1]\n",
    "    pos_similarity = []\n",
    "    neg_similarity = []\n",
    "\n",
    "    queue = []\n",
    "    anchors = method(data[0])\n",
    "    positives = method(data[1])\n",
    "    negatives = method(data[2])\n",
    "   \n",
    "    for i in tqdm.trange(len(anchors), disable=not show_pbar):\n",
    "        query, pos, neg = anchors[i], positives[i], negatives[i]\n",
    "        pos_similarity.append(cosine_similarity([query], [pos])[0][0])\n",
    "        neg_similarity.append(cosine_similarity([query], [neg])[0][0])\n",
    "\n",
    "    pos_similarity = np.array(pos_similarity)\n",
    "    neg_similarity = np.array(neg_similarity)\n",
    "    \n",
    "    ratio = np.sum(pos_similarity>neg_similarity)/len(pos_similarity)\n",
    "    mean_diff = pos_similarity.mean()-neg_similarity.mean()\n",
    "    mean_pos_sim = pos_similarity.mean()\n",
    "    \n",
    "    reduction_rate = orig_shape/len(anchors[0])\n",
    "    return pd.DataFrame.from_dict([{\n",
    "                        \"ratio\": ratio,\n",
    "                        \"mean_pos_sim\": mean_pos_sim,\n",
    "                        \"mean_diff\": mean_diff,\n",
    "                        \"method\": name,\n",
    "                        \"reduction_rate\": reduction_rate\n",
    "                    }])"
   ]
  },
  {
   "cell_type": "markdown",
   "metadata": {},
   "source": [
    "## Benchmarks"
   ]
  },
  {
   "cell_type": "code",
   "execution_count": 53,
   "metadata": {},
   "outputs": [],
   "source": [
    "metrics = []"
   ]
  },
  {
   "cell_type": "markdown",
   "metadata": {},
   "source": [
    "### Baseline"
   ]
  },
  {
   "cell_type": "code",
   "execution_count": 54,
   "metadata": {
    "collapsed": true,
    "jupyter": {
     "outputs_hidden": true
    },
    "tags": []
   },
   "outputs": [
    {
     "name": "stderr",
     "output_type": "stream",
     "text": [
      " 10%|███████████████▊                                                                                                                                                  | 2938/29993 [00:01<00:11, 2400.03it/s]\n"
     ]
    },
    {
     "ename": "KeyboardInterrupt",
     "evalue": "",
     "output_type": "error",
     "traceback": [
      "\u001b[0;31m---------------------------------------------------------------------------\u001b[0m",
      "\u001b[0;31mKeyboardInterrupt\u001b[0m                         Traceback (most recent call last)",
      "\u001b[0;32m/tmp/ipykernel_1427610/755988387.py\u001b[0m in \u001b[0;36m<module>\u001b[0;34m\u001b[0m\n\u001b[0;32m----> 1\u001b[0;31m \u001b[0mmetrics\u001b[0m\u001b[0;34m.\u001b[0m\u001b[0mappend\u001b[0m\u001b[0;34m(\u001b[0m\u001b[0mcalculate_metrics\u001b[0m\u001b[0;34m(\u001b[0m\u001b[0;32mlambda\u001b[0m \u001b[0mx\u001b[0m\u001b[0;34m:\u001b[0m \u001b[0mx\u001b[0m\u001b[0;34m,\u001b[0m \u001b[0mtest_data\u001b[0m\u001b[0;34m,\u001b[0m \u001b[0;34m\"CLS vector\"\u001b[0m\u001b[0;34m)\u001b[0m\u001b[0;34m)\u001b[0m\u001b[0;34m\u001b[0m\u001b[0;34m\u001b[0m\u001b[0m\n\u001b[0m",
      "\u001b[0;32m/tmp/ipykernel_1427610/981936031.py\u001b[0m in \u001b[0;36mcalculate_metrics\u001b[0;34m(method, data, name, show_pbar)\u001b[0m\n\u001b[1;32m     11\u001b[0m     \u001b[0;32mfor\u001b[0m \u001b[0mi\u001b[0m \u001b[0;32min\u001b[0m \u001b[0mtqdm\u001b[0m\u001b[0;34m.\u001b[0m\u001b[0mtrange\u001b[0m\u001b[0;34m(\u001b[0m\u001b[0mlen\u001b[0m\u001b[0;34m(\u001b[0m\u001b[0manchors\u001b[0m\u001b[0;34m)\u001b[0m\u001b[0;34m,\u001b[0m \u001b[0mdisable\u001b[0m\u001b[0;34m=\u001b[0m\u001b[0;32mnot\u001b[0m \u001b[0mshow_pbar\u001b[0m\u001b[0;34m)\u001b[0m\u001b[0;34m:\u001b[0m\u001b[0;34m\u001b[0m\u001b[0;34m\u001b[0m\u001b[0m\n\u001b[1;32m     12\u001b[0m         \u001b[0mquery\u001b[0m\u001b[0;34m,\u001b[0m \u001b[0mpos\u001b[0m\u001b[0;34m,\u001b[0m \u001b[0mneg\u001b[0m \u001b[0;34m=\u001b[0m \u001b[0manchors\u001b[0m\u001b[0;34m[\u001b[0m\u001b[0mi\u001b[0m\u001b[0;34m]\u001b[0m\u001b[0;34m,\u001b[0m \u001b[0mpositives\u001b[0m\u001b[0;34m[\u001b[0m\u001b[0mi\u001b[0m\u001b[0;34m]\u001b[0m\u001b[0;34m,\u001b[0m \u001b[0mnegatives\u001b[0m\u001b[0;34m[\u001b[0m\u001b[0mi\u001b[0m\u001b[0;34m]\u001b[0m\u001b[0;34m\u001b[0m\u001b[0;34m\u001b[0m\u001b[0m\n\u001b[0;32m---> 13\u001b[0;31m         \u001b[0mpos_similarity\u001b[0m\u001b[0;34m.\u001b[0m\u001b[0mappend\u001b[0m\u001b[0;34m(\u001b[0m\u001b[0mcosine_similarity\u001b[0m\u001b[0;34m(\u001b[0m\u001b[0;34m[\u001b[0m\u001b[0mquery\u001b[0m\u001b[0;34m]\u001b[0m\u001b[0;34m,\u001b[0m \u001b[0;34m[\u001b[0m\u001b[0mpos\u001b[0m\u001b[0;34m]\u001b[0m\u001b[0;34m)\u001b[0m\u001b[0;34m[\u001b[0m\u001b[0;36m0\u001b[0m\u001b[0;34m]\u001b[0m\u001b[0;34m[\u001b[0m\u001b[0;36m0\u001b[0m\u001b[0;34m]\u001b[0m\u001b[0;34m)\u001b[0m\u001b[0;34m\u001b[0m\u001b[0;34m\u001b[0m\u001b[0m\n\u001b[0m\u001b[1;32m     14\u001b[0m         \u001b[0mneg_similarity\u001b[0m\u001b[0;34m.\u001b[0m\u001b[0mappend\u001b[0m\u001b[0;34m(\u001b[0m\u001b[0mcosine_similarity\u001b[0m\u001b[0;34m(\u001b[0m\u001b[0;34m[\u001b[0m\u001b[0mquery\u001b[0m\u001b[0;34m]\u001b[0m\u001b[0;34m,\u001b[0m \u001b[0;34m[\u001b[0m\u001b[0mneg\u001b[0m\u001b[0;34m]\u001b[0m\u001b[0;34m)\u001b[0m\u001b[0;34m[\u001b[0m\u001b[0;36m0\u001b[0m\u001b[0;34m]\u001b[0m\u001b[0;34m[\u001b[0m\u001b[0;36m0\u001b[0m\u001b[0;34m]\u001b[0m\u001b[0;34m)\u001b[0m\u001b[0;34m\u001b[0m\u001b[0;34m\u001b[0m\u001b[0m\n\u001b[1;32m     15\u001b[0m \u001b[0;34m\u001b[0m\u001b[0m\n",
      "\u001b[0;32m~/.conda/envs/img_processing/lib/python3.8/site-packages/sklearn/metrics/pairwise.py\u001b[0m in \u001b[0;36mcosine_similarity\u001b[0;34m(X, Y, dense_output)\u001b[0m\n\u001b[1;32m   1255\u001b[0m         \u001b[0mY_normalized\u001b[0m \u001b[0;34m=\u001b[0m \u001b[0mX_normalized\u001b[0m\u001b[0;34m\u001b[0m\u001b[0;34m\u001b[0m\u001b[0m\n\u001b[1;32m   1256\u001b[0m     \u001b[0;32melse\u001b[0m\u001b[0;34m:\u001b[0m\u001b[0;34m\u001b[0m\u001b[0;34m\u001b[0m\u001b[0m\n\u001b[0;32m-> 1257\u001b[0;31m         \u001b[0mY_normalized\u001b[0m \u001b[0;34m=\u001b[0m \u001b[0mnormalize\u001b[0m\u001b[0;34m(\u001b[0m\u001b[0mY\u001b[0m\u001b[0;34m,\u001b[0m \u001b[0mcopy\u001b[0m\u001b[0;34m=\u001b[0m\u001b[0;32mTrue\u001b[0m\u001b[0;34m)\u001b[0m\u001b[0;34m\u001b[0m\u001b[0;34m\u001b[0m\u001b[0m\n\u001b[0m\u001b[1;32m   1258\u001b[0m \u001b[0;34m\u001b[0m\u001b[0m\n\u001b[1;32m   1259\u001b[0m     \u001b[0mK\u001b[0m \u001b[0;34m=\u001b[0m \u001b[0msafe_sparse_dot\u001b[0m\u001b[0;34m(\u001b[0m\u001b[0mX_normalized\u001b[0m\u001b[0;34m,\u001b[0m \u001b[0mY_normalized\u001b[0m\u001b[0;34m.\u001b[0m\u001b[0mT\u001b[0m\u001b[0;34m,\u001b[0m \u001b[0mdense_output\u001b[0m\u001b[0;34m=\u001b[0m\u001b[0mdense_output\u001b[0m\u001b[0;34m)\u001b[0m\u001b[0;34m\u001b[0m\u001b[0;34m\u001b[0m\u001b[0m\n",
      "\u001b[0;32m~/.conda/envs/img_processing/lib/python3.8/site-packages/sklearn/preprocessing/_data.py\u001b[0m in \u001b[0;36mnormalize\u001b[0;34m(X, norm, axis, copy, return_norm)\u001b[0m\n\u001b[1;32m   1790\u001b[0m         \u001b[0;32mraise\u001b[0m \u001b[0mValueError\u001b[0m\u001b[0;34m(\u001b[0m\u001b[0;34m\"'%d' is not a supported axis\"\u001b[0m \u001b[0;34m%\u001b[0m \u001b[0maxis\u001b[0m\u001b[0;34m)\u001b[0m\u001b[0;34m\u001b[0m\u001b[0;34m\u001b[0m\u001b[0m\n\u001b[1;32m   1791\u001b[0m \u001b[0;34m\u001b[0m\u001b[0m\n\u001b[0;32m-> 1792\u001b[0;31m     X = check_array(\n\u001b[0m\u001b[1;32m   1793\u001b[0m         \u001b[0mX\u001b[0m\u001b[0;34m,\u001b[0m\u001b[0;34m\u001b[0m\u001b[0;34m\u001b[0m\u001b[0m\n\u001b[1;32m   1794\u001b[0m         \u001b[0maccept_sparse\u001b[0m\u001b[0;34m=\u001b[0m\u001b[0msparse_format\u001b[0m\u001b[0;34m,\u001b[0m\u001b[0;34m\u001b[0m\u001b[0;34m\u001b[0m\u001b[0m\n",
      "\u001b[0;32m~/.conda/envs/img_processing/lib/python3.8/site-packages/sklearn/utils/validation.py\u001b[0m in \u001b[0;36mcheck_array\u001b[0;34m(array, accept_sparse, accept_large_sparse, dtype, order, copy, force_all_finite, ensure_2d, allow_nd, ensure_min_samples, ensure_min_features, estimator)\u001b[0m\n\u001b[1;32m    818\u001b[0m             )\n\u001b[1;32m    819\u001b[0m \u001b[0;34m\u001b[0m\u001b[0m\n\u001b[0;32m--> 820\u001b[0;31m     \u001b[0;32mif\u001b[0m \u001b[0mcopy\u001b[0m \u001b[0;32mand\u001b[0m \u001b[0mnp\u001b[0m\u001b[0;34m.\u001b[0m\u001b[0mmay_share_memory\u001b[0m\u001b[0;34m(\u001b[0m\u001b[0marray\u001b[0m\u001b[0;34m,\u001b[0m \u001b[0marray_orig\u001b[0m\u001b[0;34m)\u001b[0m\u001b[0;34m:\u001b[0m\u001b[0;34m\u001b[0m\u001b[0;34m\u001b[0m\u001b[0m\n\u001b[0m\u001b[1;32m    821\u001b[0m         \u001b[0marray\u001b[0m \u001b[0;34m=\u001b[0m \u001b[0mnp\u001b[0m\u001b[0;34m.\u001b[0m\u001b[0marray\u001b[0m\u001b[0;34m(\u001b[0m\u001b[0marray\u001b[0m\u001b[0;34m,\u001b[0m \u001b[0mdtype\u001b[0m\u001b[0;34m=\u001b[0m\u001b[0mdtype\u001b[0m\u001b[0;34m,\u001b[0m \u001b[0morder\u001b[0m\u001b[0;34m=\u001b[0m\u001b[0morder\u001b[0m\u001b[0;34m)\u001b[0m\u001b[0;34m\u001b[0m\u001b[0;34m\u001b[0m\u001b[0m\n\u001b[1;32m    822\u001b[0m \u001b[0;34m\u001b[0m\u001b[0m\n",
      "\u001b[0;32m<__array_function__ internals>\u001b[0m in \u001b[0;36mmay_share_memory\u001b[0;34m(*args, **kwargs)\u001b[0m\n",
      "\u001b[0;31mKeyboardInterrupt\u001b[0m: "
     ]
    }
   ],
   "source": [
    "metrics.append(calculate_metrics(lambda x: x, test_data, \"CLS vector\"))"
   ]
  },
  {
   "cell_type": "code",
   "execution_count": null,
   "metadata": {},
   "outputs": [],
   "source": [
    "# lda_metrics = []\n",
    "# embeddings = []\n",
    "\n",
    "# train_data = data.sample(1000, random_state=42)\n",
    "\n",
    "# for i in tqdm.trange(0, train_data.shape[0], 32):\n",
    "#     embeddings.extend(embed("
   ]
  },
  {
   "cell_type": "code",
   "execution_count": 40,
   "metadata": {},
   "outputs": [],
   "source": [
    "dim = 64\n",
    "\n",
    "# for idx in range(0, train.shape"
   ]
  },
  {
   "cell_type": "code",
   "execution_count": 42,
   "metadata": {
    "tags": []
   },
   "outputs": [
    {
     "data": {
      "text/html": [
       "<div>\n",
       "<style scoped>\n",
       "    .dataframe tbody tr th:only-of-type {\n",
       "        vertical-align: middle;\n",
       "    }\n",
       "\n",
       "    .dataframe tbody tr th {\n",
       "        vertical-align: top;\n",
       "    }\n",
       "\n",
       "    .dataframe thead th {\n",
       "        text-align: right;\n",
       "    }\n",
       "</style>\n",
       "<table border=\"1\" class=\"dataframe\">\n",
       "  <thead>\n",
       "    <tr style=\"text-align: right;\">\n",
       "      <th></th>\n",
       "      <th>query</th>\n",
       "      <th>pos</th>\n",
       "      <th>neg</th>\n",
       "    </tr>\n",
       "  </thead>\n",
       "  <tbody>\n",
       "    <tr>\n",
       "      <th>15773</th>\n",
       "      <td>what does dsm stand for</td>\n",
       "      <td>In psychology and psychiatry, DSM stands for t...</td>\n",
       "      <td>military mk, what does mark stand for in milit...</td>\n",
       "    </tr>\n",
       "    <tr>\n",
       "      <th>35290</th>\n",
       "      <td>what is social competence in early childhood</td>\n",
       "      <td>Social competence in early childhood is as a s...</td>\n",
       "      <td>The Early Years Learning Framework (EYLF) is d...</td>\n",
       "    </tr>\n",
       "    <tr>\n",
       "      <th>358404</th>\n",
       "      <td>stonefield construction phone number</td>\n",
       "      <td>A: The phone number for Stonefield Constructio...</td>\n",
       "      <td>The Building Official reviews applications for...</td>\n",
       "    </tr>\n",
       "    <tr>\n",
       "      <th>381806</th>\n",
       "      <td>what book did adam smith write</td>\n",
       "      <td>Adam Smith FRSA was a Scottish economist, phil...</td>\n",
       "      <td>Was Adam Smith laissez-faire? What did it mean...</td>\n",
       "    </tr>\n",
       "    <tr>\n",
       "      <th>244560</th>\n",
       "      <td>how long can you take naltrexone for</td>\n",
       "      <td>You and your doctor have to decide this. Most ...</td>\n",
       "      <td>Naloxone, also known as Narcan among other nam...</td>\n",
       "    </tr>\n",
       "    <tr>\n",
       "      <th>...</th>\n",
       "      <td>...</td>\n",
       "      <td>...</td>\n",
       "      <td>...</td>\n",
       "    </tr>\n",
       "    <tr>\n",
       "      <th>178265</th>\n",
       "      <td>what happens in the first stage of seed germin...</td>\n",
       "      <td>Stage One - Hydration and Metabolism. In the f...</td>\n",
       "      <td>Germination is the process in which the seeds ...</td>\n",
       "    </tr>\n",
       "    <tr>\n",
       "      <th>168368</th>\n",
       "      <td>aberdeen airport code</td>\n",
       "      <td>Aberdeen International Airport (Scottish Gaeli...</td>\n",
       "      <td>Welcome to USZip.com. USZip.com USZip.com is a...</td>\n",
       "    </tr>\n",
       "    <tr>\n",
       "      <th>314866</th>\n",
       "      <td>how old till baby can sleep on stomach</td>\n",
       "      <td>You may find yourself wondering if your baby c...</td>\n",
       "      <td>Third Month Baby Milestones: Sleep. Your 3-mon...</td>\n",
       "    </tr>\n",
       "    <tr>\n",
       "      <th>472372</th>\n",
       "      <td>what are the sisters last names in in the time...</td>\n",
       "      <td>In the Time of the Butterflies Characters. BÃ©...</td>\n",
       "      <td>The nine brightest stars of the Pleiades are n...</td>\n",
       "    </tr>\n",
       "    <tr>\n",
       "      <th>38454</th>\n",
       "      <td>electricity cost per kwh</td>\n",
       "      <td>seattle area households paid an average of 10 ...</td>\n",
       "      <td>Â£800 per Kilowatt Average. For a large, moder...</td>\n",
       "    </tr>\n",
       "  </tbody>\n",
       "</table>\n",
       "<p>100000 rows × 3 columns</p>\n",
       "</div>"
      ],
      "text/plain": [
       "                                                    query  \\\n",
       "15773                             what does dsm stand for   \n",
       "35290        what is social competence in early childhood   \n",
       "358404               stonefield construction phone number   \n",
       "381806                     what book did adam smith write   \n",
       "244560               how long can you take naltrexone for   \n",
       "...                                                   ...   \n",
       "178265  what happens in the first stage of seed germin...   \n",
       "168368                              aberdeen airport code   \n",
       "314866             how old till baby can sleep on stomach   \n",
       "472372  what are the sisters last names in in the time...   \n",
       "38454                            electricity cost per kwh   \n",
       "\n",
       "                                                      pos  \\\n",
       "15773   In psychology and psychiatry, DSM stands for t...   \n",
       "35290   Social competence in early childhood is as a s...   \n",
       "358404  A: The phone number for Stonefield Constructio...   \n",
       "381806  Adam Smith FRSA was a Scottish economist, phil...   \n",
       "244560  You and your doctor have to decide this. Most ...   \n",
       "...                                                   ...   \n",
       "178265  Stage One - Hydration and Metabolism. In the f...   \n",
       "168368  Aberdeen International Airport (Scottish Gaeli...   \n",
       "314866  You may find yourself wondering if your baby c...   \n",
       "472372  In the Time of the Butterflies Characters. BÃ©...   \n",
       "38454   seattle area households paid an average of 10 ...   \n",
       "\n",
       "                                                      neg  \n",
       "15773   military mk, what does mark stand for in milit...  \n",
       "35290   The Early Years Learning Framework (EYLF) is d...  \n",
       "358404  The Building Official reviews applications for...  \n",
       "381806  Was Adam Smith laissez-faire? What did it mean...  \n",
       "244560  Naloxone, also known as Narcan among other nam...  \n",
       "...                                                   ...  \n",
       "178265  Germination is the process in which the seeds ...  \n",
       "168368  Welcome to USZip.com. USZip.com USZip.com is a...  \n",
       "314866  Third Month Baby Milestones: Sleep. Your 3-mon...  \n",
       "472372  The nine brightest stars of the Pleiades are n...  \n",
       "38454   Â£800 per Kilowatt Average. For a large, moder...  \n",
       "\n",
       "[100000 rows x 3 columns]"
      ]
     },
     "execution_count": 42,
     "metadata": {},
     "output_type": "execute_result"
    }
   ],
   "source": [
    "for"
   ]
  },
  {
   "cell_type": "markdown",
   "metadata": {},
   "source": [
    "### Averaging"
   ]
  },
  {
   "cell_type": "code",
   "execution_count": 115,
   "metadata": {},
   "outputs": [],
   "source": [
    "def average_vec(dim):\n",
    "    def _inner(embeddings):\n",
    "        x = embeddings.reshape(-1, dim)\n",
    "        x = x.mean(axis=1).reshape(-1, 1)\n",
    "        x = x.reshape(len(embeddings), -1)\n",
    "        return x\n",
    "    return _inner"
   ]
  },
  {
   "cell_type": "code",
   "execution_count": 118,
   "metadata": {
    "tags": []
   },
   "outputs": [
    {
     "name": "stderr",
     "output_type": "stream",
     "text": [
      "100%|█████████████████████████████████████████████████████████████████████████████████████████████████████████████████████████████████████████████████████████████████| 29993/29993 [00:09<00:00, 3050.61it/s]\n",
      "100%|█████████████████████████████████████████████████████████████████████████████████████████████████████████████████████████████████████████████████████████████████| 29993/29993 [00:10<00:00, 2987.74it/s]\n",
      "100%|█████████████████████████████████████████████████████████████████████████████████████████████████████████████████████████████████████████████████████████████████| 29993/29993 [00:09<00:00, 3028.07it/s]\n",
      "100%|█████████████████████████████████████████████████████████████████████████████████████████████████████████████████████████████████████████████████████████████████| 29993/29993 [00:09<00:00, 3039.34it/s]\n",
      "100%|█████████████████████████████████████████████████████████████████████████████████████████████████████████████████████████████████████████████████████████████████| 29993/29993 [00:10<00:00, 2982.59it/s]\n",
      "100%|█████████████████████████████████████████████████████████████████████████████████████████████████████████████████████████████████████████████████████████████████| 29993/29993 [00:10<00:00, 2991.96it/s]\n"
     ]
    }
   ],
   "source": [
    "for rate in [4, 8, 16, 32, 64, 128]:\n",
    "    method = average_vec(rate)\n",
    "    metrics.append(calculate_metrics(method, test_data, f\"Average parts ({rate})\"))"
   ]
  },
  {
   "cell_type": "code",
   "execution_count": 122,
   "metadata": {},
   "outputs": [],
   "source": [
    "pd.concat(metrics).sort_values(\"ratio\").to_csv(\"results/benchmarks.csv\")"
   ]
  },
  {
   "cell_type": "markdown",
   "metadata": {},
   "source": [
    "### Summing"
   ]
  },
  {
   "cell_type": "code",
   "execution_count": 32,
   "metadata": {},
   "outputs": [],
   "source": [
    "metrics = []\n",
    "def average_vec(dim):\n",
    "    def _inner(embeddings):\n",
    "        embeddings = embeddings/embeddings.sum(axis=1)[:, None]\n",
    "        x = embeddings.reshape(-1, dim)\n",
    "        x = x.sum(axis=1).reshape(-1, 1)\n",
    "        x = x.reshape(len(embeddings), -1)\n",
    "        return x\n",
    "    return _inner"
   ]
  },
  {
   "cell_type": "code",
   "execution_count": null,
   "metadata": {
    "tags": []
   },
   "outputs": [
    {
     "name": "stderr",
     "output_type": "stream",
     "text": [
      "100%|█████████████████████████████████████████████████████████████████████████████████████████████████████████████████████████████████████████████████████████████████| 89978/89978 [00:32<00:00, 2804.85it/s]\n",
      " 90%|████████████████████████████████████████████████████████████████████████████████████████████████████████████████████████████████████████████████▏                | 80616/89978 [00:28<00:03, 2825.38it/s]"
     ]
    }
   ],
   "source": [
    "for rate in [4, 8, 16, 32, 64, 128, 256]:\n",
    "    method = average_vec(rate)\n",
    "    metrics.append(calculate_metrics(method, test_data, f\"Sum parts ({rate})\"))"
   ]
  },
  {
   "cell_type": "code",
   "execution_count": 29,
   "metadata": {},
   "outputs": [
    {
     "data": {
      "text/html": [
       "<div>\n",
       "<style scoped>\n",
       "    .dataframe tbody tr th:only-of-type {\n",
       "        vertical-align: middle;\n",
       "    }\n",
       "\n",
       "    .dataframe tbody tr th {\n",
       "        vertical-align: top;\n",
       "    }\n",
       "\n",
       "    .dataframe thead th {\n",
       "        text-align: right;\n",
       "    }\n",
       "</style>\n",
       "<table border=\"1\" class=\"dataframe\">\n",
       "  <thead>\n",
       "    <tr style=\"text-align: right;\">\n",
       "      <th></th>\n",
       "      <th>ratio</th>\n",
       "      <th>mean_pos_sim</th>\n",
       "      <th>mean_diff</th>\n",
       "      <th>method</th>\n",
       "      <th>reduction_rate</th>\n",
       "    </tr>\n",
       "  </thead>\n",
       "  <tbody>\n",
       "    <tr>\n",
       "      <th>0</th>\n",
       "      <td>0.638589</td>\n",
       "      <td>0.642990</td>\n",
       "      <td>0.212868</td>\n",
       "      <td>Sum parts (256)</td>\n",
       "      <td>256.0</td>\n",
       "    </tr>\n",
       "    <tr>\n",
       "      <th>0</th>\n",
       "      <td>0.738114</td>\n",
       "      <td>0.704705</td>\n",
       "      <td>0.225757</td>\n",
       "      <td>Sum parts (128)</td>\n",
       "      <td>128.0</td>\n",
       "    </tr>\n",
       "    <tr>\n",
       "      <th>0</th>\n",
       "      <td>0.819356</td>\n",
       "      <td>0.716323</td>\n",
       "      <td>0.232376</td>\n",
       "      <td>Sum parts (64)</td>\n",
       "      <td>64.0</td>\n",
       "    </tr>\n",
       "    <tr>\n",
       "      <th>0</th>\n",
       "      <td>0.880449</td>\n",
       "      <td>0.730231</td>\n",
       "      <td>0.231080</td>\n",
       "      <td>Sum parts (32)</td>\n",
       "      <td>32.0</td>\n",
       "    </tr>\n",
       "    <tr>\n",
       "      <th>0</th>\n",
       "      <td>0.919958</td>\n",
       "      <td>0.733388</td>\n",
       "      <td>0.230101</td>\n",
       "      <td>Sum parts (16)</td>\n",
       "      <td>16.0</td>\n",
       "    </tr>\n",
       "    <tr>\n",
       "      <th>0</th>\n",
       "      <td>0.944009</td>\n",
       "      <td>0.731226</td>\n",
       "      <td>0.228672</td>\n",
       "      <td>Sum parts (8)</td>\n",
       "      <td>8.0</td>\n",
       "    </tr>\n",
       "    <tr>\n",
       "      <th>0</th>\n",
       "      <td>0.957645</td>\n",
       "      <td>0.731647</td>\n",
       "      <td>0.229022</td>\n",
       "      <td>Sum parts (4)</td>\n",
       "      <td>4.0</td>\n",
       "    </tr>\n",
       "  </tbody>\n",
       "</table>\n",
       "</div>"
      ],
      "text/plain": [
       "      ratio  mean_pos_sim  mean_diff           method  reduction_rate\n",
       "0  0.638589      0.642990   0.212868  Sum parts (256)           256.0\n",
       "0  0.738114      0.704705   0.225757  Sum parts (128)           128.0\n",
       "0  0.819356      0.716323   0.232376   Sum parts (64)            64.0\n",
       "0  0.880449      0.730231   0.231080   Sum parts (32)            32.0\n",
       "0  0.919958      0.733388   0.230101   Sum parts (16)            16.0\n",
       "0  0.944009      0.731226   0.228672    Sum parts (8)             8.0\n",
       "0  0.957645      0.731647   0.229022    Sum parts (4)             4.0"
      ]
     },
     "execution_count": 29,
     "metadata": {},
     "output_type": "execute_result"
    }
   ],
   "source": [
    "cmetrics = pd.concat(metrics)\n",
    "\n",
    "max_ratio = cmetrics.groupby(\"reduction_rate\").max()[\"ratio\"]\n",
    "cmetrics = cmetrics[cmetrics.apply(lambda x: x[\"ratio\"]==max_ratio[x[\"reduction_rate\"]], axis=1)]\n",
    "cmetrics = cmetrics.sort_values(\"reduction_rate\", ascending=False)\n",
    "cmetrics.to_csv(\"results/sums.csv\")\n",
    "\n",
    "cmetrics"
   ]
  },
  {
   "cell_type": "markdown",
   "metadata": {},
   "source": [
    "### Generic autoencoder"
   ]
  },
  {
   "cell_type": "code",
   "execution_count": 67,
   "metadata": {},
   "outputs": [],
   "source": [
    "def get_model(input_dim, output_dim):\n",
    "    encoder = nn.Sequential(\n",
    "                    nn.Linear(input_dim, 32),\n",
    "                    nn.ReLU(),\n",
    "                    nn.Linear(32, output_dim),\n",
    "            )\n",
    "    decoder = nn.Sequential(\n",
    "                    nn.Linear(output_dim, 32),\n",
    "                    nn.ReLU(),\n",
    "                    nn.Linear(32, input_dim)\n",
    "            )\n",
    "    autoenc = nn.Sequential(\n",
    "                    encoder,\n",
    "                    decoder\n",
    "                )\n",
    "    return autoenc\n",
    "\n",
    "def test_autoenc(model, dim):\n",
    "    def _inner(embeddings):\n",
    "        x = embeddings.reshape(-1, dim)\n",
    "        x = torch.from_numpy(x).to(torch.float32)\n",
    "        x = model[0](x).cpu().detach().numpy()\n",
    "        x = x.reshape(len(embeddings), -1)\n",
    "        return x\n",
    "    return _inner"
   ]
  },
  {
   "cell_type": "code",
   "execution_count": 71,
   "metadata": {},
   "outputs": [],
   "source": [
    "data = torch.tensor(train_data).reshape(-1, 768)\n",
    "train_loader = torch.utils.data.DataLoader(data.to(torch.float32), batch_size=32, shuffle=True)\n",
    "\n",
    "batch_size = 32\n",
    "\n",
    "def train_autoenc(model, dim, criterion, epochs=1, params={}):\n",
    "    optim = torch.optim.Adam(model.parameters(), 3e-4)\n",
    "    \n",
    "    experiment = Experiment(\n",
    "    api_key=\"sQnInDpH3eOHuFvstNS3jG5jb\",\n",
    "    project_name=\"vector-compression\",\n",
    "    workspace=\"wwydmanski\",\n",
    "    display_summary_level=0,\n",
    "    auto_metric_logging=False\n",
    "    )\n",
    "    experiment.add_tag(\"autoencoder\")\n",
    "    experiment.log_parameters(params)\n",
    "    \n",
    "    for epoch in range(1, epochs+1):\n",
    "        with tqdm.notebook.tqdm(train_loader) as t:\n",
    "            total_loss = []\n",
    "\n",
    "            for step, batch in enumerate(t):\n",
    "                x = batch.reshape(-1, dim)\n",
    "                batch_loss = []\n",
    "                for idx in range(0, len(x), batch_size):\n",
    "                    minibatch = x[idx:idx+batch_size]\n",
    "\n",
    "                    optim.zero_grad()\n",
    "\n",
    "                    y_hat = model(minibatch)\n",
    "                    loss = criterion(minibatch, y_hat)\n",
    "                    loss.backward()\n",
    "                    optim.step()\n",
    "\n",
    "                    batch_loss.append(loss.item())\n",
    "\n",
    "                experiment.log_metric(\"batch_loss_\", np.mean(batch_loss), step=step, epoch=epoch)\n",
    "\n",
    "            experiment.log_metric(\"loss_\", np.mean(total_loss), step=step, epoch=epoch)\n",
    "\n",
    "        res = calculate_metrics(test_autoenc(model, dim), train_data, f\"Autoencoder\")\n",
    "        print(res)\n",
    "        experiment.log_metric(\"Train accuracy\", res[\"ratio\"].values[0], step=epoch*step)\n",
    "        experiment.log_metric(\"Train mean positive similarity\", res[\"mean_pos_sim\"].values[0], step=epoch*step)\n",
    "        experiment.log_metric(\"Train mean difference\", res[\"mean_diff\"].values[0], step=epoch*step)\n",
    "        \n",
    "    res = calculate_metrics(test_autoenc(model, dim), test_data, f\"Autoencoder\")\n",
    "    print(res)\n",
    "    experiment.log_metric(\"Test accuracy\", res[\"ratio\"].values[0], step=epoch*step)\n",
    "    experiment.log_metric(\"Test mean positive similarity\", res[\"mean_pos_sim\"].values[0], step=epoch*step)\n",
    "    experiment.log_metric(\"Test mean difference\", res[\"mean_diff\"].values[0], step=epoch*step)\n",
    "        \n",
    "    experiment.log_parameter(\"Reduction rate\", res[\"reduction_rate\"].values[0])\n",
    "    experiment.end()"
   ]
  },
  {
   "cell_type": "code",
   "execution_count": 72,
   "metadata": {},
   "outputs": [],
   "source": [
    "metrics = []"
   ]
  },
  {
   "cell_type": "code",
   "execution_count": null,
   "metadata": {
    "tags": []
   },
   "outputs": [
    {
     "data": {
      "application/vnd.jupyter.widget-view+json": {
       "model_id": "078092554f5a4a92aeda3c43b10d7962",
       "version_major": 2,
       "version_minor": 0
      },
      "text/plain": [
       "  0%|          | 0/6 [00:00<?, ?it/s]"
      ]
     },
     "metadata": {},
     "output_type": "display_data"
    },
    {
     "data": {
      "application/vnd.jupyter.widget-view+json": {
       "model_id": "c74dffd3de254cf9bbbc5857c3db9dd1",
       "version_major": 2,
       "version_minor": 0
      },
      "text/plain": [
       "  0%|          | 0/7 [00:00<?, ?it/s]"
      ]
     },
     "metadata": {},
     "output_type": "display_data"
    },
    {
     "name": "stderr",
     "output_type": "stream",
     "text": [
      "COMET WARNING: As you are running in a Jupyter environment, you will need to call `experiment.end()` when finished to ensure all metrics and code are logged before exiting.\n",
      "COMET INFO: Experiment is live on comet.ml https://www.comet.ml/wwydmanski/vector-compression/1cb349cc926d4652a3c9c7ea158b9903\n",
      "\n"
     ]
    },
    {
     "data": {
      "application/vnd.jupyter.widget-view+json": {
       "model_id": "1be97811788d4384bd8e8063a79c2e8d",
       "version_major": 2,
       "version_minor": 0
      },
      "text/plain": [
       "  0%|          | 0/6561 [00:00<?, ?it/s]"
      ]
     },
     "metadata": {},
     "output_type": "display_data"
    }
   ],
   "source": [
    "hinge_margin = torch.tensor(0)\n",
    "gamma = 1\n",
    "def var_loss(x):\n",
    "    var = torch.sqrt(x.var(0)+1e-6)\n",
    "    loss = torch.maximum(hinge_margin, gamma-var).mean()\n",
    "    return loss\n",
    "\n",
    "\n",
    "dim=32\n",
    "output_dim = 8\n",
    "lr = 3e-4\n",
    "\n",
    "for input_dim in tqdm.notebook.tqdm([8, 16, 32, 64, 128, 768]):\n",
    "    for output_dim in tqdm.notebook.tqdm([2, 4, 8, 16, 32, 64, 128]):\n",
    "        if input_dim <= output_dim:\n",
    "            continue\n",
    "        params = {\"Input dim\": input_dim, \"Output dim\": output_dim, \"LR\": lr}\n",
    "\n",
    "        model = get_model(input_dim, output_dim)\n",
    "\n",
    "        optim = torch.optim.Adam(model.parameters(), lr)\n",
    "        criterion_ = nn.CosineSimilarity()\n",
    "        criterion = lambda x, y: -criterion_(x, y).mean() - 0.1*var_loss(y)\n",
    "\n",
    "        train_autoenc(model, input_dim, criterion, epochs=4, params=params)\n",
    "        metrics.append(calculate_metrics(test_autoenc(model, input_dim), test_data, f\"Autoencoder ({input_dim}x{output_dim})\"))"
   ]
  },
  {
   "cell_type": "code",
   "execution_count": 124,
   "metadata": {},
   "outputs": [
    {
     "data": {
      "text/html": [
       "<div>\n",
       "<style scoped>\n",
       "    .dataframe tbody tr th:only-of-type {\n",
       "        vertical-align: middle;\n",
       "    }\n",
       "\n",
       "    .dataframe tbody tr th {\n",
       "        vertical-align: top;\n",
       "    }\n",
       "\n",
       "    .dataframe thead th {\n",
       "        text-align: right;\n",
       "    }\n",
       "</style>\n",
       "<table border=\"1\" class=\"dataframe\">\n",
       "  <thead>\n",
       "    <tr style=\"text-align: right;\">\n",
       "      <th></th>\n",
       "      <th>ratio</th>\n",
       "      <th>mean_pos_sim</th>\n",
       "      <th>mean_diff</th>\n",
       "      <th>method</th>\n",
       "      <th>reduction_rate</th>\n",
       "    </tr>\n",
       "  </thead>\n",
       "  <tbody>\n",
       "    <tr>\n",
       "      <th>0</th>\n",
       "      <td>0.751017</td>\n",
       "      <td>0.961556</td>\n",
       "      <td>0.027461</td>\n",
       "      <td>Autoencoder</td>\n",
       "      <td>64.0</td>\n",
       "    </tr>\n",
       "    <tr>\n",
       "      <th>0</th>\n",
       "      <td>0.837927</td>\n",
       "      <td>0.960247</td>\n",
       "      <td>0.027499</td>\n",
       "      <td>Autoencoder</td>\n",
       "      <td>32.0</td>\n",
       "    </tr>\n",
       "    <tr>\n",
       "      <th>0</th>\n",
       "      <td>0.909922</td>\n",
       "      <td>0.970591</td>\n",
       "      <td>0.023799</td>\n",
       "      <td>Autoencoder</td>\n",
       "      <td>16.0</td>\n",
       "    </tr>\n",
       "    <tr>\n",
       "      <th>0</th>\n",
       "      <td>0.935818</td>\n",
       "      <td>0.962036</td>\n",
       "      <td>0.031864</td>\n",
       "      <td>Autoencoder</td>\n",
       "      <td>8.0</td>\n",
       "    </tr>\n",
       "    <tr>\n",
       "      <th>0</th>\n",
       "      <td>0.958501</td>\n",
       "      <td>0.987163</td>\n",
       "      <td>0.010953</td>\n",
       "      <td>Autoencoder</td>\n",
       "      <td>2.0</td>\n",
       "    </tr>\n",
       "  </tbody>\n",
       "</table>\n",
       "</div>"
      ],
      "text/plain": [
       "      ratio  mean_pos_sim  mean_diff       method  reduction_rate\n",
       "0  0.751017      0.961556   0.027461  Autoencoder            64.0\n",
       "0  0.837927      0.960247   0.027499  Autoencoder            32.0\n",
       "0  0.909922      0.970591   0.023799  Autoencoder            16.0\n",
       "0  0.935818      0.962036   0.031864  Autoencoder             8.0\n",
       "0  0.958501      0.987163   0.010953  Autoencoder             2.0"
      ]
     },
     "execution_count": 124,
     "metadata": {},
     "output_type": "execute_result"
    }
   ],
   "source": [
    "cmetrics = pd.concat(metrics)\n",
    "\n",
    "max_ratio = cmetrics.groupby(\"reduction_rate\").max()[\"ratio\"]\n",
    "cmetrics = cmetrics[cmetrics.apply(lambda x: x[\"ratio\"]==max_ratio[x[\"reduction_rate\"]], axis=1)]\n",
    "cmetrics = cmetrics.sort_values(\"reduction_rate\", ascending=False)\n",
    "cmetrics.to_csv(\"results/autoencoder.csv\")\n",
    "\n",
    "cmetrics"
   ]
  },
  {
   "cell_type": "markdown",
   "metadata": {},
   "source": [
    "### PCA"
   ]
  },
  {
   "cell_type": "code",
   "execution_count": 45,
   "metadata": {},
   "outputs": [],
   "source": [
    "metrics = []"
   ]
  },
  {
   "cell_type": "code",
   "execution_count": 46,
   "metadata": {},
   "outputs": [],
   "source": [
    "from sklearn.decomposition import PCA"
   ]
  },
  {
   "cell_type": "code",
   "execution_count": 47,
   "metadata": {},
   "outputs": [],
   "source": [
    "def test_pca(model, input_dim):\n",
    "    def _inner(embeddings):\n",
    "        x = embeddings.reshape(-1, input_dim)\n",
    "        x = model.transform(x)\n",
    "        x = x.reshape(len(embeddings), -1)\n",
    "        return x\n",
    "    return _inner\n",
    "\n",
    "def get_pca(input_dim, output_dim):\n",
    "    model = PCA(output_dim)\n",
    "    # data = train_data[0].reshape(-1, input_dim)\n",
    "    data = np.concatenate(train_data).reshape(-1, input_dim)\n",
    "    model.fit(data)\n",
    "    return model"
   ]
  },
  {
   "cell_type": "code",
   "execution_count": 44,
   "metadata": {},
   "outputs": [
    {
     "name": "stderr",
     "output_type": "stream",
     "text": [
      "100%|█████████████████████████████████████████████████████████████████████████████████████████████████████████████████████████████████████████████████████████████████| 29993/29993 [00:10<00:00, 2796.43it/s]\n"
     ]
    },
    {
     "data": {
      "text/html": [
       "<div>\n",
       "<style scoped>\n",
       "    .dataframe tbody tr th:only-of-type {\n",
       "        vertical-align: middle;\n",
       "    }\n",
       "\n",
       "    .dataframe tbody tr th {\n",
       "        vertical-align: top;\n",
       "    }\n",
       "\n",
       "    .dataframe thead th {\n",
       "        text-align: right;\n",
       "    }\n",
       "</style>\n",
       "<table border=\"1\" class=\"dataframe\">\n",
       "  <thead>\n",
       "    <tr style=\"text-align: right;\">\n",
       "      <th></th>\n",
       "      <th>ratio</th>\n",
       "      <th>mean_pos_sim</th>\n",
       "      <th>mean_diff</th>\n",
       "      <th>method</th>\n",
       "      <th>reduction_rate</th>\n",
       "    </tr>\n",
       "  </thead>\n",
       "  <tbody>\n",
       "    <tr>\n",
       "      <th>0</th>\n",
       "      <td>0.946021</td>\n",
       "      <td>0.735421</td>\n",
       "      <td>0.221545</td>\n",
       "      <td>PCA (64x8)</td>\n",
       "      <td>8.0</td>\n",
       "    </tr>\n",
       "  </tbody>\n",
       "</table>\n",
       "</div>"
      ],
      "text/plain": [
       "      ratio  mean_pos_sim  mean_diff      method  reduction_rate\n",
       "0  0.946021      0.735421   0.221545  PCA (64x8)             8.0"
      ]
     },
     "execution_count": 44,
     "metadata": {},
     "output_type": "execute_result"
    }
   ],
   "source": [
    "input_dim = 64\n",
    "output_dim = 8\n",
    "\n",
    "model = get_pca(input_dim, output_dim)\n",
    "calculate_metrics(test_pca(model, input_dim), test_data, f\"PCA ({input_dim}x{output_dim})\")"
   ]
  },
  {
   "cell_type": "code",
   "execution_count": 57,
   "metadata": {
    "tags": []
   },
   "outputs": [
    {
     "data": {
      "application/vnd.jupyter.widget-view+json": {
       "model_id": "a597810124b44a6785b0c3a380e93253",
       "version_major": 2,
       "version_minor": 0
      },
      "text/plain": [
       "  0%|          | 0/6 [00:00<?, ?it/s]"
      ]
     },
     "metadata": {},
     "output_type": "display_data"
    },
    {
     "data": {
      "application/vnd.jupyter.widget-view+json": {
       "model_id": "8de80929260343f9b7cf92837f7248b5",
       "version_major": 2,
       "version_minor": 0
      },
      "text/plain": [
       "  0%|          | 0/7 [00:00<?, ?it/s]"
      ]
     },
     "metadata": {},
     "output_type": "display_data"
    },
    {
     "data": {
      "application/vnd.jupyter.widget-view+json": {
       "model_id": "81d439a051a74082a51bfa5d77f93b02",
       "version_major": 2,
       "version_minor": 0
      },
      "text/plain": [
       "  0%|          | 0/7 [00:00<?, ?it/s]"
      ]
     },
     "metadata": {},
     "output_type": "display_data"
    },
    {
     "data": {
      "application/vnd.jupyter.widget-view+json": {
       "model_id": "2fc3fb2aaec54f8f83701370b9806443",
       "version_major": 2,
       "version_minor": 0
      },
      "text/plain": [
       "  0%|          | 0/7 [00:00<?, ?it/s]"
      ]
     },
     "metadata": {},
     "output_type": "display_data"
    },
    {
     "data": {
      "application/vnd.jupyter.widget-view+json": {
       "model_id": "c4ec5ee933c14946bd96c807fbf787b8",
       "version_major": 2,
       "version_minor": 0
      },
      "text/plain": [
       "  0%|          | 0/7 [00:00<?, ?it/s]"
      ]
     },
     "metadata": {},
     "output_type": "display_data"
    },
    {
     "data": {
      "application/vnd.jupyter.widget-view+json": {
       "model_id": "76c797e65b174e67b90b43b2c2dc0458",
       "version_major": 2,
       "version_minor": 0
      },
      "text/plain": [
       "  0%|          | 0/7 [00:00<?, ?it/s]"
      ]
     },
     "metadata": {},
     "output_type": "display_data"
    },
    {
     "data": {
      "application/vnd.jupyter.widget-view+json": {
       "model_id": "fb3fc99dd0a6476b9d548763db2e4e84",
       "version_major": 2,
       "version_minor": 0
      },
      "text/plain": [
       "  0%|          | 0/7 [00:00<?, ?it/s]"
      ]
     },
     "metadata": {},
     "output_type": "display_data"
    }
   ],
   "source": [
    "for input_dim in tqdm.notebook.tqdm([8, 16, 32, 64, 128, 768]):\n",
    "    for output_dim in tqdm.notebook.tqdm([2, 4, 8, 16, 32, 64, 128]):\n",
    "        if input_dim <= output_dim:\n",
    "            continue\n",
    "            \n",
    "        model = get_pca(input_dim, output_dim)\n",
    "        metrics.append(calculate_metrics(test_pca(model, input_dim), test_data, f\"PCA ({input_dim}x{output_dim})\", show_pbar=False))"
   ]
  },
  {
   "cell_type": "code",
   "execution_count": 59,
   "metadata": {},
   "outputs": [
    {
     "data": {
      "text/html": [
       "<div>\n",
       "<style scoped>\n",
       "    .dataframe tbody tr th:only-of-type {\n",
       "        vertical-align: middle;\n",
       "    }\n",
       "\n",
       "    .dataframe tbody tr th {\n",
       "        vertical-align: top;\n",
       "    }\n",
       "\n",
       "    .dataframe thead th {\n",
       "        text-align: right;\n",
       "    }\n",
       "</style>\n",
       "<table border=\"1\" class=\"dataframe\">\n",
       "  <thead>\n",
       "    <tr style=\"text-align: right;\">\n",
       "      <th></th>\n",
       "      <th>ratio</th>\n",
       "      <th>mean_pos_sim</th>\n",
       "      <th>mean_diff</th>\n",
       "      <th>method</th>\n",
       "      <th>reduction_rate</th>\n",
       "    </tr>\n",
       "  </thead>\n",
       "  <tbody>\n",
       "    <tr>\n",
       "      <th>0</th>\n",
       "      <td>0.552829</td>\n",
       "      <td>0.385381</td>\n",
       "      <td>0.106327</td>\n",
       "      <td>PCA (768x2)</td>\n",
       "      <td>384.0</td>\n",
       "    </tr>\n",
       "    <tr>\n",
       "      <th>0</th>\n",
       "      <td>0.603908</td>\n",
       "      <td>0.583071</td>\n",
       "      <td>0.122124</td>\n",
       "      <td>PCA (768x4)</td>\n",
       "      <td>192.0</td>\n",
       "    </tr>\n",
       "    <tr>\n",
       "      <th>0</th>\n",
       "      <td>0.679659</td>\n",
       "      <td>0.686105</td>\n",
       "      <td>0.153018</td>\n",
       "      <td>PCA (768x8)</td>\n",
       "      <td>96.0</td>\n",
       "    </tr>\n",
       "    <tr>\n",
       "      <th>0</th>\n",
       "      <td>0.822058</td>\n",
       "      <td>0.740996</td>\n",
       "      <td>0.202793</td>\n",
       "      <td>PCA (128x2)</td>\n",
       "      <td>64.0</td>\n",
       "    </tr>\n",
       "    <tr>\n",
       "      <th>0</th>\n",
       "      <td>0.771680</td>\n",
       "      <td>0.742186</td>\n",
       "      <td>0.168080</td>\n",
       "      <td>PCA (768x16)</td>\n",
       "      <td>48.0</td>\n",
       "    </tr>\n",
       "    <tr>\n",
       "      <th>0</th>\n",
       "      <td>0.882039</td>\n",
       "      <td>0.725696</td>\n",
       "      <td>0.223720</td>\n",
       "      <td>PCA (64x2)</td>\n",
       "      <td>32.0</td>\n",
       "    </tr>\n",
       "    <tr>\n",
       "      <th>0</th>\n",
       "      <td>0.875238</td>\n",
       "      <td>0.766104</td>\n",
       "      <td>0.187173</td>\n",
       "      <td>PCA (768x32)</td>\n",
       "      <td>24.0</td>\n",
       "    </tr>\n",
       "    <tr>\n",
       "      <th>0</th>\n",
       "      <td>0.923282</td>\n",
       "      <td>0.732020</td>\n",
       "      <td>0.221876</td>\n",
       "      <td>PCA (64x4)</td>\n",
       "      <td>16.0</td>\n",
       "    </tr>\n",
       "    <tr>\n",
       "      <th>0</th>\n",
       "      <td>0.935085</td>\n",
       "      <td>0.773679</td>\n",
       "      <td>0.204316</td>\n",
       "      <td>PCA (768x64)</td>\n",
       "      <td>12.0</td>\n",
       "    </tr>\n",
       "    <tr>\n",
       "      <th>0</th>\n",
       "      <td>0.946387</td>\n",
       "      <td>0.734668</td>\n",
       "      <td>0.223791</td>\n",
       "      <td>PCA (64x8)</td>\n",
       "      <td>8.0</td>\n",
       "    </tr>\n",
       "    <tr>\n",
       "      <th>0</th>\n",
       "      <td>0.958124</td>\n",
       "      <td>0.766523</td>\n",
       "      <td>0.217448</td>\n",
       "      <td>PCA (768x128)</td>\n",
       "      <td>6.0</td>\n",
       "    </tr>\n",
       "    <tr>\n",
       "      <th>0</th>\n",
       "      <td>0.958790</td>\n",
       "      <td>0.735533</td>\n",
       "      <td>0.226540</td>\n",
       "      <td>PCA (16x4)</td>\n",
       "      <td>4.0</td>\n",
       "    </tr>\n",
       "    <tr>\n",
       "      <th>0</th>\n",
       "      <td>0.965692</td>\n",
       "      <td>0.736315</td>\n",
       "      <td>0.226038</td>\n",
       "      <td>PCA (64x32)</td>\n",
       "      <td>2.0</td>\n",
       "    </tr>\n",
       "  </tbody>\n",
       "</table>\n",
       "</div>"
      ],
      "text/plain": [
       "      ratio  mean_pos_sim  mean_diff         method  reduction_rate\n",
       "0  0.552829      0.385381   0.106327    PCA (768x2)           384.0\n",
       "0  0.603908      0.583071   0.122124    PCA (768x4)           192.0\n",
       "0  0.679659      0.686105   0.153018    PCA (768x8)            96.0\n",
       "0  0.822058      0.740996   0.202793    PCA (128x2)            64.0\n",
       "0  0.771680      0.742186   0.168080   PCA (768x16)            48.0\n",
       "0  0.882039      0.725696   0.223720     PCA (64x2)            32.0\n",
       "0  0.875238      0.766104   0.187173   PCA (768x32)            24.0\n",
       "0  0.923282      0.732020   0.221876     PCA (64x4)            16.0\n",
       "0  0.935085      0.773679   0.204316   PCA (768x64)            12.0\n",
       "0  0.946387      0.734668   0.223791     PCA (64x8)             8.0\n",
       "0  0.958124      0.766523   0.217448  PCA (768x128)             6.0\n",
       "0  0.958790      0.735533   0.226540     PCA (16x4)             4.0\n",
       "0  0.965692      0.736315   0.226038    PCA (64x32)             2.0"
      ]
     },
     "execution_count": 59,
     "metadata": {},
     "output_type": "execute_result"
    }
   ],
   "source": [
    "cmetrics = pd.concat(metrics)\n",
    "\n",
    "max_ratio = cmetrics.groupby(\"reduction_rate\").max()[\"ratio\"]\n",
    "cmetrics = cmetrics[cmetrics.apply(lambda x: x[\"ratio\"]==max_ratio[x[\"reduction_rate\"]], axis=1)]\n",
    "cmetrics = cmetrics.sort_values(\"reduction_rate\", ascending=False)\n",
    "cmetrics.to_csv(\"results/PCA.csv\")\n",
    "\n",
    "cmetrics"
   ]
  },
  {
   "cell_type": "markdown",
   "metadata": {},
   "source": [
    "### UMAP"
   ]
  },
  {
   "cell_type": "code",
   "execution_count": 9,
   "metadata": {},
   "outputs": [],
   "source": [
    "metrics = []"
   ]
  },
  {
   "cell_type": "code",
   "execution_count": 23,
   "metadata": {},
   "outputs": [],
   "source": [
    "from cuml.manifold import UMAP"
   ]
  },
  {
   "cell_type": "code",
   "execution_count": 37,
   "metadata": {},
   "outputs": [],
   "source": [
    "def get_umap(input_dim, output_dim):\n",
    "    model = UMAP(n_components=output_dim)\n",
    "    data = train_data[0][:10000].reshape(-1, input_dim)\n",
    "    model.fit(data)\n",
    "    return model"
   ]
  },
  {
   "cell_type": "code",
   "execution_count": 38,
   "metadata": {},
   "outputs": [],
   "source": [
    "model = get_umap(128, 16)"
   ]
  },
  {
   "cell_type": "code",
   "execution_count": null,
   "metadata": {
    "tags": []
   },
   "outputs": [
    {
     "name": "stderr",
     "output_type": "stream",
     "text": [
      "100%|█████████████████████████████████████████████████████████████████████████████████████████████████████████████████████████████████████████████████████████████████| 89978/89978 [00:33<00:00, 2723.95it/s]\n",
      " 60%|█████████████████████████████████████████████████████████████████████████████████████████████████                                                                | 54275/89978 [00:20<00:13, 2678.39it/s]"
     ]
    }
   ],
   "source": [
    "for input_dim in [16]:\n",
    "    for output_dim in [2, 4, 8]:\n",
    "        if input_dim <= output_dim:\n",
    "            continue\n",
    "            \n",
    "        model = get_umap(input_dim, output_dim)\n",
    "        metrics.append(calculate_metrics(test_pca(model, input_dim), test_data, f\"UMAP ({input_dim}x{output_dim})\"))"
   ]
  },
  {
   "cell_type": "code",
   "execution_count": 35,
   "metadata": {},
   "outputs": [
    {
     "data": {
      "text/html": [
       "<div>\n",
       "<style scoped>\n",
       "    .dataframe tbody tr th:only-of-type {\n",
       "        vertical-align: middle;\n",
       "    }\n",
       "\n",
       "    .dataframe tbody tr th {\n",
       "        vertical-align: top;\n",
       "    }\n",
       "\n",
       "    .dataframe thead th {\n",
       "        text-align: right;\n",
       "    }\n",
       "</style>\n",
       "<table border=\"1\" class=\"dataframe\">\n",
       "  <thead>\n",
       "    <tr style=\"text-align: right;\">\n",
       "      <th></th>\n",
       "      <th>ratio</th>\n",
       "      <th>mean_pos_sim</th>\n",
       "      <th>mean_diff</th>\n",
       "      <th>method</th>\n",
       "      <th>reduction_rate</th>\n",
       "    </tr>\n",
       "  </thead>\n",
       "  <tbody>\n",
       "    <tr>\n",
       "      <th>0</th>\n",
       "      <td>0.550879</td>\n",
       "      <td>0.668035</td>\n",
       "      <td>0.040766</td>\n",
       "      <td>UMAP (768x2)</td>\n",
       "      <td>384.0</td>\n",
       "    </tr>\n",
       "    <tr>\n",
       "      <th>0</th>\n",
       "      <td>0.632088</td>\n",
       "      <td>0.911761</td>\n",
       "      <td>0.057221</td>\n",
       "      <td>UMAP (768x4)</td>\n",
       "      <td>192.0</td>\n",
       "    </tr>\n",
       "    <tr>\n",
       "      <th>0</th>\n",
       "      <td>0.651104</td>\n",
       "      <td>0.957159</td>\n",
       "      <td>0.033607</td>\n",
       "      <td>UMAP (768x8)</td>\n",
       "      <td>96.0</td>\n",
       "    </tr>\n",
       "    <tr>\n",
       "      <th>0</th>\n",
       "      <td>0.544500</td>\n",
       "      <td>0.846501</td>\n",
       "      <td>0.028204</td>\n",
       "      <td>UMAP (128x2)</td>\n",
       "      <td>64.0</td>\n",
       "    </tr>\n",
       "    <tr>\n",
       "      <th>0</th>\n",
       "      <td>0.653393</td>\n",
       "      <td>0.968231</td>\n",
       "      <td>0.024588</td>\n",
       "      <td>UMAP (768x16)</td>\n",
       "      <td>48.0</td>\n",
       "    </tr>\n",
       "    <tr>\n",
       "      <th>0</th>\n",
       "      <td>0.644124</td>\n",
       "      <td>0.954982</td>\n",
       "      <td>0.030882</td>\n",
       "      <td>UMAP (128x4)</td>\n",
       "      <td>32.0</td>\n",
       "    </tr>\n",
       "    <tr>\n",
       "      <th>0</th>\n",
       "      <td>0.650470</td>\n",
       "      <td>0.975806</td>\n",
       "      <td>0.017704</td>\n",
       "      <td>UMAP (768x32)</td>\n",
       "      <td>24.0</td>\n",
       "    </tr>\n",
       "    <tr>\n",
       "      <th>0</th>\n",
       "      <td>0.673565</td>\n",
       "      <td>0.965916</td>\n",
       "      <td>0.033695</td>\n",
       "      <td>UMAP (128x8)</td>\n",
       "      <td>16.0</td>\n",
       "    </tr>\n",
       "    <tr>\n",
       "      <th>0</th>\n",
       "      <td>0.614295</td>\n",
       "      <td>0.824949</td>\n",
       "      <td>0.034135</td>\n",
       "      <td>UMAP (768x64)</td>\n",
       "      <td>12.0</td>\n",
       "    </tr>\n",
       "    <tr>\n",
       "      <th>0</th>\n",
       "      <td>0.885116</td>\n",
       "      <td>0.629663</td>\n",
       "      <td>0.168973</td>\n",
       "      <td>UMAP (32x4)</td>\n",
       "      <td>8.0</td>\n",
       "    </tr>\n",
       "    <tr>\n",
       "      <th>0</th>\n",
       "      <td>0.615717</td>\n",
       "      <td>0.820846</td>\n",
       "      <td>0.037329</td>\n",
       "      <td>UMAP (768x128)</td>\n",
       "      <td>6.0</td>\n",
       "    </tr>\n",
       "    <tr>\n",
       "      <th>0</th>\n",
       "      <td>0.897897</td>\n",
       "      <td>0.650991</td>\n",
       "      <td>0.175584</td>\n",
       "      <td>UMAP (32x8)</td>\n",
       "      <td>4.0</td>\n",
       "    </tr>\n",
       "    <tr>\n",
       "      <th>0</th>\n",
       "      <td>0.934006</td>\n",
       "      <td>0.676887</td>\n",
       "      <td>0.184324</td>\n",
       "      <td>UMAP (32x16)</td>\n",
       "      <td>2.0</td>\n",
       "    </tr>\n",
       "  </tbody>\n",
       "</table>\n",
       "</div>"
      ],
      "text/plain": [
       "      ratio  mean_pos_sim  mean_diff          method  reduction_rate\n",
       "0  0.550879      0.668035   0.040766    UMAP (768x2)           384.0\n",
       "0  0.632088      0.911761   0.057221    UMAP (768x4)           192.0\n",
       "0  0.651104      0.957159   0.033607    UMAP (768x8)            96.0\n",
       "0  0.544500      0.846501   0.028204    UMAP (128x2)            64.0\n",
       "0  0.653393      0.968231   0.024588   UMAP (768x16)            48.0\n",
       "0  0.644124      0.954982   0.030882    UMAP (128x4)            32.0\n",
       "0  0.650470      0.975806   0.017704   UMAP (768x32)            24.0\n",
       "0  0.673565      0.965916   0.033695    UMAP (128x8)            16.0\n",
       "0  0.614295      0.824949   0.034135   UMAP (768x64)            12.0\n",
       "0  0.885116      0.629663   0.168973     UMAP (32x4)             8.0\n",
       "0  0.615717      0.820846   0.037329  UMAP (768x128)             6.0\n",
       "0  0.897897      0.650991   0.175584     UMAP (32x8)             4.0\n",
       "0  0.934006      0.676887   0.184324    UMAP (32x16)             2.0"
      ]
     },
     "execution_count": 35,
     "metadata": {},
     "output_type": "execute_result"
    }
   ],
   "source": [
    "cmetrics = pd.concat(metrics)\n",
    "\n",
    "max_ratio = cmetrics.groupby(\"reduction_rate\").max()[\"ratio\"]\n",
    "cmetrics = cmetrics[cmetrics.apply(lambda x: x[\"ratio\"]==max_ratio[x[\"reduction_rate\"]], axis=1)]\n",
    "cmetrics = cmetrics.sort_values(\"reduction_rate\", ascending=False)\n",
    "cmetrics.to_csv(\"results/UMAP.csv\")\n",
    "\n",
    "cmetrics"
   ]
  },
  {
   "cell_type": "markdown",
   "metadata": {},
   "source": [
    "### LocallyLinearEmbedding"
   ]
  },
  {
   "cell_type": "code",
   "execution_count": 8,
   "metadata": {
    "tags": []
   },
   "outputs": [],
   "source": [
    "from sklearn.manifold import LocallyLinearEmbedding"
   ]
  },
  {
   "cell_type": "code",
   "execution_count": 63,
   "metadata": {},
   "outputs": [],
   "source": [
    "batch_size = 512\n",
    "def test_lle(model, input_dim):\n",
    "    def _inner(embeddings):\n",
    "        res = []\n",
    "        x = embeddings.reshape(-1, input_dim)\n",
    "        \n",
    "        for i in range(0, len(x), batch_size):\n",
    "            res.append(model.transform(x[i:i+batch_size]))\n",
    "\n",
    "        x = np.concatenate(res)\n",
    "        x = x.reshape(len(embeddings), -1)\n",
    "        return x\n",
    "    return _inner\n",
    "\n",
    "def get_lle(input_dim, output_dim):\n",
    "    model = LocallyLinearEmbedding(n_components=output_dim, n_jobs=20)\n",
    "    data = train_data[0].reshape(-1, input_dim)[:5000]\n",
    "    model.fit(data)\n",
    "    return model"
   ]
  },
  {
   "cell_type": "code",
   "execution_count": 64,
   "metadata": {},
   "outputs": [],
   "source": [
    "metrics = []"
   ]
  },
  {
   "cell_type": "code",
   "execution_count": 65,
   "metadata": {
    "collapsed": true,
    "jupyter": {
     "outputs_hidden": true
    },
    "tags": []
   },
   "outputs": [
    {
     "data": {
      "application/vnd.jupyter.widget-view+json": {
       "model_id": "33455815ba134ce39b0ad0c9af27db09",
       "version_major": 2,
       "version_minor": 0
      },
      "text/plain": [
       "  0%|          | 0/6 [00:00<?, ?it/s]"
      ]
     },
     "metadata": {},
     "output_type": "display_data"
    },
    {
     "data": {
      "application/vnd.jupyter.widget-view+json": {
       "model_id": "f26ed270cd8945aaa9e6089bd4844266",
       "version_major": 2,
       "version_minor": 0
      },
      "text/plain": [
       "  0%|          | 0/7 [00:00<?, ?it/s]"
      ]
     },
     "metadata": {},
     "output_type": "display_data"
    },
    {
     "data": {
      "application/vnd.jupyter.widget-view+json": {
       "model_id": "963141ceb9504b59bf54047652b75586",
       "version_major": 2,
       "version_minor": 0
      },
      "text/plain": [
       "  0%|          | 0/7 [00:00<?, ?it/s]"
      ]
     },
     "metadata": {},
     "output_type": "display_data"
    },
    {
     "data": {
      "application/vnd.jupyter.widget-view+json": {
       "model_id": "59d0b6b5561145afa867042c59679c7c",
       "version_major": 2,
       "version_minor": 0
      },
      "text/plain": [
       "  0%|          | 0/7 [00:00<?, ?it/s]"
      ]
     },
     "metadata": {},
     "output_type": "display_data"
    },
    {
     "data": {
      "application/vnd.jupyter.widget-view+json": {
       "model_id": "b0cf19ce66734f16a2773f51e0344f50",
       "version_major": 2,
       "version_minor": 0
      },
      "text/plain": [
       "  0%|          | 0/7 [00:00<?, ?it/s]"
      ]
     },
     "metadata": {},
     "output_type": "display_data"
    },
    {
     "ename": "KeyboardInterrupt",
     "evalue": "",
     "output_type": "error",
     "traceback": [
      "\u001b[0;31m---------------------------------------------------------------------------\u001b[0m",
      "\u001b[0;31mKeyboardInterrupt\u001b[0m                         Traceback (most recent call last)",
      "\u001b[0;32m/tmp/ipykernel_1427610/3450083855.py\u001b[0m in \u001b[0;36m<module>\u001b[0;34m\u001b[0m\n\u001b[1;32m      5\u001b[0m \u001b[0;34m\u001b[0m\u001b[0m\n\u001b[1;32m      6\u001b[0m         \u001b[0mmodel\u001b[0m \u001b[0;34m=\u001b[0m \u001b[0mget_lle\u001b[0m\u001b[0;34m(\u001b[0m\u001b[0minput_dim\u001b[0m\u001b[0;34m,\u001b[0m \u001b[0moutput_dim\u001b[0m\u001b[0;34m)\u001b[0m\u001b[0;34m\u001b[0m\u001b[0;34m\u001b[0m\u001b[0m\n\u001b[0;32m----> 7\u001b[0;31m         \u001b[0mmetrics\u001b[0m\u001b[0;34m.\u001b[0m\u001b[0mappend\u001b[0m\u001b[0;34m(\u001b[0m\u001b[0mcalculate_metrics\u001b[0m\u001b[0;34m(\u001b[0m\u001b[0mtest_lle\u001b[0m\u001b[0;34m(\u001b[0m\u001b[0mmodel\u001b[0m\u001b[0;34m,\u001b[0m \u001b[0minput_dim\u001b[0m\u001b[0;34m)\u001b[0m\u001b[0;34m,\u001b[0m \u001b[0mtest_data\u001b[0m\u001b[0;34m,\u001b[0m \u001b[0;34mf\"LocallyLinearEmbedding ({input_dim}x{output_dim})\"\u001b[0m\u001b[0;34m,\u001b[0m \u001b[0mshow_pbar\u001b[0m\u001b[0;34m=\u001b[0m\u001b[0;32mFalse\u001b[0m\u001b[0;34m)\u001b[0m\u001b[0;34m)\u001b[0m\u001b[0;34m\u001b[0m\u001b[0;34m\u001b[0m\u001b[0m\n\u001b[0m",
      "\u001b[0;32m/tmp/ipykernel_1427610/981936031.py\u001b[0m in \u001b[0;36mcalculate_metrics\u001b[0;34m(method, data, name, show_pbar)\u001b[0m\n\u001b[1;32m      6\u001b[0m     \u001b[0mqueue\u001b[0m \u001b[0;34m=\u001b[0m \u001b[0;34m[\u001b[0m\u001b[0;34m]\u001b[0m\u001b[0;34m\u001b[0m\u001b[0;34m\u001b[0m\u001b[0m\n\u001b[1;32m      7\u001b[0m     \u001b[0manchors\u001b[0m \u001b[0;34m=\u001b[0m \u001b[0mmethod\u001b[0m\u001b[0;34m(\u001b[0m\u001b[0mdata\u001b[0m\u001b[0;34m[\u001b[0m\u001b[0;36m0\u001b[0m\u001b[0;34m]\u001b[0m\u001b[0;34m)\u001b[0m\u001b[0;34m\u001b[0m\u001b[0;34m\u001b[0m\u001b[0m\n\u001b[0;32m----> 8\u001b[0;31m     \u001b[0mpositives\u001b[0m \u001b[0;34m=\u001b[0m \u001b[0mmethod\u001b[0m\u001b[0;34m(\u001b[0m\u001b[0mdata\u001b[0m\u001b[0;34m[\u001b[0m\u001b[0;36m1\u001b[0m\u001b[0;34m]\u001b[0m\u001b[0;34m)\u001b[0m\u001b[0;34m\u001b[0m\u001b[0;34m\u001b[0m\u001b[0m\n\u001b[0m\u001b[1;32m      9\u001b[0m     \u001b[0mnegatives\u001b[0m \u001b[0;34m=\u001b[0m \u001b[0mmethod\u001b[0m\u001b[0;34m(\u001b[0m\u001b[0mdata\u001b[0m\u001b[0;34m[\u001b[0m\u001b[0;36m2\u001b[0m\u001b[0;34m]\u001b[0m\u001b[0;34m)\u001b[0m\u001b[0;34m\u001b[0m\u001b[0;34m\u001b[0m\u001b[0m\n\u001b[1;32m     10\u001b[0m \u001b[0;34m\u001b[0m\u001b[0m\n",
      "\u001b[0;32m/tmp/ipykernel_1427610/2148096567.py\u001b[0m in \u001b[0;36m_inner\u001b[0;34m(embeddings)\u001b[0m\n\u001b[1;32m      6\u001b[0m \u001b[0;34m\u001b[0m\u001b[0m\n\u001b[1;32m      7\u001b[0m         \u001b[0;32mfor\u001b[0m \u001b[0mi\u001b[0m \u001b[0;32min\u001b[0m \u001b[0mrange\u001b[0m\u001b[0;34m(\u001b[0m\u001b[0;36m0\u001b[0m\u001b[0;34m,\u001b[0m \u001b[0mlen\u001b[0m\u001b[0;34m(\u001b[0m\u001b[0mx\u001b[0m\u001b[0;34m)\u001b[0m\u001b[0;34m,\u001b[0m \u001b[0mbatch_size\u001b[0m\u001b[0;34m)\u001b[0m\u001b[0;34m:\u001b[0m\u001b[0;34m\u001b[0m\u001b[0;34m\u001b[0m\u001b[0m\n\u001b[0;32m----> 8\u001b[0;31m             \u001b[0mres\u001b[0m\u001b[0;34m.\u001b[0m\u001b[0mappend\u001b[0m\u001b[0;34m(\u001b[0m\u001b[0mmodel\u001b[0m\u001b[0;34m.\u001b[0m\u001b[0mtransform\u001b[0m\u001b[0;34m(\u001b[0m\u001b[0mx\u001b[0m\u001b[0;34m[\u001b[0m\u001b[0mi\u001b[0m\u001b[0;34m:\u001b[0m\u001b[0mi\u001b[0m\u001b[0;34m+\u001b[0m\u001b[0mbatch_size\u001b[0m\u001b[0;34m]\u001b[0m\u001b[0;34m)\u001b[0m\u001b[0;34m)\u001b[0m\u001b[0;34m\u001b[0m\u001b[0;34m\u001b[0m\u001b[0m\n\u001b[0m\u001b[1;32m      9\u001b[0m \u001b[0;34m\u001b[0m\u001b[0m\n\u001b[1;32m     10\u001b[0m         \u001b[0mx\u001b[0m \u001b[0;34m=\u001b[0m \u001b[0mnp\u001b[0m\u001b[0;34m.\u001b[0m\u001b[0mconcatenate\u001b[0m\u001b[0;34m(\u001b[0m\u001b[0mres\u001b[0m\u001b[0;34m)\u001b[0m\u001b[0;34m\u001b[0m\u001b[0;34m\u001b[0m\u001b[0m\n",
      "\u001b[0;32m~/.conda/envs/img_processing/lib/python3.8/site-packages/sklearn/manifold/_locally_linear.py\u001b[0m in \u001b[0;36mtransform\u001b[0;34m(self, X)\u001b[0m\n\u001b[1;32m    790\u001b[0m \u001b[0;34m\u001b[0m\u001b[0m\n\u001b[1;32m    791\u001b[0m         \u001b[0mX\u001b[0m \u001b[0;34m=\u001b[0m \u001b[0mself\u001b[0m\u001b[0;34m.\u001b[0m\u001b[0m_validate_data\u001b[0m\u001b[0;34m(\u001b[0m\u001b[0mX\u001b[0m\u001b[0;34m,\u001b[0m \u001b[0mreset\u001b[0m\u001b[0;34m=\u001b[0m\u001b[0;32mFalse\u001b[0m\u001b[0;34m)\u001b[0m\u001b[0;34m\u001b[0m\u001b[0;34m\u001b[0m\u001b[0m\n\u001b[0;32m--> 792\u001b[0;31m         ind = self.nbrs_.kneighbors(\n\u001b[0m\u001b[1;32m    793\u001b[0m             \u001b[0mX\u001b[0m\u001b[0;34m,\u001b[0m \u001b[0mn_neighbors\u001b[0m\u001b[0;34m=\u001b[0m\u001b[0mself\u001b[0m\u001b[0;34m.\u001b[0m\u001b[0mn_neighbors\u001b[0m\u001b[0;34m,\u001b[0m \u001b[0mreturn_distance\u001b[0m\u001b[0;34m=\u001b[0m\u001b[0;32mFalse\u001b[0m\u001b[0;34m\u001b[0m\u001b[0;34m\u001b[0m\u001b[0m\n\u001b[1;32m    794\u001b[0m         )\n",
      "\u001b[0;32m~/.conda/envs/img_processing/lib/python3.8/site-packages/sklearn/neighbors/_base.py\u001b[0m in \u001b[0;36mkneighbors\u001b[0;34m(self, X, n_neighbors, return_distance)\u001b[0m\n\u001b[1;32m    750\u001b[0m                 \u001b[0mkwds\u001b[0m \u001b[0;34m=\u001b[0m \u001b[0mself\u001b[0m\u001b[0;34m.\u001b[0m\u001b[0meffective_metric_params_\u001b[0m\u001b[0;34m\u001b[0m\u001b[0;34m\u001b[0m\u001b[0m\n\u001b[1;32m    751\u001b[0m \u001b[0;34m\u001b[0m\u001b[0m\n\u001b[0;32m--> 752\u001b[0;31m             chunked_results = list(\n\u001b[0m\u001b[1;32m    753\u001b[0m                 pairwise_distances_chunked(\n\u001b[1;32m    754\u001b[0m                     \u001b[0mX\u001b[0m\u001b[0;34m,\u001b[0m\u001b[0;34m\u001b[0m\u001b[0;34m\u001b[0m\u001b[0m\n",
      "\u001b[0;32m~/.conda/envs/img_processing/lib/python3.8/site-packages/sklearn/metrics/pairwise.py\u001b[0m in \u001b[0;36mpairwise_distances_chunked\u001b[0;34m(X, Y, reduce_func, metric, n_jobs, working_memory, **kwds)\u001b[0m\n\u001b[1;32m   1715\u001b[0m         \u001b[0;32melse\u001b[0m\u001b[0;34m:\u001b[0m\u001b[0;34m\u001b[0m\u001b[0;34m\u001b[0m\u001b[0m\n\u001b[1;32m   1716\u001b[0m             \u001b[0mX_chunk\u001b[0m \u001b[0;34m=\u001b[0m \u001b[0mX\u001b[0m\u001b[0;34m[\u001b[0m\u001b[0msl\u001b[0m\u001b[0;34m]\u001b[0m\u001b[0;34m\u001b[0m\u001b[0;34m\u001b[0m\u001b[0m\n\u001b[0;32m-> 1717\u001b[0;31m         \u001b[0mD_chunk\u001b[0m \u001b[0;34m=\u001b[0m \u001b[0mpairwise_distances\u001b[0m\u001b[0;34m(\u001b[0m\u001b[0mX_chunk\u001b[0m\u001b[0;34m,\u001b[0m \u001b[0mY\u001b[0m\u001b[0;34m,\u001b[0m \u001b[0mmetric\u001b[0m\u001b[0;34m=\u001b[0m\u001b[0mmetric\u001b[0m\u001b[0;34m,\u001b[0m \u001b[0mn_jobs\u001b[0m\u001b[0;34m=\u001b[0m\u001b[0mn_jobs\u001b[0m\u001b[0;34m,\u001b[0m \u001b[0;34m**\u001b[0m\u001b[0mkwds\u001b[0m\u001b[0;34m)\u001b[0m\u001b[0;34m\u001b[0m\u001b[0;34m\u001b[0m\u001b[0m\n\u001b[0m\u001b[1;32m   1718\u001b[0m         if (X is Y or Y is None) and PAIRWISE_DISTANCE_FUNCTIONS.get(\n\u001b[1;32m   1719\u001b[0m             \u001b[0mmetric\u001b[0m\u001b[0;34m,\u001b[0m \u001b[0;32mNone\u001b[0m\u001b[0;34m\u001b[0m\u001b[0;34m\u001b[0m\u001b[0m\n",
      "\u001b[0;32m~/.conda/envs/img_processing/lib/python3.8/site-packages/sklearn/metrics/pairwise.py\u001b[0m in \u001b[0;36mpairwise_distances\u001b[0;34m(X, Y, metric, n_jobs, force_all_finite, **kwds)\u001b[0m\n\u001b[1;32m   1887\u001b[0m         \u001b[0mfunc\u001b[0m \u001b[0;34m=\u001b[0m \u001b[0mpartial\u001b[0m\u001b[0;34m(\u001b[0m\u001b[0mdistance\u001b[0m\u001b[0;34m.\u001b[0m\u001b[0mcdist\u001b[0m\u001b[0;34m,\u001b[0m \u001b[0mmetric\u001b[0m\u001b[0;34m=\u001b[0m\u001b[0mmetric\u001b[0m\u001b[0;34m,\u001b[0m \u001b[0;34m**\u001b[0m\u001b[0mkwds\u001b[0m\u001b[0;34m)\u001b[0m\u001b[0;34m\u001b[0m\u001b[0;34m\u001b[0m\u001b[0m\n\u001b[1;32m   1888\u001b[0m \u001b[0;34m\u001b[0m\u001b[0m\n\u001b[0;32m-> 1889\u001b[0;31m     \u001b[0;32mreturn\u001b[0m \u001b[0m_parallel_pairwise\u001b[0m\u001b[0;34m(\u001b[0m\u001b[0mX\u001b[0m\u001b[0;34m,\u001b[0m \u001b[0mY\u001b[0m\u001b[0;34m,\u001b[0m \u001b[0mfunc\u001b[0m\u001b[0;34m,\u001b[0m \u001b[0mn_jobs\u001b[0m\u001b[0;34m,\u001b[0m \u001b[0;34m**\u001b[0m\u001b[0mkwds\u001b[0m\u001b[0;34m)\u001b[0m\u001b[0;34m\u001b[0m\u001b[0;34m\u001b[0m\u001b[0m\n\u001b[0m\u001b[1;32m   1890\u001b[0m \u001b[0;34m\u001b[0m\u001b[0m\n\u001b[1;32m   1891\u001b[0m \u001b[0;34m\u001b[0m\u001b[0m\n",
      "\u001b[0;32m~/.conda/envs/img_processing/lib/python3.8/site-packages/sklearn/metrics/pairwise.py\u001b[0m in \u001b[0;36m_parallel_pairwise\u001b[0;34m(X, Y, func, n_jobs, **kwds)\u001b[0m\n\u001b[1;32m   1433\u001b[0m     \u001b[0mfd\u001b[0m \u001b[0;34m=\u001b[0m \u001b[0mdelayed\u001b[0m\u001b[0;34m(\u001b[0m\u001b[0m_dist_wrapper\u001b[0m\u001b[0;34m)\u001b[0m\u001b[0;34m\u001b[0m\u001b[0;34m\u001b[0m\u001b[0m\n\u001b[1;32m   1434\u001b[0m     \u001b[0mret\u001b[0m \u001b[0;34m=\u001b[0m \u001b[0mnp\u001b[0m\u001b[0;34m.\u001b[0m\u001b[0mempty\u001b[0m\u001b[0;34m(\u001b[0m\u001b[0;34m(\u001b[0m\u001b[0mX\u001b[0m\u001b[0;34m.\u001b[0m\u001b[0mshape\u001b[0m\u001b[0;34m[\u001b[0m\u001b[0;36m0\u001b[0m\u001b[0;34m]\u001b[0m\u001b[0;34m,\u001b[0m \u001b[0mY\u001b[0m\u001b[0;34m.\u001b[0m\u001b[0mshape\u001b[0m\u001b[0;34m[\u001b[0m\u001b[0;36m0\u001b[0m\u001b[0;34m]\u001b[0m\u001b[0;34m)\u001b[0m\u001b[0;34m,\u001b[0m \u001b[0mdtype\u001b[0m\u001b[0;34m=\u001b[0m\u001b[0mdtype\u001b[0m\u001b[0;34m,\u001b[0m \u001b[0morder\u001b[0m\u001b[0;34m=\u001b[0m\u001b[0;34m\"F\"\u001b[0m\u001b[0;34m)\u001b[0m\u001b[0;34m\u001b[0m\u001b[0;34m\u001b[0m\u001b[0m\n\u001b[0;32m-> 1435\u001b[0;31m     Parallel(backend=\"threading\", n_jobs=n_jobs)(\n\u001b[0m\u001b[1;32m   1436\u001b[0m         \u001b[0mfd\u001b[0m\u001b[0;34m(\u001b[0m\u001b[0mfunc\u001b[0m\u001b[0;34m,\u001b[0m \u001b[0mret\u001b[0m\u001b[0;34m,\u001b[0m \u001b[0ms\u001b[0m\u001b[0;34m,\u001b[0m \u001b[0mX\u001b[0m\u001b[0;34m,\u001b[0m \u001b[0mY\u001b[0m\u001b[0;34m[\u001b[0m\u001b[0ms\u001b[0m\u001b[0;34m]\u001b[0m\u001b[0;34m,\u001b[0m \u001b[0;34m**\u001b[0m\u001b[0mkwds\u001b[0m\u001b[0;34m)\u001b[0m\u001b[0;34m\u001b[0m\u001b[0;34m\u001b[0m\u001b[0m\n\u001b[1;32m   1437\u001b[0m         \u001b[0;32mfor\u001b[0m \u001b[0ms\u001b[0m \u001b[0;32min\u001b[0m \u001b[0mgen_even_slices\u001b[0m\u001b[0;34m(\u001b[0m\u001b[0m_num_samples\u001b[0m\u001b[0;34m(\u001b[0m\u001b[0mY\u001b[0m\u001b[0;34m)\u001b[0m\u001b[0;34m,\u001b[0m \u001b[0meffective_n_jobs\u001b[0m\u001b[0;34m(\u001b[0m\u001b[0mn_jobs\u001b[0m\u001b[0;34m)\u001b[0m\u001b[0;34m)\u001b[0m\u001b[0;34m\u001b[0m\u001b[0;34m\u001b[0m\u001b[0m\n",
      "\u001b[0;32m~/.conda/envs/img_processing/lib/python3.8/site-packages/joblib/parallel.py\u001b[0m in \u001b[0;36m__call__\u001b[0;34m(self, iterable)\u001b[0m\n\u001b[1;32m   1054\u001b[0m \u001b[0;34m\u001b[0m\u001b[0m\n\u001b[1;32m   1055\u001b[0m             \u001b[0;32mwith\u001b[0m \u001b[0mself\u001b[0m\u001b[0;34m.\u001b[0m\u001b[0m_backend\u001b[0m\u001b[0;34m.\u001b[0m\u001b[0mretrieval_context\u001b[0m\u001b[0;34m(\u001b[0m\u001b[0;34m)\u001b[0m\u001b[0;34m:\u001b[0m\u001b[0;34m\u001b[0m\u001b[0;34m\u001b[0m\u001b[0m\n\u001b[0;32m-> 1056\u001b[0;31m                 \u001b[0mself\u001b[0m\u001b[0;34m.\u001b[0m\u001b[0mretrieve\u001b[0m\u001b[0;34m(\u001b[0m\u001b[0;34m)\u001b[0m\u001b[0;34m\u001b[0m\u001b[0;34m\u001b[0m\u001b[0m\n\u001b[0m\u001b[1;32m   1057\u001b[0m             \u001b[0;31m# Make sure that we get a last message telling us we are done\u001b[0m\u001b[0;34m\u001b[0m\u001b[0;34m\u001b[0m\u001b[0;34m\u001b[0m\u001b[0m\n\u001b[1;32m   1058\u001b[0m             \u001b[0melapsed_time\u001b[0m \u001b[0;34m=\u001b[0m \u001b[0mtime\u001b[0m\u001b[0;34m.\u001b[0m\u001b[0mtime\u001b[0m\u001b[0;34m(\u001b[0m\u001b[0;34m)\u001b[0m \u001b[0;34m-\u001b[0m \u001b[0mself\u001b[0m\u001b[0;34m.\u001b[0m\u001b[0m_start_time\u001b[0m\u001b[0;34m\u001b[0m\u001b[0;34m\u001b[0m\u001b[0m\n",
      "\u001b[0;32m~/.conda/envs/img_processing/lib/python3.8/site-packages/joblib/parallel.py\u001b[0m in \u001b[0;36mretrieve\u001b[0;34m(self)\u001b[0m\n\u001b[1;32m    933\u001b[0m             \u001b[0;32mtry\u001b[0m\u001b[0;34m:\u001b[0m\u001b[0;34m\u001b[0m\u001b[0;34m\u001b[0m\u001b[0m\n\u001b[1;32m    934\u001b[0m                 \u001b[0;32mif\u001b[0m \u001b[0mgetattr\u001b[0m\u001b[0;34m(\u001b[0m\u001b[0mself\u001b[0m\u001b[0;34m.\u001b[0m\u001b[0m_backend\u001b[0m\u001b[0;34m,\u001b[0m \u001b[0;34m'supports_timeout'\u001b[0m\u001b[0;34m,\u001b[0m \u001b[0;32mFalse\u001b[0m\u001b[0;34m)\u001b[0m\u001b[0;34m:\u001b[0m\u001b[0;34m\u001b[0m\u001b[0;34m\u001b[0m\u001b[0m\n\u001b[0;32m--> 935\u001b[0;31m                     \u001b[0mself\u001b[0m\u001b[0;34m.\u001b[0m\u001b[0m_output\u001b[0m\u001b[0;34m.\u001b[0m\u001b[0mextend\u001b[0m\u001b[0;34m(\u001b[0m\u001b[0mjob\u001b[0m\u001b[0;34m.\u001b[0m\u001b[0mget\u001b[0m\u001b[0;34m(\u001b[0m\u001b[0mtimeout\u001b[0m\u001b[0;34m=\u001b[0m\u001b[0mself\u001b[0m\u001b[0;34m.\u001b[0m\u001b[0mtimeout\u001b[0m\u001b[0;34m)\u001b[0m\u001b[0;34m)\u001b[0m\u001b[0;34m\u001b[0m\u001b[0;34m\u001b[0m\u001b[0m\n\u001b[0m\u001b[1;32m    936\u001b[0m                 \u001b[0;32melse\u001b[0m\u001b[0;34m:\u001b[0m\u001b[0;34m\u001b[0m\u001b[0;34m\u001b[0m\u001b[0m\n\u001b[1;32m    937\u001b[0m                     \u001b[0mself\u001b[0m\u001b[0;34m.\u001b[0m\u001b[0m_output\u001b[0m\u001b[0;34m.\u001b[0m\u001b[0mextend\u001b[0m\u001b[0;34m(\u001b[0m\u001b[0mjob\u001b[0m\u001b[0;34m.\u001b[0m\u001b[0mget\u001b[0m\u001b[0;34m(\u001b[0m\u001b[0;34m)\u001b[0m\u001b[0;34m)\u001b[0m\u001b[0;34m\u001b[0m\u001b[0;34m\u001b[0m\u001b[0m\n",
      "\u001b[0;32m~/.conda/envs/img_processing/lib/python3.8/multiprocessing/pool.py\u001b[0m in \u001b[0;36mget\u001b[0;34m(self, timeout)\u001b[0m\n\u001b[1;32m    763\u001b[0m \u001b[0;34m\u001b[0m\u001b[0m\n\u001b[1;32m    764\u001b[0m     \u001b[0;32mdef\u001b[0m \u001b[0mget\u001b[0m\u001b[0;34m(\u001b[0m\u001b[0mself\u001b[0m\u001b[0;34m,\u001b[0m \u001b[0mtimeout\u001b[0m\u001b[0;34m=\u001b[0m\u001b[0;32mNone\u001b[0m\u001b[0;34m)\u001b[0m\u001b[0;34m:\u001b[0m\u001b[0;34m\u001b[0m\u001b[0;34m\u001b[0m\u001b[0m\n\u001b[0;32m--> 765\u001b[0;31m         \u001b[0mself\u001b[0m\u001b[0;34m.\u001b[0m\u001b[0mwait\u001b[0m\u001b[0;34m(\u001b[0m\u001b[0mtimeout\u001b[0m\u001b[0;34m)\u001b[0m\u001b[0;34m\u001b[0m\u001b[0;34m\u001b[0m\u001b[0m\n\u001b[0m\u001b[1;32m    766\u001b[0m         \u001b[0;32mif\u001b[0m \u001b[0;32mnot\u001b[0m \u001b[0mself\u001b[0m\u001b[0;34m.\u001b[0m\u001b[0mready\u001b[0m\u001b[0;34m(\u001b[0m\u001b[0;34m)\u001b[0m\u001b[0;34m:\u001b[0m\u001b[0;34m\u001b[0m\u001b[0;34m\u001b[0m\u001b[0m\n\u001b[1;32m    767\u001b[0m             \u001b[0;32mraise\u001b[0m \u001b[0mTimeoutError\u001b[0m\u001b[0;34m\u001b[0m\u001b[0;34m\u001b[0m\u001b[0m\n",
      "\u001b[0;32m~/.conda/envs/img_processing/lib/python3.8/multiprocessing/pool.py\u001b[0m in \u001b[0;36mwait\u001b[0;34m(self, timeout)\u001b[0m\n\u001b[1;32m    760\u001b[0m \u001b[0;34m\u001b[0m\u001b[0m\n\u001b[1;32m    761\u001b[0m     \u001b[0;32mdef\u001b[0m \u001b[0mwait\u001b[0m\u001b[0;34m(\u001b[0m\u001b[0mself\u001b[0m\u001b[0;34m,\u001b[0m \u001b[0mtimeout\u001b[0m\u001b[0;34m=\u001b[0m\u001b[0;32mNone\u001b[0m\u001b[0;34m)\u001b[0m\u001b[0;34m:\u001b[0m\u001b[0;34m\u001b[0m\u001b[0;34m\u001b[0m\u001b[0m\n\u001b[0;32m--> 762\u001b[0;31m         \u001b[0mself\u001b[0m\u001b[0;34m.\u001b[0m\u001b[0m_event\u001b[0m\u001b[0;34m.\u001b[0m\u001b[0mwait\u001b[0m\u001b[0;34m(\u001b[0m\u001b[0mtimeout\u001b[0m\u001b[0;34m)\u001b[0m\u001b[0;34m\u001b[0m\u001b[0;34m\u001b[0m\u001b[0m\n\u001b[0m\u001b[1;32m    763\u001b[0m \u001b[0;34m\u001b[0m\u001b[0m\n\u001b[1;32m    764\u001b[0m     \u001b[0;32mdef\u001b[0m \u001b[0mget\u001b[0m\u001b[0;34m(\u001b[0m\u001b[0mself\u001b[0m\u001b[0;34m,\u001b[0m \u001b[0mtimeout\u001b[0m\u001b[0;34m=\u001b[0m\u001b[0;32mNone\u001b[0m\u001b[0;34m)\u001b[0m\u001b[0;34m:\u001b[0m\u001b[0;34m\u001b[0m\u001b[0;34m\u001b[0m\u001b[0m\n",
      "\u001b[0;32m~/.conda/envs/img_processing/lib/python3.8/threading.py\u001b[0m in \u001b[0;36mwait\u001b[0;34m(self, timeout)\u001b[0m\n\u001b[1;32m    556\u001b[0m             \u001b[0msignaled\u001b[0m \u001b[0;34m=\u001b[0m \u001b[0mself\u001b[0m\u001b[0;34m.\u001b[0m\u001b[0m_flag\u001b[0m\u001b[0;34m\u001b[0m\u001b[0;34m\u001b[0m\u001b[0m\n\u001b[1;32m    557\u001b[0m             \u001b[0;32mif\u001b[0m \u001b[0;32mnot\u001b[0m \u001b[0msignaled\u001b[0m\u001b[0;34m:\u001b[0m\u001b[0;34m\u001b[0m\u001b[0;34m\u001b[0m\u001b[0m\n\u001b[0;32m--> 558\u001b[0;31m                 \u001b[0msignaled\u001b[0m \u001b[0;34m=\u001b[0m \u001b[0mself\u001b[0m\u001b[0;34m.\u001b[0m\u001b[0m_cond\u001b[0m\u001b[0;34m.\u001b[0m\u001b[0mwait\u001b[0m\u001b[0;34m(\u001b[0m\u001b[0mtimeout\u001b[0m\u001b[0;34m)\u001b[0m\u001b[0;34m\u001b[0m\u001b[0;34m\u001b[0m\u001b[0m\n\u001b[0m\u001b[1;32m    559\u001b[0m             \u001b[0;32mreturn\u001b[0m \u001b[0msignaled\u001b[0m\u001b[0;34m\u001b[0m\u001b[0;34m\u001b[0m\u001b[0m\n\u001b[1;32m    560\u001b[0m \u001b[0;34m\u001b[0m\u001b[0m\n",
      "\u001b[0;32m~/.conda/envs/img_processing/lib/python3.8/threading.py\u001b[0m in \u001b[0;36mwait\u001b[0;34m(self, timeout)\u001b[0m\n\u001b[1;32m    300\u001b[0m         \u001b[0;32mtry\u001b[0m\u001b[0;34m:\u001b[0m    \u001b[0;31m# restore state no matter what (e.g., KeyboardInterrupt)\u001b[0m\u001b[0;34m\u001b[0m\u001b[0;34m\u001b[0m\u001b[0m\n\u001b[1;32m    301\u001b[0m             \u001b[0;32mif\u001b[0m \u001b[0mtimeout\u001b[0m \u001b[0;32mis\u001b[0m \u001b[0;32mNone\u001b[0m\u001b[0;34m:\u001b[0m\u001b[0;34m\u001b[0m\u001b[0;34m\u001b[0m\u001b[0m\n\u001b[0;32m--> 302\u001b[0;31m                 \u001b[0mwaiter\u001b[0m\u001b[0;34m.\u001b[0m\u001b[0macquire\u001b[0m\u001b[0;34m(\u001b[0m\u001b[0;34m)\u001b[0m\u001b[0;34m\u001b[0m\u001b[0;34m\u001b[0m\u001b[0m\n\u001b[0m\u001b[1;32m    303\u001b[0m                 \u001b[0mgotit\u001b[0m \u001b[0;34m=\u001b[0m \u001b[0;32mTrue\u001b[0m\u001b[0;34m\u001b[0m\u001b[0;34m\u001b[0m\u001b[0m\n\u001b[1;32m    304\u001b[0m             \u001b[0;32melse\u001b[0m\u001b[0;34m:\u001b[0m\u001b[0;34m\u001b[0m\u001b[0;34m\u001b[0m\u001b[0m\n",
      "\u001b[0;31mKeyboardInterrupt\u001b[0m: "
     ]
    }
   ],
   "source": [
    "for input_dim in tqdm.notebook.tqdm([8, 16, 32, 64, 128, 768][::-1]):\n",
    "    for output_dim in tqdm.notebook.tqdm([2, 4, 8, 16, 32, 64, 128]):\n",
    "        if input_dim <= output_dim:\n",
    "            continue\n",
    "            \n",
    "        model = get_lle(input_dim, output_dim)\n",
    "        metrics.append(calculate_metrics(test_lle(model, input_dim), test_data, f\"LocallyLinearEmbedding ({input_dim}x{output_dim})\", show_pbar=False))"
   ]
  },
  {
   "cell_type": "code",
   "execution_count": 66,
   "metadata": {},
   "outputs": [
    {
     "data": {
      "text/html": [
       "<div>\n",
       "<style scoped>\n",
       "    .dataframe tbody tr th:only-of-type {\n",
       "        vertical-align: middle;\n",
       "    }\n",
       "\n",
       "    .dataframe tbody tr th {\n",
       "        vertical-align: top;\n",
       "    }\n",
       "\n",
       "    .dataframe thead th {\n",
       "        text-align: right;\n",
       "    }\n",
       "</style>\n",
       "<table border=\"1\" class=\"dataframe\">\n",
       "  <thead>\n",
       "    <tr style=\"text-align: right;\">\n",
       "      <th></th>\n",
       "      <th>ratio</th>\n",
       "      <th>mean_pos_sim</th>\n",
       "      <th>mean_diff</th>\n",
       "      <th>method</th>\n",
       "      <th>reduction_rate</th>\n",
       "    </tr>\n",
       "  </thead>\n",
       "  <tbody>\n",
       "    <tr>\n",
       "      <th>0</th>\n",
       "      <td>0.624612</td>\n",
       "      <td>0.796312</td>\n",
       "      <td>0.109099</td>\n",
       "      <td>LocallyLinearEmbedding (768x2)</td>\n",
       "      <td>384.0</td>\n",
       "    </tr>\n",
       "    <tr>\n",
       "      <th>0</th>\n",
       "      <td>0.658020</td>\n",
       "      <td>0.819372</td>\n",
       "      <td>0.113057</td>\n",
       "      <td>LocallyLinearEmbedding (768x4)</td>\n",
       "      <td>192.0</td>\n",
       "    </tr>\n",
       "    <tr>\n",
       "      <th>0</th>\n",
       "      <td>0.673090</td>\n",
       "      <td>0.826621</td>\n",
       "      <td>0.110064</td>\n",
       "      <td>LocallyLinearEmbedding (768x8)</td>\n",
       "      <td>96.0</td>\n",
       "    </tr>\n",
       "    <tr>\n",
       "      <th>0</th>\n",
       "      <td>0.622545</td>\n",
       "      <td>0.653948</td>\n",
       "      <td>0.111262</td>\n",
       "      <td>LocallyLinearEmbedding (128x2)</td>\n",
       "      <td>64.0</td>\n",
       "    </tr>\n",
       "    <tr>\n",
       "      <th>0</th>\n",
       "      <td>0.688461</td>\n",
       "      <td>0.812073</td>\n",
       "      <td>0.126374</td>\n",
       "      <td>LocallyLinearEmbedding (768x16)</td>\n",
       "      <td>48.0</td>\n",
       "    </tr>\n",
       "    <tr>\n",
       "      <th>0</th>\n",
       "      <td>0.737639</td>\n",
       "      <td>0.451451</td>\n",
       "      <td>0.179626</td>\n",
       "      <td>LocallyLinearEmbedding (64x2)</td>\n",
       "      <td>32.0</td>\n",
       "    </tr>\n",
       "    <tr>\n",
       "      <th>0</th>\n",
       "      <td>0.707932</td>\n",
       "      <td>0.776378</td>\n",
       "      <td>0.152379</td>\n",
       "      <td>LocallyLinearEmbedding (768x32)</td>\n",
       "      <td>24.0</td>\n",
       "    </tr>\n",
       "    <tr>\n",
       "      <th>0</th>\n",
       "      <td>0.803888</td>\n",
       "      <td>0.439338</td>\n",
       "      <td>0.183319</td>\n",
       "      <td>LocallyLinearEmbedding (32x2)</td>\n",
       "      <td>16.0</td>\n",
       "    </tr>\n",
       "    <tr>\n",
       "      <th>0</th>\n",
       "      <td>0.720935</td>\n",
       "      <td>0.741271</td>\n",
       "      <td>0.172130</td>\n",
       "      <td>LocallyLinearEmbedding (768x64)</td>\n",
       "      <td>12.0</td>\n",
       "    </tr>\n",
       "    <tr>\n",
       "      <th>0</th>\n",
       "      <td>0.852099</td>\n",
       "      <td>0.424947</td>\n",
       "      <td>0.181779</td>\n",
       "      <td>LocallyLinearEmbedding (32x4)</td>\n",
       "      <td>8.0</td>\n",
       "    </tr>\n",
       "    <tr>\n",
       "      <th>0</th>\n",
       "      <td>0.733304</td>\n",
       "      <td>0.713037</td>\n",
       "      <td>0.189119</td>\n",
       "      <td>LocallyLinearEmbedding (768x128)</td>\n",
       "      <td>6.0</td>\n",
       "    </tr>\n",
       "    <tr>\n",
       "      <th>0</th>\n",
       "      <td>0.885140</td>\n",
       "      <td>0.415191</td>\n",
       "      <td>0.180305</td>\n",
       "      <td>LocallyLinearEmbedding (32x8)</td>\n",
       "      <td>4.0</td>\n",
       "    </tr>\n",
       "    <tr>\n",
       "      <th>0</th>\n",
       "      <td>0.878405</td>\n",
       "      <td>0.403842</td>\n",
       "      <td>0.179227</td>\n",
       "      <td>LocallyLinearEmbedding (64x32)</td>\n",
       "      <td>2.0</td>\n",
       "    </tr>\n",
       "  </tbody>\n",
       "</table>\n",
       "</div>"
      ],
      "text/plain": [
       "      ratio  mean_pos_sim  mean_diff                            method  \\\n",
       "0  0.624612      0.796312   0.109099    LocallyLinearEmbedding (768x2)   \n",
       "0  0.658020      0.819372   0.113057    LocallyLinearEmbedding (768x4)   \n",
       "0  0.673090      0.826621   0.110064    LocallyLinearEmbedding (768x8)   \n",
       "0  0.622545      0.653948   0.111262    LocallyLinearEmbedding (128x2)   \n",
       "0  0.688461      0.812073   0.126374   LocallyLinearEmbedding (768x16)   \n",
       "0  0.737639      0.451451   0.179626     LocallyLinearEmbedding (64x2)   \n",
       "0  0.707932      0.776378   0.152379   LocallyLinearEmbedding (768x32)   \n",
       "0  0.803888      0.439338   0.183319     LocallyLinearEmbedding (32x2)   \n",
       "0  0.720935      0.741271   0.172130   LocallyLinearEmbedding (768x64)   \n",
       "0  0.852099      0.424947   0.181779     LocallyLinearEmbedding (32x4)   \n",
       "0  0.733304      0.713037   0.189119  LocallyLinearEmbedding (768x128)   \n",
       "0  0.885140      0.415191   0.180305     LocallyLinearEmbedding (32x8)   \n",
       "0  0.878405      0.403842   0.179227    LocallyLinearEmbedding (64x32)   \n",
       "\n",
       "   reduction_rate  \n",
       "0           384.0  \n",
       "0           192.0  \n",
       "0            96.0  \n",
       "0            64.0  \n",
       "0            48.0  \n",
       "0            32.0  \n",
       "0            24.0  \n",
       "0            16.0  \n",
       "0            12.0  \n",
       "0             8.0  \n",
       "0             6.0  \n",
       "0             4.0  \n",
       "0             2.0  "
      ]
     },
     "execution_count": 66,
     "metadata": {},
     "output_type": "execute_result"
    }
   ],
   "source": [
    "cmetrics = pd.concat(metrics)\n",
    "\n",
    "max_ratio = cmetrics.groupby(\"reduction_rate\").max()[\"ratio\"]\n",
    "cmetrics = cmetrics[cmetrics.apply(lambda x: x[\"ratio\"]==max_ratio[x[\"reduction_rate\"]], axis=1)]\n",
    "cmetrics = cmetrics.sort_values(\"reduction_rate\", ascending=False)\n",
    "# cmetrics.to_csv(\"results/LocallyLinear.csv\")\n",
    "\n",
    "cmetrics"
   ]
  },
  {
   "cell_type": "code",
   "execution_count": null,
   "metadata": {},
   "outputs": [],
   "source": []
  },
  {
   "cell_type": "markdown",
   "metadata": {},
   "source": [
    "### Whitening Sentence Representations "
   ]
  },
  {
   "cell_type": "code",
   "execution_count": 45,
   "metadata": {},
   "outputs": [],
   "source": [
    "def compute_kernel_bias(input_dim):\n",
    "    \"\"\"\n",
    "    y = (x + bias).dot(kernel)\n",
    "    \"\"\"\n",
    "    vecs = train_data[0].reshape(-1, input_dim)\n",
    "    # vecs = np.concatenate(vecs, axis=0)\n",
    "    mu = vecs.mean(axis=0, keepdims=True)\n",
    "    cov = np.cov(vecs.T)\n",
    "    u, s, vh = np.linalg.svd(cov)\n",
    "    W = np.dot(u, np.diag(1/np.sqrt(s)))\n",
    "    return W, -mu\n",
    "\n",
    "def transform_and_normalize(vecs, kernel, bias):\n",
    "    if not (kernel is None or bias is None):\n",
    "        vecs = (vecs + bias).dot(kernel)\n",
    "    normalized=vecs / (vecs**2).sum(axis=1, keepdims=True)**0.5\n",
    "    return normalized\n",
    "\n",
    "def test_whitening(kernel, bias,input_dim):\n",
    "    def _inner(embeddings):\n",
    "        x = embeddings.reshape(-1, input_dim)\n",
    "        x = transform_and_normalize(x,kernel=kernel,bias=bias)\n",
    "        x = x.reshape(len(embeddings), -1)\n",
    "        return x\n",
    "    return _inner"
   ]
  },
  {
   "cell_type": "code",
   "execution_count": 48,
   "metadata": {},
   "outputs": [],
   "source": [
    "metrics = []"
   ]
  },
  {
   "cell_type": "code",
   "execution_count": 51,
   "metadata": {},
   "outputs": [
    {
     "name": "stderr",
     "output_type": "stream",
     "text": [
      "100%|████████████████████████████████████████████████████████████████████████████████████████████████████████| 89978/89978 [00:26<00:00, 3379.08it/s]\n",
      "100%|████████████████████████████████████████████████████████████████████████████████████████████████████████| 89978/89978 [00:26<00:00, 3382.49it/s]\n",
      "100%|████████████████████████████████████████████████████████████████████████████████████████████████████████| 89978/89978 [00:27<00:00, 3255.82it/s]\n",
      "100%|████████████████████████████████████████████████████████████████████████████████████████████████████████| 89978/89978 [00:27<00:00, 3287.66it/s]\n",
      "100%|████████████████████████████████████████████████████████████████████████████████████████████████████████| 89978/89978 [00:24<00:00, 3643.45it/s]\n",
      "100%|████████████████████████████████████████████████████████████████████████████████████████████████████████| 89978/89978 [00:26<00:00, 3371.60it/s]\n",
      "100%|████████████████████████████████████████████████████████████████████████████████████████████████████████| 89978/89978 [00:26<00:00, 3372.40it/s]\n",
      "100%|████████████████████████████████████████████████████████████████████████████████████████████████████████| 89978/89978 [00:26<00:00, 3334.77it/s]\n",
      "100%|████████████████████████████████████████████████████████████████████████████████████████████████████████| 89978/89978 [00:27<00:00, 3294.87it/s]\n",
      "100%|████████████████████████████████████████████████████████████████████████████████████████████████████████| 89978/89978 [00:24<00:00, 3671.68it/s]\n",
      "100%|████████████████████████████████████████████████████████████████████████████████████████████████████████| 89978/89978 [00:25<00:00, 3538.82it/s]\n",
      "100%|████████████████████████████████████████████████████████████████████████████████████████████████████████| 89978/89978 [00:26<00:00, 3391.17it/s]\n",
      "100%|████████████████████████████████████████████████████████████████████████████████████████████████████████| 89978/89978 [00:26<00:00, 3386.55it/s]\n",
      "100%|████████████████████████████████████████████████████████████████████████████████████████████████████████| 89978/89978 [00:27<00:00, 3316.19it/s]\n",
      "100%|████████████████████████████████████████████████████████████████████████████████████████████████████████| 89978/89978 [00:27<00:00, 3317.57it/s]\n",
      "100%|████████████████████████████████████████████████████████████████████████████████████████████████████████| 89978/89978 [00:24<00:00, 3745.43it/s]\n",
      "100%|████████████████████████████████████████████████████████████████████████████████████████████████████████| 89978/89978 [00:23<00:00, 3760.84it/s]\n",
      "100%|████████████████████████████████████████████████████████████████████████████████████████████████████████| 89978/89978 [00:23<00:00, 3789.50it/s]\n",
      "100%|████████████████████████████████████████████████████████████████████████████████████████████████████████| 89978/89978 [00:24<00:00, 3697.62it/s]\n",
      "100%|████████████████████████████████████████████████████████████████████████████████████████████████████████| 89978/89978 [00:26<00:00, 3383.84it/s]\n",
      "100%|████████████████████████████████████████████████████████████████████████████████████████████████████████| 89978/89978 [00:26<00:00, 3402.47it/s]\n",
      "100%|████████████████████████████████████████████████████████████████████████████████████████████████████████| 89978/89978 [00:26<00:00, 3386.55it/s]\n"
     ]
    }
   ],
   "source": [
    "for input_dim in [32, 64, 128, 768]:\n",
    "    for output_dim in [2, 4, 8, 16, 32, 64, 128]:\n",
    "        if input_dim <= output_dim:\n",
    "            continue\n",
    "        kernel, bias = compute_kernel_bias(input_dim)\n",
    "        kernel = kernel[:, :output_dim]\n",
    "        metrics.append(calculate_metrics(test_whitening(kernel,bias,input_dim), test_data, f\"Whitening ({input_dim}x{output_dim})\"))"
   ]
  },
  {
   "cell_type": "code",
   "execution_count": 55,
   "metadata": {},
   "outputs": [
    {
     "data": {
      "text/html": [
       "<div>\n",
       "<style scoped>\n",
       "    .dataframe tbody tr th:only-of-type {\n",
       "        vertical-align: middle;\n",
       "    }\n",
       "\n",
       "    .dataframe tbody tr th {\n",
       "        vertical-align: top;\n",
       "    }\n",
       "\n",
       "    .dataframe thead th {\n",
       "        text-align: right;\n",
       "    }\n",
       "</style>\n",
       "<table border=\"1\" class=\"dataframe\">\n",
       "  <thead>\n",
       "    <tr style=\"text-align: right;\">\n",
       "      <th></th>\n",
       "      <th>ratio</th>\n",
       "      <th>mean_pos_sim</th>\n",
       "      <th>mean_diff</th>\n",
       "      <th>method</th>\n",
       "      <th>reduction_rate</th>\n",
       "    </tr>\n",
       "  </thead>\n",
       "  <tbody>\n",
       "    <tr>\n",
       "      <th>0</th>\n",
       "      <td>0.610883</td>\n",
       "      <td>0.810334</td>\n",
       "      <td>0.124641</td>\n",
       "      <td>Whitening (768x2)</td>\n",
       "      <td>384.0</td>\n",
       "    </tr>\n",
       "    <tr>\n",
       "      <th>0</th>\n",
       "      <td>0.683523</td>\n",
       "      <td>0.840056</td>\n",
       "      <td>0.128928</td>\n",
       "      <td>Whitening (768x4)</td>\n",
       "      <td>192.0</td>\n",
       "    </tr>\n",
       "    <tr>\n",
       "      <th>0</th>\n",
       "      <td>0.751950</td>\n",
       "      <td>0.838032</td>\n",
       "      <td>0.142059</td>\n",
       "      <td>Whitening (768x8)</td>\n",
       "      <td>96.0</td>\n",
       "    </tr>\n",
       "    <tr>\n",
       "      <th>0</th>\n",
       "      <td>0.748850</td>\n",
       "      <td>0.652865</td>\n",
       "      <td>0.199488</td>\n",
       "      <td>Whitening (128x2)</td>\n",
       "      <td>64.0</td>\n",
       "    </tr>\n",
       "    <tr>\n",
       "      <th>0</th>\n",
       "      <td>0.833070</td>\n",
       "      <td>0.826492</td>\n",
       "      <td>0.163008</td>\n",
       "      <td>Whitening (768x16)</td>\n",
       "      <td>48.0</td>\n",
       "    </tr>\n",
       "    <tr>\n",
       "      <th>0</th>\n",
       "      <td>0.839594</td>\n",
       "      <td>0.703681</td>\n",
       "      <td>0.209091</td>\n",
       "      <td>Whitening (128x4)</td>\n",
       "      <td>32.0</td>\n",
       "    </tr>\n",
       "    <tr>\n",
       "      <th>0</th>\n",
       "      <td>0.902454</td>\n",
       "      <td>0.806293</td>\n",
       "      <td>0.190766</td>\n",
       "      <td>Whitening (768x32)</td>\n",
       "      <td>24.0</td>\n",
       "    </tr>\n",
       "    <tr>\n",
       "      <th>0</th>\n",
       "      <td>0.902409</td>\n",
       "      <td>0.724704</td>\n",
       "      <td>0.213697</td>\n",
       "      <td>Whitening (128x8)</td>\n",
       "      <td>16.0</td>\n",
       "    </tr>\n",
       "    <tr>\n",
       "      <th>0</th>\n",
       "      <td>0.937863</td>\n",
       "      <td>0.793159</td>\n",
       "      <td>0.210244</td>\n",
       "      <td>Whitening (768x64)</td>\n",
       "      <td>12.0</td>\n",
       "    </tr>\n",
       "    <tr>\n",
       "      <th>0</th>\n",
       "      <td>0.938040</td>\n",
       "      <td>0.735265</td>\n",
       "      <td>0.217495</td>\n",
       "      <td>Whitening (128x16)</td>\n",
       "      <td>8.0</td>\n",
       "    </tr>\n",
       "    <tr>\n",
       "      <th>0</th>\n",
       "      <td>0.952499</td>\n",
       "      <td>0.769796</td>\n",
       "      <td>0.226474</td>\n",
       "      <td>Whitening (768x128)</td>\n",
       "      <td>6.0</td>\n",
       "    </tr>\n",
       "    <tr>\n",
       "      <th>0</th>\n",
       "      <td>0.956512</td>\n",
       "      <td>0.740897</td>\n",
       "      <td>0.220680</td>\n",
       "      <td>Whitening (128x32)</td>\n",
       "      <td>4.0</td>\n",
       "    </tr>\n",
       "    <tr>\n",
       "      <th>0</th>\n",
       "      <td>0.964714</td>\n",
       "      <td>0.738850</td>\n",
       "      <td>0.224645</td>\n",
       "      <td>Whitening (128x64)</td>\n",
       "      <td>2.0</td>\n",
       "    </tr>\n",
       "  </tbody>\n",
       "</table>\n",
       "</div>"
      ],
      "text/plain": [
       "      ratio  mean_pos_sim  mean_diff               method  reduction_rate\n",
       "0  0.610883      0.810334   0.124641    Whitening (768x2)           384.0\n",
       "0  0.683523      0.840056   0.128928    Whitening (768x4)           192.0\n",
       "0  0.751950      0.838032   0.142059    Whitening (768x8)            96.0\n",
       "0  0.748850      0.652865   0.199488    Whitening (128x2)            64.0\n",
       "0  0.833070      0.826492   0.163008   Whitening (768x16)            48.0\n",
       "0  0.839594      0.703681   0.209091    Whitening (128x4)            32.0\n",
       "0  0.902454      0.806293   0.190766   Whitening (768x32)            24.0\n",
       "0  0.902409      0.724704   0.213697    Whitening (128x8)            16.0\n",
       "0  0.937863      0.793159   0.210244   Whitening (768x64)            12.0\n",
       "0  0.938040      0.735265   0.217495   Whitening (128x16)             8.0\n",
       "0  0.952499      0.769796   0.226474  Whitening (768x128)             6.0\n",
       "0  0.956512      0.740897   0.220680   Whitening (128x32)             4.0\n",
       "0  0.964714      0.738850   0.224645   Whitening (128x64)             2.0"
      ]
     },
     "execution_count": 55,
     "metadata": {},
     "output_type": "execute_result"
    }
   ],
   "source": [
    "cmetrics = pd.concat(metrics)\n",
    "\n",
    "max_ratio = cmetrics.groupby(\"reduction_rate\").max()[\"ratio\"]\n",
    "cmetrics = cmetrics[cmetrics.apply(lambda x: x[\"ratio\"]==max_ratio[x[\"reduction_rate\"]], axis=1)]\n",
    "cmetrics = cmetrics.sort_values(\"reduction_rate\", ascending=False)\n",
    "cmetrics.to_csv(\"results/Whitening.csv\")\n",
    "cmetrics"
   ]
  },
  {
   "cell_type": "code",
   "execution_count": null,
   "metadata": {},
   "outputs": [],
   "source": []
  }
 ],
 "metadata": {
  "kernelspec": {
   "display_name": "img_processing",
   "language": "python",
   "name": "img_processing"
  },
  "language_info": {
   "codemirror_mode": {
    "name": "ipython",
    "version": 3
   },
   "file_extension": ".py",
   "mimetype": "text/x-python",
   "name": "python",
   "nbconvert_exporter": "python",
   "pygments_lexer": "ipython3",
   "version": "3.8.12"
  }
 },
 "nbformat": 4,
 "nbformat_minor": 4
}
