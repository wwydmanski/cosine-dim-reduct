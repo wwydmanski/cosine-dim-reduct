{
 "cells": [
  {
   "cell_type": "code",
   "execution_count": 1,
   "metadata": {},
   "outputs": [],
   "source": [
    "from comet_ml import Experiment\n",
    "import torch\n",
    "from sklearn.decomposition import PCA\n",
    "import pandas as pd\n",
    "from sklearn.metrics.pairwise import cosine_similarity\n",
    "from sklearn.model_selection import train_test_split\n",
    "import tqdm\n",
    "import numpy as np\n",
    "from loguru import logger\n",
    "import json\n",
    "import glob"
   ]
  },
  {
   "cell_type": "code",
   "execution_count": 3,
   "metadata": {},
   "outputs": [],
   "source": [
    "import warnings\n",
    "warnings.filterwarnings(\"ignore\")"
   ]
  },
  {
   "cell_type": "code",
   "execution_count": 3,
   "metadata": {},
   "outputs": [],
   "source": [
    "from torch import nn\n",
    "import torch.nn.functional as F"
   ]
  },
  {
   "cell_type": "code",
   "execution_count": 4,
   "metadata": {},
   "outputs": [
    {
     "data": {
      "text/plain": [
       "1"
      ]
     },
     "execution_count": 4,
     "metadata": {},
     "output_type": "execute_result"
    }
   ],
   "source": [
    "logger.remove()\n",
    "logger.add(\"log.txt\")"
   ]
  },
  {
   "cell_type": "code",
   "execution_count": 5,
   "metadata": {},
   "outputs": [],
   "source": [
    "DEVICE = \"cuda:1\""
   ]
  },
  {
   "cell_type": "markdown",
   "metadata": {},
   "source": [
    "## Load models for vector generation"
   ]
  },
  {
   "cell_type": "markdown",
   "metadata": {},
   "source": [
    "## Load data"
   ]
  },
  {
   "cell_type": "markdown",
   "metadata": {},
   "source": [
    "### Read vectors"
   ]
  },
  {
   "cell_type": "code",
   "execution_count": 3,
   "metadata": {},
   "outputs": [],
   "source": [
    "embeddings = np.load(\"data/vectors.npy\")"
   ]
  },
  {
   "cell_type": "code",
   "execution_count": 4,
   "metadata": {},
   "outputs": [
    {
     "name": "stdout",
     "output_type": "stream",
     "text": [
      "(69982, 768)\n",
      "(29993, 768)\n"
     ]
    }
   ],
   "source": [
    "indices = np.arange(embeddings.shape[0]//3)\n",
    "\n",
    "train_idx, test_idx = train_test_split(indices, test_size=0.3, random_state=42)\n",
    "\n",
    "train_data = [embeddings[train_idx*3], embeddings[train_idx*3+1], embeddings[train_idx*3+2]]\n",
    "test_data = [embeddings[test_idx*3], embeddings[test_idx*3+1], embeddings[test_idx*3+2]]\n",
    "\n",
    "print(train_data[0].shape)\n",
    "print(test_data[0].shape)"
   ]
  },
  {
   "cell_type": "markdown",
   "metadata": {},
   "source": [
    "## Measure cosine similarity differences between pos and neg"
   ]
  },
  {
   "cell_type": "code",
   "execution_count": 7,
   "metadata": {},
   "outputs": [],
   "source": [
    "def calculate_metrics(method, data, name, show_pbar=True):\n",
    "    orig_shape = data[0].shape[1]\n",
    "    pos_similarity = []\n",
    "    neg_similarity = []\n",
    "\n",
    "    queue = []\n",
    "    anchors = method(data[0])\n",
    "    positives = method(data[1])\n",
    "    negatives = method(data[2])\n",
    "   \n",
    "    for i in tqdm.trange(len(anchors), disable=not show_pbar):\n",
    "        query, pos, neg = anchors[i], positives[i], negatives[i]\n",
    "        pos_similarity.append(cosine_similarity([query], [pos])[0][0])\n",
    "        neg_similarity.append(cosine_similarity([query], [neg])[0][0])\n",
    "\n",
    "    pos_similarity = np.array(pos_similarity)\n",
    "    neg_similarity = np.array(neg_similarity)\n",
    "    \n",
    "    ratio = np.sum(pos_similarity>neg_similarity)/len(pos_similarity)\n",
    "    mean_diff = pos_similarity.mean()-neg_similarity.mean()\n",
    "    mean_pos_sim = pos_similarity.mean()\n",
    "    \n",
    "    reduction_rate = orig_shape/len(anchors[0])\n",
    "    return pd.DataFrame.from_dict([{\n",
    "                        \"ratio\": ratio,\n",
    "                        \"mean_pos_sim\": mean_pos_sim,\n",
    "                        \"mean_diff\": mean_diff,\n",
    "                        \"method\": name,\n",
    "                        \"reduction_rate\": reduction_rate\n",
    "                    }])"
   ]
  },
  {
   "cell_type": "markdown",
   "metadata": {},
   "source": [
    "## Benchmarks"
   ]
  },
  {
   "cell_type": "code",
   "execution_count": 8,
   "metadata": {},
   "outputs": [],
   "source": []
  },
  {
   "cell_type": "code",
   "execution_count": 9,
   "metadata": {},
   "outputs": [],
   "source": [
    "def validate_method(get_method, test_method):\n",
    "    res = []\n",
    "    for input_dim in tqdm.notebook.tqdm([8, 16, 32, 64, 128, 768]):\n",
    "        for output_dim in tqdm.notebook.tqdm([2, 4, 8, 16, 32, 64, 128]):\n",
    "            if input_dim <= output_dim:\n",
    "                continue\n",
    "\n",
    "            model = get_method(input_dim, output_dim)\n",
    "            res.append(calculate_metrics(test_method(model, input_dim), test_data, f\"PCA ({input_dim}x{output_dim})\", show_pbar=False))\n",
    "    return res\n",
    "\n",
    "def aggregate_metrics(directory=\"results_biobert\"):\n",
    "    dframes = []\n",
    "    for method in glob.glob(f\"{directory}/*.csv\"):\n",
    "        if \"total.csv\" not in method:\n",
    "            dframes.append(pd.read_csv(method))\n",
    "    aggregated = pd.concat(dframes)\n",
    "    aggregated = aggregated.sort_values([\"reduction_rate\", \"ratio\"], ascending=[False, True])\n",
    "    aggregated.to_csv(f\"{directory}/total.csv\")\n",
    "    return aggregated\n",
    "\n",
    "def save_metrics(metrics, fname):\n",
    "    cmetrics = pd.concat(metrics)\n",
    "\n",
    "    max_ratio = cmetrics.groupby(\"reduction_rate\").max()[\"ratio\"]\n",
    "    cmetrics = cmetrics[cmetrics.apply(lambda x: x[\"ratio\"]==max_ratio[x[\"reduction_rate\"]], axis=1)]\n",
    "    cmetrics = cmetrics.sort_values(\"reduction_rate\", ascending=False)\n",
    "    cmetrics.to_csv(f\"results_biobert/{fname}.csv\")\n",
    "\n",
    "    return cmetrics"
   ]
  },
  {
   "cell_type": "markdown",
   "metadata": {},
   "source": [
    "### Baseline"
   ]
  },
  {
   "cell_type": "code",
   "execution_count": 44,
   "metadata": {
    "tags": []
   },
   "outputs": [
    {
     "name": "stderr",
     "output_type": "stream",
     "text": [
      "100%|████████████████████████████████████████████████████████████████████████████████████████████████████████| 29993/29993 [00:09<00:00, 3279.73it/s]\n"
     ]
    }
   ],
   "source": [
    "metrics = []\n",
    "metrics.append(calculate_metrics(lambda x: x, test_data, \"CLS vector\"))"
   ]
  },
  {
   "cell_type": "code",
   "execution_count": 16,
   "metadata": {},
   "outputs": [
    {
     "data": {
      "text/html": [
       "<div>\n",
       "<style scoped>\n",
       "    .dataframe tbody tr th:only-of-type {\n",
       "        vertical-align: middle;\n",
       "    }\n",
       "\n",
       "    .dataframe tbody tr th {\n",
       "        vertical-align: top;\n",
       "    }\n",
       "\n",
       "    .dataframe thead th {\n",
       "        text-align: right;\n",
       "    }\n",
       "</style>\n",
       "<table border=\"1\" class=\"dataframe\">\n",
       "  <thead>\n",
       "    <tr style=\"text-align: right;\">\n",
       "      <th></th>\n",
       "      <th>ratio</th>\n",
       "      <th>mean_pos_sim</th>\n",
       "      <th>mean_diff</th>\n",
       "      <th>method</th>\n",
       "      <th>reduction_rate</th>\n",
       "    </tr>\n",
       "  </thead>\n",
       "  <tbody>\n",
       "    <tr>\n",
       "      <th>0</th>\n",
       "      <td>0.7137</td>\n",
       "      <td>0.461492</td>\n",
       "      <td>0.078354</td>\n",
       "      <td>CLS vector</td>\n",
       "      <td>1.0</td>\n",
       "    </tr>\n",
       "  </tbody>\n",
       "</table>\n",
       "</div>"
      ],
      "text/plain": [
       "    ratio  mean_pos_sim  mean_diff      method  reduction_rate\n",
       "0  0.7137      0.461492   0.078354  CLS vector             1.0"
      ]
     },
     "execution_count": 16,
     "metadata": {},
     "output_type": "execute_result"
    }
   ],
   "source": [
    "save_metrics(metrics, \"baseline\")"
   ]
  },
  {
   "cell_type": "markdown",
   "metadata": {},
   "source": [
    "### Averaging"
   ]
  },
  {
   "cell_type": "code",
   "execution_count": 18,
   "metadata": {},
   "outputs": [],
   "source": [
    "metrics = []"
   ]
  },
  {
   "cell_type": "code",
   "execution_count": 19,
   "metadata": {},
   "outputs": [],
   "source": [
    "def average_vec(dim):\n",
    "    def _inner(embeddings):\n",
    "        x = embeddings.reshape(-1, dim)\n",
    "        x = x.mean(axis=1).reshape(-1, 1)\n",
    "        x = x.reshape(len(embeddings), -1)\n",
    "        x = x/np.sqrt(np.sum(x**2))\n",
    "        return x\n",
    "    return _inner"
   ]
  },
  {
   "cell_type": "code",
   "execution_count": 20,
   "metadata": {
    "tags": []
   },
   "outputs": [
    {
     "name": "stderr",
     "output_type": "stream",
     "text": [
      "100%|███████████████████████████████████████████████████████████████████████████████████████████████████████████████████████████████████████████████████████████████████████████████| 29993/29993 [00:10<00:00, 2913.21it/s]\n",
      "100%|███████████████████████████████████████████████████████████████████████████████████████████████████████████████████████████████████████████████████████████████████████████████| 29993/29993 [00:10<00:00, 2936.89it/s]\n",
      "100%|███████████████████████████████████████████████████████████████████████████████████████████████████████████████████████████████████████████████████████████████████████████████| 29993/29993 [00:10<00:00, 2995.77it/s]\n",
      "100%|███████████████████████████████████████████████████████████████████████████████████████████████████████████████████████████████████████████████████████████████████████████████| 29993/29993 [00:10<00:00, 2994.69it/s]\n",
      "100%|███████████████████████████████████████████████████████████████████████████████████████████████████████████████████████████████████████████████████████████████████████████████| 29993/29993 [00:09<00:00, 2999.38it/s]\n",
      "100%|███████████████████████████████████████████████████████████████████████████████████████████████████████████████████████████████████████████████████████████████████████████████| 29993/29993 [00:09<00:00, 3001.23it/s]\n",
      "100%|███████████████████████████████████████████████████████████████████████████████████████████████████████████████████████████████████████████████████████████████████████████████| 29993/29993 [00:09<00:00, 3002.07it/s]\n",
      "100%|███████████████████████████████████████████████████████████████████████████████████████████████████████████████████████████████████████████████████████████████████████████████| 29993/29993 [00:10<00:00, 2995.65it/s]\n",
      "100%|███████████████████████████████████████████████████████████████████████████████████████████████████████████████████████████████████████████████████████████████████████████████| 29993/29993 [00:10<00:00, 2994.40it/s]\n",
      "100%|███████████████████████████████████████████████████████████████████████████████████████████████████████████████████████████████████████████████████████████████████████████████| 29993/29993 [00:09<00:00, 3005.48it/s]\n",
      "100%|███████████████████████████████████████████████████████████████████████████████████████████████████████████████████████████████████████████████████████████████████████████████| 29993/29993 [00:09<00:00, 3030.94it/s]\n",
      "100%|███████████████████████████████████████████████████████████████████████████████████████████████████████████████████████████████████████████████████████████████████████████████| 29993/29993 [00:09<00:00, 3032.38it/s]\n",
      "100%|███████████████████████████████████████████████████████████████████████████████████████████████████████████████████████████████████████████████████████████████████████████████| 29993/29993 [00:09<00:00, 3033.21it/s]\n"
     ]
    }
   ],
   "source": [
    "for rate in [2, 4, 8, 12, 16, 24, 32, 48, 64, 96, 128, 192, 384]:\n",
    "    method = average_vec(rate)\n",
    "    metrics.append(calculate_metrics(method, test_data, f\"Average parts ({rate})\"))"
   ]
  },
  {
   "cell_type": "code",
   "execution_count": 21,
   "metadata": {},
   "outputs": [
    {
     "data": {
      "text/html": [
       "<div>\n",
       "<style scoped>\n",
       "    .dataframe tbody tr th:only-of-type {\n",
       "        vertical-align: middle;\n",
       "    }\n",
       "\n",
       "    .dataframe tbody tr th {\n",
       "        vertical-align: top;\n",
       "    }\n",
       "\n",
       "    .dataframe thead th {\n",
       "        text-align: right;\n",
       "    }\n",
       "</style>\n",
       "<table border=\"1\" class=\"dataframe\">\n",
       "  <thead>\n",
       "    <tr style=\"text-align: right;\">\n",
       "      <th></th>\n",
       "      <th>Unnamed: 0</th>\n",
       "      <th>ratio</th>\n",
       "      <th>mean_pos_sim</th>\n",
       "      <th>mean_diff</th>\n",
       "      <th>method</th>\n",
       "      <th>reduction_rate</th>\n",
       "    </tr>\n",
       "  </thead>\n",
       "  <tbody>\n",
       "    <tr>\n",
       "      <th>0</th>\n",
       "      <td>0</td>\n",
       "      <td>0.527723</td>\n",
       "      <td>0.759369</td>\n",
       "      <td>0.031587</td>\n",
       "      <td>Average parts (384)</td>\n",
       "      <td>384.0</td>\n",
       "    </tr>\n",
       "    <tr>\n",
       "      <th>1</th>\n",
       "      <td>0</td>\n",
       "      <td>0.548961</td>\n",
       "      <td>0.558271</td>\n",
       "      <td>0.055304</td>\n",
       "      <td>Average parts (192)</td>\n",
       "      <td>192.0</td>\n",
       "    </tr>\n",
       "    <tr>\n",
       "      <th>2</th>\n",
       "      <td>0</td>\n",
       "      <td>0.564165</td>\n",
       "      <td>0.462989</td>\n",
       "      <td>0.063265</td>\n",
       "      <td>Average parts (128)</td>\n",
       "      <td>128.0</td>\n",
       "    </tr>\n",
       "    <tr>\n",
       "      <th>3</th>\n",
       "      <td>0</td>\n",
       "      <td>0.579102</td>\n",
       "      <td>0.451062</td>\n",
       "      <td>0.070158</td>\n",
       "      <td>Average parts (96)</td>\n",
       "      <td>96.0</td>\n",
       "    </tr>\n",
       "    <tr>\n",
       "      <th>4</th>\n",
       "      <td>0</td>\n",
       "      <td>0.599573</td>\n",
       "      <td>0.460109</td>\n",
       "      <td>0.075445</td>\n",
       "      <td>Average parts (64)</td>\n",
       "      <td>64.0</td>\n",
       "    </tr>\n",
       "    <tr>\n",
       "      <th>5</th>\n",
       "      <td>0</td>\n",
       "      <td>0.610876</td>\n",
       "      <td>0.440423</td>\n",
       "      <td>0.076571</td>\n",
       "      <td>Average parts (48)</td>\n",
       "      <td>48.0</td>\n",
       "    </tr>\n",
       "    <tr>\n",
       "      <th>6</th>\n",
       "      <td>0</td>\n",
       "      <td>0.630747</td>\n",
       "      <td>0.446489</td>\n",
       "      <td>0.079458</td>\n",
       "      <td>Average parts (32)</td>\n",
       "      <td>32.0</td>\n",
       "    </tr>\n",
       "    <tr>\n",
       "      <th>7</th>\n",
       "      <td>0</td>\n",
       "      <td>0.644317</td>\n",
       "      <td>0.445943</td>\n",
       "      <td>0.078452</td>\n",
       "      <td>Average parts (24)</td>\n",
       "      <td>24.0</td>\n",
       "    </tr>\n",
       "    <tr>\n",
       "      <th>8</th>\n",
       "      <td>0</td>\n",
       "      <td>0.661854</td>\n",
       "      <td>0.451641</td>\n",
       "      <td>0.078587</td>\n",
       "      <td>Average parts (16)</td>\n",
       "      <td>16.0</td>\n",
       "    </tr>\n",
       "    <tr>\n",
       "      <th>9</th>\n",
       "      <td>0</td>\n",
       "      <td>0.671557</td>\n",
       "      <td>0.456626</td>\n",
       "      <td>0.078192</td>\n",
       "      <td>Average parts (12)</td>\n",
       "      <td>12.0</td>\n",
       "    </tr>\n",
       "    <tr>\n",
       "      <th>10</th>\n",
       "      <td>0</td>\n",
       "      <td>0.686360</td>\n",
       "      <td>0.459334</td>\n",
       "      <td>0.078236</td>\n",
       "      <td>Average parts (8)</td>\n",
       "      <td>8.0</td>\n",
       "    </tr>\n",
       "    <tr>\n",
       "      <th>11</th>\n",
       "      <td>0</td>\n",
       "      <td>0.703431</td>\n",
       "      <td>0.465670</td>\n",
       "      <td>0.077897</td>\n",
       "      <td>Average parts (4)</td>\n",
       "      <td>4.0</td>\n",
       "    </tr>\n",
       "    <tr>\n",
       "      <th>12</th>\n",
       "      <td>0</td>\n",
       "      <td>0.709599</td>\n",
       "      <td>0.460446</td>\n",
       "      <td>0.078406</td>\n",
       "      <td>Average parts (2)</td>\n",
       "      <td>2.0</td>\n",
       "    </tr>\n",
       "    <tr>\n",
       "      <th>0</th>\n",
       "      <td>0</td>\n",
       "      <td>0.713700</td>\n",
       "      <td>0.461492</td>\n",
       "      <td>0.078354</td>\n",
       "      <td>CLS vector</td>\n",
       "      <td>1.0</td>\n",
       "    </tr>\n",
       "  </tbody>\n",
       "</table>\n",
       "</div>"
      ],
      "text/plain": [
       "    Unnamed: 0     ratio  mean_pos_sim  mean_diff               method  \\\n",
       "0            0  0.527723      0.759369   0.031587  Average parts (384)   \n",
       "1            0  0.548961      0.558271   0.055304  Average parts (192)   \n",
       "2            0  0.564165      0.462989   0.063265  Average parts (128)   \n",
       "3            0  0.579102      0.451062   0.070158   Average parts (96)   \n",
       "4            0  0.599573      0.460109   0.075445   Average parts (64)   \n",
       "5            0  0.610876      0.440423   0.076571   Average parts (48)   \n",
       "6            0  0.630747      0.446489   0.079458   Average parts (32)   \n",
       "7            0  0.644317      0.445943   0.078452   Average parts (24)   \n",
       "8            0  0.661854      0.451641   0.078587   Average parts (16)   \n",
       "9            0  0.671557      0.456626   0.078192   Average parts (12)   \n",
       "10           0  0.686360      0.459334   0.078236    Average parts (8)   \n",
       "11           0  0.703431      0.465670   0.077897    Average parts (4)   \n",
       "12           0  0.709599      0.460446   0.078406    Average parts (2)   \n",
       "0            0  0.713700      0.461492   0.078354           CLS vector   \n",
       "\n",
       "    reduction_rate  \n",
       "0            384.0  \n",
       "1            192.0  \n",
       "2            128.0  \n",
       "3             96.0  \n",
       "4             64.0  \n",
       "5             48.0  \n",
       "6             32.0  \n",
       "7             24.0  \n",
       "8             16.0  \n",
       "9             12.0  \n",
       "10             8.0  \n",
       "11             4.0  \n",
       "12             2.0  \n",
       "0              1.0  "
      ]
     },
     "execution_count": 21,
     "metadata": {},
     "output_type": "execute_result"
    }
   ],
   "source": [
    "res = save_metrics(metrics, \"averaging\")\n",
    "aggregate_metrics()"
   ]
  },
  {
   "cell_type": "markdown",
   "metadata": {},
   "source": [
    "### Summing"
   ]
  },
  {
   "cell_type": "code",
   "execution_count": 66,
   "metadata": {},
   "outputs": [],
   "source": [
    "metrics = []\n",
    "def average_vec(dim):\n",
    "    def _inner(embeddings):\n",
    "        embeddings = embeddings/embeddings.sum(axis=1)[:, None]\n",
    "        x = embeddings.reshape(-1, dim)\n",
    "        x = x.sum(axis=1).reshape(-1, 1)\n",
    "        x = x.reshape(len(embeddings), -1)\n",
    "        return x\n",
    "    return _inner"
   ]
  },
  {
   "cell_type": "code",
   "execution_count": 64,
   "metadata": {
    "tags": []
   },
   "outputs": [
    {
     "name": "stderr",
     "output_type": "stream",
     "text": [
      "100%|█████████████████████████████████████████████████████████████████████████████████████████████████████████████████████████████████████████████████████████████████| 29993/29993 [00:10<00:00, 2838.00it/s]\n",
      "100%|█████████████████████████████████████████████████████████████████████████████████████████████████████████████████████████████████████████████████████████████████| 29993/29993 [00:10<00:00, 2833.88it/s]\n",
      "100%|█████████████████████████████████████████████████████████████████████████████████████████████████████████████████████████████████████████████████████████████████| 29993/29993 [00:10<00:00, 2840.09it/s]\n",
      "100%|█████████████████████████████████████████████████████████████████████████████████████████████████████████████████████████████████████████████████████████████████| 29993/29993 [00:10<00:00, 2841.37it/s]\n",
      "100%|█████████████████████████████████████████████████████████████████████████████████████████████████████████████████████████████████████████████████████████████████| 29993/29993 [00:10<00:00, 2821.08it/s]\n",
      "100%|█████████████████████████████████████████████████████████████████████████████████████████████████████████████████████████████████████████████████████████████████| 29993/29993 [00:10<00:00, 2836.62it/s]\n",
      "100%|█████████████████████████████████████████████████████████████████████████████████████████████████████████████████████████████████████████████████████████████████| 29993/29993 [00:10<00:00, 2825.10it/s]\n",
      "100%|█████████████████████████████████████████████████████████████████████████████████████████████████████████████████████████████████████████████████████████████████| 29993/29993 [00:10<00:00, 2816.36it/s]\n",
      "100%|█████████████████████████████████████████████████████████████████████████████████████████████████████████████████████████████████████████████████████████████████| 29993/29993 [00:10<00:00, 2801.18it/s]\n",
      "100%|█████████████████████████████████████████████████████████████████████████████████████████████████████████████████████████████████████████████████████████████████| 29993/29993 [00:10<00:00, 2793.63it/s]\n",
      "100%|█████████████████████████████████████████████████████████████████████████████████████████████████████████████████████████████████████████████████████████████████| 29993/29993 [00:10<00:00, 2814.50it/s]\n",
      "100%|█████████████████████████████████████████████████████████████████████████████████████████████████████████████████████████████████████████████████████████████████| 29993/29993 [00:10<00:00, 2807.76it/s]\n",
      "100%|█████████████████████████████████████████████████████████████████████████████████████████████████████████████████████████████████████████████████████████████████| 29993/29993 [00:10<00:00, 2829.99it/s]\n"
     ]
    }
   ],
   "source": [
    "for rate in [2, 4, 8, 12, 16, 24, 32, 48, 64, 96, 128, 192, 384]:\n",
    "    method = average_vec(rate)\n",
    "    metrics.append(calculate_metrics(method, test_data, f\"Sum parts ({rate})\"))"
   ]
  },
  {
   "cell_type": "code",
   "execution_count": 65,
   "metadata": {},
   "outputs": [
    {
     "data": {
      "text/html": [
       "<div>\n",
       "<style scoped>\n",
       "    .dataframe tbody tr th:only-of-type {\n",
       "        vertical-align: middle;\n",
       "    }\n",
       "\n",
       "    .dataframe tbody tr th {\n",
       "        vertical-align: top;\n",
       "    }\n",
       "\n",
       "    .dataframe thead th {\n",
       "        text-align: right;\n",
       "    }\n",
       "</style>\n",
       "<table border=\"1\" class=\"dataframe\">\n",
       "  <thead>\n",
       "    <tr style=\"text-align: right;\">\n",
       "      <th></th>\n",
       "      <th>Unnamed: 0</th>\n",
       "      <th>ratio</th>\n",
       "      <th>mean_pos_sim</th>\n",
       "      <th>mean_diff</th>\n",
       "      <th>method</th>\n",
       "      <th>reduction_rate</th>\n",
       "      <th>Unnamed: 0.1</th>\n",
       "    </tr>\n",
       "  </thead>\n",
       "  <tbody>\n",
       "    <tr>\n",
       "      <th>0</th>\n",
       "      <td>0</td>\n",
       "      <td>0.000000</td>\n",
       "      <td>1.000000</td>\n",
       "      <td>0.000000</td>\n",
       "      <td>Autoencoder (768x1)</td>\n",
       "      <td>768.000000</td>\n",
       "      <td>0.0</td>\n",
       "    </tr>\n",
       "    <tr>\n",
       "      <th>0</th>\n",
       "      <td>0</td>\n",
       "      <td>0.141166</td>\n",
       "      <td>0.730871</td>\n",
       "      <td>0.135898</td>\n",
       "      <td>Whitening (768x1)</td>\n",
       "      <td>768.000000</td>\n",
       "      <td>NaN</td>\n",
       "    </tr>\n",
       "    <tr>\n",
       "      <th>0</th>\n",
       "      <td>0</td>\n",
       "      <td>0.143567</td>\n",
       "      <td>0.732938</td>\n",
       "      <td>0.137099</td>\n",
       "      <td>PCA (768x1)</td>\n",
       "      <td>768.000000</td>\n",
       "      <td>NaN</td>\n",
       "    </tr>\n",
       "    <tr>\n",
       "      <th>0</th>\n",
       "      <td>0</td>\n",
       "      <td>0.163105</td>\n",
       "      <td>0.399593</td>\n",
       "      <td>0.023772</td>\n",
       "      <td>UMAP (768x1)</td>\n",
       "      <td>768.000000</td>\n",
       "      <td>NaN</td>\n",
       "    </tr>\n",
       "    <tr>\n",
       "      <th>0</th>\n",
       "      <td>0</td>\n",
       "      <td>0.525589</td>\n",
       "      <td>0.190101</td>\n",
       "      <td>0.066344</td>\n",
       "      <td>Sum parts (384)</td>\n",
       "      <td>384.000000</td>\n",
       "      <td>NaN</td>\n",
       "    </tr>\n",
       "    <tr>\n",
       "      <th>...</th>\n",
       "      <td>...</td>\n",
       "      <td>...</td>\n",
       "      <td>...</td>\n",
       "      <td>...</td>\n",
       "      <td>...</td>\n",
       "      <td>...</td>\n",
       "      <td>...</td>\n",
       "    </tr>\n",
       "    <tr>\n",
       "      <th>12</th>\n",
       "      <td>0</td>\n",
       "      <td>0.964125</td>\n",
       "      <td>0.733570</td>\n",
       "      <td>0.229238</td>\n",
       "      <td>Average parts (2)</td>\n",
       "      <td>2.000000</td>\n",
       "      <td>NaN</td>\n",
       "    </tr>\n",
       "    <tr>\n",
       "      <th>19</th>\n",
       "      <td>0</td>\n",
       "      <td>0.965759</td>\n",
       "      <td>0.732612</td>\n",
       "      <td>0.226916</td>\n",
       "      <td>Whitening (64x32)</td>\n",
       "      <td>2.000000</td>\n",
       "      <td>NaN</td>\n",
       "    </tr>\n",
       "    <tr>\n",
       "      <th>15</th>\n",
       "      <td>0</td>\n",
       "      <td>0.965992</td>\n",
       "      <td>0.735349</td>\n",
       "      <td>0.226656</td>\n",
       "      <td>PCA (64x32)</td>\n",
       "      <td>2.000000</td>\n",
       "      <td>NaN</td>\n",
       "    </tr>\n",
       "    <tr>\n",
       "      <th>20</th>\n",
       "      <td>0</td>\n",
       "      <td>0.967392</td>\n",
       "      <td>0.734172</td>\n",
       "      <td>0.227783</td>\n",
       "      <td>Whitening (96x64)</td>\n",
       "      <td>1.500000</td>\n",
       "      <td>NaN</td>\n",
       "    </tr>\n",
       "    <tr>\n",
       "      <th>21</th>\n",
       "      <td>0</td>\n",
       "      <td>0.967126</td>\n",
       "      <td>0.733070</td>\n",
       "      <td>0.228542</td>\n",
       "      <td>Whitening (128x96)</td>\n",
       "      <td>1.333333</td>\n",
       "      <td>NaN</td>\n",
       "    </tr>\n",
       "  </tbody>\n",
       "</table>\n",
       "<p>123 rows × 7 columns</p>\n",
       "</div>"
      ],
      "text/plain": [
       "    Unnamed: 0     ratio  mean_pos_sim  mean_diff               method  \\\n",
       "0            0  0.000000      1.000000   0.000000  Autoencoder (768x1)   \n",
       "0            0  0.141166      0.730871   0.135898    Whitening (768x1)   \n",
       "0            0  0.143567      0.732938   0.137099          PCA (768x1)   \n",
       "0            0  0.163105      0.399593   0.023772         UMAP (768x1)   \n",
       "0            0  0.525589      0.190101   0.066344      Sum parts (384)   \n",
       "..         ...       ...           ...        ...                  ...   \n",
       "12           0  0.964125      0.733570   0.229238    Average parts (2)   \n",
       "19           0  0.965759      0.732612   0.226916    Whitening (64x32)   \n",
       "15           0  0.965992      0.735349   0.226656          PCA (64x32)   \n",
       "20           0  0.967392      0.734172   0.227783    Whitening (96x64)   \n",
       "21           0  0.967126      0.733070   0.228542   Whitening (128x96)   \n",
       "\n",
       "    reduction_rate  Unnamed: 0.1  \n",
       "0       768.000000           0.0  \n",
       "0       768.000000           NaN  \n",
       "0       768.000000           NaN  \n",
       "0       768.000000           NaN  \n",
       "0       384.000000           NaN  \n",
       "..             ...           ...  \n",
       "12        2.000000           NaN  \n",
       "19        2.000000           NaN  \n",
       "15        2.000000           NaN  \n",
       "20        1.500000           NaN  \n",
       "21        1.333333           NaN  \n",
       "\n",
       "[123 rows x 7 columns]"
      ]
     },
     "execution_count": 65,
     "metadata": {},
     "output_type": "execute_result"
    }
   ],
   "source": [
    "res = save_metrics(metrics, \"sums\")\n",
    "aggregate_metrics()"
   ]
  },
  {
   "cell_type": "markdown",
   "metadata": {},
   "source": [
    "### Generic autoencoder"
   ]
  },
  {
   "cell_type": "code",
   "execution_count": 103,
   "metadata": {},
   "outputs": [],
   "source": [
    "DEVICE = \"cpu\"\n",
    "\n",
    "class Autoencoder(nn.Module):\n",
    "    def __init__(self, input_dim, output_dim):\n",
    "        super().__init__()\n",
    "        self.encoder = nn.Sequential(\n",
    "                    nn.Linear(input_dim, 64),\n",
    "                    nn.ReLU(),\n",
    "                    nn.Linear(64, output_dim),\n",
    "            )\n",
    "        self.decoder = nn.Sequential(\n",
    "                    nn.Linear(output_dim, 64),\n",
    "                    nn.ReLU(),\n",
    "                    nn.Linear(64, input_dim)\n",
    "            )\n",
    "    \n",
    "    def forward(self, x):\n",
    "        x = self.encoder(x)\n",
    "        x = F.normalize(x)\n",
    "        x = self.decoder(x)\n",
    "        x = F.normalize(x)\n",
    "        return x\n",
    "    \n",
    "    def encode(self, x):\n",
    "        x = self.encoder(x)\n",
    "        x = F.normalize(x)\n",
    "        return x\n",
    "    \n",
    "def test_autoenc(model, dim):\n",
    "    def _inner(embeddings):\n",
    "        x = embeddings.reshape(-1, dim)\n",
    "        x = torch.from_numpy(x).to(torch.float32).to(DEVICE)\n",
    "        x = model.encode(x).cpu().detach().numpy()\n",
    "        x = x.reshape(len(embeddings), -1)\n",
    "        return x\n",
    "    return _inner"
   ]
  },
  {
   "cell_type": "code",
   "execution_count": 104,
   "metadata": {},
   "outputs": [],
   "source": [
    "# data = torch.tensor(train_data).reshape(-1, 768).to(DEVICE)\n",
    "# train_loader = torch.utils.data.DataLoader(data.to(torch.float32), batch_size=32, shuffle=True)\n",
    "\n",
    "batch_size = 32\n",
    "\n",
    "hinge_margin = torch.tensor(0)\n",
    "gamma = 1\n",
    "def var_loss(x):\n",
    "    var = torch.sqrt(x.var(0)+1e-6)\n",
    "    loss = torch.maximum(hinge_margin, gamma-var).mean()\n",
    "    return loss\n",
    "\n",
    "def train_autoenc(model, dim, criterion, epochs=1, params={}):\n",
    "    optim = torch.optim.Adam(model.parameters(), 3e-4)\n",
    "    \n",
    "    for epoch in range(1, epochs+1):\n",
    "        with tqdm.notebook.tqdm(train_loader) as t:\n",
    "            total_loss = []\n",
    "            \n",
    "            for step, batch in enumerate(t):\n",
    "                x = batch.reshape(-1, dim)\n",
    "                batch_loss = []\n",
    "                for idx in range(0, len(x), batch_size):\n",
    "                    minibatch = x[idx:idx+batch_size]\n",
    "\n",
    "                    optim.zero_grad()\n",
    "                    \n",
    "                    encoded = model.encoder(minibatch)\n",
    "                    encoded = F.normalize(encoded)\n",
    "                    y_hat = model.decoder(encoded)\n",
    "                    y_hat = F.normalize(y_hat)\n",
    "                    \n",
    "                    # y_hat = model(minibatch)\n",
    "                    loss = criterion(minibatch, y_hat)\n",
    "                    loss += var_loss(encoded)\n",
    "                    \n",
    "                    loss.backward()\n",
    "                    optim.step()"
   ]
  },
  {
   "cell_type": "code",
   "execution_count": 105,
   "metadata": {},
   "outputs": [],
   "source": [
    "metrics = []"
   ]
  },
  {
   "cell_type": "code",
   "execution_count": 113,
   "metadata": {
    "tags": []
   },
   "outputs": [
    {
     "data": {
      "application/vnd.jupyter.widget-view+json": {
       "model_id": "2fb48f865bfd44eea9aab49f9eb26c9d",
       "version_major": 2,
       "version_minor": 0
      },
      "text/plain": [
       "  0%|          | 0/6561 [00:00<?, ?it/s]"
      ]
     },
     "metadata": {},
     "output_type": "display_data"
    },
    {
     "data": {
      "application/vnd.jupyter.widget-view+json": {
       "model_id": "506f3390df054bf2aa19a8a3cafec97e",
       "version_major": 2,
       "version_minor": 0
      },
      "text/plain": [
       "  0%|          | 0/6561 [00:00<?, ?it/s]"
      ]
     },
     "metadata": {},
     "output_type": "display_data"
    },
    {
     "data": {
      "application/vnd.jupyter.widget-view+json": {
       "model_id": "226ec438d6fc463987bb8cb750f2cd50",
       "version_major": 2,
       "version_minor": 0
      },
      "text/plain": [
       "  0%|          | 0/6561 [00:00<?, ?it/s]"
      ]
     },
     "metadata": {},
     "output_type": "display_data"
    },
    {
     "data": {
      "application/vnd.jupyter.widget-view+json": {
       "model_id": "5bc0dff2c7a0471a999ec8e057c28577",
       "version_major": 2,
       "version_minor": 0
      },
      "text/plain": [
       "  0%|          | 0/6561 [00:00<?, ?it/s]"
      ]
     },
     "metadata": {},
     "output_type": "display_data"
    },
    {
     "data": {
      "application/vnd.jupyter.widget-view+json": {
       "model_id": "d882fc5d055f421a8e512c9b7ca8be81",
       "version_major": 2,
       "version_minor": 0
      },
      "text/plain": [
       "  0%|          | 0/6561 [00:00<?, ?it/s]"
      ]
     },
     "metadata": {},
     "output_type": "display_data"
    },
    {
     "data": {
      "application/vnd.jupyter.widget-view+json": {
       "model_id": "3fddf227999847158180b8e5fbb33b57",
       "version_major": 2,
       "version_minor": 0
      },
      "text/plain": [
       "  0%|          | 0/6561 [00:00<?, ?it/s]"
      ]
     },
     "metadata": {},
     "output_type": "display_data"
    },
    {
     "data": {
      "application/vnd.jupyter.widget-view+json": {
       "model_id": "9b354b9da84b4150bd67f14875269d62",
       "version_major": 2,
       "version_minor": 0
      },
      "text/plain": [
       "  0%|          | 0/6561 [00:00<?, ?it/s]"
      ]
     },
     "metadata": {},
     "output_type": "display_data"
    },
    {
     "data": {
      "application/vnd.jupyter.widget-view+json": {
       "model_id": "d6ccfe46ea104f6a917d162514bc8da1",
       "version_major": 2,
       "version_minor": 0
      },
      "text/plain": [
       "  0%|          | 0/6561 [00:00<?, ?it/s]"
      ]
     },
     "metadata": {},
     "output_type": "display_data"
    },
    {
     "data": {
      "application/vnd.jupyter.widget-view+json": {
       "model_id": "228f84455a3e46f89517b9ae2eaf4cf4",
       "version_major": 2,
       "version_minor": 0
      },
      "text/plain": [
       "  0%|          | 0/6561 [00:00<?, ?it/s]"
      ]
     },
     "metadata": {},
     "output_type": "display_data"
    },
    {
     "data": {
      "application/vnd.jupyter.widget-view+json": {
       "model_id": "9e91b5a23c424861974dbab44116b04d",
       "version_major": 2,
       "version_minor": 0
      },
      "text/plain": [
       "  0%|          | 0/6561 [00:00<?, ?it/s]"
      ]
     },
     "metadata": {},
     "output_type": "display_data"
    },
    {
     "data": {
      "application/vnd.jupyter.widget-view+json": {
       "model_id": "a10ad8c3e91a488bae23f0200a1590e2",
       "version_major": 2,
       "version_minor": 0
      },
      "text/plain": [
       "  0%|          | 0/6561 [00:00<?, ?it/s]"
      ]
     },
     "metadata": {},
     "output_type": "display_data"
    },
    {
     "data": {
      "application/vnd.jupyter.widget-view+json": {
       "model_id": "15988b470cfa4912b2f3abd0e0ea1b2f",
       "version_major": 2,
       "version_minor": 0
      },
      "text/plain": [
       "  0%|          | 0/6561 [00:00<?, ?it/s]"
      ]
     },
     "metadata": {},
     "output_type": "display_data"
    },
    {
     "data": {
      "application/vnd.jupyter.widget-view+json": {
       "model_id": "f04b227914ef4b5cb6dd87a26f4bd13e",
       "version_major": 2,
       "version_minor": 0
      },
      "text/plain": [
       "  0%|          | 0/6561 [00:00<?, ?it/s]"
      ]
     },
     "metadata": {},
     "output_type": "display_data"
    },
    {
     "data": {
      "application/vnd.jupyter.widget-view+json": {
       "model_id": "bdc6c01548ae4cbba8be04ba279aedc7",
       "version_major": 2,
       "version_minor": 0
      },
      "text/plain": [
       "  0%|          | 0/6561 [00:00<?, ?it/s]"
      ]
     },
     "metadata": {},
     "output_type": "display_data"
    },
    {
     "data": {
      "application/vnd.jupyter.widget-view+json": {
       "model_id": "d056e355b58c4f53a23010b8fcd595b4",
       "version_major": 2,
       "version_minor": 0
      },
      "text/plain": [
       "  0%|          | 0/6561 [00:00<?, ?it/s]"
      ]
     },
     "metadata": {},
     "output_type": "display_data"
    },
    {
     "data": {
      "application/vnd.jupyter.widget-view+json": {
       "model_id": "276b30d7e19146db9f642ad6d33b3af2",
       "version_major": 2,
       "version_minor": 0
      },
      "text/plain": [
       "  0%|          | 0/6561 [00:00<?, ?it/s]"
      ]
     },
     "metadata": {},
     "output_type": "display_data"
    },
    {
     "data": {
      "application/vnd.jupyter.widget-view+json": {
       "model_id": "43c5486896a24b22944fa31cf0685d5b",
       "version_major": 2,
       "version_minor": 0
      },
      "text/plain": [
       "  0%|          | 0/6561 [00:00<?, ?it/s]"
      ]
     },
     "metadata": {},
     "output_type": "display_data"
    },
    {
     "data": {
      "application/vnd.jupyter.widget-view+json": {
       "model_id": "966d211e37df41d980a8f0b054e402b9",
       "version_major": 2,
       "version_minor": 0
      },
      "text/plain": [
       "  0%|          | 0/6561 [00:00<?, ?it/s]"
      ]
     },
     "metadata": {},
     "output_type": "display_data"
    },
    {
     "data": {
      "application/vnd.jupyter.widget-view+json": {
       "model_id": "fec8516af5a942c082f5bf7d99092ed2",
       "version_major": 2,
       "version_minor": 0
      },
      "text/plain": [
       "  0%|          | 0/6561 [00:00<?, ?it/s]"
      ]
     },
     "metadata": {},
     "output_type": "display_data"
    },
    {
     "data": {
      "application/vnd.jupyter.widget-view+json": {
       "model_id": "4560bba46a484587aa4e939e134e9819",
       "version_major": 2,
       "version_minor": 0
      },
      "text/plain": [
       "  0%|          | 0/6561 [00:00<?, ?it/s]"
      ]
     },
     "metadata": {},
     "output_type": "display_data"
    },
    {
     "data": {
      "application/vnd.jupyter.widget-view+json": {
       "model_id": "c0824904a8f744aa964afd6cec4e32cb",
       "version_major": 2,
       "version_minor": 0
      },
      "text/plain": [
       "  0%|          | 0/6561 [00:00<?, ?it/s]"
      ]
     },
     "metadata": {},
     "output_type": "display_data"
    },
    {
     "data": {
      "application/vnd.jupyter.widget-view+json": {
       "model_id": "7e4fe48adb3c4de0961c1ad6b5c8ce2f",
       "version_major": 2,
       "version_minor": 0
      },
      "text/plain": [
       "  0%|          | 0/6561 [00:00<?, ?it/s]"
      ]
     },
     "metadata": {},
     "output_type": "display_data"
    },
    {
     "data": {
      "application/vnd.jupyter.widget-view+json": {
       "model_id": "2088f8d59a2747c18344ce29a8dd349a",
       "version_major": 2,
       "version_minor": 0
      },
      "text/plain": [
       "  0%|          | 0/6561 [00:00<?, ?it/s]"
      ]
     },
     "metadata": {},
     "output_type": "display_data"
    },
    {
     "data": {
      "application/vnd.jupyter.widget-view+json": {
       "model_id": "88384364b9234215bd78f7be7dc9817f",
       "version_major": 2,
       "version_minor": 0
      },
      "text/plain": [
       "  0%|          | 0/6561 [00:00<?, ?it/s]"
      ]
     },
     "metadata": {},
     "output_type": "display_data"
    },
    {
     "data": {
      "application/vnd.jupyter.widget-view+json": {
       "model_id": "287eb5cd55a94d23b70c67f3c525f5df",
       "version_major": 2,
       "version_minor": 0
      },
      "text/plain": [
       "  0%|          | 0/6561 [00:00<?, ?it/s]"
      ]
     },
     "metadata": {},
     "output_type": "display_data"
    },
    {
     "data": {
      "application/vnd.jupyter.widget-view+json": {
       "model_id": "2d13cf31c69b40c292ebfee0310e1ceb",
       "version_major": 2,
       "version_minor": 0
      },
      "text/plain": [
       "  0%|          | 0/6561 [00:00<?, ?it/s]"
      ]
     },
     "metadata": {},
     "output_type": "display_data"
    },
    {
     "data": {
      "application/vnd.jupyter.widget-view+json": {
       "model_id": "5ad9cb0aee08431c9754439e97a4e134",
       "version_major": 2,
       "version_minor": 0
      },
      "text/plain": [
       "  0%|          | 0/6561 [00:00<?, ?it/s]"
      ]
     },
     "metadata": {},
     "output_type": "display_data"
    },
    {
     "data": {
      "application/vnd.jupyter.widget-view+json": {
       "model_id": "9a9b82b3134b4385a06bfecaa498a83c",
       "version_major": 2,
       "version_minor": 0
      },
      "text/plain": [
       "  0%|          | 0/6561 [00:00<?, ?it/s]"
      ]
     },
     "metadata": {},
     "output_type": "display_data"
    },
    {
     "data": {
      "application/vnd.jupyter.widget-view+json": {
       "model_id": "64a001fd64084220be98d798d717cf6f",
       "version_major": 2,
       "version_minor": 0
      },
      "text/plain": [
       "  0%|          | 0/6561 [00:00<?, ?it/s]"
      ]
     },
     "metadata": {},
     "output_type": "display_data"
    },
    {
     "data": {
      "application/vnd.jupyter.widget-view+json": {
       "model_id": "1e4015484c594d42a580a0598d0cf023",
       "version_major": 2,
       "version_minor": 0
      },
      "text/plain": [
       "  0%|          | 0/6561 [00:00<?, ?it/s]"
      ]
     },
     "metadata": {},
     "output_type": "display_data"
    },
    {
     "data": {
      "application/vnd.jupyter.widget-view+json": {
       "model_id": "2b2d425a51db45e796f1459ad53fbe81",
       "version_major": 2,
       "version_minor": 0
      },
      "text/plain": [
       "  0%|          | 0/6561 [00:00<?, ?it/s]"
      ]
     },
     "metadata": {},
     "output_type": "display_data"
    },
    {
     "data": {
      "application/vnd.jupyter.widget-view+json": {
       "model_id": "bd3b42bd05ae411886f86889b0eb3032",
       "version_major": 2,
       "version_minor": 0
      },
      "text/plain": [
       "  0%|          | 0/6561 [00:00<?, ?it/s]"
      ]
     },
     "metadata": {},
     "output_type": "display_data"
    },
    {
     "data": {
      "application/vnd.jupyter.widget-view+json": {
       "model_id": "e78d784afa4041a6b82c64e74cecb225",
       "version_major": 2,
       "version_minor": 0
      },
      "text/plain": [
       "  0%|          | 0/6561 [00:00<?, ?it/s]"
      ]
     },
     "metadata": {},
     "output_type": "display_data"
    },
    {
     "data": {
      "application/vnd.jupyter.widget-view+json": {
       "model_id": "280f231adf1a4183b4035cd124e68c0f",
       "version_major": 2,
       "version_minor": 0
      },
      "text/plain": [
       "  0%|          | 0/6561 [00:00<?, ?it/s]"
      ]
     },
     "metadata": {},
     "output_type": "display_data"
    },
    {
     "data": {
      "application/vnd.jupyter.widget-view+json": {
       "model_id": "d4485b7905ea4d95a706bf22a121f162",
       "version_major": 2,
       "version_minor": 0
      },
      "text/plain": [
       "  0%|          | 0/6561 [00:00<?, ?it/s]"
      ]
     },
     "metadata": {},
     "output_type": "display_data"
    },
    {
     "data": {
      "application/vnd.jupyter.widget-view+json": {
       "model_id": "4bef78c018884075ad934100fb1e5bf3",
       "version_major": 2,
       "version_minor": 0
      },
      "text/plain": [
       "  0%|          | 0/6561 [00:00<?, ?it/s]"
      ]
     },
     "metadata": {},
     "output_type": "display_data"
    },
    {
     "data": {
      "application/vnd.jupyter.widget-view+json": {
       "model_id": "0ff4277ec4b545c4b34a365937ca3f33",
       "version_major": 2,
       "version_minor": 0
      },
      "text/plain": [
       "  0%|          | 0/6561 [00:00<?, ?it/s]"
      ]
     },
     "metadata": {},
     "output_type": "display_data"
    },
    {
     "data": {
      "application/vnd.jupyter.widget-view+json": {
       "model_id": "a994efc306264f13818e3aee4e1e5e35",
       "version_major": 2,
       "version_minor": 0
      },
      "text/plain": [
       "  0%|          | 0/6561 [00:00<?, ?it/s]"
      ]
     },
     "metadata": {},
     "output_type": "display_data"
    },
    {
     "data": {
      "application/vnd.jupyter.widget-view+json": {
       "model_id": "822980bbd449492c83e89950d4641349",
       "version_major": 2,
       "version_minor": 0
      },
      "text/plain": [
       "  0%|          | 0/6561 [00:00<?, ?it/s]"
      ]
     },
     "metadata": {},
     "output_type": "display_data"
    },
    {
     "data": {
      "application/vnd.jupyter.widget-view+json": {
       "model_id": "384e9eee0c514aa2affd4525c88ffe66",
       "version_major": 2,
       "version_minor": 0
      },
      "text/plain": [
       "  0%|          | 0/6561 [00:00<?, ?it/s]"
      ]
     },
     "metadata": {},
     "output_type": "display_data"
    },
    {
     "data": {
      "application/vnd.jupyter.widget-view+json": {
       "model_id": "769ee78a3c904b71b06eef8c2e7ff996",
       "version_major": 2,
       "version_minor": 0
      },
      "text/plain": [
       "  0%|          | 0/6561 [00:00<?, ?it/s]"
      ]
     },
     "metadata": {},
     "output_type": "display_data"
    },
    {
     "data": {
      "application/vnd.jupyter.widget-view+json": {
       "model_id": "7197117654244ef4909761ad47c9cc00",
       "version_major": 2,
       "version_minor": 0
      },
      "text/plain": [
       "  0%|          | 0/6561 [00:00<?, ?it/s]"
      ]
     },
     "metadata": {},
     "output_type": "display_data"
    },
    {
     "name": "stderr",
     "output_type": "stream",
     "text": [
      "IOPub message rate exceeded.\n",
      "The Jupyter server will temporarily stop sending output\n",
      "to the client in order to avoid crashing it.\n",
      "To change this limit, set the config variable\n",
      "`--ServerApp.iopub_msg_rate_limit`.\n",
      "\n",
      "Current values:\n",
      "ServerApp.iopub_msg_rate_limit=1000.0 (msgs/sec)\n",
      "ServerApp.rate_limit_window=3.0 (secs)\n",
      "\n"
     ]
    },
    {
     "data": {
      "application/vnd.jupyter.widget-view+json": {
       "model_id": "4584ca65ed85426e961bf6895b438535",
       "version_major": 2,
       "version_minor": 0
      },
      "text/plain": [
       "  0%|          | 0/6561 [00:00<?, ?it/s]"
      ]
     },
     "metadata": {},
     "output_type": "display_data"
    },
    {
     "data": {
      "application/vnd.jupyter.widget-view+json": {
       "model_id": "4384d5276929467bbda331a972818063",
       "version_major": 2,
       "version_minor": 0
      },
      "text/plain": [
       "  0%|          | 0/6561 [00:00<?, ?it/s]"
      ]
     },
     "metadata": {},
     "output_type": "display_data"
    },
    {
     "data": {
      "application/vnd.jupyter.widget-view+json": {
       "model_id": "029a916587f7417cb7b6bce027453aa5",
       "version_major": 2,
       "version_minor": 0
      },
      "text/plain": [
       "  0%|          | 0/6561 [00:00<?, ?it/s]"
      ]
     },
     "metadata": {},
     "output_type": "display_data"
    },
    {
     "data": {
      "application/vnd.jupyter.widget-view+json": {
       "model_id": "1126bb62de6446a5a90de11e8e9a2cae",
       "version_major": 2,
       "version_minor": 0
      },
      "text/plain": [
       "  0%|          | 0/6561 [00:00<?, ?it/s]"
      ]
     },
     "metadata": {},
     "output_type": "display_data"
    },
    {
     "data": {
      "application/vnd.jupyter.widget-view+json": {
       "model_id": "66066ddc9347488a981439d626460a02",
       "version_major": 2,
       "version_minor": 0
      },
      "text/plain": [
       "  0%|          | 0/6561 [00:00<?, ?it/s]"
      ]
     },
     "metadata": {},
     "output_type": "display_data"
    },
    {
     "data": {
      "application/vnd.jupyter.widget-view+json": {
       "model_id": "6fc0e37005aa491ba6bf25ea53588487",
       "version_major": 2,
       "version_minor": 0
      },
      "text/plain": [
       "  0%|          | 0/6561 [00:00<?, ?it/s]"
      ]
     },
     "metadata": {},
     "output_type": "display_data"
    },
    {
     "data": {
      "application/vnd.jupyter.widget-view+json": {
       "model_id": "4b21a3e84ebc466aadad50bec59cc2c5",
       "version_major": 2,
       "version_minor": 0
      },
      "text/plain": [
       "  0%|          | 0/6561 [00:00<?, ?it/s]"
      ]
     },
     "metadata": {},
     "output_type": "display_data"
    },
    {
     "data": {
      "application/vnd.jupyter.widget-view+json": {
       "model_id": "8495c3a501ed4fc6b273e8b01a818398",
       "version_major": 2,
       "version_minor": 0
      },
      "text/plain": [
       "  0%|          | 0/6561 [00:00<?, ?it/s]"
      ]
     },
     "metadata": {},
     "output_type": "display_data"
    },
    {
     "name": "stderr",
     "output_type": "stream",
     "text": [
      "IOPub message rate exceeded.\n",
      "The Jupyter server will temporarily stop sending output\n",
      "to the client in order to avoid crashing it.\n",
      "To change this limit, set the config variable\n",
      "`--ServerApp.iopub_msg_rate_limit`.\n",
      "\n",
      "Current values:\n",
      "ServerApp.iopub_msg_rate_limit=1000.0 (msgs/sec)\n",
      "ServerApp.rate_limit_window=3.0 (secs)\n",
      "\n"
     ]
    },
    {
     "data": {
      "application/vnd.jupyter.widget-view+json": {
       "model_id": "eadba3a305c5431d80d65f13004a4630",
       "version_major": 2,
       "version_minor": 0
      },
      "text/plain": [
       "  0%|          | 0/6561 [00:00<?, ?it/s]"
      ]
     },
     "metadata": {},
     "output_type": "display_data"
    },
    {
     "data": {
      "application/vnd.jupyter.widget-view+json": {
       "model_id": "576a649ba25847558aa7d20f265364be",
       "version_major": 2,
       "version_minor": 0
      },
      "text/plain": [
       "  0%|          | 0/6561 [00:00<?, ?it/s]"
      ]
     },
     "metadata": {},
     "output_type": "display_data"
    },
    {
     "data": {
      "application/vnd.jupyter.widget-view+json": {
       "model_id": "d1f43fa06ff641d5b7da8dcd80cb042a",
       "version_major": 2,
       "version_minor": 0
      },
      "text/plain": [
       "  0%|          | 0/6561 [00:00<?, ?it/s]"
      ]
     },
     "metadata": {},
     "output_type": "display_data"
    }
   ],
   "source": [
    "dim=32\n",
    "output_dim = 8\n",
    "lr = 3e-4\n",
    "\n",
    "# for input_dim in tqdm.notebook.tqdm([8, 12, 16, 32, 64, 96, 128, 192, 384, 768]):\n",
    "#     for output_dim in tqdm.notebook.tqdm([2, 4, 6, 8, 12, 16, 32, 64, 96, 128]):\n",
    "for (input_dim, output_dim) in [[768, 2],\n",
    "                                [768, 4],\n",
    "                                [768, 6],\n",
    "                                [768, 8],\n",
    "                                [768, 12],\n",
    "                                [768, 16],\n",
    "                                [128, 4],\n",
    "                                [768, 32],\n",
    "                                [128, 8],\n",
    "                                [768, 64],\n",
    "                                [768, 96],\n",
    "                                [96, 16],\n",
    "                                [128, 32],\n",
    "                                [96, 32],\n",
    "                                [32, 16]]:\n",
    "    if input_dim <= output_dim:\n",
    "        continue\n",
    "    if input_dim%output_dim != 0:\n",
    "        continue\n",
    "\n",
    "    params = {\"Input dim\": input_dim, \"Output dim\": output_dim, \"LR\": lr}\n",
    "\n",
    "    model = Autoencoder(input_dim, output_dim).to(DEVICE)\n",
    "\n",
    "    criterion_ = nn.CosineSimilarity()\n",
    "    criterion = lambda x, y: -criterion_(x, y).mean()\n",
    "\n",
    "    train_autoenc(model, input_dim, criterion, epochs=4, params=params)\n",
    "    metrics.append(calculate_metrics(test_autoenc(model, input_dim), test_data, f\"Autoencoder ({input_dim}x{output_dim})\", False))\n",
    "    logger.info(metrics[-1])"
   ]
  },
  {
   "cell_type": "code",
   "execution_count": 116,
   "metadata": {},
   "outputs": [
    {
     "data": {
      "text/html": [
       "<div>\n",
       "<style scoped>\n",
       "    .dataframe tbody tr th:only-of-type {\n",
       "        vertical-align: middle;\n",
       "    }\n",
       "\n",
       "    .dataframe tbody tr th {\n",
       "        vertical-align: top;\n",
       "    }\n",
       "\n",
       "    .dataframe thead th {\n",
       "        text-align: right;\n",
       "    }\n",
       "</style>\n",
       "<table border=\"1\" class=\"dataframe\">\n",
       "  <thead>\n",
       "    <tr style=\"text-align: right;\">\n",
       "      <th></th>\n",
       "      <th>Unnamed: 0</th>\n",
       "      <th>ratio</th>\n",
       "      <th>mean_pos_sim</th>\n",
       "      <th>mean_diff</th>\n",
       "      <th>method</th>\n",
       "      <th>reduction_rate</th>\n",
       "    </tr>\n",
       "  </thead>\n",
       "  <tbody>\n",
       "    <tr>\n",
       "      <th>0</th>\n",
       "      <td>0</td>\n",
       "      <td>0.010569</td>\n",
       "      <td>-0.096723</td>\n",
       "      <td>-0.011736</td>\n",
       "      <td>Whitening (768x1)</td>\n",
       "      <td>768.0</td>\n",
       "    </tr>\n",
       "    <tr>\n",
       "      <th>0</th>\n",
       "      <td>0</td>\n",
       "      <td>0.097456</td>\n",
       "      <td>-0.329110</td>\n",
       "      <td>-0.032274</td>\n",
       "      <td>PCA (768x1)</td>\n",
       "      <td>768.0</td>\n",
       "    </tr>\n",
       "    <tr>\n",
       "      <th>0</th>\n",
       "      <td>0</td>\n",
       "      <td>0.506585</td>\n",
       "      <td>0.087603</td>\n",
       "      <td>0.005736</td>\n",
       "      <td>Autoencoder (768x2)</td>\n",
       "      <td>384.0</td>\n",
       "    </tr>\n",
       "    <tr>\n",
       "      <th>1</th>\n",
       "      <td>0</td>\n",
       "      <td>0.517421</td>\n",
       "      <td>0.261078</td>\n",
       "      <td>0.013379</td>\n",
       "      <td>Whitening (768x2)</td>\n",
       "      <td>384.0</td>\n",
       "    </tr>\n",
       "    <tr>\n",
       "      <th>1</th>\n",
       "      <td>0</td>\n",
       "      <td>0.523122</td>\n",
       "      <td>0.950220</td>\n",
       "      <td>0.005821</td>\n",
       "      <td>PCA (384x1)</td>\n",
       "      <td>384.0</td>\n",
       "    </tr>\n",
       "    <tr>\n",
       "      <th>...</th>\n",
       "      <td>...</td>\n",
       "      <td>...</td>\n",
       "      <td>...</td>\n",
       "      <td>...</td>\n",
       "      <td>...</td>\n",
       "      <td>...</td>\n",
       "    </tr>\n",
       "    <tr>\n",
       "      <th>14</th>\n",
       "      <td>0</td>\n",
       "      <td>0.705998</td>\n",
       "      <td>0.482862</td>\n",
       "      <td>0.072484</td>\n",
       "      <td>Siamese network (32x16)</td>\n",
       "      <td>2.0</td>\n",
       "    </tr>\n",
       "    <tr>\n",
       "      <th>12</th>\n",
       "      <td>0</td>\n",
       "      <td>0.709599</td>\n",
       "      <td>0.460446</td>\n",
       "      <td>0.078406</td>\n",
       "      <td>Average parts (2)</td>\n",
       "      <td>2.0</td>\n",
       "    </tr>\n",
       "    <tr>\n",
       "      <th>15</th>\n",
       "      <td>0</td>\n",
       "      <td>0.709766</td>\n",
       "      <td>0.466430</td>\n",
       "      <td>0.078096</td>\n",
       "      <td>Whitening (64x32)</td>\n",
       "      <td>2.0</td>\n",
       "    </tr>\n",
       "    <tr>\n",
       "      <th>15</th>\n",
       "      <td>0</td>\n",
       "      <td>0.710599</td>\n",
       "      <td>0.469082</td>\n",
       "      <td>0.076467</td>\n",
       "      <td>PCA (16x8)</td>\n",
       "      <td>2.0</td>\n",
       "    </tr>\n",
       "    <tr>\n",
       "      <th>0</th>\n",
       "      <td>0</td>\n",
       "      <td>0.713700</td>\n",
       "      <td>0.461492</td>\n",
       "      <td>0.078354</td>\n",
       "      <td>CLS vector</td>\n",
       "      <td>1.0</td>\n",
       "    </tr>\n",
       "  </tbody>\n",
       "</table>\n",
       "<p>76 rows × 6 columns</p>\n",
       "</div>"
      ],
      "text/plain": [
       "    Unnamed: 0     ratio  mean_pos_sim  mean_diff                   method  \\\n",
       "0            0  0.010569     -0.096723  -0.011736        Whitening (768x1)   \n",
       "0            0  0.097456     -0.329110  -0.032274              PCA (768x1)   \n",
       "0            0  0.506585      0.087603   0.005736      Autoencoder (768x2)   \n",
       "1            0  0.517421      0.261078   0.013379        Whitening (768x2)   \n",
       "1            0  0.523122      0.950220   0.005821              PCA (384x1)   \n",
       "..         ...       ...           ...        ...                      ...   \n",
       "14           0  0.705998      0.482862   0.072484  Siamese network (32x16)   \n",
       "12           0  0.709599      0.460446   0.078406        Average parts (2)   \n",
       "15           0  0.709766      0.466430   0.078096        Whitening (64x32)   \n",
       "15           0  0.710599      0.469082   0.076467               PCA (16x8)   \n",
       "0            0  0.713700      0.461492   0.078354               CLS vector   \n",
       "\n",
       "    reduction_rate  \n",
       "0            768.0  \n",
       "0            768.0  \n",
       "0            384.0  \n",
       "1            384.0  \n",
       "1            384.0  \n",
       "..             ...  \n",
       "14             2.0  \n",
       "12             2.0  \n",
       "15             2.0  \n",
       "15             2.0  \n",
       "0              1.0  \n",
       "\n",
       "[76 rows x 6 columns]"
      ]
     },
     "execution_count": 116,
     "metadata": {},
     "output_type": "execute_result"
    }
   ],
   "source": [
    "save_metrics(metrics, \"autoencoder.csv\")\n",
    "aggregate_metrics()"
   ]
  },
  {
   "cell_type": "code",
   "execution_count": 115,
   "metadata": {},
   "outputs": [
    {
     "data": {
      "text/plain": [
       "[      ratio  mean_pos_sim  mean_diff               method  reduction_rate\n",
       " 0  0.497116      0.106156   0.001288  Autoencoder (768x2)           384.0,\n",
       "       ratio  mean_pos_sim  mean_diff               method  reduction_rate\n",
       " 0  0.533258      0.459347   0.029397  Autoencoder (768x4)           192.0,\n",
       "       ratio  mean_pos_sim  mean_diff               method  reduction_rate\n",
       " 0  0.506585      0.087603   0.005736  Autoencoder (768x2)           384.0,\n",
       "       ratio  mean_pos_sim  mean_diff               method  reduction_rate\n",
       " 0  0.534225      0.458236   0.027082  Autoencoder (768x4)           192.0,\n",
       "       ratio  mean_pos_sim  mean_diff               method  reduction_rate\n",
       " 0  0.555796      0.553255   0.037143  Autoencoder (768x6)           128.0,\n",
       "     ratio  mean_pos_sim  mean_diff               method  reduction_rate\n",
       " 0  0.5728      0.495247   0.043684  Autoencoder (768x8)            96.0,\n",
       "       ratio  mean_pos_sim  mean_diff                method  reduction_rate\n",
       " 0  0.594272      0.516617   0.050724  Autoencoder (768x12)            64.0,\n",
       "       ratio  mean_pos_sim  mean_diff                method  reduction_rate\n",
       " 0  0.610109      0.523813   0.059674  Autoencoder (768x16)            48.0,\n",
       "       ratio  mean_pos_sim  mean_diff               method  reduction_rate\n",
       " 0  0.535692      0.822128   0.006209  Autoencoder (128x4)            32.0,\n",
       "       ratio  mean_pos_sim  mean_diff                method  reduction_rate\n",
       " 0  0.625779        0.4358   0.060891  Autoencoder (768x32)            24.0,\n",
       "       ratio  mean_pos_sim  mean_diff               method  reduction_rate\n",
       " 0  0.591971      0.854853   0.011522  Autoencoder (128x8)            16.0,\n",
       "       ratio  mean_pos_sim  mean_diff                method  reduction_rate\n",
       " 0  0.654119      0.446251   0.068388  Autoencoder (768x64)            12.0,\n",
       "       ratio  mean_pos_sim  mean_diff                method  reduction_rate\n",
       " 0  0.651952       0.42257   0.067532  Autoencoder (768x96)             8.0,\n",
       "       ratio  mean_pos_sim  mean_diff               method  reduction_rate\n",
       " 0  0.656153      0.629336   0.041972  Autoencoder (96x16)             6.0,\n",
       "       ratio  mean_pos_sim  mean_diff                method  reduction_rate\n",
       " 0  0.657954      0.654695   0.042636  Autoencoder (128x32)             4.0,\n",
       "       ratio  mean_pos_sim  mean_diff               method  reduction_rate\n",
       " 0  0.680425       0.55243   0.057656  Autoencoder (96x32)             3.0,\n",
       "       ratio  mean_pos_sim  mean_diff               method  reduction_rate\n",
       " 0  0.690828      0.359948   0.061154  Autoencoder (32x16)             2.0]"
      ]
     },
     "execution_count": 115,
     "metadata": {},
     "output_type": "execute_result"
    }
   ],
   "source": [
    "metrics"
   ]
  },
  {
   "cell_type": "code",
   "execution_count": 389,
   "metadata": {},
   "outputs": [
    {
     "ename": "ValueError",
     "evalue": "No objects to concatenate",
     "output_type": "error",
     "traceback": [
      "\u001b[0;31m---------------------------------------------------------------------------\u001b[0m",
      "\u001b[0;31mValueError\u001b[0m                                Traceback (most recent call last)",
      "\u001b[0;32m/tmp/ipykernel_1427610/3012465548.py\u001b[0m in \u001b[0;36m<module>\u001b[0;34m\u001b[0m\n\u001b[0;32m----> 1\u001b[0;31m \u001b[0mcmetrics\u001b[0m \u001b[0;34m=\u001b[0m \u001b[0mpd\u001b[0m\u001b[0;34m.\u001b[0m\u001b[0mconcat\u001b[0m\u001b[0;34m(\u001b[0m\u001b[0mmetrics\u001b[0m\u001b[0;34m)\u001b[0m\u001b[0;34m\u001b[0m\u001b[0;34m\u001b[0m\u001b[0m\n\u001b[0m\u001b[1;32m      2\u001b[0m \u001b[0;34m\u001b[0m\u001b[0m\n\u001b[1;32m      3\u001b[0m \u001b[0mmax_ratio\u001b[0m \u001b[0;34m=\u001b[0m \u001b[0mcmetrics\u001b[0m\u001b[0;34m.\u001b[0m\u001b[0mgroupby\u001b[0m\u001b[0;34m(\u001b[0m\u001b[0;34m\"reduction_rate\"\u001b[0m\u001b[0;34m)\u001b[0m\u001b[0;34m.\u001b[0m\u001b[0mmax\u001b[0m\u001b[0;34m(\u001b[0m\u001b[0;34m)\u001b[0m\u001b[0;34m[\u001b[0m\u001b[0;34m\"ratio\"\u001b[0m\u001b[0;34m]\u001b[0m\u001b[0;34m\u001b[0m\u001b[0;34m\u001b[0m\u001b[0m\n\u001b[1;32m      4\u001b[0m \u001b[0mcmetrics\u001b[0m \u001b[0;34m=\u001b[0m \u001b[0mcmetrics\u001b[0m\u001b[0;34m[\u001b[0m\u001b[0mcmetrics\u001b[0m\u001b[0;34m.\u001b[0m\u001b[0mapply\u001b[0m\u001b[0;34m(\u001b[0m\u001b[0;32mlambda\u001b[0m \u001b[0mx\u001b[0m\u001b[0;34m:\u001b[0m \u001b[0mx\u001b[0m\u001b[0;34m[\u001b[0m\u001b[0;34m\"ratio\"\u001b[0m\u001b[0;34m]\u001b[0m\u001b[0;34m==\u001b[0m\u001b[0mmax_ratio\u001b[0m\u001b[0;34m[\u001b[0m\u001b[0mx\u001b[0m\u001b[0;34m[\u001b[0m\u001b[0;34m\"reduction_rate\"\u001b[0m\u001b[0;34m]\u001b[0m\u001b[0;34m]\u001b[0m\u001b[0;34m,\u001b[0m \u001b[0maxis\u001b[0m\u001b[0;34m=\u001b[0m\u001b[0;36m1\u001b[0m\u001b[0;34m)\u001b[0m\u001b[0;34m]\u001b[0m\u001b[0;34m\u001b[0m\u001b[0;34m\u001b[0m\u001b[0m\n\u001b[1;32m      5\u001b[0m \u001b[0mcmetrics\u001b[0m \u001b[0;34m=\u001b[0m \u001b[0mcmetrics\u001b[0m\u001b[0;34m.\u001b[0m\u001b[0msort_values\u001b[0m\u001b[0;34m(\u001b[0m\u001b[0;34m\"reduction_rate\"\u001b[0m\u001b[0;34m,\u001b[0m \u001b[0mascending\u001b[0m\u001b[0;34m=\u001b[0m\u001b[0;32mFalse\u001b[0m\u001b[0;34m)\u001b[0m\u001b[0;34m\u001b[0m\u001b[0;34m\u001b[0m\u001b[0m\n",
      "\u001b[0;32m~/.conda/envs/img_processing/lib/python3.8/site-packages/pandas/util/_decorators.py\u001b[0m in \u001b[0;36mwrapper\u001b[0;34m(*args, **kwargs)\u001b[0m\n\u001b[1;32m    309\u001b[0m                     \u001b[0mstacklevel\u001b[0m\u001b[0;34m=\u001b[0m\u001b[0mstacklevel\u001b[0m\u001b[0;34m,\u001b[0m\u001b[0;34m\u001b[0m\u001b[0;34m\u001b[0m\u001b[0m\n\u001b[1;32m    310\u001b[0m                 )\n\u001b[0;32m--> 311\u001b[0;31m             \u001b[0;32mreturn\u001b[0m \u001b[0mfunc\u001b[0m\u001b[0;34m(\u001b[0m\u001b[0;34m*\u001b[0m\u001b[0margs\u001b[0m\u001b[0;34m,\u001b[0m \u001b[0;34m**\u001b[0m\u001b[0mkwargs\u001b[0m\u001b[0;34m)\u001b[0m\u001b[0;34m\u001b[0m\u001b[0;34m\u001b[0m\u001b[0m\n\u001b[0m\u001b[1;32m    312\u001b[0m \u001b[0;34m\u001b[0m\u001b[0m\n\u001b[1;32m    313\u001b[0m         \u001b[0;32mreturn\u001b[0m \u001b[0mwrapper\u001b[0m\u001b[0;34m\u001b[0m\u001b[0;34m\u001b[0m\u001b[0m\n",
      "\u001b[0;32m~/.conda/envs/img_processing/lib/python3.8/site-packages/pandas/core/reshape/concat.py\u001b[0m in \u001b[0;36mconcat\u001b[0;34m(objs, axis, join, ignore_index, keys, levels, names, verify_integrity, sort, copy)\u001b[0m\n\u001b[1;32m    292\u001b[0m     \u001b[0mValueError\u001b[0m\u001b[0;34m:\u001b[0m \u001b[0mIndexes\u001b[0m \u001b[0mhave\u001b[0m \u001b[0moverlapping\u001b[0m \u001b[0mvalues\u001b[0m\u001b[0;34m:\u001b[0m \u001b[0;34m[\u001b[0m\u001b[0;34m'a'\u001b[0m\u001b[0;34m]\u001b[0m\u001b[0;34m\u001b[0m\u001b[0;34m\u001b[0m\u001b[0m\n\u001b[1;32m    293\u001b[0m     \"\"\"\n\u001b[0;32m--> 294\u001b[0;31m     op = _Concatenator(\n\u001b[0m\u001b[1;32m    295\u001b[0m         \u001b[0mobjs\u001b[0m\u001b[0;34m,\u001b[0m\u001b[0;34m\u001b[0m\u001b[0;34m\u001b[0m\u001b[0m\n\u001b[1;32m    296\u001b[0m         \u001b[0maxis\u001b[0m\u001b[0;34m=\u001b[0m\u001b[0maxis\u001b[0m\u001b[0;34m,\u001b[0m\u001b[0;34m\u001b[0m\u001b[0;34m\u001b[0m\u001b[0m\n",
      "\u001b[0;32m~/.conda/envs/img_processing/lib/python3.8/site-packages/pandas/core/reshape/concat.py\u001b[0m in \u001b[0;36m__init__\u001b[0;34m(self, objs, axis, join, keys, levels, names, ignore_index, verify_integrity, copy, sort)\u001b[0m\n\u001b[1;32m    349\u001b[0m \u001b[0;34m\u001b[0m\u001b[0m\n\u001b[1;32m    350\u001b[0m         \u001b[0;32mif\u001b[0m \u001b[0mlen\u001b[0m\u001b[0;34m(\u001b[0m\u001b[0mobjs\u001b[0m\u001b[0;34m)\u001b[0m \u001b[0;34m==\u001b[0m \u001b[0;36m0\u001b[0m\u001b[0;34m:\u001b[0m\u001b[0;34m\u001b[0m\u001b[0;34m\u001b[0m\u001b[0m\n\u001b[0;32m--> 351\u001b[0;31m             \u001b[0;32mraise\u001b[0m \u001b[0mValueError\u001b[0m\u001b[0;34m(\u001b[0m\u001b[0;34m\"No objects to concatenate\"\u001b[0m\u001b[0;34m)\u001b[0m\u001b[0;34m\u001b[0m\u001b[0;34m\u001b[0m\u001b[0m\n\u001b[0m\u001b[1;32m    352\u001b[0m \u001b[0;34m\u001b[0m\u001b[0m\n\u001b[1;32m    353\u001b[0m         \u001b[0;32mif\u001b[0m \u001b[0mkeys\u001b[0m \u001b[0;32mis\u001b[0m \u001b[0;32mNone\u001b[0m\u001b[0;34m:\u001b[0m\u001b[0;34m\u001b[0m\u001b[0;34m\u001b[0m\u001b[0m\n",
      "\u001b[0;31mValueError\u001b[0m: No objects to concatenate"
     ]
    }
   ],
   "source": [
    "cmetrics = pd.concat(metrics)\n",
    "\n",
    "max_ratio = cmetrics.groupby(\"reduction_rate\").max()[\"ratio\"]\n",
    "cmetrics = cmetrics[cmetrics.apply(lambda x: x[\"ratio\"]==max_ratio[x[\"reduction_rate\"]], axis=1)]\n",
    "cmetrics = cmetrics.sort_values(\"reduction_rate\", ascending=False)\n",
    "# cmetrics.to_csv(\"results/autoencoder.csv\")\n",
    "\n",
    "cmetrics"
   ]
  },
  {
   "cell_type": "markdown",
   "metadata": {},
   "source": [
    "### PCA"
   ]
  },
  {
   "cell_type": "code",
   "execution_count": 43,
   "metadata": {},
   "outputs": [],
   "source": [
    "metrics = []"
   ]
  },
  {
   "cell_type": "code",
   "execution_count": 44,
   "metadata": {},
   "outputs": [],
   "source": [
    "from sklearn.decomposition import PCA"
   ]
  },
  {
   "cell_type": "code",
   "execution_count": 45,
   "metadata": {},
   "outputs": [],
   "source": [
    "def test_pca(model, input_dim):\n",
    "    def _inner(embeddings):\n",
    "        x = embeddings.reshape(-1, input_dim)\n",
    "        x = model.transform(x)\n",
    "        x = x.reshape(len(embeddings), -1)\n",
    "        x = x/np.sqrt(np.sum(x**2))\n",
    "        return x\n",
    "    return _inner\n",
    "\n",
    "def get_pca(input_dim, output_dim):\n",
    "    model = PCA(output_dim)\n",
    "    # data = train_data[0].reshape(-1, input_dim)\n",
    "    data = np.concatenate(train_data).reshape(-1, input_dim)\n",
    "    model.fit(data)\n",
    "    return model"
   ]
  },
  {
   "cell_type": "code",
   "execution_count": 358,
   "metadata": {},
   "outputs": [
    {
     "name": "stderr",
     "output_type": "stream",
     "text": [
      "100%|█████████████████████████████████████████████████████████████████████████████████████████████████████████████████████████████████████████████████████████████████| 29993/29993 [00:10<00:00, 2855.68it/s]\n"
     ]
    },
    {
     "data": {
      "text/html": [
       "<div>\n",
       "<style scoped>\n",
       "    .dataframe tbody tr th:only-of-type {\n",
       "        vertical-align: middle;\n",
       "    }\n",
       "\n",
       "    .dataframe tbody tr th {\n",
       "        vertical-align: top;\n",
       "    }\n",
       "\n",
       "    .dataframe thead th {\n",
       "        text-align: right;\n",
       "    }\n",
       "</style>\n",
       "<table border=\"1\" class=\"dataframe\">\n",
       "  <thead>\n",
       "    <tr style=\"text-align: right;\">\n",
       "      <th></th>\n",
       "      <th>ratio</th>\n",
       "      <th>mean_pos_sim</th>\n",
       "      <th>mean_diff</th>\n",
       "      <th>method</th>\n",
       "      <th>reduction_rate</th>\n",
       "    </tr>\n",
       "  </thead>\n",
       "  <tbody>\n",
       "    <tr>\n",
       "      <th>0</th>\n",
       "      <td>0.947754</td>\n",
       "      <td>0.738982</td>\n",
       "      <td>0.224128</td>\n",
       "      <td>PCA (64x8)</td>\n",
       "      <td>8.0</td>\n",
       "    </tr>\n",
       "  </tbody>\n",
       "</table>\n",
       "</div>"
      ],
      "text/plain": [
       "      ratio  mean_pos_sim  mean_diff      method  reduction_rate\n",
       "0  0.947754      0.738982   0.224128  PCA (64x8)             8.0"
      ]
     },
     "execution_count": 358,
     "metadata": {},
     "output_type": "execute_result"
    }
   ],
   "source": [
    "input_dim = 64\n",
    "output_dim = 8\n",
    "\n",
    "model = get_pca(input_dim, output_dim)\n",
    "calculate_metrics(test_pca(model, input_dim), test_data, f\"PCA ({input_dim}x{output_dim})\")"
   ]
  },
  {
   "cell_type": "code",
   "execution_count": 46,
   "metadata": {
    "tags": []
   },
   "outputs": [
    {
     "data": {
      "application/vnd.jupyter.widget-view+json": {
       "model_id": "6952c446e4c3408f9050d3f98899d2fa",
       "version_major": 2,
       "version_minor": 0
      },
      "text/plain": [
       "  0%|          | 0/10 [00:00<?, ?it/s]"
      ]
     },
     "metadata": {},
     "output_type": "display_data"
    },
    {
     "data": {
      "application/vnd.jupyter.widget-view+json": {
       "model_id": "03ee6d5922b0411fa9a0c700f22c6562",
       "version_major": 2,
       "version_minor": 0
      },
      "text/plain": [
       "  0%|          | 0/11 [00:00<?, ?it/s]"
      ]
     },
     "metadata": {},
     "output_type": "display_data"
    },
    {
     "data": {
      "application/vnd.jupyter.widget-view+json": {
       "model_id": "29b30b57b6124795abf1a182603ddfd0",
       "version_major": 2,
       "version_minor": 0
      },
      "text/plain": [
       "  0%|          | 0/11 [00:00<?, ?it/s]"
      ]
     },
     "metadata": {},
     "output_type": "display_data"
    },
    {
     "data": {
      "application/vnd.jupyter.widget-view+json": {
       "model_id": "452ae2f736e74549b53688266581c8cc",
       "version_major": 2,
       "version_minor": 0
      },
      "text/plain": [
       "  0%|          | 0/11 [00:00<?, ?it/s]"
      ]
     },
     "metadata": {},
     "output_type": "display_data"
    },
    {
     "data": {
      "application/vnd.jupyter.widget-view+json": {
       "model_id": "fbd3f4444ef04e5ca0cf7b4125bd60d8",
       "version_major": 2,
       "version_minor": 0
      },
      "text/plain": [
       "  0%|          | 0/11 [00:00<?, ?it/s]"
      ]
     },
     "metadata": {},
     "output_type": "display_data"
    },
    {
     "data": {
      "application/vnd.jupyter.widget-view+json": {
       "model_id": "12bed2cb83224b858c64d0b6faecba17",
       "version_major": 2,
       "version_minor": 0
      },
      "text/plain": [
       "  0%|          | 0/11 [00:00<?, ?it/s]"
      ]
     },
     "metadata": {},
     "output_type": "display_data"
    },
    {
     "data": {
      "application/vnd.jupyter.widget-view+json": {
       "model_id": "2abed1b1699744d78a00cbff1d794b7c",
       "version_major": 2,
       "version_minor": 0
      },
      "text/plain": [
       "  0%|          | 0/11 [00:00<?, ?it/s]"
      ]
     },
     "metadata": {},
     "output_type": "display_data"
    },
    {
     "data": {
      "application/vnd.jupyter.widget-view+json": {
       "model_id": "25f52299852248be8df4c870d5226911",
       "version_major": 2,
       "version_minor": 0
      },
      "text/plain": [
       "  0%|          | 0/11 [00:00<?, ?it/s]"
      ]
     },
     "metadata": {},
     "output_type": "display_data"
    },
    {
     "data": {
      "application/vnd.jupyter.widget-view+json": {
       "model_id": "30850d09a2154aa282b077aa1ae13219",
       "version_major": 2,
       "version_minor": 0
      },
      "text/plain": [
       "  0%|          | 0/11 [00:00<?, ?it/s]"
      ]
     },
     "metadata": {},
     "output_type": "display_data"
    },
    {
     "data": {
      "application/vnd.jupyter.widget-view+json": {
       "model_id": "62078271b50448c0a58f1e4fc58d5d0e",
       "version_major": 2,
       "version_minor": 0
      },
      "text/plain": [
       "  0%|          | 0/11 [00:00<?, ?it/s]"
      ]
     },
     "metadata": {},
     "output_type": "display_data"
    },
    {
     "data": {
      "application/vnd.jupyter.widget-view+json": {
       "model_id": "fbbcda7d61bd45d69a3f779106f71ef0",
       "version_major": 2,
       "version_minor": 0
      },
      "text/plain": [
       "  0%|          | 0/11 [00:00<?, ?it/s]"
      ]
     },
     "metadata": {},
     "output_type": "display_data"
    }
   ],
   "source": [
    "for input_dim in tqdm.notebook.tqdm([8, 12, 16, 32, 64, 96, 128, 192, 384, 768]):\n",
    "    for output_dim in tqdm.notebook.tqdm([1, 2, 4, 6, 8, 12, 16, 32, 64, 96, 128]):\n",
    "        if input_dim <= output_dim:\n",
    "            continue\n",
    "        if input_dim%output_dim != 0:\n",
    "            continue\n",
    "            \n",
    "        model = get_pca(input_dim, output_dim)\n",
    "        metrics.append(calculate_metrics(test_pca(model, input_dim), test_data, f\"PCA ({input_dim}x{output_dim})\", show_pbar=False))"
   ]
  },
  {
   "cell_type": "code",
   "execution_count": 47,
   "metadata": {},
   "outputs": [
    {
     "data": {
      "text/html": [
       "<div>\n",
       "<style scoped>\n",
       "    .dataframe tbody tr th:only-of-type {\n",
       "        vertical-align: middle;\n",
       "    }\n",
       "\n",
       "    .dataframe tbody tr th {\n",
       "        vertical-align: top;\n",
       "    }\n",
       "\n",
       "    .dataframe thead th {\n",
       "        text-align: right;\n",
       "    }\n",
       "</style>\n",
       "<table border=\"1\" class=\"dataframe\">\n",
       "  <thead>\n",
       "    <tr style=\"text-align: right;\">\n",
       "      <th></th>\n",
       "      <th>Unnamed: 0</th>\n",
       "      <th>ratio</th>\n",
       "      <th>mean_pos_sim</th>\n",
       "      <th>mean_diff</th>\n",
       "      <th>method</th>\n",
       "      <th>reduction_rate</th>\n",
       "    </tr>\n",
       "  </thead>\n",
       "  <tbody>\n",
       "    <tr>\n",
       "      <th>0</th>\n",
       "      <td>0</td>\n",
       "      <td>0.097456</td>\n",
       "      <td>-0.329110</td>\n",
       "      <td>-0.032274</td>\n",
       "      <td>PCA (768x1)</td>\n",
       "      <td>768.0</td>\n",
       "    </tr>\n",
       "    <tr>\n",
       "      <th>1</th>\n",
       "      <td>0</td>\n",
       "      <td>0.523122</td>\n",
       "      <td>0.950220</td>\n",
       "      <td>0.005821</td>\n",
       "      <td>PCA (384x1)</td>\n",
       "      <td>384.0</td>\n",
       "    </tr>\n",
       "    <tr>\n",
       "      <th>0</th>\n",
       "      <td>0</td>\n",
       "      <td>0.527723</td>\n",
       "      <td>0.759369</td>\n",
       "      <td>0.031587</td>\n",
       "      <td>Average parts (384)</td>\n",
       "      <td>384.0</td>\n",
       "    </tr>\n",
       "    <tr>\n",
       "      <th>1</th>\n",
       "      <td>0</td>\n",
       "      <td>0.548961</td>\n",
       "      <td>0.558271</td>\n",
       "      <td>0.055304</td>\n",
       "      <td>Average parts (192)</td>\n",
       "      <td>192.0</td>\n",
       "    </tr>\n",
       "    <tr>\n",
       "      <th>2</th>\n",
       "      <td>0</td>\n",
       "      <td>0.557663</td>\n",
       "      <td>0.842964</td>\n",
       "      <td>0.019809</td>\n",
       "      <td>PCA (192x1)</td>\n",
       "      <td>192.0</td>\n",
       "    </tr>\n",
       "    <tr>\n",
       "      <th>2</th>\n",
       "      <td>0</td>\n",
       "      <td>0.564165</td>\n",
       "      <td>0.462989</td>\n",
       "      <td>0.063265</td>\n",
       "      <td>Average parts (128)</td>\n",
       "      <td>128.0</td>\n",
       "    </tr>\n",
       "    <tr>\n",
       "      <th>3</th>\n",
       "      <td>0</td>\n",
       "      <td>0.566132</td>\n",
       "      <td>0.711833</td>\n",
       "      <td>0.036871</td>\n",
       "      <td>PCA (128x1)</td>\n",
       "      <td>128.0</td>\n",
       "    </tr>\n",
       "    <tr>\n",
       "      <th>3</th>\n",
       "      <td>0</td>\n",
       "      <td>0.579102</td>\n",
       "      <td>0.451062</td>\n",
       "      <td>0.070158</td>\n",
       "      <td>Average parts (96)</td>\n",
       "      <td>96.0</td>\n",
       "    </tr>\n",
       "    <tr>\n",
       "      <th>4</th>\n",
       "      <td>0</td>\n",
       "      <td>0.581969</td>\n",
       "      <td>0.692384</td>\n",
       "      <td>0.041328</td>\n",
       "      <td>PCA (96x1)</td>\n",
       "      <td>96.0</td>\n",
       "    </tr>\n",
       "    <tr>\n",
       "      <th>4</th>\n",
       "      <td>0</td>\n",
       "      <td>0.599573</td>\n",
       "      <td>0.460109</td>\n",
       "      <td>0.075445</td>\n",
       "      <td>Average parts (64)</td>\n",
       "      <td>64.0</td>\n",
       "    </tr>\n",
       "    <tr>\n",
       "      <th>5</th>\n",
       "      <td>0</td>\n",
       "      <td>0.604874</td>\n",
       "      <td>0.449711</td>\n",
       "      <td>0.059459</td>\n",
       "      <td>PCA (768x12)</td>\n",
       "      <td>64.0</td>\n",
       "    </tr>\n",
       "    <tr>\n",
       "      <th>5</th>\n",
       "      <td>0</td>\n",
       "      <td>0.610876</td>\n",
       "      <td>0.440423</td>\n",
       "      <td>0.076571</td>\n",
       "      <td>Average parts (48)</td>\n",
       "      <td>48.0</td>\n",
       "    </tr>\n",
       "    <tr>\n",
       "      <th>6</th>\n",
       "      <td>0</td>\n",
       "      <td>0.624012</td>\n",
       "      <td>0.462414</td>\n",
       "      <td>0.066727</td>\n",
       "      <td>PCA (768x16)</td>\n",
       "      <td>48.0</td>\n",
       "    </tr>\n",
       "    <tr>\n",
       "      <th>7</th>\n",
       "      <td>0</td>\n",
       "      <td>0.625213</td>\n",
       "      <td>0.529993</td>\n",
       "      <td>0.063410</td>\n",
       "      <td>PCA (32x1)</td>\n",
       "      <td>32.0</td>\n",
       "    </tr>\n",
       "    <tr>\n",
       "      <th>6</th>\n",
       "      <td>0</td>\n",
       "      <td>0.630747</td>\n",
       "      <td>0.446489</td>\n",
       "      <td>0.079458</td>\n",
       "      <td>Average parts (32)</td>\n",
       "      <td>32.0</td>\n",
       "    </tr>\n",
       "    <tr>\n",
       "      <th>7</th>\n",
       "      <td>0</td>\n",
       "      <td>0.644317</td>\n",
       "      <td>0.445943</td>\n",
       "      <td>0.078452</td>\n",
       "      <td>Average parts (24)</td>\n",
       "      <td>24.0</td>\n",
       "    </tr>\n",
       "    <tr>\n",
       "      <th>8</th>\n",
       "      <td>0</td>\n",
       "      <td>0.664155</td>\n",
       "      <td>0.475045</td>\n",
       "      <td>0.079988</td>\n",
       "      <td>PCA (768x32)</td>\n",
       "      <td>24.0</td>\n",
       "    </tr>\n",
       "    <tr>\n",
       "      <th>9</th>\n",
       "      <td>0</td>\n",
       "      <td>0.659454</td>\n",
       "      <td>0.531811</td>\n",
       "      <td>0.067510</td>\n",
       "      <td>PCA (32x2)</td>\n",
       "      <td>16.0</td>\n",
       "    </tr>\n",
       "    <tr>\n",
       "      <th>8</th>\n",
       "      <td>0</td>\n",
       "      <td>0.661854</td>\n",
       "      <td>0.451641</td>\n",
       "      <td>0.078587</td>\n",
       "      <td>Average parts (16)</td>\n",
       "      <td>16.0</td>\n",
       "    </tr>\n",
       "    <tr>\n",
       "      <th>9</th>\n",
       "      <td>0</td>\n",
       "      <td>0.671557</td>\n",
       "      <td>0.456626</td>\n",
       "      <td>0.078192</td>\n",
       "      <td>Average parts (12)</td>\n",
       "      <td>12.0</td>\n",
       "    </tr>\n",
       "    <tr>\n",
       "      <th>10</th>\n",
       "      <td>0</td>\n",
       "      <td>0.693328</td>\n",
       "      <td>0.470112</td>\n",
       "      <td>0.085611</td>\n",
       "      <td>PCA (768x64)</td>\n",
       "      <td>12.0</td>\n",
       "    </tr>\n",
       "    <tr>\n",
       "      <th>10</th>\n",
       "      <td>0</td>\n",
       "      <td>0.686360</td>\n",
       "      <td>0.459334</td>\n",
       "      <td>0.078236</td>\n",
       "      <td>Average parts (8)</td>\n",
       "      <td>8.0</td>\n",
       "    </tr>\n",
       "    <tr>\n",
       "      <th>11</th>\n",
       "      <td>0</td>\n",
       "      <td>0.705065</td>\n",
       "      <td>0.462728</td>\n",
       "      <td>0.086732</td>\n",
       "      <td>PCA (768x96)</td>\n",
       "      <td>8.0</td>\n",
       "    </tr>\n",
       "    <tr>\n",
       "      <th>12</th>\n",
       "      <td>0</td>\n",
       "      <td>0.709499</td>\n",
       "      <td>0.455402</td>\n",
       "      <td>0.086755</td>\n",
       "      <td>PCA (768x128)</td>\n",
       "      <td>6.0</td>\n",
       "    </tr>\n",
       "    <tr>\n",
       "      <th>13</th>\n",
       "      <td>0</td>\n",
       "      <td>0.698996</td>\n",
       "      <td>0.475542</td>\n",
       "      <td>0.074972</td>\n",
       "      <td>PCA (8x2)</td>\n",
       "      <td>4.0</td>\n",
       "    </tr>\n",
       "    <tr>\n",
       "      <th>11</th>\n",
       "      <td>0</td>\n",
       "      <td>0.703431</td>\n",
       "      <td>0.465670</td>\n",
       "      <td>0.077897</td>\n",
       "      <td>Average parts (4)</td>\n",
       "      <td>4.0</td>\n",
       "    </tr>\n",
       "    <tr>\n",
       "      <th>14</th>\n",
       "      <td>0</td>\n",
       "      <td>0.705631</td>\n",
       "      <td>0.475217</td>\n",
       "      <td>0.074687</td>\n",
       "      <td>PCA (12x4)</td>\n",
       "      <td>3.0</td>\n",
       "    </tr>\n",
       "    <tr>\n",
       "      <th>12</th>\n",
       "      <td>0</td>\n",
       "      <td>0.709599</td>\n",
       "      <td>0.460446</td>\n",
       "      <td>0.078406</td>\n",
       "      <td>Average parts (2)</td>\n",
       "      <td>2.0</td>\n",
       "    </tr>\n",
       "    <tr>\n",
       "      <th>15</th>\n",
       "      <td>0</td>\n",
       "      <td>0.710599</td>\n",
       "      <td>0.469082</td>\n",
       "      <td>0.076467</td>\n",
       "      <td>PCA (16x8)</td>\n",
       "      <td>2.0</td>\n",
       "    </tr>\n",
       "    <tr>\n",
       "      <th>0</th>\n",
       "      <td>0</td>\n",
       "      <td>0.713700</td>\n",
       "      <td>0.461492</td>\n",
       "      <td>0.078354</td>\n",
       "      <td>CLS vector</td>\n",
       "      <td>1.0</td>\n",
       "    </tr>\n",
       "  </tbody>\n",
       "</table>\n",
       "</div>"
      ],
      "text/plain": [
       "    Unnamed: 0     ratio  mean_pos_sim  mean_diff               method  \\\n",
       "0            0  0.097456     -0.329110  -0.032274          PCA (768x1)   \n",
       "1            0  0.523122      0.950220   0.005821          PCA (384x1)   \n",
       "0            0  0.527723      0.759369   0.031587  Average parts (384)   \n",
       "1            0  0.548961      0.558271   0.055304  Average parts (192)   \n",
       "2            0  0.557663      0.842964   0.019809          PCA (192x1)   \n",
       "2            0  0.564165      0.462989   0.063265  Average parts (128)   \n",
       "3            0  0.566132      0.711833   0.036871          PCA (128x1)   \n",
       "3            0  0.579102      0.451062   0.070158   Average parts (96)   \n",
       "4            0  0.581969      0.692384   0.041328           PCA (96x1)   \n",
       "4            0  0.599573      0.460109   0.075445   Average parts (64)   \n",
       "5            0  0.604874      0.449711   0.059459         PCA (768x12)   \n",
       "5            0  0.610876      0.440423   0.076571   Average parts (48)   \n",
       "6            0  0.624012      0.462414   0.066727         PCA (768x16)   \n",
       "7            0  0.625213      0.529993   0.063410           PCA (32x1)   \n",
       "6            0  0.630747      0.446489   0.079458   Average parts (32)   \n",
       "7            0  0.644317      0.445943   0.078452   Average parts (24)   \n",
       "8            0  0.664155      0.475045   0.079988         PCA (768x32)   \n",
       "9            0  0.659454      0.531811   0.067510           PCA (32x2)   \n",
       "8            0  0.661854      0.451641   0.078587   Average parts (16)   \n",
       "9            0  0.671557      0.456626   0.078192   Average parts (12)   \n",
       "10           0  0.693328      0.470112   0.085611         PCA (768x64)   \n",
       "10           0  0.686360      0.459334   0.078236    Average parts (8)   \n",
       "11           0  0.705065      0.462728   0.086732         PCA (768x96)   \n",
       "12           0  0.709499      0.455402   0.086755        PCA (768x128)   \n",
       "13           0  0.698996      0.475542   0.074972            PCA (8x2)   \n",
       "11           0  0.703431      0.465670   0.077897    Average parts (4)   \n",
       "14           0  0.705631      0.475217   0.074687           PCA (12x4)   \n",
       "12           0  0.709599      0.460446   0.078406    Average parts (2)   \n",
       "15           0  0.710599      0.469082   0.076467           PCA (16x8)   \n",
       "0            0  0.713700      0.461492   0.078354           CLS vector   \n",
       "\n",
       "    reduction_rate  \n",
       "0            768.0  \n",
       "1            384.0  \n",
       "0            384.0  \n",
       "1            192.0  \n",
       "2            192.0  \n",
       "2            128.0  \n",
       "3            128.0  \n",
       "3             96.0  \n",
       "4             96.0  \n",
       "4             64.0  \n",
       "5             64.0  \n",
       "5             48.0  \n",
       "6             48.0  \n",
       "7             32.0  \n",
       "6             32.0  \n",
       "7             24.0  \n",
       "8             24.0  \n",
       "9             16.0  \n",
       "8             16.0  \n",
       "9             12.0  \n",
       "10            12.0  \n",
       "10             8.0  \n",
       "11             8.0  \n",
       "12             6.0  \n",
       "13             4.0  \n",
       "11             4.0  \n",
       "14             3.0  \n",
       "12             2.0  \n",
       "15             2.0  \n",
       "0              1.0  "
      ]
     },
     "execution_count": 47,
     "metadata": {},
     "output_type": "execute_result"
    }
   ],
   "source": [
    "save_metrics(metrics, \"PCA\")\n",
    "aggregate_metrics()"
   ]
  },
  {
   "cell_type": "markdown",
   "metadata": {},
   "source": [
    "#### Save the models"
   ]
  },
  {
   "cell_type": "code",
   "execution_count": 371,
   "metadata": {},
   "outputs": [],
   "source": [
    "import pickle"
   ]
  },
  {
   "cell_type": "code",
   "execution_count": 370,
   "metadata": {},
   "outputs": [],
   "source": [
    "model = get_pca(64, 4)"
   ]
  },
  {
   "cell_type": "code",
   "execution_count": 372,
   "metadata": {},
   "outputs": [],
   "source": [
    "with open(\"models/PCA_64x4.pickle\", \"wb\") as f:\n",
    "    pickle.dump(model, f)"
   ]
  },
  {
   "cell_type": "markdown",
   "metadata": {},
   "source": [
    "### UMAP"
   ]
  },
  {
   "cell_type": "code",
   "execution_count": 19,
   "metadata": {},
   "outputs": [],
   "source": [
    "metrics = []"
   ]
  },
  {
   "cell_type": "code",
   "execution_count": 20,
   "metadata": {},
   "outputs": [],
   "source": [
    "from cuml.manifold import UMAP"
   ]
  },
  {
   "cell_type": "code",
   "execution_count": null,
   "metadata": {},
   "outputs": [],
   "source": [
    "def get_umap(input_dim, output_dim):\n",
    "    model = UMAP(n_components=output_dim)\n",
    "    data = train_data[0][:5000].reshape(-1, input_dim)\n",
    "    model.fit(data)\n",
    "    return model"
   ]
  },
  {
   "cell_type": "code",
   "execution_count": 368,
   "metadata": {},
   "outputs": [],
   "source": [
    "model = get_umap(128, 16)"
   ]
  },
  {
   "cell_type": "code",
   "execution_count": null,
   "metadata": {
    "tags": []
   },
   "outputs": [
    {
     "data": {
      "application/vnd.jupyter.widget-view+json": {
       "model_id": "7129dff3304d4c31948da888227288e6",
       "version_major": 2,
       "version_minor": 0
      },
      "text/plain": [
       "  0%|          | 0/10 [00:00<?, ?it/s]"
      ]
     },
     "metadata": {},
     "output_type": "display_data"
    },
    {
     "data": {
      "application/vnd.jupyter.widget-view+json": {
       "model_id": "9f4868e4fb7e4996a3a33741005f92fa",
       "version_major": 2,
       "version_minor": 0
      },
      "text/plain": [
       "  0%|          | 0/11 [00:00<?, ?it/s]"
      ]
     },
     "metadata": {},
     "output_type": "display_data"
    },
    {
     "data": {
      "application/vnd.jupyter.widget-view+json": {
       "model_id": "f5ee7535692d4880a4486bd240fe93e1",
       "version_major": 2,
       "version_minor": 0
      },
      "text/plain": [
       "  0%|          | 0/11 [00:00<?, ?it/s]"
      ]
     },
     "metadata": {},
     "output_type": "display_data"
    },
    {
     "data": {
      "application/vnd.jupyter.widget-view+json": {
       "model_id": "4174e73452864d7e8a9ed44df08afd6e",
       "version_major": 2,
       "version_minor": 0
      },
      "text/plain": [
       "  0%|          | 0/11 [00:00<?, ?it/s]"
      ]
     },
     "metadata": {},
     "output_type": "display_data"
    },
    {
     "data": {
      "application/vnd.jupyter.widget-view+json": {
       "model_id": "e8886a75cd3b4cfca3e2e57b8e464461",
       "version_major": 2,
       "version_minor": 0
      },
      "text/plain": [
       "  0%|          | 0/11 [00:00<?, ?it/s]"
      ]
     },
     "metadata": {},
     "output_type": "display_data"
    },
    {
     "data": {
      "application/vnd.jupyter.widget-view+json": {
       "model_id": "3b320d176bbb4d11b50ed3490683d6e3",
       "version_major": 2,
       "version_minor": 0
      },
      "text/plain": [
       "  0%|          | 0/11 [00:00<?, ?it/s]"
      ]
     },
     "metadata": {},
     "output_type": "display_data"
    },
    {
     "data": {
      "application/vnd.jupyter.widget-view+json": {
       "model_id": "f1e6b2ca333445dfa6d57b747a1be7e4",
       "version_major": 2,
       "version_minor": 0
      },
      "text/plain": [
       "  0%|          | 0/11 [00:00<?, ?it/s]"
      ]
     },
     "metadata": {},
     "output_type": "display_data"
    },
    {
     "data": {
      "application/vnd.jupyter.widget-view+json": {
       "model_id": "6b7f4374e0f541c69ff60423dc318fd1",
       "version_major": 2,
       "version_minor": 0
      },
      "text/plain": [
       "  0%|          | 0/11 [00:00<?, ?it/s]"
      ]
     },
     "metadata": {},
     "output_type": "display_data"
    },
    {
     "data": {
      "application/vnd.jupyter.widget-view+json": {
       "model_id": "f58b5da6eae04cad85c7b534755ce3eb",
       "version_major": 2,
       "version_minor": 0
      },
      "text/plain": [
       "  0%|          | 0/11 [00:00<?, ?it/s]"
      ]
     },
     "metadata": {},
     "output_type": "display_data"
    }
   ],
   "source": [
    "for input_dim in tqdm.notebook.tqdm([8, 12, 16, 32, 64, 96, 128, 192, 384, 768]):\n",
    "    for output_dim in tqdm.notebook.tqdm([1, 2, 4, 6, 8, 12, 16, 32, 64, 96, 128]):\n",
    "        if input_dim <= output_dim:\n",
    "            continue\n",
    "        if input_dim%output_dim != 0:\n",
    "            continue\n",
    "            \n",
    "        model = get_umap(input_dim, output_dim)\n",
    "        metrics.append(calculate_metrics(test_pca(model, input_dim), test_data, f\"UMAP ({input_dim}x{output_dim})\", show_pbar=False))"
   ]
  },
  {
   "cell_type": "code",
   "execution_count": 111,
   "metadata": {},
   "outputs": [
    {
     "data": {
      "text/html": [
       "<div>\n",
       "<style scoped>\n",
       "    .dataframe tbody tr th:only-of-type {\n",
       "        vertical-align: middle;\n",
       "    }\n",
       "\n",
       "    .dataframe tbody tr th {\n",
       "        vertical-align: top;\n",
       "    }\n",
       "\n",
       "    .dataframe thead th {\n",
       "        text-align: right;\n",
       "    }\n",
       "</style>\n",
       "<table border=\"1\" class=\"dataframe\">\n",
       "  <thead>\n",
       "    <tr style=\"text-align: right;\">\n",
       "      <th></th>\n",
       "      <th>Unnamed: 0</th>\n",
       "      <th>ratio</th>\n",
       "      <th>mean_pos_sim</th>\n",
       "      <th>mean_diff</th>\n",
       "      <th>method</th>\n",
       "      <th>reduction_rate</th>\n",
       "      <th>Unnamed: 0.1</th>\n",
       "    </tr>\n",
       "  </thead>\n",
       "  <tbody>\n",
       "    <tr>\n",
       "      <th>0</th>\n",
       "      <td>0</td>\n",
       "      <td>0.000000</td>\n",
       "      <td>1.000000</td>\n",
       "      <td>0.000000</td>\n",
       "      <td>Autoencoder (768x1)</td>\n",
       "      <td>768.000000</td>\n",
       "      <td>0.0</td>\n",
       "    </tr>\n",
       "    <tr>\n",
       "      <th>0</th>\n",
       "      <td>0</td>\n",
       "      <td>0.141166</td>\n",
       "      <td>0.730871</td>\n",
       "      <td>0.135898</td>\n",
       "      <td>Whitening (768x1)</td>\n",
       "      <td>768.000000</td>\n",
       "      <td>NaN</td>\n",
       "    </tr>\n",
       "    <tr>\n",
       "      <th>0</th>\n",
       "      <td>0</td>\n",
       "      <td>0.143567</td>\n",
       "      <td>0.732938</td>\n",
       "      <td>0.137099</td>\n",
       "      <td>PCA (768x1)</td>\n",
       "      <td>768.000000</td>\n",
       "      <td>NaN</td>\n",
       "    </tr>\n",
       "    <tr>\n",
       "      <th>0</th>\n",
       "      <td>0</td>\n",
       "      <td>0.163105</td>\n",
       "      <td>0.399593</td>\n",
       "      <td>0.023772</td>\n",
       "      <td>UMAP (768x1)</td>\n",
       "      <td>768.000000</td>\n",
       "      <td>NaN</td>\n",
       "    </tr>\n",
       "    <tr>\n",
       "      <th>1</th>\n",
       "      <td>0</td>\n",
       "      <td>0.561331</td>\n",
       "      <td>0.662625</td>\n",
       "      <td>0.068469</td>\n",
       "      <td>UMAP (768x2)</td>\n",
       "      <td>384.000000</td>\n",
       "      <td>NaN</td>\n",
       "    </tr>\n",
       "    <tr>\n",
       "      <th>...</th>\n",
       "      <td>...</td>\n",
       "      <td>...</td>\n",
       "      <td>...</td>\n",
       "      <td>...</td>\n",
       "      <td>...</td>\n",
       "      <td>...</td>\n",
       "      <td>...</td>\n",
       "    </tr>\n",
       "    <tr>\n",
       "      <th>19</th>\n",
       "      <td>0</td>\n",
       "      <td>0.965759</td>\n",
       "      <td>0.732612</td>\n",
       "      <td>0.226916</td>\n",
       "      <td>Whitening (64x32)</td>\n",
       "      <td>2.000000</td>\n",
       "      <td>NaN</td>\n",
       "    </tr>\n",
       "    <tr>\n",
       "      <th>15</th>\n",
       "      <td>0</td>\n",
       "      <td>0.965992</td>\n",
       "      <td>0.735349</td>\n",
       "      <td>0.226656</td>\n",
       "      <td>PCA (64x32)</td>\n",
       "      <td>2.000000</td>\n",
       "      <td>NaN</td>\n",
       "    </tr>\n",
       "    <tr>\n",
       "      <th>20</th>\n",
       "      <td>0</td>\n",
       "      <td>0.967392</td>\n",
       "      <td>0.734172</td>\n",
       "      <td>0.227783</td>\n",
       "      <td>Whitening (96x64)</td>\n",
       "      <td>1.500000</td>\n",
       "      <td>NaN</td>\n",
       "    </tr>\n",
       "    <tr>\n",
       "      <th>21</th>\n",
       "      <td>0</td>\n",
       "      <td>0.967126</td>\n",
       "      <td>0.733070</td>\n",
       "      <td>0.228542</td>\n",
       "      <td>Whitening (128x96)</td>\n",
       "      <td>1.333333</td>\n",
       "      <td>NaN</td>\n",
       "    </tr>\n",
       "    <tr>\n",
       "      <th>0</th>\n",
       "      <td>0</td>\n",
       "      <td>0.968393</td>\n",
       "      <td>0.733018</td>\n",
       "      <td>0.228607</td>\n",
       "      <td>CLS vector</td>\n",
       "      <td>1.000000</td>\n",
       "      <td>NaN</td>\n",
       "    </tr>\n",
       "  </tbody>\n",
       "</table>\n",
       "<p>112 rows × 7 columns</p>\n",
       "</div>"
      ],
      "text/plain": [
       "    Unnamed: 0     ratio  mean_pos_sim  mean_diff               method  \\\n",
       "0            0  0.000000      1.000000   0.000000  Autoencoder (768x1)   \n",
       "0            0  0.141166      0.730871   0.135898    Whitening (768x1)   \n",
       "0            0  0.143567      0.732938   0.137099          PCA (768x1)   \n",
       "0            0  0.163105      0.399593   0.023772         UMAP (768x1)   \n",
       "1            0  0.561331      0.662625   0.068469         UMAP (768x2)   \n",
       "..         ...       ...           ...        ...                  ...   \n",
       "19           0  0.965759      0.732612   0.226916    Whitening (64x32)   \n",
       "15           0  0.965992      0.735349   0.226656          PCA (64x32)   \n",
       "20           0  0.967392      0.734172   0.227783    Whitening (96x64)   \n",
       "21           0  0.967126      0.733070   0.228542   Whitening (128x96)   \n",
       "0            0  0.968393      0.733018   0.228607           CLS vector   \n",
       "\n",
       "    reduction_rate  Unnamed: 0.1  \n",
       "0       768.000000           0.0  \n",
       "0       768.000000           NaN  \n",
       "0       768.000000           NaN  \n",
       "0       768.000000           NaN  \n",
       "1       384.000000           NaN  \n",
       "..             ...           ...  \n",
       "19        2.000000           NaN  \n",
       "15        2.000000           NaN  \n",
       "20        1.500000           NaN  \n",
       "21        1.333333           NaN  \n",
       "0         1.000000           NaN  \n",
       "\n",
       "[112 rows x 7 columns]"
      ]
     },
     "execution_count": 111,
     "metadata": {},
     "output_type": "execute_result"
    }
   ],
   "source": [
    "save_metrics(metrics, \"UMAP\")\n",
    "aggregate_metrics()"
   ]
  },
  {
   "cell_type": "markdown",
   "metadata": {},
   "source": [
    "### LocallyLinearEmbedding"
   ]
  },
  {
   "cell_type": "code",
   "execution_count": 118,
   "metadata": {
    "tags": []
   },
   "outputs": [],
   "source": [
    "from sklearn.manifold import LocallyLinearEmbedding"
   ]
  },
  {
   "cell_type": "code",
   "execution_count": 119,
   "metadata": {},
   "outputs": [],
   "source": [
    "batch_size = 512\n",
    "def test_lle(model, input_dim):\n",
    "    def _inner(embeddings):\n",
    "        res = []\n",
    "        x = embeddings.reshape(-1, input_dim)\n",
    "        \n",
    "        for i in range(0, len(x), batch_size):\n",
    "            res.append(model.transform(x[i:i+batch_size]))\n",
    "\n",
    "        x = np.concatenate(res)\n",
    "        x = x.reshape(len(embeddings), -1)\n",
    "        return x\n",
    "    return _inner\n",
    "\n",
    "def get_lle(input_dim, output_dim):\n",
    "    model = LocallyLinearEmbedding(n_components=output_dim, n_jobs=20)\n",
    "    data = train_data[0].reshape(-1, input_dim)[:5000]\n",
    "    model.fit(data)\n",
    "    return model"
   ]
  },
  {
   "cell_type": "code",
   "execution_count": 121,
   "metadata": {},
   "outputs": [],
   "source": [
    "metrics = []"
   ]
  },
  {
   "cell_type": "code",
   "execution_count": 124,
   "metadata": {
    "tags": []
   },
   "outputs": [],
   "source": [
    "# for input_dim in tqdm.notebook.tqdm([8, 16, 32, 64, 128, 768][::-1]):\n",
    "#     for output_dim in tqdm.notebook.tqdm([2, 4, 8, 16, 32, 64, 128]):\n",
    "\n",
    "# if input_dim <= output_dim:\n",
    "#     continue\n",
    "\n",
    "input_dim = 768\n",
    "output_dim = 6\n",
    "\n",
    "model = get_lle(input_dim, output_dim)\n",
    "metrics.append(calculate_metrics(test_lle(model, input_dim), test_data, f\"LocallyLinearEmbedding ({input_dim}x{output_dim})\", show_pbar=False))"
   ]
  },
  {
   "cell_type": "code",
   "execution_count": 125,
   "metadata": {},
   "outputs": [
    {
     "data": {
      "text/plain": [
       "[     ratio  mean_pos_sim  mean_diff                          method  \\\n",
       " 0  0.54256      0.478783   0.050243  LocallyLinearEmbedding (768x4)   \n",
       " \n",
       "    reduction_rate  \n",
       " 0           192.0  ,\n",
       "       ratio  mean_pos_sim  mean_diff                          method  \\\n",
       " 0  0.546561      0.472823   0.053497  LocallyLinearEmbedding (768x6)   \n",
       " \n",
       "    reduction_rate  \n",
       " 0           128.0  ]"
      ]
     },
     "execution_count": 125,
     "metadata": {},
     "output_type": "execute_result"
    }
   ],
   "source": [
    "metrics"
   ]
  },
  {
   "cell_type": "code",
   "execution_count": 66,
   "metadata": {},
   "outputs": [
    {
     "data": {
      "text/html": [
       "<div>\n",
       "<style scoped>\n",
       "    .dataframe tbody tr th:only-of-type {\n",
       "        vertical-align: middle;\n",
       "    }\n",
       "\n",
       "    .dataframe tbody tr th {\n",
       "        vertical-align: top;\n",
       "    }\n",
       "\n",
       "    .dataframe thead th {\n",
       "        text-align: right;\n",
       "    }\n",
       "</style>\n",
       "<table border=\"1\" class=\"dataframe\">\n",
       "  <thead>\n",
       "    <tr style=\"text-align: right;\">\n",
       "      <th></th>\n",
       "      <th>ratio</th>\n",
       "      <th>mean_pos_sim</th>\n",
       "      <th>mean_diff</th>\n",
       "      <th>method</th>\n",
       "      <th>reduction_rate</th>\n",
       "    </tr>\n",
       "  </thead>\n",
       "  <tbody>\n",
       "    <tr>\n",
       "      <th>0</th>\n",
       "      <td>0.624612</td>\n",
       "      <td>0.796312</td>\n",
       "      <td>0.109099</td>\n",
       "      <td>LocallyLinearEmbedding (768x2)</td>\n",
       "      <td>384.0</td>\n",
       "    </tr>\n",
       "    <tr>\n",
       "      <th>0</th>\n",
       "      <td>0.658020</td>\n",
       "      <td>0.819372</td>\n",
       "      <td>0.113057</td>\n",
       "      <td>LocallyLinearEmbedding (768x4)</td>\n",
       "      <td>192.0</td>\n",
       "    </tr>\n",
       "    <tr>\n",
       "      <th>0</th>\n",
       "      <td>0.673090</td>\n",
       "      <td>0.826621</td>\n",
       "      <td>0.110064</td>\n",
       "      <td>LocallyLinearEmbedding (768x8)</td>\n",
       "      <td>96.0</td>\n",
       "    </tr>\n",
       "    <tr>\n",
       "      <th>0</th>\n",
       "      <td>0.622545</td>\n",
       "      <td>0.653948</td>\n",
       "      <td>0.111262</td>\n",
       "      <td>LocallyLinearEmbedding (128x2)</td>\n",
       "      <td>64.0</td>\n",
       "    </tr>\n",
       "    <tr>\n",
       "      <th>0</th>\n",
       "      <td>0.688461</td>\n",
       "      <td>0.812073</td>\n",
       "      <td>0.126374</td>\n",
       "      <td>LocallyLinearEmbedding (768x16)</td>\n",
       "      <td>48.0</td>\n",
       "    </tr>\n",
       "    <tr>\n",
       "      <th>0</th>\n",
       "      <td>0.737639</td>\n",
       "      <td>0.451451</td>\n",
       "      <td>0.179626</td>\n",
       "      <td>LocallyLinearEmbedding (64x2)</td>\n",
       "      <td>32.0</td>\n",
       "    </tr>\n",
       "    <tr>\n",
       "      <th>0</th>\n",
       "      <td>0.707932</td>\n",
       "      <td>0.776378</td>\n",
       "      <td>0.152379</td>\n",
       "      <td>LocallyLinearEmbedding (768x32)</td>\n",
       "      <td>24.0</td>\n",
       "    </tr>\n",
       "    <tr>\n",
       "      <th>0</th>\n",
       "      <td>0.803888</td>\n",
       "      <td>0.439338</td>\n",
       "      <td>0.183319</td>\n",
       "      <td>LocallyLinearEmbedding (32x2)</td>\n",
       "      <td>16.0</td>\n",
       "    </tr>\n",
       "    <tr>\n",
       "      <th>0</th>\n",
       "      <td>0.720935</td>\n",
       "      <td>0.741271</td>\n",
       "      <td>0.172130</td>\n",
       "      <td>LocallyLinearEmbedding (768x64)</td>\n",
       "      <td>12.0</td>\n",
       "    </tr>\n",
       "    <tr>\n",
       "      <th>0</th>\n",
       "      <td>0.852099</td>\n",
       "      <td>0.424947</td>\n",
       "      <td>0.181779</td>\n",
       "      <td>LocallyLinearEmbedding (32x4)</td>\n",
       "      <td>8.0</td>\n",
       "    </tr>\n",
       "    <tr>\n",
       "      <th>0</th>\n",
       "      <td>0.733304</td>\n",
       "      <td>0.713037</td>\n",
       "      <td>0.189119</td>\n",
       "      <td>LocallyLinearEmbedding (768x128)</td>\n",
       "      <td>6.0</td>\n",
       "    </tr>\n",
       "    <tr>\n",
       "      <th>0</th>\n",
       "      <td>0.885140</td>\n",
       "      <td>0.415191</td>\n",
       "      <td>0.180305</td>\n",
       "      <td>LocallyLinearEmbedding (32x8)</td>\n",
       "      <td>4.0</td>\n",
       "    </tr>\n",
       "    <tr>\n",
       "      <th>0</th>\n",
       "      <td>0.878405</td>\n",
       "      <td>0.403842</td>\n",
       "      <td>0.179227</td>\n",
       "      <td>LocallyLinearEmbedding (64x32)</td>\n",
       "      <td>2.0</td>\n",
       "    </tr>\n",
       "  </tbody>\n",
       "</table>\n",
       "</div>"
      ],
      "text/plain": [
       "      ratio  mean_pos_sim  mean_diff                            method  \\\n",
       "0  0.624612      0.796312   0.109099    LocallyLinearEmbedding (768x2)   \n",
       "0  0.658020      0.819372   0.113057    LocallyLinearEmbedding (768x4)   \n",
       "0  0.673090      0.826621   0.110064    LocallyLinearEmbedding (768x8)   \n",
       "0  0.622545      0.653948   0.111262    LocallyLinearEmbedding (128x2)   \n",
       "0  0.688461      0.812073   0.126374   LocallyLinearEmbedding (768x16)   \n",
       "0  0.737639      0.451451   0.179626     LocallyLinearEmbedding (64x2)   \n",
       "0  0.707932      0.776378   0.152379   LocallyLinearEmbedding (768x32)   \n",
       "0  0.803888      0.439338   0.183319     LocallyLinearEmbedding (32x2)   \n",
       "0  0.720935      0.741271   0.172130   LocallyLinearEmbedding (768x64)   \n",
       "0  0.852099      0.424947   0.181779     LocallyLinearEmbedding (32x4)   \n",
       "0  0.733304      0.713037   0.189119  LocallyLinearEmbedding (768x128)   \n",
       "0  0.885140      0.415191   0.180305     LocallyLinearEmbedding (32x8)   \n",
       "0  0.878405      0.403842   0.179227    LocallyLinearEmbedding (64x32)   \n",
       "\n",
       "   reduction_rate  \n",
       "0           384.0  \n",
       "0           192.0  \n",
       "0            96.0  \n",
       "0            64.0  \n",
       "0            48.0  \n",
       "0            32.0  \n",
       "0            24.0  \n",
       "0            16.0  \n",
       "0            12.0  \n",
       "0             8.0  \n",
       "0             6.0  \n",
       "0             4.0  \n",
       "0             2.0  "
      ]
     },
     "execution_count": 66,
     "metadata": {},
     "output_type": "execute_result"
    }
   ],
   "source": [
    "cmetrics = pd.concat(metrics)\n",
    "\n",
    "max_ratio = cmetrics.groupby(\"reduction_rate\").max()[\"ratio\"]\n",
    "cmetrics = cmetrics[cmetrics.apply(lambda x: x[\"ratio\"]==max_ratio[x[\"reduction_rate\"]], axis=1)]\n",
    "cmetrics = cmetrics.sort_values(\"reduction_rate\", ascending=False)\n",
    "# cmetrics.to_csv(\"results/LocallyLinear.csv\")\n",
    "\n",
    "cmetrics"
   ]
  },
  {
   "cell_type": "code",
   "execution_count": null,
   "metadata": {},
   "outputs": [],
   "source": []
  },
  {
   "cell_type": "markdown",
   "metadata": {},
   "source": [
    "### Whitening Sentence Representations "
   ]
  },
  {
   "cell_type": "code",
   "execution_count": 5,
   "metadata": {},
   "outputs": [],
   "source": [
    "def compute_kernel_bias(input_dim):\n",
    "    \"\"\"\n",
    "    y = (x + bias).dot(kernel)\n",
    "    \"\"\"\n",
    "    vecs = train_data[0].reshape(-1, input_dim)\n",
    "    # vecs = np.concatenate(vecs, axis=0)\n",
    "    mu = vecs.mean(axis=0, keepdims=True)\n",
    "    cov = np.cov(vecs.T)\n",
    "    u, s, vh = np.linalg.svd(cov)\n",
    "    W = np.dot(u, np.diag(1/np.sqrt(s)))\n",
    "    return W, -mu\n",
    "\n",
    "def transform_and_normalize(vecs, kernel, bias):\n",
    "    if not (kernel is None or bias is None):\n",
    "        vecs = (vecs + bias).dot(kernel)\n",
    "    normalized=vecs / (vecs**2).sum(axis=1, keepdims=True)**0.5\n",
    "    return normalized\n",
    "\n",
    "def test_whitening(kernel, bias,input_dim):\n",
    "    def _inner(embeddings):\n",
    "        x = embeddings.reshape(-1, input_dim)\n",
    "        x = transform_and_normalize(x,kernel=kernel,bias=bias)\n",
    "        x = x.reshape(len(embeddings), -1)\n",
    "        return x\n",
    "    return _inner"
   ]
  },
  {
   "cell_type": "code",
   "execution_count": 6,
   "metadata": {},
   "outputs": [],
   "source": [
    "metrics = []"
   ]
  },
  {
   "cell_type": "code",
   "execution_count": 7,
   "metadata": {},
   "outputs": [
    {
     "name": "stderr",
     "output_type": "stream",
     "text": [
      " 93%|████████████████████████████████████████████████████████████████████████████████████████████████▉       | 27966/29993 [00:09<00:00, 3097.27it/s]\n"
     ]
    },
    {
     "ename": "KeyboardInterrupt",
     "evalue": "",
     "output_type": "error",
     "traceback": [
      "\u001b[0;31m---------------------------------------------------------------------------\u001b[0m",
      "\u001b[0;31mKeyboardInterrupt\u001b[0m                         Traceback (most recent call last)",
      "\u001b[0;32m/tmp/ipykernel_35790/2866004253.py\u001b[0m in \u001b[0;36m<module>\u001b[0;34m\u001b[0m\n\u001b[1;32m      5\u001b[0m         \u001b[0mkernel\u001b[0m\u001b[0;34m,\u001b[0m \u001b[0mbias\u001b[0m \u001b[0;34m=\u001b[0m \u001b[0mcompute_kernel_bias\u001b[0m\u001b[0;34m(\u001b[0m\u001b[0minput_dim\u001b[0m\u001b[0;34m)\u001b[0m\u001b[0;34m\u001b[0m\u001b[0;34m\u001b[0m\u001b[0m\n\u001b[1;32m      6\u001b[0m         \u001b[0mkernel\u001b[0m \u001b[0;34m=\u001b[0m \u001b[0mkernel\u001b[0m\u001b[0;34m[\u001b[0m\u001b[0;34m:\u001b[0m\u001b[0;34m,\u001b[0m \u001b[0;34m:\u001b[0m\u001b[0moutput_dim\u001b[0m\u001b[0;34m]\u001b[0m\u001b[0;34m\u001b[0m\u001b[0;34m\u001b[0m\u001b[0m\n\u001b[0;32m----> 7\u001b[0;31m         \u001b[0mmetrics\u001b[0m\u001b[0;34m.\u001b[0m\u001b[0mappend\u001b[0m\u001b[0;34m(\u001b[0m\u001b[0mcalculate_metrics\u001b[0m\u001b[0;34m(\u001b[0m\u001b[0mtest_whitening\u001b[0m\u001b[0;34m(\u001b[0m\u001b[0mkernel\u001b[0m\u001b[0;34m,\u001b[0m\u001b[0mbias\u001b[0m\u001b[0;34m,\u001b[0m\u001b[0minput_dim\u001b[0m\u001b[0;34m)\u001b[0m\u001b[0;34m,\u001b[0m \u001b[0mtest_data\u001b[0m\u001b[0;34m,\u001b[0m \u001b[0;34mf\"Whitening ({input_dim}x{output_dim})\"\u001b[0m\u001b[0;34m)\u001b[0m\u001b[0;34m)\u001b[0m\u001b[0;34m\u001b[0m\u001b[0;34m\u001b[0m\u001b[0m\n\u001b[0m",
      "\u001b[0;32m/tmp/ipykernel_35790/981936031.py\u001b[0m in \u001b[0;36mcalculate_metrics\u001b[0;34m(method, data, name, show_pbar)\u001b[0m\n\u001b[1;32m     12\u001b[0m         \u001b[0mquery\u001b[0m\u001b[0;34m,\u001b[0m \u001b[0mpos\u001b[0m\u001b[0;34m,\u001b[0m \u001b[0mneg\u001b[0m \u001b[0;34m=\u001b[0m \u001b[0manchors\u001b[0m\u001b[0;34m[\u001b[0m\u001b[0mi\u001b[0m\u001b[0;34m]\u001b[0m\u001b[0;34m,\u001b[0m \u001b[0mpositives\u001b[0m\u001b[0;34m[\u001b[0m\u001b[0mi\u001b[0m\u001b[0;34m]\u001b[0m\u001b[0;34m,\u001b[0m \u001b[0mnegatives\u001b[0m\u001b[0;34m[\u001b[0m\u001b[0mi\u001b[0m\u001b[0;34m]\u001b[0m\u001b[0;34m\u001b[0m\u001b[0;34m\u001b[0m\u001b[0m\n\u001b[1;32m     13\u001b[0m         \u001b[0mpos_similarity\u001b[0m\u001b[0;34m.\u001b[0m\u001b[0mappend\u001b[0m\u001b[0;34m(\u001b[0m\u001b[0mcosine_similarity\u001b[0m\u001b[0;34m(\u001b[0m\u001b[0;34m[\u001b[0m\u001b[0mquery\u001b[0m\u001b[0;34m]\u001b[0m\u001b[0;34m,\u001b[0m \u001b[0;34m[\u001b[0m\u001b[0mpos\u001b[0m\u001b[0;34m]\u001b[0m\u001b[0;34m)\u001b[0m\u001b[0;34m[\u001b[0m\u001b[0;36m0\u001b[0m\u001b[0;34m]\u001b[0m\u001b[0;34m[\u001b[0m\u001b[0;36m0\u001b[0m\u001b[0;34m]\u001b[0m\u001b[0;34m)\u001b[0m\u001b[0;34m\u001b[0m\u001b[0;34m\u001b[0m\u001b[0m\n\u001b[0;32m---> 14\u001b[0;31m         \u001b[0mneg_similarity\u001b[0m\u001b[0;34m.\u001b[0m\u001b[0mappend\u001b[0m\u001b[0;34m(\u001b[0m\u001b[0mcosine_similarity\u001b[0m\u001b[0;34m(\u001b[0m\u001b[0;34m[\u001b[0m\u001b[0mquery\u001b[0m\u001b[0;34m]\u001b[0m\u001b[0;34m,\u001b[0m \u001b[0;34m[\u001b[0m\u001b[0mneg\u001b[0m\u001b[0;34m]\u001b[0m\u001b[0;34m)\u001b[0m\u001b[0;34m[\u001b[0m\u001b[0;36m0\u001b[0m\u001b[0;34m]\u001b[0m\u001b[0;34m[\u001b[0m\u001b[0;36m0\u001b[0m\u001b[0;34m]\u001b[0m\u001b[0;34m)\u001b[0m\u001b[0;34m\u001b[0m\u001b[0;34m\u001b[0m\u001b[0m\n\u001b[0m\u001b[1;32m     15\u001b[0m \u001b[0;34m\u001b[0m\u001b[0m\n\u001b[1;32m     16\u001b[0m     \u001b[0mpos_similarity\u001b[0m \u001b[0;34m=\u001b[0m \u001b[0mnp\u001b[0m\u001b[0;34m.\u001b[0m\u001b[0marray\u001b[0m\u001b[0;34m(\u001b[0m\u001b[0mpos_similarity\u001b[0m\u001b[0;34m)\u001b[0m\u001b[0;34m\u001b[0m\u001b[0;34m\u001b[0m\u001b[0m\n",
      "\u001b[0;32m/bi/ala/scratch/pmehrbod/pmenvv/lib/python3.7/site-packages/sklearn/metrics/pairwise.py\u001b[0m in \u001b[0;36mcosine_similarity\u001b[0;34m(X, Y, dense_output)\u001b[0m\n\u001b[1;32m   1184\u001b[0m         \u001b[0mY_normalized\u001b[0m \u001b[0;34m=\u001b[0m \u001b[0mX_normalized\u001b[0m\u001b[0;34m\u001b[0m\u001b[0;34m\u001b[0m\u001b[0m\n\u001b[1;32m   1185\u001b[0m     \u001b[0;32melse\u001b[0m\u001b[0;34m:\u001b[0m\u001b[0;34m\u001b[0m\u001b[0;34m\u001b[0m\u001b[0m\n\u001b[0;32m-> 1186\u001b[0;31m         \u001b[0mY_normalized\u001b[0m \u001b[0;34m=\u001b[0m \u001b[0mnormalize\u001b[0m\u001b[0;34m(\u001b[0m\u001b[0mY\u001b[0m\u001b[0;34m,\u001b[0m \u001b[0mcopy\u001b[0m\u001b[0;34m=\u001b[0m\u001b[0;32mTrue\u001b[0m\u001b[0;34m)\u001b[0m\u001b[0;34m\u001b[0m\u001b[0;34m\u001b[0m\u001b[0m\n\u001b[0m\u001b[1;32m   1187\u001b[0m \u001b[0;34m\u001b[0m\u001b[0m\n\u001b[1;32m   1188\u001b[0m     K = safe_sparse_dot(X_normalized, Y_normalized.T,\n",
      "\u001b[0;32m/bi/ala/scratch/pmehrbod/pmenvv/lib/python3.7/site-packages/sklearn/utils/validation.py\u001b[0m in \u001b[0;36minner_f\u001b[0;34m(*args, **kwargs)\u001b[0m\n\u001b[1;32m     61\u001b[0m             \u001b[0mextra_args\u001b[0m \u001b[0;34m=\u001b[0m \u001b[0mlen\u001b[0m\u001b[0;34m(\u001b[0m\u001b[0margs\u001b[0m\u001b[0;34m)\u001b[0m \u001b[0;34m-\u001b[0m \u001b[0mlen\u001b[0m\u001b[0;34m(\u001b[0m\u001b[0mall_args\u001b[0m\u001b[0;34m)\u001b[0m\u001b[0;34m\u001b[0m\u001b[0;34m\u001b[0m\u001b[0m\n\u001b[1;32m     62\u001b[0m             \u001b[0;32mif\u001b[0m \u001b[0mextra_args\u001b[0m \u001b[0;34m<=\u001b[0m \u001b[0;36m0\u001b[0m\u001b[0;34m:\u001b[0m\u001b[0;34m\u001b[0m\u001b[0;34m\u001b[0m\u001b[0m\n\u001b[0;32m---> 63\u001b[0;31m                 \u001b[0;32mreturn\u001b[0m \u001b[0mf\u001b[0m\u001b[0;34m(\u001b[0m\u001b[0;34m*\u001b[0m\u001b[0margs\u001b[0m\u001b[0;34m,\u001b[0m \u001b[0;34m**\u001b[0m\u001b[0mkwargs\u001b[0m\u001b[0;34m)\u001b[0m\u001b[0;34m\u001b[0m\u001b[0;34m\u001b[0m\u001b[0m\n\u001b[0m\u001b[1;32m     64\u001b[0m \u001b[0;34m\u001b[0m\u001b[0m\n\u001b[1;32m     65\u001b[0m             \u001b[0;31m# extra_args > 0\u001b[0m\u001b[0;34m\u001b[0m\u001b[0;34m\u001b[0m\u001b[0;34m\u001b[0m\u001b[0m\n",
      "\u001b[0;32m/bi/ala/scratch/pmehrbod/pmenvv/lib/python3.7/site-packages/sklearn/preprocessing/_data.py\u001b[0m in \u001b[0;36mnormalize\u001b[0;34m(X, norm, axis, copy, return_norm)\u001b[0m\n\u001b[1;32m   1903\u001b[0m \u001b[0;34m\u001b[0m\u001b[0m\n\u001b[1;32m   1904\u001b[0m     X = check_array(X, accept_sparse=sparse_format, copy=copy,\n\u001b[0;32m-> 1905\u001b[0;31m                     estimator='the normalize function', dtype=FLOAT_DTYPES)\n\u001b[0m\u001b[1;32m   1906\u001b[0m     \u001b[0;32mif\u001b[0m \u001b[0maxis\u001b[0m \u001b[0;34m==\u001b[0m \u001b[0;36m0\u001b[0m\u001b[0;34m:\u001b[0m\u001b[0;34m\u001b[0m\u001b[0;34m\u001b[0m\u001b[0m\n\u001b[1;32m   1907\u001b[0m         \u001b[0mX\u001b[0m \u001b[0;34m=\u001b[0m \u001b[0mX\u001b[0m\u001b[0;34m.\u001b[0m\u001b[0mT\u001b[0m\u001b[0;34m\u001b[0m\u001b[0;34m\u001b[0m\u001b[0m\n",
      "\u001b[0;32m/bi/ala/scratch/pmehrbod/pmenvv/lib/python3.7/site-packages/sklearn/utils/validation.py\u001b[0m in \u001b[0;36minner_f\u001b[0;34m(*args, **kwargs)\u001b[0m\n\u001b[1;32m     61\u001b[0m             \u001b[0mextra_args\u001b[0m \u001b[0;34m=\u001b[0m \u001b[0mlen\u001b[0m\u001b[0;34m(\u001b[0m\u001b[0margs\u001b[0m\u001b[0;34m)\u001b[0m \u001b[0;34m-\u001b[0m \u001b[0mlen\u001b[0m\u001b[0;34m(\u001b[0m\u001b[0mall_args\u001b[0m\u001b[0;34m)\u001b[0m\u001b[0;34m\u001b[0m\u001b[0;34m\u001b[0m\u001b[0m\n\u001b[1;32m     62\u001b[0m             \u001b[0;32mif\u001b[0m \u001b[0mextra_args\u001b[0m \u001b[0;34m<=\u001b[0m \u001b[0;36m0\u001b[0m\u001b[0;34m:\u001b[0m\u001b[0;34m\u001b[0m\u001b[0;34m\u001b[0m\u001b[0m\n\u001b[0;32m---> 63\u001b[0;31m                 \u001b[0;32mreturn\u001b[0m \u001b[0mf\u001b[0m\u001b[0;34m(\u001b[0m\u001b[0;34m*\u001b[0m\u001b[0margs\u001b[0m\u001b[0;34m,\u001b[0m \u001b[0;34m**\u001b[0m\u001b[0mkwargs\u001b[0m\u001b[0;34m)\u001b[0m\u001b[0;34m\u001b[0m\u001b[0;34m\u001b[0m\u001b[0m\n\u001b[0m\u001b[1;32m     64\u001b[0m \u001b[0;34m\u001b[0m\u001b[0m\n\u001b[1;32m     65\u001b[0m             \u001b[0;31m# extra_args > 0\u001b[0m\u001b[0;34m\u001b[0m\u001b[0;34m\u001b[0m\u001b[0;34m\u001b[0m\u001b[0m\n",
      "\u001b[0;32m/bi/ala/scratch/pmehrbod/pmenvv/lib/python3.7/site-packages/sklearn/utils/validation.py\u001b[0m in \u001b[0;36mcheck_array\u001b[0;34m(array, accept_sparse, accept_large_sparse, dtype, order, copy, force_all_finite, ensure_2d, allow_nd, ensure_min_samples, ensure_min_features, estimator)\u001b[0m\n\u001b[1;32m    671\u001b[0m                     \u001b[0marray\u001b[0m \u001b[0;34m=\u001b[0m \u001b[0marray\u001b[0m\u001b[0;34m.\u001b[0m\u001b[0mastype\u001b[0m\u001b[0;34m(\u001b[0m\u001b[0mdtype\u001b[0m\u001b[0;34m,\u001b[0m \u001b[0mcasting\u001b[0m\u001b[0;34m=\u001b[0m\u001b[0;34m\"unsafe\"\u001b[0m\u001b[0;34m,\u001b[0m \u001b[0mcopy\u001b[0m\u001b[0;34m=\u001b[0m\u001b[0;32mFalse\u001b[0m\u001b[0;34m)\u001b[0m\u001b[0;34m\u001b[0m\u001b[0;34m\u001b[0m\u001b[0m\n\u001b[1;32m    672\u001b[0m                 \u001b[0;32melse\u001b[0m\u001b[0;34m:\u001b[0m\u001b[0;34m\u001b[0m\u001b[0;34m\u001b[0m\u001b[0m\n\u001b[0;32m--> 673\u001b[0;31m                     \u001b[0marray\u001b[0m \u001b[0;34m=\u001b[0m \u001b[0mnp\u001b[0m\u001b[0;34m.\u001b[0m\u001b[0masarray\u001b[0m\u001b[0;34m(\u001b[0m\u001b[0marray\u001b[0m\u001b[0;34m,\u001b[0m \u001b[0morder\u001b[0m\u001b[0;34m=\u001b[0m\u001b[0morder\u001b[0m\u001b[0;34m,\u001b[0m \u001b[0mdtype\u001b[0m\u001b[0;34m=\u001b[0m\u001b[0mdtype\u001b[0m\u001b[0;34m)\u001b[0m\u001b[0;34m\u001b[0m\u001b[0;34m\u001b[0m\u001b[0m\n\u001b[0m\u001b[1;32m    674\u001b[0m             \u001b[0;32mexcept\u001b[0m \u001b[0mComplexWarning\u001b[0m \u001b[0;32mas\u001b[0m \u001b[0mcomplex_warning\u001b[0m\u001b[0;34m:\u001b[0m\u001b[0;34m\u001b[0m\u001b[0;34m\u001b[0m\u001b[0m\n\u001b[1;32m    675\u001b[0m                 raise ValueError(\"Complex data not supported\\n\"\n",
      "\u001b[0;32m/bi/ala/scratch/pmehrbod/pmenvv/lib/python3.7/site-packages/numpy/core/_asarray.py\u001b[0m in \u001b[0;36masarray\u001b[0;34m(a, dtype, order)\u001b[0m\n\u001b[1;32m     81\u001b[0m \u001b[0;34m\u001b[0m\u001b[0m\n\u001b[1;32m     82\u001b[0m     \"\"\"\n\u001b[0;32m---> 83\u001b[0;31m     \u001b[0;32mreturn\u001b[0m \u001b[0marray\u001b[0m\u001b[0;34m(\u001b[0m\u001b[0ma\u001b[0m\u001b[0;34m,\u001b[0m \u001b[0mdtype\u001b[0m\u001b[0;34m,\u001b[0m \u001b[0mcopy\u001b[0m\u001b[0;34m=\u001b[0m\u001b[0;32mFalse\u001b[0m\u001b[0;34m,\u001b[0m \u001b[0morder\u001b[0m\u001b[0;34m=\u001b[0m\u001b[0morder\u001b[0m\u001b[0;34m)\u001b[0m\u001b[0;34m\u001b[0m\u001b[0;34m\u001b[0m\u001b[0m\n\u001b[0m\u001b[1;32m     84\u001b[0m \u001b[0;34m\u001b[0m\u001b[0m\n\u001b[1;32m     85\u001b[0m \u001b[0;34m\u001b[0m\u001b[0m\n",
      "\u001b[0;31mKeyboardInterrupt\u001b[0m: "
     ]
    }
   ],
   "source": [
    "# for input_dim in tqdm.notebook.tqdm([8, 12, 16, 32, 64, 96, 128, 192, 384, 768]):\n",
    "#     for output_dim in tqdm.notebook.tqdm([1, 2, 4, 6, 8, 12, 16, 32, 64, 96, 128]):\n",
    "for (input_dim, output_dim) in tqdm.notebook.tqdm([[768, 1],\n",
    "                                [768, 2],\n",
    "                                [768, 4],\n",
    "                                [768, 6],\n",
    "                                [768, 8],\n",
    "                                [768, 12],\n",
    "                                [768, 16],\n",
    "                                [384, 12],\n",
    "                                [768, 32],\n",
    "                                [128, 8],\n",
    "                                [768, 64],\n",
    "                                [768, 96],\n",
    "                                [768, 128],\n",
    "                                [384, 96],\n",
    "                                [384, 128],\n",
    "                                [64, 32]]):\n",
    "\n",
    "        if input_dim <= output_dim:\n",
    "            continue\n",
    "        if input_dim%output_dim != 0:\n",
    "            continueoutput_dim\n",
    "        kernel, bias = compute_kernel_bias(input_dim)\n",
    "        kernel = kernel[:, :output_dim]\n",
    "        metrics.append(calculate_metrics(test_whitening(kernel,bias,input_dim), test_data, f\"Whitening ({input_dim}x{output_dim})\", False))"
   ]
  },
  {
   "cell_type": "code",
   "execution_count": 101,
   "metadata": {},
   "outputs": [
    {
     "data": {
      "text/plain": [
       "[      ratio  mean_pos_sim  mean_diff             method  reduction_rate\n",
       " 0  0.010569     -0.096723  -0.011736  Whitening (768x1)           768.0,\n",
       "       ratio  mean_pos_sim  mean_diff             method  reduction_rate\n",
       " 0  0.517421      0.261078   0.013379  Whitening (768x2)           384.0,\n",
       "       ratio  mean_pos_sim  mean_diff             method  reduction_rate\n",
       " 0  0.547961      0.451754   0.035201  Whitening (768x4)           192.0,\n",
       "       ratio  mean_pos_sim  mean_diff             method  reduction_rate\n",
       " 0  0.580869      0.501798   0.054193  Whitening (768x6)           128.0,\n",
       "       ratio  mean_pos_sim  mean_diff             method  reduction_rate\n",
       " 0  0.600874      0.513576   0.066501  Whitening (768x8)            96.0,\n",
       "       ratio  mean_pos_sim  mean_diff              method  reduction_rate\n",
       " 0  0.631981      0.532373    0.07835  Whitening (768x12)            64.0,\n",
       "       ratio  mean_pos_sim  mean_diff              method  reduction_rate\n",
       " 0  0.654653      0.528519   0.085065  Whitening (768x16)            48.0,\n",
       "       ratio  mean_pos_sim  mean_diff              method  reduction_rate\n",
       " 0  0.618444      0.522423   0.061965  Whitening (384x12)            32.0,\n",
       "       ratio  mean_pos_sim  mean_diff              method  reduction_rate\n",
       " 0  0.685093      0.515043   0.091673  Whitening (768x32)            24.0,\n",
       "       ratio  mean_pos_sim  mean_diff             method  reduction_rate\n",
       " 0  0.612876      0.512798   0.051295  Whitening (128x8)            16.0,\n",
       "       ratio  mean_pos_sim  mean_diff              method  reduction_rate\n",
       " 0  0.707632      0.484401   0.092651  Whitening (768x64)            12.0,\n",
       "       ratio  mean_pos_sim  mean_diff              method  reduction_rate\n",
       " 0  0.715834      0.456386   0.090333  Whitening (768x96)             8.0,\n",
       "       ratio  mean_pos_sim  mean_diff               method  reduction_rate\n",
       " 0  0.716167      0.427438   0.087989  Whitening (768x128)             6.0,\n",
       "     ratio  mean_pos_sim  mean_diff              method  reduction_rate\n",
       " 0  0.7128      0.472544   0.089288  Whitening (384x96)             4.0,\n",
       "       ratio  mean_pos_sim  mean_diff               method  reduction_rate\n",
       " 0  0.717934      0.454363   0.088697  Whitening (384x128)             3.0,\n",
       "       ratio  mean_pos_sim  mean_diff             method  reduction_rate\n",
       " 0  0.709766       0.46643   0.078096  Whitening (64x32)             2.0]"
      ]
     },
     "execution_count": 101,
     "metadata": {},
     "output_type": "execute_result"
    }
   ],
   "source": [
    "metrics"
   ]
  },
  {
   "cell_type": "code",
   "execution_count": 102,
   "metadata": {},
   "outputs": [
    {
     "data": {
      "text/html": [
       "<div>\n",
       "<style scoped>\n",
       "    .dataframe tbody tr th:only-of-type {\n",
       "        vertical-align: middle;\n",
       "    }\n",
       "\n",
       "    .dataframe tbody tr th {\n",
       "        vertical-align: top;\n",
       "    }\n",
       "\n",
       "    .dataframe thead th {\n",
       "        text-align: right;\n",
       "    }\n",
       "</style>\n",
       "<table border=\"1\" class=\"dataframe\">\n",
       "  <thead>\n",
       "    <tr style=\"text-align: right;\">\n",
       "      <th></th>\n",
       "      <th>Unnamed: 0</th>\n",
       "      <th>ratio</th>\n",
       "      <th>mean_pos_sim</th>\n",
       "      <th>mean_diff</th>\n",
       "      <th>method</th>\n",
       "      <th>reduction_rate</th>\n",
       "    </tr>\n",
       "  </thead>\n",
       "  <tbody>\n",
       "    <tr>\n",
       "      <th>0</th>\n",
       "      <td>0</td>\n",
       "      <td>0.010569</td>\n",
       "      <td>-0.096723</td>\n",
       "      <td>-0.011736</td>\n",
       "      <td>Whitening (768x1)</td>\n",
       "      <td>768.0</td>\n",
       "    </tr>\n",
       "    <tr>\n",
       "      <th>0</th>\n",
       "      <td>0</td>\n",
       "      <td>0.097456</td>\n",
       "      <td>-0.329110</td>\n",
       "      <td>-0.032274</td>\n",
       "      <td>PCA (768x1)</td>\n",
       "      <td>768.0</td>\n",
       "    </tr>\n",
       "    <tr>\n",
       "      <th>1</th>\n",
       "      <td>0</td>\n",
       "      <td>0.517421</td>\n",
       "      <td>0.261078</td>\n",
       "      <td>0.013379</td>\n",
       "      <td>Whitening (768x2)</td>\n",
       "      <td>384.0</td>\n",
       "    </tr>\n",
       "    <tr>\n",
       "      <th>1</th>\n",
       "      <td>0</td>\n",
       "      <td>0.523122</td>\n",
       "      <td>0.950220</td>\n",
       "      <td>0.005821</td>\n",
       "      <td>PCA (384x1)</td>\n",
       "      <td>384.0</td>\n",
       "    </tr>\n",
       "    <tr>\n",
       "      <th>0</th>\n",
       "      <td>0</td>\n",
       "      <td>0.527723</td>\n",
       "      <td>0.759369</td>\n",
       "      <td>0.031587</td>\n",
       "      <td>Average parts (384)</td>\n",
       "      <td>384.0</td>\n",
       "    </tr>\n",
       "    <tr>\n",
       "      <th>...</th>\n",
       "      <td>...</td>\n",
       "      <td>...</td>\n",
       "      <td>...</td>\n",
       "      <td>...</td>\n",
       "      <td>...</td>\n",
       "      <td>...</td>\n",
       "    </tr>\n",
       "    <tr>\n",
       "      <th>14</th>\n",
       "      <td>0</td>\n",
       "      <td>0.705998</td>\n",
       "      <td>0.482862</td>\n",
       "      <td>0.072484</td>\n",
       "      <td>Siamese network (32x16)</td>\n",
       "      <td>2.0</td>\n",
       "    </tr>\n",
       "    <tr>\n",
       "      <th>12</th>\n",
       "      <td>0</td>\n",
       "      <td>0.709599</td>\n",
       "      <td>0.460446</td>\n",
       "      <td>0.078406</td>\n",
       "      <td>Average parts (2)</td>\n",
       "      <td>2.0</td>\n",
       "    </tr>\n",
       "    <tr>\n",
       "      <th>15</th>\n",
       "      <td>0</td>\n",
       "      <td>0.709766</td>\n",
       "      <td>0.466430</td>\n",
       "      <td>0.078096</td>\n",
       "      <td>Whitening (64x32)</td>\n",
       "      <td>2.0</td>\n",
       "    </tr>\n",
       "    <tr>\n",
       "      <th>15</th>\n",
       "      <td>0</td>\n",
       "      <td>0.710599</td>\n",
       "      <td>0.469082</td>\n",
       "      <td>0.076467</td>\n",
       "      <td>PCA (16x8)</td>\n",
       "      <td>2.0</td>\n",
       "    </tr>\n",
       "    <tr>\n",
       "      <th>0</th>\n",
       "      <td>0</td>\n",
       "      <td>0.713700</td>\n",
       "      <td>0.461492</td>\n",
       "      <td>0.078354</td>\n",
       "      <td>CLS vector</td>\n",
       "      <td>1.0</td>\n",
       "    </tr>\n",
       "  </tbody>\n",
       "</table>\n",
       "<p>61 rows × 6 columns</p>\n",
       "</div>"
      ],
      "text/plain": [
       "    Unnamed: 0     ratio  mean_pos_sim  mean_diff                   method  \\\n",
       "0            0  0.010569     -0.096723  -0.011736        Whitening (768x1)   \n",
       "0            0  0.097456     -0.329110  -0.032274              PCA (768x1)   \n",
       "1            0  0.517421      0.261078   0.013379        Whitening (768x2)   \n",
       "1            0  0.523122      0.950220   0.005821              PCA (384x1)   \n",
       "0            0  0.527723      0.759369   0.031587      Average parts (384)   \n",
       "..         ...       ...           ...        ...                      ...   \n",
       "14           0  0.705998      0.482862   0.072484  Siamese network (32x16)   \n",
       "12           0  0.709599      0.460446   0.078406        Average parts (2)   \n",
       "15           0  0.709766      0.466430   0.078096        Whitening (64x32)   \n",
       "15           0  0.710599      0.469082   0.076467               PCA (16x8)   \n",
       "0            0  0.713700      0.461492   0.078354               CLS vector   \n",
       "\n",
       "    reduction_rate  \n",
       "0            768.0  \n",
       "0            768.0  \n",
       "1            384.0  \n",
       "1            384.0  \n",
       "0            384.0  \n",
       "..             ...  \n",
       "14             2.0  \n",
       "12             2.0  \n",
       "15             2.0  \n",
       "15             2.0  \n",
       "0              1.0  \n",
       "\n",
       "[61 rows x 6 columns]"
      ]
     },
     "execution_count": 102,
     "metadata": {},
     "output_type": "execute_result"
    }
   ],
   "source": [
    "save_metrics(metrics, \"whitening\")\n",
    "aggregate_metrics()"
   ]
  },
  {
   "cell_type": "markdown",
   "metadata": {},
   "source": [
    "### Siamese network"
   ]
  },
  {
   "cell_type": "code",
   "execution_count": 75,
   "metadata": {},
   "outputs": [],
   "source": [
    "data = torch.tensor(train_data).permute(1,0,2).to(DEVICE)\n",
    "triplet_loader = torch.utils.data.DataLoader(data.to(torch.float32), batch_size=32, shuffle=True)\n",
    "\n",
    "\n",
    "class EmbeddingHead(nn.Module):\n",
    "    def __init__(self, input_dim, hidden_dim, output_dim):\n",
    "        super().__init__()\n",
    "        self.encoder = nn.Sequential(\n",
    "                    nn.Linear(input_dim, output_dim),\n",
    "            )\n",
    "    \n",
    "    def forward(self, x):\n",
    "        x = self.encoder(x)\n",
    "        x = F.normalize(x)\n",
    "        return x\n",
    "\n",
    "def get_embedding_model(input_dim, hidden_dim, output_dim):\n",
    "    encoder = EmbeddingHead(input_dim, hidden_dim, output_dim).to(DEVICE)\n",
    "    return encoder\n",
    "\n",
    "def test_embedding(model, dim):\n",
    "    def _inner(embeddings):\n",
    "        x = embeddings.reshape(-1, dim)\n",
    "        x = torch.from_numpy(x).to(torch.float32)\n",
    "        x = model(x).cpu().detach().numpy()\n",
    "        x = x.reshape(len(embeddings), -1)\n",
    "        return x\n",
    "    return _inner"
   ]
  },
  {
   "cell_type": "code",
   "execution_count": 76,
   "metadata": {},
   "outputs": [],
   "source": [
    "batch_size = 32\n",
    "\n",
    "def train_siamese(model, dim, epochs=1, params=None):\n",
    "    optim = torch.optim.Adam(model.parameters(), params[\"LR\"])\n",
    "    \n",
    "    # experiment = Experiment(\n",
    "    # api_key=\"sQnInDpH3eOHuFvstNS3jG5jb\",\n",
    "    # project_name=\"vector-compression\",\n",
    "    # workspace=\"wwydmanski\",\n",
    "    # display_summary_level=0,\n",
    "    # auto_metric_logging=False\n",
    "    # )\n",
    "    # experiment.add_tag(\"biobert-siamese-network\")\n",
    "    # experiment.log_parameters(params)\n",
    "    \n",
    "    for epoch in tqdm.notebook.trange(1, epochs+1):\n",
    "        total_loss = []\n",
    "        model.train()\n",
    "        for step, sample in enumerate(triplet_loader):\n",
    "            sample = sample.reshape(-1, 3, dim)\n",
    "            anchor, pos, neg = sample[:, 0], sample[:, 1], sample[:, 2]\n",
    "\n",
    "            batch_loss = []\n",
    "            for idx in range(0, len(anchor), batch_size):\n",
    "                anchor_ = anchor[idx:idx+batch_size]\n",
    "                pos_ = pos[idx:idx+batch_size]\n",
    "                neg_ = neg[idx:idx+batch_size]\n",
    "\n",
    "                optim.zero_grad()\n",
    "\n",
    "                anchor_emb = model(anchor_)\n",
    "                pos_emb = model(pos_)\n",
    "                neg_emb = model(neg_)\n",
    "\n",
    "                # loss = (1-(anchor_emb*pos_emb).sum(axis=1))**2 \n",
    "                # loss += (anchor_emb*neg_emb).sum(axis=1)**2 \n",
    "                # loss += (3-torch.norm(anchor_emb, dim=1)-torch.norm(pos_emb, dim=1)-torch.norm(neg_emb, dim=1))**2\n",
    "                # loss = loss.mean()\n",
    "                loss = F.triplet_margin_with_distance_loss(anchor_emb, pos_emb, neg_emb, \n",
    "                                                           distance_function=lambda a,b: 1-F.cosine_similarity(a, b), margin=0.1)\n",
    "                loss += var_loss(anchor_emb)\n",
    "\n",
    "                loss.backward()\n",
    "                optim.step()\n",
    "\n",
    "                batch_loss.append(loss.item())\n",
    "\n",
    "            # experiment.log_metric(\"batch_loss_\", np.mean(batch_loss), step=step, epoch=epoch)\n",
    "\n",
    "            # experiment.log_metric(\"loss_\", np.mean(total_loss), step=step, epoch=epoch)\n",
    "        \n",
    "#         model.eval()\n",
    "#         res = calculate_metrics(test_embedding(model, dim), train_data, f\"Siamese network\", False)\n",
    "#         logger.info(res)\n",
    "#         experiment.log_metric(\"Train accuracy\", res[\"ratio\"].values[0], step=epoch*step)\n",
    "#         experiment.log_metric(\"Train mean positive similarity\", res[\"mean_pos_sim\"].values[0], step=epoch*step)\n",
    "#         experiment.log_metric(\"Train mean difference\", res[\"mean_diff\"].values[0], step=epoch*step)\n",
    "        \n",
    "#         res = calculate_metrics(test_embedding(model, dim), test_data, f\"Siamese network\", False)\n",
    "#         logger.info(res)\n",
    "#         experiment.log_metric(\"Test accuracy\", res[\"ratio\"].values[0], step=epoch*step)\n",
    "#         experiment.log_metric(\"Test mean positive similarity\", res[\"mean_pos_sim\"].values[0], step=epoch*step)\n",
    "#         experiment.log_metric(\"Test mean difference\", res[\"mean_diff\"].values[0], step=epoch*step)\n",
    "        \n",
    "#     experiment.log_parameter(\"Reduction rate\", res[\"reduction_rate\"].values[0])\n",
    "#     experiment.end()"
   ]
  },
  {
   "cell_type": "code",
   "execution_count": 77,
   "metadata": {},
   "outputs": [],
   "source": [
    "metrics = []"
   ]
  },
  {
   "cell_type": "code",
   "execution_count": 55,
   "metadata": {
    "tags": []
   },
   "outputs": [
    {
     "name": "stderr",
     "output_type": "stream",
     "text": [
      "COMET WARNING: As you are running in a Jupyter environment, you will need to call `experiment.end()` when finished to ensure all metrics and code are logged before exiting.\n",
      "COMET INFO: Experiment is live on comet.ml https://www.comet.ml/wwydmanski/vector-compression/ab34483b271644be99412d584415d40c\n",
      "\n"
     ]
    },
    {
     "data": {
      "application/vnd.jupyter.widget-view+json": {
       "model_id": "509f20a9ca1d428696c7cdd38b452c0a",
       "version_major": 2,
       "version_minor": 0
      },
      "text/plain": [
       "  0%|          | 0/10 [00:00<?, ?it/s]"
      ]
     },
     "metadata": {},
     "output_type": "display_data"
    },
    {
     "name": "stderr",
     "output_type": "stream",
     "text": [
      "COMET ERROR: Error sending a notification, make sure you have opted-in for notifications\n",
      "COMET INFO: Uploading metrics, params, and assets to Comet before program termination (may take several seconds)\n",
      "COMET INFO: The Python SDK has 3600 seconds to finish before aborting...\n"
     ]
    },
    {
     "data": {
      "text/html": [
       "<div>\n",
       "<style scoped>\n",
       "    .dataframe tbody tr th:only-of-type {\n",
       "        vertical-align: middle;\n",
       "    }\n",
       "\n",
       "    .dataframe tbody tr th {\n",
       "        vertical-align: top;\n",
       "    }\n",
       "\n",
       "    .dataframe thead th {\n",
       "        text-align: right;\n",
       "    }\n",
       "</style>\n",
       "<table border=\"1\" class=\"dataframe\">\n",
       "  <thead>\n",
       "    <tr style=\"text-align: right;\">\n",
       "      <th></th>\n",
       "      <th>ratio</th>\n",
       "      <th>mean_pos_sim</th>\n",
       "      <th>mean_diff</th>\n",
       "      <th>method</th>\n",
       "      <th>reduction_rate</th>\n",
       "    </tr>\n",
       "  </thead>\n",
       "  <tbody>\n",
       "    <tr>\n",
       "      <th>0</th>\n",
       "      <td>0.679759</td>\n",
       "      <td>0.482061</td>\n",
       "      <td>0.069513</td>\n",
       "      <td>Siamese network (64x8)</td>\n",
       "      <td>8.0</td>\n",
       "    </tr>\n",
       "  </tbody>\n",
       "</table>\n",
       "</div>"
      ],
      "text/plain": [
       "      ratio  mean_pos_sim  mean_diff                  method  reduction_rate\n",
       "0  0.679759      0.482061   0.069513  Siamese network (64x8)             8.0"
      ]
     },
     "execution_count": 55,
     "metadata": {},
     "output_type": "execute_result"
    }
   ],
   "source": [
    "input_dim = 64\n",
    "output_dim = 8\n",
    "lr = 3e-4\n",
    "hidden_dim = 64\n",
    "\n",
    "params = {\"Input dim\": input_dim, \"Output dim\": output_dim, \"LR\": lr, \"Hidden dim\": hidden_dim}\n",
    "model = get_embedding_model(input_dim, hidden_dim, output_dim)\n",
    "\n",
    "train_siamese(model, input_dim, epochs=10, params=params)\n",
    "metrics.append(calculate_metrics(test_embedding(model, input_dim), test_data, f\"Siamese network ({input_dim}x{output_dim})\", False))\n",
    "logger.info(metrics[-1])\n",
    "metrics[-1]"
   ]
  },
  {
   "cell_type": "code",
   "execution_count": 78,
   "metadata": {
    "tags": []
   },
   "outputs": [
    {
     "data": {
      "application/vnd.jupyter.widget-view+json": {
       "model_id": "5179a7c842d0461c81e081acf3448647",
       "version_major": 2,
       "version_minor": 0
      },
      "text/plain": [
       "  0%|          | 0/10 [00:00<?, ?it/s]"
      ]
     },
     "metadata": {},
     "output_type": "display_data"
    },
    {
     "data": {
      "application/vnd.jupyter.widget-view+json": {
       "model_id": "5f8dc5679f324fb78816da4ef4807d7b",
       "version_major": 2,
       "version_minor": 0
      },
      "text/plain": [
       "  0%|          | 0/10 [00:00<?, ?it/s]"
      ]
     },
     "metadata": {},
     "output_type": "display_data"
    },
    {
     "data": {
      "application/vnd.jupyter.widget-view+json": {
       "model_id": "2688e6c7a94d4c1f8b4f78317e54672f",
       "version_major": 2,
       "version_minor": 0
      },
      "text/plain": [
       "  0%|          | 0/10 [00:00<?, ?it/s]"
      ]
     },
     "metadata": {},
     "output_type": "display_data"
    },
    {
     "data": {
      "application/vnd.jupyter.widget-view+json": {
       "model_id": "c86b19677d704c2bb0fd7a39f74edcc0",
       "version_major": 2,
       "version_minor": 0
      },
      "text/plain": [
       "  0%|          | 0/10 [00:00<?, ?it/s]"
      ]
     },
     "metadata": {},
     "output_type": "display_data"
    },
    {
     "data": {
      "application/vnd.jupyter.widget-view+json": {
       "model_id": "dc3c079c0db84b1fb60c3553bd9e5184",
       "version_major": 2,
       "version_minor": 0
      },
      "text/plain": [
       "  0%|          | 0/10 [00:00<?, ?it/s]"
      ]
     },
     "metadata": {},
     "output_type": "display_data"
    },
    {
     "data": {
      "application/vnd.jupyter.widget-view+json": {
       "model_id": "d8eee00bb1014fccaf9b83b04787cdd2",
       "version_major": 2,
       "version_minor": 0
      },
      "text/plain": [
       "  0%|          | 0/10 [00:00<?, ?it/s]"
      ]
     },
     "metadata": {},
     "output_type": "display_data"
    },
    {
     "data": {
      "application/vnd.jupyter.widget-view+json": {
       "model_id": "d0c6d2843a974cb9a91d508e24aa1f48",
       "version_major": 2,
       "version_minor": 0
      },
      "text/plain": [
       "  0%|          | 0/10 [00:00<?, ?it/s]"
      ]
     },
     "metadata": {},
     "output_type": "display_data"
    },
    {
     "data": {
      "application/vnd.jupyter.widget-view+json": {
       "model_id": "1017ba93241f4082939a26571b1ee610",
       "version_major": 2,
       "version_minor": 0
      },
      "text/plain": [
       "  0%|          | 0/10 [00:00<?, ?it/s]"
      ]
     },
     "metadata": {},
     "output_type": "display_data"
    },
    {
     "data": {
      "application/vnd.jupyter.widget-view+json": {
       "model_id": "95d7bf8bf4fb44b3b9a07fcd2f47e554",
       "version_major": 2,
       "version_minor": 0
      },
      "text/plain": [
       "  0%|          | 0/10 [00:00<?, ?it/s]"
      ]
     },
     "metadata": {},
     "output_type": "display_data"
    },
    {
     "data": {
      "application/vnd.jupyter.widget-view+json": {
       "model_id": "0907e3a3ed254f009c57e6703de71483",
       "version_major": 2,
       "version_minor": 0
      },
      "text/plain": [
       "  0%|          | 0/10 [00:00<?, ?it/s]"
      ]
     },
     "metadata": {},
     "output_type": "display_data"
    },
    {
     "data": {
      "application/vnd.jupyter.widget-view+json": {
       "model_id": "cb584187d9fe4476923eae69f06b5609",
       "version_major": 2,
       "version_minor": 0
      },
      "text/plain": [
       "  0%|          | 0/10 [00:00<?, ?it/s]"
      ]
     },
     "metadata": {},
     "output_type": "display_data"
    },
    {
     "data": {
      "application/vnd.jupyter.widget-view+json": {
       "model_id": "c92fa34a08d14c12a037fa094593047e",
       "version_major": 2,
       "version_minor": 0
      },
      "text/plain": [
       "  0%|          | 0/10 [00:00<?, ?it/s]"
      ]
     },
     "metadata": {},
     "output_type": "display_data"
    },
    {
     "data": {
      "application/vnd.jupyter.widget-view+json": {
       "model_id": "689ce7d7d51d4119b447d9c54e4830bb",
       "version_major": 2,
       "version_minor": 0
      },
      "text/plain": [
       "  0%|          | 0/10 [00:00<?, ?it/s]"
      ]
     },
     "metadata": {},
     "output_type": "display_data"
    },
    {
     "data": {
      "application/vnd.jupyter.widget-view+json": {
       "model_id": "ed12fecc9e71497eab1eb42c3157fa74",
       "version_major": 2,
       "version_minor": 0
      },
      "text/plain": [
       "  0%|          | 0/10 [00:00<?, ?it/s]"
      ]
     },
     "metadata": {},
     "output_type": "display_data"
    },
    {
     "data": {
      "application/vnd.jupyter.widget-view+json": {
       "model_id": "7a150f41760c42ce9c384e70c12b4457",
       "version_major": 2,
       "version_minor": 0
      },
      "text/plain": [
       "  0%|          | 0/10 [00:00<?, ?it/s]"
      ]
     },
     "metadata": {},
     "output_type": "display_data"
    }
   ],
   "source": [
    "dim=32\n",
    "output_dim = 8\n",
    "lr = 3e-4\n",
    "input_dim = 768\n",
    "\n",
    "# for input_dim in tqdm.notebook.tqdm([16, 32, 64, 96, 128, 192, 384, 768]):\n",
    "#     for output_dim in tqdm.notebook.tqdm([2, 4, 6, 8, 12, 16, 32, 64, 96, 128]):\n",
    "#         if input_dim <= output_dim:\n",
    "#             continue\n",
    "#         if input_dim%output_dim != 0:\n",
    "#             continue\n",
    "for shape in [[768, 2],\n",
    "                [768, 4],\n",
    "                [768, 6],\n",
    "                [768, 8],\n",
    "                [768, 12],\n",
    "                [768, 16],\n",
    "                [128, 4],\n",
    "                [768, 32],\n",
    "                [128, 8],\n",
    "                [768, 64],\n",
    "                [768, 96],\n",
    "                [96, 16],\n",
    "                [128, 32],\n",
    "                [96, 32],\n",
    "                [32, 16]]:\n",
    "        input_dim = shape[0]\n",
    "        output_dim = shape[1]\n",
    "        params = {\"Input dim\": input_dim, \"Output dim\": output_dim, \"LR\": lr}\n",
    "        logger.info(params)\n",
    "\n",
    "        model = get_embedding_model(input_dim, hidden_dim, output_dim)\n",
    "\n",
    "        train_siamese(model, input_dim, epochs=10, params=params)\n",
    "        metrics.append(calculate_metrics(test_embedding(model, input_dim), test_data, f\"Siamese network ({input_dim}x{output_dim})\", False))        \n",
    "        logger.info(metrics[-1])\n",
    "        \n",
    "        torch.save(model.state_dict(), f\"models/siamese_{shape[0]}x{shape[1]}.pt\")"
   ]
  },
  {
   "cell_type": "code",
   "execution_count": 70,
   "metadata": {},
   "outputs": [
    {
     "data": {
      "text/plain": [
       "[      ratio  mean_pos_sim  mean_diff                   method  reduction_rate\n",
       " 0  0.682059      0.477976   0.067408  Siamese network (96x16)             6.0,\n",
       "       ratio  mean_pos_sim  mean_diff                    method  reduction_rate\n",
       " 0  0.670556      0.434534   0.066193  Siamese network (128x32)             4.0,\n",
       "       ratio  mean_pos_sim  mean_diff                   method  reduction_rate\n",
       " 0  0.701197      0.470158    0.07258  Siamese network (96x32)             3.0,\n",
       "       ratio  mean_pos_sim  mean_diff                   method  reduction_rate\n",
       " 0  0.705798      0.481885   0.072594  Siamese network (32x16)             2.0]"
      ]
     },
     "execution_count": 70,
     "metadata": {},
     "output_type": "execute_result"
    }
   ],
   "source": [
    "metrics[-4:]"
   ]
  },
  {
   "cell_type": "code",
   "execution_count": 66,
   "metadata": {},
   "outputs": [
    {
     "data": {
      "text/html": [
       "<div>\n",
       "<style scoped>\n",
       "    .dataframe tbody tr th:only-of-type {\n",
       "        vertical-align: middle;\n",
       "    }\n",
       "\n",
       "    .dataframe tbody tr th {\n",
       "        vertical-align: top;\n",
       "    }\n",
       "\n",
       "    .dataframe thead th {\n",
       "        text-align: right;\n",
       "    }\n",
       "</style>\n",
       "<table border=\"1\" class=\"dataframe\">\n",
       "  <thead>\n",
       "    <tr style=\"text-align: right;\">\n",
       "      <th></th>\n",
       "      <th>Unnamed: 0</th>\n",
       "      <th>ratio</th>\n",
       "      <th>mean_pos_sim</th>\n",
       "      <th>mean_diff</th>\n",
       "      <th>method</th>\n",
       "      <th>reduction_rate</th>\n",
       "    </tr>\n",
       "  </thead>\n",
       "  <tbody>\n",
       "    <tr>\n",
       "      <th>0</th>\n",
       "      <td>0</td>\n",
       "      <td>0.010569</td>\n",
       "      <td>-0.096723</td>\n",
       "      <td>-0.011736</td>\n",
       "      <td>Whitening (768x1)</td>\n",
       "      <td>768.0</td>\n",
       "    </tr>\n",
       "    <tr>\n",
       "      <th>0</th>\n",
       "      <td>0</td>\n",
       "      <td>0.097456</td>\n",
       "      <td>-0.329110</td>\n",
       "      <td>-0.032274</td>\n",
       "      <td>PCA (768x1)</td>\n",
       "      <td>768.0</td>\n",
       "    </tr>\n",
       "    <tr>\n",
       "      <th>1</th>\n",
       "      <td>0</td>\n",
       "      <td>0.517421</td>\n",
       "      <td>0.261078</td>\n",
       "      <td>0.013379</td>\n",
       "      <td>Whitening (768x2)</td>\n",
       "      <td>384.0</td>\n",
       "    </tr>\n",
       "    <tr>\n",
       "      <th>1</th>\n",
       "      <td>0</td>\n",
       "      <td>0.523122</td>\n",
       "      <td>0.950220</td>\n",
       "      <td>0.005821</td>\n",
       "      <td>PCA (384x1)</td>\n",
       "      <td>384.0</td>\n",
       "    </tr>\n",
       "    <tr>\n",
       "      <th>0</th>\n",
       "      <td>0</td>\n",
       "      <td>0.527723</td>\n",
       "      <td>0.759369</td>\n",
       "      <td>0.031587</td>\n",
       "      <td>Average parts (384)</td>\n",
       "      <td>384.0</td>\n",
       "    </tr>\n",
       "    <tr>\n",
       "      <th>...</th>\n",
       "      <td>...</td>\n",
       "      <td>...</td>\n",
       "      <td>...</td>\n",
       "      <td>...</td>\n",
       "      <td>...</td>\n",
       "      <td>...</td>\n",
       "    </tr>\n",
       "    <tr>\n",
       "      <th>14</th>\n",
       "      <td>0</td>\n",
       "      <td>0.705998</td>\n",
       "      <td>0.482862</td>\n",
       "      <td>0.072484</td>\n",
       "      <td>Siamese network (32x16)</td>\n",
       "      <td>2.0</td>\n",
       "    </tr>\n",
       "    <tr>\n",
       "      <th>12</th>\n",
       "      <td>0</td>\n",
       "      <td>0.709599</td>\n",
       "      <td>0.460446</td>\n",
       "      <td>0.078406</td>\n",
       "      <td>Average parts (2)</td>\n",
       "      <td>2.0</td>\n",
       "    </tr>\n",
       "    <tr>\n",
       "      <th>15</th>\n",
       "      <td>0</td>\n",
       "      <td>0.710599</td>\n",
       "      <td>0.469082</td>\n",
       "      <td>0.076467</td>\n",
       "      <td>PCA (16x8)</td>\n",
       "      <td>2.0</td>\n",
       "    </tr>\n",
       "    <tr>\n",
       "      <th>15</th>\n",
       "      <td>0</td>\n",
       "      <td>0.718668</td>\n",
       "      <td>0.459841</td>\n",
       "      <td>0.085242</td>\n",
       "      <td>Whitening (192x96)</td>\n",
       "      <td>2.0</td>\n",
       "    </tr>\n",
       "    <tr>\n",
       "      <th>0</th>\n",
       "      <td>0</td>\n",
       "      <td>0.713700</td>\n",
       "      <td>0.461492</td>\n",
       "      <td>0.078354</td>\n",
       "      <td>CLS vector</td>\n",
       "      <td>1.0</td>\n",
       "    </tr>\n",
       "  </tbody>\n",
       "</table>\n",
       "<p>61 rows × 6 columns</p>\n",
       "</div>"
      ],
      "text/plain": [
       "    Unnamed: 0     ratio  mean_pos_sim  mean_diff                   method  \\\n",
       "0            0  0.010569     -0.096723  -0.011736        Whitening (768x1)   \n",
       "0            0  0.097456     -0.329110  -0.032274              PCA (768x1)   \n",
       "1            0  0.517421      0.261078   0.013379        Whitening (768x2)   \n",
       "1            0  0.523122      0.950220   0.005821              PCA (384x1)   \n",
       "0            0  0.527723      0.759369   0.031587      Average parts (384)   \n",
       "..         ...       ...           ...        ...                      ...   \n",
       "14           0  0.705998      0.482862   0.072484  Siamese network (32x16)   \n",
       "12           0  0.709599      0.460446   0.078406        Average parts (2)   \n",
       "15           0  0.710599      0.469082   0.076467               PCA (16x8)   \n",
       "15           0  0.718668      0.459841   0.085242       Whitening (192x96)   \n",
       "0            0  0.713700      0.461492   0.078354               CLS vector   \n",
       "\n",
       "    reduction_rate  \n",
       "0            768.0  \n",
       "0            768.0  \n",
       "1            384.0  \n",
       "1            384.0  \n",
       "0            384.0  \n",
       "..             ...  \n",
       "14             2.0  \n",
       "12             2.0  \n",
       "15             2.0  \n",
       "15             2.0  \n",
       "0              1.0  \n",
       "\n",
       "[61 rows x 6 columns]"
      ]
     },
     "execution_count": 66,
     "metadata": {},
     "output_type": "execute_result"
    }
   ],
   "source": [
    "save_metrics(metrics, \"siamese\")\n",
    "aggregate_metrics()"
   ]
  },
  {
   "cell_type": "code",
   "execution_count": 303,
   "metadata": {},
   "outputs": [
    {
     "data": {
      "text/html": [
       "<div>\n",
       "<style scoped>\n",
       "    .dataframe tbody tr th:only-of-type {\n",
       "        vertical-align: middle;\n",
       "    }\n",
       "\n",
       "    .dataframe tbody tr th {\n",
       "        vertical-align: top;\n",
       "    }\n",
       "\n",
       "    .dataframe thead th {\n",
       "        text-align: right;\n",
       "    }\n",
       "</style>\n",
       "<table border=\"1\" class=\"dataframe\">\n",
       "  <thead>\n",
       "    <tr style=\"text-align: right;\">\n",
       "      <th></th>\n",
       "      <th>ratio</th>\n",
       "      <th>mean_pos_sim</th>\n",
       "      <th>mean_diff</th>\n",
       "      <th>method</th>\n",
       "      <th>reduction_rate</th>\n",
       "    </tr>\n",
       "  </thead>\n",
       "  <tbody>\n",
       "    <tr>\n",
       "      <th>0</th>\n",
       "      <td>0.957357</td>\n",
       "      <td>0.830561</td>\n",
       "      <td>0.114643</td>\n",
       "      <td>Siamese network (32x16) [hidden: 64]</td>\n",
       "      <td>2.0</td>\n",
       "    </tr>\n",
       "    <tr>\n",
       "      <th>0</th>\n",
       "      <td>0.955323</td>\n",
       "      <td>0.798326</td>\n",
       "      <td>0.150121</td>\n",
       "      <td>Siamese network (64x32) [hidden: 64]</td>\n",
       "      <td>2.0</td>\n",
       "    </tr>\n",
       "    <tr>\n",
       "      <th>0</th>\n",
       "      <td>0.946054</td>\n",
       "      <td>0.811501</td>\n",
       "      <td>0.148327</td>\n",
       "      <td>Siamese network (128x64) [hidden: 64]</td>\n",
       "      <td>2.0</td>\n",
       "    </tr>\n",
       "    <tr>\n",
       "      <th>0</th>\n",
       "      <td>0.955956</td>\n",
       "      <td>0.812630</td>\n",
       "      <td>0.120257</td>\n",
       "      <td>Siamese network (32x16) [hidden: 128]</td>\n",
       "      <td>2.0</td>\n",
       "    </tr>\n",
       "    <tr>\n",
       "      <th>0</th>\n",
       "      <td>0.957357</td>\n",
       "      <td>0.781193</td>\n",
       "      <td>0.154783</td>\n",
       "      <td>Siamese network (64x32) [hidden: 128]</td>\n",
       "      <td>2.0</td>\n",
       "    </tr>\n",
       "    <tr>\n",
       "      <th>0</th>\n",
       "      <td>0.951122</td>\n",
       "      <td>0.817491</td>\n",
       "      <td>0.142804</td>\n",
       "      <td>Siamese network (128x64) [hidden: 128]</td>\n",
       "      <td>2.0</td>\n",
       "    </tr>\n",
       "    <tr>\n",
       "      <th>0</th>\n",
       "      <td>0.925616</td>\n",
       "      <td>0.692671</td>\n",
       "      <td>0.265935</td>\n",
       "      <td>Siamese network (768x384) [hidden: 64]</td>\n",
       "      <td>2.0</td>\n",
       "    </tr>\n",
       "    <tr>\n",
       "      <th>0</th>\n",
       "      <td>0.894775</td>\n",
       "      <td>0.671352</td>\n",
       "      <td>0.280919</td>\n",
       "      <td>Siamese network (768x384) [hidden: 64]</td>\n",
       "      <td>2.0</td>\n",
       "    </tr>\n",
       "  </tbody>\n",
       "</table>\n",
       "</div>"
      ],
      "text/plain": [
       "      ratio  mean_pos_sim  mean_diff                                  method  \\\n",
       "0  0.957357      0.830561   0.114643    Siamese network (32x16) [hidden: 64]   \n",
       "0  0.955323      0.798326   0.150121    Siamese network (64x32) [hidden: 64]   \n",
       "0  0.946054      0.811501   0.148327   Siamese network (128x64) [hidden: 64]   \n",
       "0  0.955956      0.812630   0.120257   Siamese network (32x16) [hidden: 128]   \n",
       "0  0.957357      0.781193   0.154783   Siamese network (64x32) [hidden: 128]   \n",
       "0  0.951122      0.817491   0.142804  Siamese network (128x64) [hidden: 128]   \n",
       "0  0.925616      0.692671   0.265935  Siamese network (768x384) [hidden: 64]   \n",
       "0  0.894775      0.671352   0.280919  Siamese network (768x384) [hidden: 64]   \n",
       "\n",
       "   reduction_rate  \n",
       "0             2.0  \n",
       "0             2.0  \n",
       "0             2.0  \n",
       "0             2.0  \n",
       "0             2.0  \n",
       "0             2.0  \n",
       "0             2.0  \n",
       "0             2.0  "
      ]
     },
     "execution_count": 303,
     "metadata": {},
     "output_type": "execute_result"
    }
   ],
   "source": [
    "cmetrics = pd.concat(metrics)\n",
    "cmetrics[cmetrics[\"reduction_rate\"]==2]"
   ]
  },
  {
   "cell_type": "code",
   "execution_count": 352,
   "metadata": {},
   "outputs": [
    {
     "data": {
      "text/html": [
       "<div>\n",
       "<style scoped>\n",
       "    .dataframe tbody tr th:only-of-type {\n",
       "        vertical-align: middle;\n",
       "    }\n",
       "\n",
       "    .dataframe tbody tr th {\n",
       "        vertical-align: top;\n",
       "    }\n",
       "\n",
       "    .dataframe thead th {\n",
       "        text-align: right;\n",
       "    }\n",
       "</style>\n",
       "<table border=\"1\" class=\"dataframe\">\n",
       "  <thead>\n",
       "    <tr style=\"text-align: right;\">\n",
       "      <th></th>\n",
       "      <th>Unnamed: 0</th>\n",
       "      <th>ratio</th>\n",
       "      <th>mean_pos_sim</th>\n",
       "      <th>mean_diff</th>\n",
       "      <th>method</th>\n",
       "      <th>reduction_rate</th>\n",
       "    </tr>\n",
       "  </thead>\n",
       "  <tbody>\n",
       "    <tr>\n",
       "      <th>0</th>\n",
       "      <td>0</td>\n",
       "      <td>0.550879</td>\n",
       "      <td>0.668035</td>\n",
       "      <td>0.040766</td>\n",
       "      <td>UMAP (768x2)</td>\n",
       "      <td>384.0</td>\n",
       "    </tr>\n",
       "    <tr>\n",
       "      <th>0</th>\n",
       "      <td>0</td>\n",
       "      <td>0.552829</td>\n",
       "      <td>0.385381</td>\n",
       "      <td>0.106327</td>\n",
       "      <td>PCA (768x2)</td>\n",
       "      <td>384.0</td>\n",
       "    </tr>\n",
       "    <tr>\n",
       "      <th>0</th>\n",
       "      <td>0</td>\n",
       "      <td>0.584403</td>\n",
       "      <td>0.562329</td>\n",
       "      <td>0.183465</td>\n",
       "      <td>Average parts (384)</td>\n",
       "      <td>384.0</td>\n",
       "    </tr>\n",
       "    <tr>\n",
       "      <th>0</th>\n",
       "      <td>0</td>\n",
       "      <td>0.610883</td>\n",
       "      <td>0.810334</td>\n",
       "      <td>0.124641</td>\n",
       "      <td>Whitening (768x2)</td>\n",
       "      <td>384.0</td>\n",
       "    </tr>\n",
       "    <tr>\n",
       "      <th>0</th>\n",
       "      <td>0</td>\n",
       "      <td>0.625553</td>\n",
       "      <td>0.839529</td>\n",
       "      <td>0.093303</td>\n",
       "      <td>LocallyLinearEmbedding (768x2)</td>\n",
       "      <td>384.0</td>\n",
       "    </tr>\n",
       "    <tr>\n",
       "      <th>...</th>\n",
       "      <td>...</td>\n",
       "      <td>...</td>\n",
       "      <td>...</td>\n",
       "      <td>...</td>\n",
       "      <td>...</td>\n",
       "      <td>...</td>\n",
       "    </tr>\n",
       "    <tr>\n",
       "      <th>12</th>\n",
       "      <td>0</td>\n",
       "      <td>0.934006</td>\n",
       "      <td>0.676887</td>\n",
       "      <td>0.184324</td>\n",
       "      <td>UMAP (32x16)</td>\n",
       "      <td>2.0</td>\n",
       "    </tr>\n",
       "    <tr>\n",
       "      <th>4</th>\n",
       "      <td>0</td>\n",
       "      <td>0.958501</td>\n",
       "      <td>0.987163</td>\n",
       "      <td>0.010953</td>\n",
       "      <td>Autoencoder</td>\n",
       "      <td>2.0</td>\n",
       "    </tr>\n",
       "    <tr>\n",
       "      <th>13</th>\n",
       "      <td>0</td>\n",
       "      <td>0.960758</td>\n",
       "      <td>0.750421</td>\n",
       "      <td>0.205391</td>\n",
       "      <td>Siamese network (96x48)</td>\n",
       "      <td>2.0</td>\n",
       "    </tr>\n",
       "    <tr>\n",
       "      <th>12</th>\n",
       "      <td>0</td>\n",
       "      <td>0.964714</td>\n",
       "      <td>0.738850</td>\n",
       "      <td>0.224645</td>\n",
       "      <td>Whitening (128x64)</td>\n",
       "      <td>2.0</td>\n",
       "    </tr>\n",
       "    <tr>\n",
       "      <th>12</th>\n",
       "      <td>0</td>\n",
       "      <td>0.965692</td>\n",
       "      <td>0.736315</td>\n",
       "      <td>0.226038</td>\n",
       "      <td>PCA (64x32)</td>\n",
       "      <td>2.0</td>\n",
       "    </tr>\n",
       "  </tbody>\n",
       "</table>\n",
       "<p>90 rows × 6 columns</p>\n",
       "</div>"
      ],
      "text/plain": [
       "    Unnamed: 0     ratio  mean_pos_sim  mean_diff  \\\n",
       "0            0  0.550879      0.668035   0.040766   \n",
       "0            0  0.552829      0.385381   0.106327   \n",
       "0            0  0.584403      0.562329   0.183465   \n",
       "0            0  0.610883      0.810334   0.124641   \n",
       "0            0  0.625553      0.839529   0.093303   \n",
       "..         ...       ...           ...        ...   \n",
       "12           0  0.934006      0.676887   0.184324   \n",
       "4            0  0.958501      0.987163   0.010953   \n",
       "13           0  0.960758      0.750421   0.205391   \n",
       "12           0  0.964714      0.738850   0.224645   \n",
       "12           0  0.965692      0.736315   0.226038   \n",
       "\n",
       "                            method  reduction_rate  \n",
       "0                     UMAP (768x2)           384.0  \n",
       "0                      PCA (768x2)           384.0  \n",
       "0              Average parts (384)           384.0  \n",
       "0                Whitening (768x2)           384.0  \n",
       "0   LocallyLinearEmbedding (768x2)           384.0  \n",
       "..                             ...             ...  \n",
       "12                    UMAP (32x16)             2.0  \n",
       "4                      Autoencoder             2.0  \n",
       "13         Siamese network (96x48)             2.0  \n",
       "12              Whitening (128x64)             2.0  \n",
       "12                     PCA (64x32)             2.0  \n",
       "\n",
       "[90 rows x 6 columns]"
      ]
     },
     "execution_count": 352,
     "metadata": {},
     "output_type": "execute_result"
    }
   ],
   "source": [
    "save_metrics(metrics, \"siamese\")\n",
    "aggregate_metrics()"
   ]
  },
  {
   "cell_type": "markdown",
   "metadata": {},
   "source": [
    "## Similarity embedding framework"
   ]
  },
  {
   "cell_type": "code",
   "execution_count": 5,
   "metadata": {},
   "outputs": [],
   "source": [
    "import sef_dr"
   ]
  },
  {
   "cell_type": "markdown",
   "metadata": {},
   "source": [
    "# SEF PCA"
   ]
  },
  {
   "cell_type": "code",
   "execution_count": 6,
   "metadata": {},
   "outputs": [],
   "source": [
    "def test_sef(model, input_dim):\n",
    "    def _inner(embeddings):\n",
    "        x = embeddings.reshape(-1, input_dim)\n",
    "        x = model.transform(x)\n",
    "        x = x.reshape(len(embeddings), -1)\n",
    "        return x\n",
    "    return _inner\n",
    "\n",
    "def get_pca(input_dim, output_dim):\n",
    "    model = PCA(output_dim)\n",
    "    data = train_data[0].reshape(-1, input_dim)\n",
    "    model.fit(data)\n",
    "    return model"
   ]
  },
  {
   "cell_type": "code",
   "execution_count": null,
   "metadata": {
    "tags": []
   },
   "outputs": [
    {
     "name": "stdout",
     "output_type": "stream",
     "text": [
      "input 128 output 32 target 64\n",
      "model built\n",
      "-\n"
     ]
    }
   ],
   "source": [
    "metrics=[]\n",
    "for input_dim in [64, 128, 768]:\n",
    "    for target_dim in [32, 64, 128]:\n",
    "        for output_dim in [32, 64, 128]:\n",
    "            if input_dim <= output_dim or output_dim >= target_dim or target_dim>=input_dim:\n",
    "                continue\n",
    "            print(f\"input {input_dim} output {output_dim} target {target_dim}\")\n",
    "            \n",
    "            data = torch.tensor(train_data[0]).reshape(-1, input_dim)\n",
    "            model = get_pca(input_dim, target_dim)\n",
    "            model.fit(data)\n",
    "            target_data = np.float32(model.transform(data))\n",
    "            print(\"model built\")\n",
    "            proj = sef_dr.LinearSEF(input_dimensionality=input_dim, output_dimensionality=output_dim)\n",
    "            print(\"-\")\n",
    "            loss = proj.fit(data=data, target_data=target_data, target='copy', epochs=50, batch_size=128, verbose=True, learning_rate=0.001, regularizer_weight=0.001)\n",
    "            print(\"trianed\")\n",
    "            metrics.append(calculate_metrics(test_sef(proj,input_dim), test_data, f\"SEF PCA ({input_dim}x{output_dim}|{target_dim})\"))"
   ]
  },
  {
   "cell_type": "markdown",
   "metadata": {},
   "source": []
  },
  {
   "cell_type": "code",
   "execution_count": null,
   "metadata": {},
   "outputs": [],
   "source": []
  },
  {
   "cell_type": "code",
   "execution_count": null,
   "metadata": {},
   "outputs": [],
   "source": []
  },
  {
   "cell_type": "code",
   "execution_count": null,
   "metadata": {},
   "outputs": [],
   "source": [
    "cmetrics = pd.concat(metrics)\n",
    "\n",
    "max_ratio = cmetrics.groupby(\"reduction_rate\").max()[\"ratio\"]\n",
    "cmetrics = cmetrics[cmetrics.apply(lambda x: x[\"ratio\"]==max_ratio[x[\"reduction_rate\"]], axis=1)]\n",
    "cmetrics = cmetrics.sort_values(\"reduction_rate\", ascending=False)\n",
    "cmetrics.to_csv(\"results/SEF_PCA.csv\")\n",
    "cmetrics"
   ]
  },
  {
   "cell_type": "markdown",
   "metadata": {},
   "source": [
    "# SEF Whitening\n"
   ]
  },
  {
   "cell_type": "code",
   "execution_count": null,
   "metadata": {
    "scrolled": true,
    "tags": []
   },
   "outputs": [],
   "source": [
    "metrics=[]\n",
    "for input_dim in [64, 128, 768]:\n",
    "    for target_dim in [32, 64, 128]:\n",
    "        for output_dim in [32, 64, 128]:\n",
    "            if input_dim <= output_dim or output_dim >= target_dim or target_dim>=input_dim:\n",
    "                continue\n",
    "            print(f\"input {input_dim} output {output_dim} target {target_dim}\")\n",
    "            data=train_data[0].reshape(-1, input_dim)\n",
    "            # data = torch.tensor(train_data[0]).reshape(-1, input_dim)\n",
    "            kernel, bias = compute_kernel_bias(input_dim)\n",
    "            kernel = kernel[:, :target_dim]\n",
    "            target_data = transform_and_normalize(data,kernel=kernel,bias=bias)\n",
    "            \n",
    "            print(\"model built\")\n",
    "            proj = sef_dr.LinearSEF(input_dimensionality=input_dim, output_dimensionality=output_dim)\n",
    "            loss = proj.fit(data=data, target_data=target_data, target='copy', epochs=50, batch_size=128, verbose=True, learning_rate=0.001, regularizer_weight=0.001)\n",
    "            print(\"trianed\")\n",
    "            metrics.append(calculate_metrics(test_sef(proj,input_dim), test_data, f\"SEF Whitening({input_dim}x{output_dim}|{target_dim})\"))"
   ]
  },
  {
   "cell_type": "code",
   "execution_count": null,
   "metadata": {},
   "outputs": [],
   "source": [
    "cmetrics = pd.concat(metrics)\n",
    "\n",
    "max_ratio = cmetrics.groupby(\"reduction_rate\").max()[\"ratio\"]\n",
    "cmetrics = cmetrics[cmetrics.apply(lambda x: x[\"ratio\"]==max_ratio[x[\"reduction_rate\"]], axis=1)]\n",
    "cmetrics = cmetrics.sort_values(\"reduction_rate\", ascending=False)\n",
    "cmetrics.to_csv(\"results/SEF_Whitening.csv\")\n"
   ]
  },
  {
   "cell_type": "code",
   "execution_count": null,
   "metadata": {},
   "outputs": [],
   "source": [
    "cmetrics"
   ]
  },
  {
   "cell_type": "markdown",
   "metadata": {},
   "source": [
    "# SEF Averaging"
   ]
  },
  {
   "cell_type": "code",
   "execution_count": null,
   "metadata": {
    "scrolled": true,
    "tags": []
   },
   "outputs": [],
   "source": [
    "metrics=[]\n",
    "for input_dim in [64, 128, 768]:\n",
    "    for target_rate in [4, 8, 16, 32, 64, 128]:\n",
    "        for output_dim in [32, 64, 128]:\n",
    "            target_dim=input_dim/target_rate\n",
    "            if input_dim <= output_dim or output_dim >= target_dim or target_dim>=input_dim:\n",
    "                continue\n",
    "            print(f\"input {input_dim} output {output_dim} target {target_rate}\")\n",
    "            target_data = train_data[0].reshape(-1, target_rate)\n",
    "            target_data.mean(axis=1).reshape(-1, 1)\n",
    "            target_data = data.reshape(len(train_data[0]), -1)\n",
    "            print(target_data.shape)\n",
    "            print(\"model built\")\n",
    "            data=train_data[0].reshape(-1, input_dim)\n",
    "            proj = sef_dr.LinearSEF(input_dimensionality=input_dim, output_dimensionality=output_dim)\n",
    "            loss = proj.fit(data=data, target_data=target_data, target='copy', epochs=50, batch_size=128, verbose=True, learning_rate=0.001, regularizer_weight=0.001)\n",
    "            print(\"trianed\")\n",
    "            metrics.append(calculate_metrics(test_sef(proj,input_dim), test_data, f\"SEF Averaging({input_dim}x{output_dim}|{target_rate})\"))"
   ]
  },
  {
   "cell_type": "code",
   "execution_count": null,
   "metadata": {},
   "outputs": [],
   "source": [
    "cmetrics = pd.concat(metrics)\n",
    "\n",
    "max_ratio = cmetrics.groupby(\"reduction_rate\").max()[\"ratio\"]\n",
    "cmetrics = cmetrics[cmetrics.apply(lambda x: x[\"ratio\"]==max_ratio[x[\"reduction_rate\"]], axis=1)]\n",
    "cmetrics = cmetrics.sort_values(\"reduction_rate\", ascending=False)\n",
    "cmetrics.to_csv(\"results/SEF_Averaging.csv\")\n",
    "cmetrics"
   ]
  },
  {
   "cell_type": "code",
   "execution_count": null,
   "metadata": {},
   "outputs": [],
   "source": []
  },
  {
   "cell_type": "code",
   "execution_count": null,
   "metadata": {},
   "outputs": [],
   "source": []
  },
  {
   "cell_type": "code",
   "execution_count": null,
   "metadata": {},
   "outputs": [],
   "source": []
  }
 ],
 "metadata": {
  "kernelspec": {
   "display_name": "Python 3 (ipykernel)",
   "language": "python",
   "name": "python3"
  },
  "language_info": {
   "codemirror_mode": {
    "name": "ipython",
    "version": 3
   },
   "file_extension": ".py",
   "mimetype": "text/x-python",
   "name": "python",
   "nbconvert_exporter": "python",
   "pygments_lexer": "ipython3",
   "version": "3.7.10"
  }
 },
 "nbformat": 4,
 "nbformat_minor": 4
}
