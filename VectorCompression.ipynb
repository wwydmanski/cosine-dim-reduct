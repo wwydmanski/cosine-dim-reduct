{
 "cells": [
  {
   "cell_type": "code",
   "execution_count": 1,
   "metadata": {},
   "outputs": [],
   "source": [
    "from comet_ml import Experiment\n",
    "import torch\n",
    "from sklearn.decomposition import PCA\n",
    "import pandas as pd\n",
    "from sklearn.metrics.pairwise import cosine_similarity\n",
    "from sklearn.model_selection import train_test_split\n",
    "import tqdm\n",
    "import numpy as np\n",
    "from loguru import logger\n",
    "import json\n",
    "from livelossplot import PlotLosses"
   ]
  },
  {
   "cell_type": "code",
   "execution_count": 2,
   "metadata": {},
   "outputs": [],
   "source": [
    "from torch import nn\n",
    "import torch.nn.functional as F"
   ]
  },
  {
   "cell_type": "code",
   "execution_count": 3,
   "metadata": {},
   "outputs": [
    {
     "data": {
      "text/plain": [
       "1"
      ]
     },
     "execution_count": 3,
     "metadata": {},
     "output_type": "execute_result"
    }
   ],
   "source": [
    "logger.remove()\n",
    "logger.add(\"log.txt\")"
   ]
  },
  {
   "cell_type": "code",
   "execution_count": 4,
   "metadata": {},
   "outputs": [],
   "source": [
    "DEVICE = \"cuda:1\""
   ]
  },
  {
   "cell_type": "markdown",
   "metadata": {},
   "source": [
    "## Load models for vector generation"
   ]
  },
  {
   "cell_type": "markdown",
   "metadata": {},
   "source": [
    "## Load data"
   ]
  },
  {
   "cell_type": "markdown",
   "metadata": {},
   "source": [
    "### Read vectors"
   ]
  },
  {
   "cell_type": "code",
   "execution_count": 5,
   "metadata": {},
   "outputs": [],
   "source": [
    "embeddings = np.load(\"data/vectors.npy\")"
   ]
  },
  {
   "cell_type": "code",
   "execution_count": 6,
   "metadata": {},
   "outputs": [
    {
     "name": "stdout",
     "output_type": "stream",
     "text": [
      "(9997, 768)\n",
      "(89978, 768)\n"
     ]
    }
   ],
   "source": [
    "indices = np.arange(embeddings.shape[0]//3)\n",
    "\n",
    "train_idx, test_idx = train_test_split(indices, test_size=0.9, random_state=42)\n",
    "\n",
    "train_data = [embeddings[train_idx*3], embeddings[train_idx*3+1], embeddings[train_idx*3+2]]\n",
    "test_data = [embeddings[test_idx*3], embeddings[test_idx*3+1], embeddings[test_idx*3+2]]\n",
    "\n",
    "print(train_data[0].shape)\n",
    "print(test_data[0].shape)"
   ]
  },
  {
   "cell_type": "markdown",
   "metadata": {},
   "source": [
    "## Measure cosine similarity differences between pos and neg"
   ]
  },
  {
   "cell_type": "code",
   "execution_count": 50,
   "metadata": {},
   "outputs": [],
   "source": [
    "def calculate_metrics(method, data, name):\n",
    "    orig_shape = data[0].shape[1]\n",
    "    pos_similarity = []\n",
    "    neg_similarity = []\n",
    "\n",
    "    queue = []\n",
    "    anchors = method(data[0])\n",
    "    positives = method(data[1])\n",
    "    negatives = method(data[2])\n",
    "   \n",
    "    for i in tqdm.trange(len(anchors)):\n",
    "        query, pos, neg = anchors[i], positives[i], negatives[i]\n",
    "        pos_similarity.append(cosine_similarity([query], [pos])[0][0])\n",
    "        neg_similarity.append(cosine_similarity([query], [neg])[0][0])\n",
    "\n",
    "    pos_similarity = np.array(pos_similarity)\n",
    "    neg_similarity = np.array(neg_similarity)\n",
    "    \n",
    "    ratio = np.sum(pos_similarity>neg_similarity)/len(pos_similarity)\n",
    "    mean_diff = pos_similarity.mean()-neg_similarity.mean()\n",
    "    mean_pos_sim = pos_similarity.mean()\n",
    "    \n",
    "    reduction_rate = orig_shape/len(anchors[0])\n",
    "    return pd.DataFrame.from_dict([{\n",
    "                        \"ratio\": ratio,\n",
    "                        \"mean_pos_sim\": mean_pos_sim,\n",
    "                        \"mean_diff\": mean_diff,\n",
    "                        \"method\": name,\n",
    "                        \"reduction_rate\": reduction_rate\n",
    "                    }])"
   ]
  },
  {
   "cell_type": "markdown",
   "metadata": {},
   "source": [
    "## Benchmarks"
   ]
  },
  {
   "cell_type": "code",
   "execution_count": 8,
   "metadata": {},
   "outputs": [],
   "source": [
    "metrics = []"
   ]
  },
  {
   "cell_type": "markdown",
   "metadata": {},
   "source": [
    "### Baseline"
   ]
  },
  {
   "cell_type": "code",
   "execution_count": 120,
   "metadata": {},
   "outputs": [
    {
     "name": "stderr",
     "output_type": "stream",
     "text": [
      "100%|█████████████████████████████████████████████████████████████████████████████████████████████████████████████████████████████████████████████████████████████████| 29993/29993 [00:11<00:00, 2722.30it/s]\n"
     ]
    }
   ],
   "source": [
    "metrics.append(calculate_metrics(lambda x: x, test_data, \"CLS vector\"))"
   ]
  },
  {
   "cell_type": "code",
   "execution_count": null,
   "metadata": {},
   "outputs": [],
   "source": [
    "# lda_metrics = []\n",
    "# embeddings = []\n",
    "\n",
    "# train_data = data.sample(1000, random_state=42)\n",
    "\n",
    "# for i in tqdm.trange(0, train_data.shape[0], 32):\n",
    "#     embeddings.extend(embed("
   ]
  },
  {
   "cell_type": "code",
   "execution_count": 40,
   "metadata": {},
   "outputs": [],
   "source": [
    "dim = 64\n",
    "\n",
    "# for idx in range(0, train.shape"
   ]
  },
  {
   "cell_type": "code",
   "execution_count": 42,
   "metadata": {
    "tags": []
   },
   "outputs": [
    {
     "data": {
      "text/html": [
       "<div>\n",
       "<style scoped>\n",
       "    .dataframe tbody tr th:only-of-type {\n",
       "        vertical-align: middle;\n",
       "    }\n",
       "\n",
       "    .dataframe tbody tr th {\n",
       "        vertical-align: top;\n",
       "    }\n",
       "\n",
       "    .dataframe thead th {\n",
       "        text-align: right;\n",
       "    }\n",
       "</style>\n",
       "<table border=\"1\" class=\"dataframe\">\n",
       "  <thead>\n",
       "    <tr style=\"text-align: right;\">\n",
       "      <th></th>\n",
       "      <th>query</th>\n",
       "      <th>pos</th>\n",
       "      <th>neg</th>\n",
       "    </tr>\n",
       "  </thead>\n",
       "  <tbody>\n",
       "    <tr>\n",
       "      <th>15773</th>\n",
       "      <td>what does dsm stand for</td>\n",
       "      <td>In psychology and psychiatry, DSM stands for t...</td>\n",
       "      <td>military mk, what does mark stand for in milit...</td>\n",
       "    </tr>\n",
       "    <tr>\n",
       "      <th>35290</th>\n",
       "      <td>what is social competence in early childhood</td>\n",
       "      <td>Social competence in early childhood is as a s...</td>\n",
       "      <td>The Early Years Learning Framework (EYLF) is d...</td>\n",
       "    </tr>\n",
       "    <tr>\n",
       "      <th>358404</th>\n",
       "      <td>stonefield construction phone number</td>\n",
       "      <td>A: The phone number for Stonefield Constructio...</td>\n",
       "      <td>The Building Official reviews applications for...</td>\n",
       "    </tr>\n",
       "    <tr>\n",
       "      <th>381806</th>\n",
       "      <td>what book did adam smith write</td>\n",
       "      <td>Adam Smith FRSA was a Scottish economist, phil...</td>\n",
       "      <td>Was Adam Smith laissez-faire? What did it mean...</td>\n",
       "    </tr>\n",
       "    <tr>\n",
       "      <th>244560</th>\n",
       "      <td>how long can you take naltrexone for</td>\n",
       "      <td>You and your doctor have to decide this. Most ...</td>\n",
       "      <td>Naloxone, also known as Narcan among other nam...</td>\n",
       "    </tr>\n",
       "    <tr>\n",
       "      <th>...</th>\n",
       "      <td>...</td>\n",
       "      <td>...</td>\n",
       "      <td>...</td>\n",
       "    </tr>\n",
       "    <tr>\n",
       "      <th>178265</th>\n",
       "      <td>what happens in the first stage of seed germin...</td>\n",
       "      <td>Stage One - Hydration and Metabolism. In the f...</td>\n",
       "      <td>Germination is the process in which the seeds ...</td>\n",
       "    </tr>\n",
       "    <tr>\n",
       "      <th>168368</th>\n",
       "      <td>aberdeen airport code</td>\n",
       "      <td>Aberdeen International Airport (Scottish Gaeli...</td>\n",
       "      <td>Welcome to USZip.com. USZip.com USZip.com is a...</td>\n",
       "    </tr>\n",
       "    <tr>\n",
       "      <th>314866</th>\n",
       "      <td>how old till baby can sleep on stomach</td>\n",
       "      <td>You may find yourself wondering if your baby c...</td>\n",
       "      <td>Third Month Baby Milestones: Sleep. Your 3-mon...</td>\n",
       "    </tr>\n",
       "    <tr>\n",
       "      <th>472372</th>\n",
       "      <td>what are the sisters last names in in the time...</td>\n",
       "      <td>In the Time of the Butterflies Characters. BÃ©...</td>\n",
       "      <td>The nine brightest stars of the Pleiades are n...</td>\n",
       "    </tr>\n",
       "    <tr>\n",
       "      <th>38454</th>\n",
       "      <td>electricity cost per kwh</td>\n",
       "      <td>seattle area households paid an average of 10 ...</td>\n",
       "      <td>Â£800 per Kilowatt Average. For a large, moder...</td>\n",
       "    </tr>\n",
       "  </tbody>\n",
       "</table>\n",
       "<p>100000 rows × 3 columns</p>\n",
       "</div>"
      ],
      "text/plain": [
       "                                                    query  \\\n",
       "15773                             what does dsm stand for   \n",
       "35290        what is social competence in early childhood   \n",
       "358404               stonefield construction phone number   \n",
       "381806                     what book did adam smith write   \n",
       "244560               how long can you take naltrexone for   \n",
       "...                                                   ...   \n",
       "178265  what happens in the first stage of seed germin...   \n",
       "168368                              aberdeen airport code   \n",
       "314866             how old till baby can sleep on stomach   \n",
       "472372  what are the sisters last names in in the time...   \n",
       "38454                            electricity cost per kwh   \n",
       "\n",
       "                                                      pos  \\\n",
       "15773   In psychology and psychiatry, DSM stands for t...   \n",
       "35290   Social competence in early childhood is as a s...   \n",
       "358404  A: The phone number for Stonefield Constructio...   \n",
       "381806  Adam Smith FRSA was a Scottish economist, phil...   \n",
       "244560  You and your doctor have to decide this. Most ...   \n",
       "...                                                   ...   \n",
       "178265  Stage One - Hydration and Metabolism. In the f...   \n",
       "168368  Aberdeen International Airport (Scottish Gaeli...   \n",
       "314866  You may find yourself wondering if your baby c...   \n",
       "472372  In the Time of the Butterflies Characters. BÃ©...   \n",
       "38454   seattle area households paid an average of 10 ...   \n",
       "\n",
       "                                                      neg  \n",
       "15773   military mk, what does mark stand for in milit...  \n",
       "35290   The Early Years Learning Framework (EYLF) is d...  \n",
       "358404  The Building Official reviews applications for...  \n",
       "381806  Was Adam Smith laissez-faire? What did it mean...  \n",
       "244560  Naloxone, also known as Narcan among other nam...  \n",
       "...                                                   ...  \n",
       "178265  Germination is the process in which the seeds ...  \n",
       "168368  Welcome to USZip.com. USZip.com USZip.com is a...  \n",
       "314866  Third Month Baby Milestones: Sleep. Your 3-mon...  \n",
       "472372  The nine brightest stars of the Pleiades are n...  \n",
       "38454   Â£800 per Kilowatt Average. For a large, moder...  \n",
       "\n",
       "[100000 rows x 3 columns]"
      ]
     },
     "execution_count": 42,
     "metadata": {},
     "output_type": "execute_result"
    }
   ],
   "source": [
    "for"
   ]
  },
  {
   "cell_type": "markdown",
   "metadata": {},
   "source": [
    "### Averaging"
   ]
  },
  {
   "cell_type": "code",
   "execution_count": 115,
   "metadata": {},
   "outputs": [],
   "source": [
    "def average_vec(dim):\n",
    "    def _inner(embeddings):\n",
    "        x = embeddings.reshape(-1, dim)\n",
    "        x = x.mean(axis=1).reshape(-1, 1)\n",
    "        x = x.reshape(len(embeddings), -1)\n",
    "        return x\n",
    "    return _inner"
   ]
  },
  {
   "cell_type": "code",
   "execution_count": 118,
   "metadata": {
    "tags": []
   },
   "outputs": [
    {
     "name": "stderr",
     "output_type": "stream",
     "text": [
      "100%|█████████████████████████████████████████████████████████████████████████████████████████████████████████████████████████████████████████████████████████████████| 29993/29993 [00:09<00:00, 3050.61it/s]\n",
      "100%|█████████████████████████████████████████████████████████████████████████████████████████████████████████████████████████████████████████████████████████████████| 29993/29993 [00:10<00:00, 2987.74it/s]\n",
      "100%|█████████████████████████████████████████████████████████████████████████████████████████████████████████████████████████████████████████████████████████████████| 29993/29993 [00:09<00:00, 3028.07it/s]\n",
      "100%|█████████████████████████████████████████████████████████████████████████████████████████████████████████████████████████████████████████████████████████████████| 29993/29993 [00:09<00:00, 3039.34it/s]\n",
      "100%|█████████████████████████████████████████████████████████████████████████████████████████████████████████████████████████████████████████████████████████████████| 29993/29993 [00:10<00:00, 2982.59it/s]\n",
      "100%|█████████████████████████████████████████████████████████████████████████████████████████████████████████████████████████████████████████████████████████████████| 29993/29993 [00:10<00:00, 2991.96it/s]\n"
     ]
    }
   ],
   "source": [
    "for rate in [4, 8, 16, 32, 64, 128]:\n",
    "    method = average_vec(rate)\n",
    "    metrics.append(calculate_metrics(method, test_data, f\"Average parts ({rate})\"))"
   ]
  },
  {
   "cell_type": "code",
   "execution_count": 122,
   "metadata": {},
   "outputs": [],
   "source": [
    "pd.concat(metrics).sort_values(\"ratio\").to_csv(\"results/benchmarks.csv\")"
   ]
  },
  {
   "cell_type": "markdown",
   "metadata": {},
   "source": [
    "### Generic autoencoder"
   ]
  },
  {
   "cell_type": "code",
   "execution_count": 102,
   "metadata": {},
   "outputs": [],
   "source": [
    "def get_model(input_dim, output_dim):\n",
    "    encoder = nn.Sequential(\n",
    "                    nn.Linear(input_dim, 16),\n",
    "                    nn.ReLU(),\n",
    "                    nn.Linear(16, output_dim),\n",
    "            )\n",
    "    decoder = nn.Sequential(\n",
    "                    nn.Linear(output_dim, 16),\n",
    "                    nn.ReLU(),\n",
    "                    nn.Linear(16, input_dim)\n",
    "            )\n",
    "    autoenc = nn.Sequential(\n",
    "                    encoder,\n",
    "                    decoder\n",
    "                )\n",
    "    return autoenc\n",
    "\n",
    "def test_autoenc(model, dim):\n",
    "    def _inner(embeddings):\n",
    "        x = embeddings.reshape(-1, dim)\n",
    "        x = torch.from_numpy(x).to(torch.float32)\n",
    "        x = model[0](x).cpu().detach().numpy()\n",
    "        x = x.reshape(len(embeddings), -1)\n",
    "        return x\n",
    "    return _inner"
   ]
  },
  {
   "cell_type": "code",
   "execution_count": 103,
   "metadata": {},
   "outputs": [],
   "source": [
    "data = torch.tensor(train_data).reshape(-1, 768)\n",
    "train_loader = torch.utils.data.DataLoader(data.to(torch.float32), batch_size=32, shuffle=True)\n",
    "\n",
    "batch_size = 32\n",
    "\n",
    "def train_autoenc(model, dim, criterion, epochs=1, params={}):\n",
    "    optim = torch.optim.Adam(model.parameters(), 3e-4)\n",
    "    \n",
    "    experiment = Experiment(\n",
    "    api_key=\"sQnInDpH3eOHuFvstNS3jG5jb\",\n",
    "    project_name=\"vector-compression\",\n",
    "    workspace=\"wwydmanski\",\n",
    "    display_summary_level=0,\n",
    "    auto_metric_logging=False\n",
    "    )\n",
    "    experiment.add_tag(\"autoencoder\")\n",
    "    experiment.log_parameters(params)\n",
    "    \n",
    "    for epoch in range(1, epochs+1):\n",
    "        with tqdm.tqdm(train_loader) as t:\n",
    "            total_loss = []\n",
    "\n",
    "            for step, batch in enumerate(t):\n",
    "                x = batch.reshape(-1, dim)\n",
    "                batch_loss = []\n",
    "                for idx in range(0, len(x), batch_size):\n",
    "                    minibatch = x[idx:idx+batch_size]\n",
    "\n",
    "                    optim.zero_grad()\n",
    "\n",
    "                    y_hat = model(minibatch)\n",
    "                    loss = criterion(minibatch, y_hat)\n",
    "                    loss.backward()\n",
    "                    optim.step()\n",
    "\n",
    "                    batch_loss.append(loss.item())\n",
    "\n",
    "                experiment.log_metric(\"batch_loss_\", np.mean(batch_loss), step=step, epoch=epoch)\n",
    "\n",
    "            experiment.log_metric(\"loss_\", np.mean(total_loss), step=step, epoch=epoch)\n",
    "\n",
    "        res = calculate_metrics(test_autoenc(model, dim), train_data, f\"Autoencoder\")\n",
    "        print(res)\n",
    "        experiment.log_metric(\"Train accuracy\", res[\"ratio\"].values[0], step=epoch*step)\n",
    "        experiment.log_metric(\"Train mean positive similarity\", res[\"mean_pos_sim\"].values[0], step=epoch*step)\n",
    "        experiment.log_metric(\"Train mean difference\", res[\"mean_diff\"].values[0], step=epoch*step)\n",
    "        \n",
    "    res = calculate_metrics(test_autoenc(model, dim), test_data, f\"Autoencoder\")\n",
    "    print(res)\n",
    "    experiment.log_metric(\"Test accuracy\", res[\"ratio\"].values[0], step=epoch*step)\n",
    "    experiment.log_metric(\"Test mean positive similarity\", res[\"mean_pos_sim\"].values[0], step=epoch*step)\n",
    "    experiment.log_metric(\"Test mean difference\", res[\"mean_diff\"].values[0], step=epoch*step)\n",
    "        \n",
    "    experiment.log_parameter(\"Reduction rate\", res[\"reduction_rate\"].values[0])\n",
    "    experiment.end()"
   ]
  },
  {
   "cell_type": "code",
   "execution_count": 108,
   "metadata": {},
   "outputs": [],
   "source": [
    "metrics = []"
   ]
  },
  {
   "cell_type": "code",
   "execution_count": 113,
   "metadata": {
    "collapsed": true,
    "jupyter": {
     "outputs_hidden": true
    },
    "tags": []
   },
   "outputs": [
    {
     "name": "stdout",
     "output_type": "stream",
     "text": [
      "{'Input dim': 128, 'Output dim': 4, 'LR': 0.0003}\n"
     ]
    },
    {
     "name": "stderr",
     "output_type": "stream",
     "text": [
      "COMET WARNING: As you are running in a Jupyter environment, you will need to call `experiment.end()` when finished to ensure all metrics and code are logged before exiting.\n",
      "COMET INFO: Experiment is live on comet.ml https://www.comet.ml/wwydmanski/vector-compression/0a17a85eb2344674af0605d36d02285d\n",
      "\n",
      "100%|██████████████████████████████████████████████████████████████████████████████████████████████████████████████████████████████████████████████████████████████████████| 938/938 [00:07<00:00, 121.08it/s]\n",
      "/home/wwydmanski/.conda/envs/img_processing/lib/python3.8/site-packages/numpy/core/fromnumeric.py:3440: RuntimeWarning: Mean of empty slice.\n",
      "  return _methods._mean(a, axis=axis, dtype=dtype,\n",
      "/home/wwydmanski/.conda/envs/img_processing/lib/python3.8/site-packages/numpy/core/_methods.py:189: RuntimeWarning: invalid value encountered in double_scalars\n",
      "  ret = ret.dtype.type(ret / rcount)\n",
      "100%|███████████████████████████████████████████████████████████████████████████████████████████████████████████████████████████████████████████████████████████████████| 9997/9997 [00:04<00:00, 2378.68it/s]\n"
     ]
    },
    {
     "name": "stdout",
     "output_type": "stream",
     "text": [
      "      ratio  mean_pos_sim  mean_diff       method  reduction_rate\n",
      "0  0.872762      0.861803   0.113987  Autoencoder            32.0\n"
     ]
    },
    {
     "name": "stderr",
     "output_type": "stream",
     "text": [
      "100%|██████████████████████████████████████████████████████████████████████████████████████████████████████████████████████████████████████████████████████████████████████| 938/938 [00:07<00:00, 129.90it/s]\n",
      "/home/wwydmanski/.conda/envs/img_processing/lib/python3.8/site-packages/numpy/core/fromnumeric.py:3440: RuntimeWarning: Mean of empty slice.\n",
      "  return _methods._mean(a, axis=axis, dtype=dtype,\n",
      "/home/wwydmanski/.conda/envs/img_processing/lib/python3.8/site-packages/numpy/core/_methods.py:189: RuntimeWarning: invalid value encountered in double_scalars\n",
      "  ret = ret.dtype.type(ret / rcount)\n",
      "100%|███████████████████████████████████████████████████████████████████████████████████████████████████████████████████████████████████████████████████████████████████| 9997/9997 [00:03<00:00, 2571.72it/s]\n"
     ]
    },
    {
     "name": "stdout",
     "output_type": "stream",
     "text": [
      "      ratio  mean_pos_sim  mean_diff       method  reduction_rate\n",
      "0  0.854356      0.843139    0.12715  Autoencoder            32.0\n"
     ]
    },
    {
     "name": "stderr",
     "output_type": "stream",
     "text": [
      "100%|██████████████████████████████████████████████████████████████████████████████████████████████████████████████████████████████████████████████████████████████████████| 938/938 [00:07<00:00, 133.02it/s]\n",
      "/home/wwydmanski/.conda/envs/img_processing/lib/python3.8/site-packages/numpy/core/fromnumeric.py:3440: RuntimeWarning: Mean of empty slice.\n",
      "  return _methods._mean(a, axis=axis, dtype=dtype,\n",
      "/home/wwydmanski/.conda/envs/img_processing/lib/python3.8/site-packages/numpy/core/_methods.py:189: RuntimeWarning: invalid value encountered in double_scalars\n",
      "  ret = ret.dtype.type(ret / rcount)\n",
      "100%|███████████████████████████████████████████████████████████████████████████████████████████████████████████████████████████████████████████████████████████████████| 9997/9997 [00:03<00:00, 2616.57it/s]\n"
     ]
    },
    {
     "name": "stdout",
     "output_type": "stream",
     "text": [
      "      ratio  mean_pos_sim  mean_diff       method  reduction_rate\n",
      "0  0.842453      0.793882   0.158637  Autoencoder            32.0\n"
     ]
    },
    {
     "name": "stderr",
     "output_type": "stream",
     "text": [
      "100%|██████████████████████████████████████████████████████████████████████████████████████████████████████████████████████████████████████████████████████████████████████| 938/938 [00:07<00:00, 133.61it/s]\n",
      "/home/wwydmanski/.conda/envs/img_processing/lib/python3.8/site-packages/numpy/core/fromnumeric.py:3440: RuntimeWarning: Mean of empty slice.\n",
      "  return _methods._mean(a, axis=axis, dtype=dtype,\n",
      "/home/wwydmanski/.conda/envs/img_processing/lib/python3.8/site-packages/numpy/core/_methods.py:189: RuntimeWarning: invalid value encountered in double_scalars\n",
      "  ret = ret.dtype.type(ret / rcount)\n",
      "100%|███████████████████████████████████████████████████████████████████████████████████████████████████████████████████████████████████████████████████████████████████| 9997/9997 [00:03<00:00, 2597.86it/s]\n"
     ]
    },
    {
     "name": "stdout",
     "output_type": "stream",
     "text": [
      "      ratio  mean_pos_sim  mean_diff       method  reduction_rate\n",
      "0  0.837651      0.771154   0.171035  Autoencoder            32.0\n"
     ]
    },
    {
     "name": "stderr",
     "output_type": "stream",
     "text": [
      "100%|█████████████████████████████████████████████████████████████████████████████████████████████████████████████████████████████████████████████████████████████████| 89978/89978 [00:36<00:00, 2482.75it/s]\n",
      "COMET ERROR: Error sending a notification, make sure you have opted-in for notifications\n"
     ]
    },
    {
     "name": "stdout",
     "output_type": "stream",
     "text": [
      "      ratio  mean_pos_sim  mean_diff       method  reduction_rate\n",
      "0  0.835849       0.77009   0.167784  Autoencoder            32.0\n"
     ]
    },
    {
     "name": "stderr",
     "output_type": "stream",
     "text": [
      "COMET INFO: Uploading 1 metrics, params and output messages\n",
      "COMET INFO: Waiting for completion of the file uploads (may take several seconds)\n",
      "COMET INFO: The Python SDK has 10800 seconds to finish before aborting...\n",
      "COMET INFO: Still uploading 2 file(s), remaining 132.72 KB/28.47 MB\n",
      "100%|█████████████████████████████████████████████████████████████████████████████████████████████████████████████████████████████████████████████████████████████████| 89978/89978 [00:34<00:00, 2590.19it/s]\n",
      "COMET WARNING: As you are running in a Jupyter environment, you will need to call `experiment.end()` when finished to ensure all metrics and code are logged before exiting.\n"
     ]
    },
    {
     "name": "stdout",
     "output_type": "stream",
     "text": [
      "{'Input dim': 256, 'Output dim': 4, 'LR': 0.0003}\n"
     ]
    },
    {
     "name": "stderr",
     "output_type": "stream",
     "text": [
      "COMET INFO: Experiment is live on comet.ml https://www.comet.ml/wwydmanski/vector-compression/931d9a53450e476cbf005e202f6db2d1\n",
      "\n",
      "100%|██████████████████████████████████████████████████████████████████████████████████████████████████████████████████████████████████████████████████████████████████████| 938/938 [00:03<00:00, 236.29it/s]\n",
      "/home/wwydmanski/.conda/envs/img_processing/lib/python3.8/site-packages/numpy/core/fromnumeric.py:3440: RuntimeWarning: Mean of empty slice.\n",
      "  return _methods._mean(a, axis=axis, dtype=dtype,\n",
      "/home/wwydmanski/.conda/envs/img_processing/lib/python3.8/site-packages/numpy/core/_methods.py:189: RuntimeWarning: invalid value encountered in double_scalars\n",
      "  ret = ret.dtype.type(ret / rcount)\n",
      "100%|███████████████████████████████████████████████████████████████████████████████████████████████████████████████████████████████████████████████████████████████████| 9997/9997 [00:03<00:00, 2499.78it/s]\n"
     ]
    },
    {
     "name": "stdout",
     "output_type": "stream",
     "text": [
      "      ratio  mean_pos_sim  mean_diff       method  reduction_rate\n",
      "0  0.785136       0.94584   0.039889  Autoencoder            64.0\n"
     ]
    },
    {
     "name": "stderr",
     "output_type": "stream",
     "text": [
      "100%|██████████████████████████████████████████████████████████████████████████████████████████████████████████████████████████████████████████████████████████████████████| 938/938 [00:04<00:00, 222.01it/s]\n",
      "/home/wwydmanski/.conda/envs/img_processing/lib/python3.8/site-packages/numpy/core/fromnumeric.py:3440: RuntimeWarning: Mean of empty slice.\n",
      "  return _methods._mean(a, axis=axis, dtype=dtype,\n",
      "/home/wwydmanski/.conda/envs/img_processing/lib/python3.8/site-packages/numpy/core/_methods.py:189: RuntimeWarning: invalid value encountered in double_scalars\n",
      "  ret = ret.dtype.type(ret / rcount)\n",
      "100%|███████████████████████████████████████████████████████████████████████████████████████████████████████████████████████████████████████████████████████████████████| 9997/9997 [00:03<00:00, 2578.29it/s]\n"
     ]
    },
    {
     "name": "stdout",
     "output_type": "stream",
     "text": [
      "      ratio  mean_pos_sim  mean_diff       method  reduction_rate\n",
      "0  0.771031      0.964216   0.025243  Autoencoder            64.0\n"
     ]
    },
    {
     "name": "stderr",
     "output_type": "stream",
     "text": [
      "100%|██████████████████████████████████████████████████████████████████████████████████████████████████████████████████████████████████████████████████████████████████████| 938/938 [00:03<00:00, 236.54it/s]\n",
      "/home/wwydmanski/.conda/envs/img_processing/lib/python3.8/site-packages/numpy/core/fromnumeric.py:3440: RuntimeWarning: Mean of empty slice.\n",
      "  return _methods._mean(a, axis=axis, dtype=dtype,\n",
      "/home/wwydmanski/.conda/envs/img_processing/lib/python3.8/site-packages/numpy/core/_methods.py:189: RuntimeWarning: invalid value encountered in double_scalars\n",
      "  ret = ret.dtype.type(ret / rcount)\n",
      "100%|███████████████████████████████████████████████████████████████████████████████████████████████████████████████████████████████████████████████████████████████████| 9997/9997 [00:03<00:00, 2503.61it/s]\n"
     ]
    },
    {
     "name": "stdout",
     "output_type": "stream",
     "text": [
      "      ratio  mean_pos_sim  mean_diff       method  reduction_rate\n",
      "0  0.764129      0.964244    0.02548  Autoencoder            64.0\n"
     ]
    },
    {
     "name": "stderr",
     "output_type": "stream",
     "text": [
      "100%|██████████████████████████████████████████████████████████████████████████████████████████████████████████████████████████████████████████████████████████████████████| 938/938 [00:03<00:00, 234.76it/s]\n",
      "/home/wwydmanski/.conda/envs/img_processing/lib/python3.8/site-packages/numpy/core/fromnumeric.py:3440: RuntimeWarning: Mean of empty slice.\n",
      "  return _methods._mean(a, axis=axis, dtype=dtype,\n",
      "/home/wwydmanski/.conda/envs/img_processing/lib/python3.8/site-packages/numpy/core/_methods.py:189: RuntimeWarning: invalid value encountered in double_scalars\n",
      "  ret = ret.dtype.type(ret / rcount)\n",
      "100%|███████████████████████████████████████████████████████████████████████████████████████████████████████████████████████████████████████████████████████████████████| 9997/9997 [00:03<00:00, 2611.63it/s]\n"
     ]
    },
    {
     "name": "stdout",
     "output_type": "stream",
     "text": [
      "      ratio  mean_pos_sim  mean_diff       method  reduction_rate\n",
      "0  0.757927      0.961414   0.027777  Autoencoder            64.0\n"
     ]
    },
    {
     "name": "stderr",
     "output_type": "stream",
     "text": [
      "100%|█████████████████████████████████████████████████████████████████████████████████████████████████████████████████████████████████████████████████████████████████| 89978/89978 [00:34<00:00, 2578.63it/s]\n",
      "COMET ERROR: Error sending a notification, make sure you have opted-in for notifications\n"
     ]
    },
    {
     "name": "stdout",
     "output_type": "stream",
     "text": [
      "      ratio  mean_pos_sim  mean_diff       method  reduction_rate\n",
      "0  0.751017      0.961556   0.027461  Autoencoder            64.0\n"
     ]
    },
    {
     "name": "stderr",
     "output_type": "stream",
     "text": [
      "COMET INFO: Uploading 1 metrics, params and output messages\n",
      "COMET INFO: Waiting for completion of the file uploads (may take several seconds)\n",
      "COMET INFO: The Python SDK has 10800 seconds to finish before aborting...\n",
      "COMET INFO: Still uploading 2 file(s), remaining 132.86 KB/28.47 MB\n",
      "100%|█████████████████████████████████████████████████████████████████████████████████████████████████████████████████████████████████████████████████████████████████| 89978/89978 [00:35<00:00, 2542.94it/s]\n",
      "COMET WARNING: As you are running in a Jupyter environment, you will need to call `experiment.end()` when finished to ensure all metrics and code are logged before exiting.\n"
     ]
    },
    {
     "name": "stdout",
     "output_type": "stream",
     "text": [
      "{'Input dim': 256, 'Output dim': 8, 'LR': 0.0003}\n"
     ]
    },
    {
     "name": "stderr",
     "output_type": "stream",
     "text": [
      "COMET INFO: Experiment is live on comet.ml https://www.comet.ml/wwydmanski/vector-compression/64f60c3370d44433bfb07abf2bfb8661\n",
      "\n",
      "100%|██████████████████████████████████████████████████████████████████████████████████████████████████████████████████████████████████████████████████████████████████████| 938/938 [00:04<00:00, 199.25it/s]\n",
      "/home/wwydmanski/.conda/envs/img_processing/lib/python3.8/site-packages/numpy/core/fromnumeric.py:3440: RuntimeWarning: Mean of empty slice.\n",
      "  return _methods._mean(a, axis=axis, dtype=dtype,\n",
      "/home/wwydmanski/.conda/envs/img_processing/lib/python3.8/site-packages/numpy/core/_methods.py:189: RuntimeWarning: invalid value encountered in double_scalars\n",
      "  ret = ret.dtype.type(ret / rcount)\n",
      "100%|███████████████████████████████████████████████████████████████████████████████████████████████████████████████████████████████████████████████████████████████████| 9997/9997 [00:04<00:00, 2371.63it/s]\n"
     ]
    },
    {
     "name": "stdout",
     "output_type": "stream",
     "text": [
      "     ratio  mean_pos_sim  mean_diff       method  reduction_rate\n",
      "0  0.86806      0.955415   0.035466  Autoencoder            32.0\n"
     ]
    },
    {
     "name": "stderr",
     "output_type": "stream",
     "text": [
      "100%|██████████████████████████████████████████████████████████████████████████████████████████████████████████████████████████████████████████████████████████████████████| 938/938 [00:04<00:00, 220.87it/s]\n",
      "/home/wwydmanski/.conda/envs/img_processing/lib/python3.8/site-packages/numpy/core/fromnumeric.py:3440: RuntimeWarning: Mean of empty slice.\n",
      "  return _methods._mean(a, axis=axis, dtype=dtype,\n",
      "/home/wwydmanski/.conda/envs/img_processing/lib/python3.8/site-packages/numpy/core/_methods.py:189: RuntimeWarning: invalid value encountered in double_scalars\n",
      "  ret = ret.dtype.type(ret / rcount)\n",
      "100%|███████████████████████████████████████████████████████████████████████████████████████████████████████████████████████████████████████████████████████████████████| 9997/9997 [00:03<00:00, 2552.27it/s]\n"
     ]
    },
    {
     "name": "stdout",
     "output_type": "stream",
     "text": [
      "      ratio  mean_pos_sim  mean_diff       method  reduction_rate\n",
      "0  0.854156      0.961554   0.029017  Autoencoder            32.0\n"
     ]
    },
    {
     "name": "stderr",
     "output_type": "stream",
     "text": [
      "100%|██████████████████████████████████████████████████████████████████████████████████████████████████████████████████████████████████████████████████████████████████████| 938/938 [00:03<00:00, 237.58it/s]\n",
      "/home/wwydmanski/.conda/envs/img_processing/lib/python3.8/site-packages/numpy/core/fromnumeric.py:3440: RuntimeWarning: Mean of empty slice.\n",
      "  return _methods._mean(a, axis=axis, dtype=dtype,\n",
      "/home/wwydmanski/.conda/envs/img_processing/lib/python3.8/site-packages/numpy/core/_methods.py:189: RuntimeWarning: invalid value encountered in double_scalars\n",
      "  ret = ret.dtype.type(ret / rcount)\n",
      "100%|███████████████████████████████████████████████████████████████████████████████████████████████████████████████████████████████████████████████████████████████████| 9997/9997 [00:04<00:00, 2464.47it/s]\n"
     ]
    },
    {
     "name": "stdout",
     "output_type": "stream",
     "text": [
      "      ratio  mean_pos_sim  mean_diff       method  reduction_rate\n",
      "0  0.843653      0.961924   0.027544  Autoencoder            32.0\n"
     ]
    },
    {
     "name": "stderr",
     "output_type": "stream",
     "text": [
      "100%|██████████████████████████████████████████████████████████████████████████████████████████████████████████████████████████████████████████████████████████████████████| 938/938 [00:03<00:00, 235.31it/s]\n",
      "/home/wwydmanski/.conda/envs/img_processing/lib/python3.8/site-packages/numpy/core/fromnumeric.py:3440: RuntimeWarning: Mean of empty slice.\n",
      "  return _methods._mean(a, axis=axis, dtype=dtype,\n",
      "/home/wwydmanski/.conda/envs/img_processing/lib/python3.8/site-packages/numpy/core/_methods.py:189: RuntimeWarning: invalid value encountered in double_scalars\n",
      "  ret = ret.dtype.type(ret / rcount)\n",
      "100%|███████████████████████████████████████████████████████████████████████████████████████████████████████████████████████████████████████████████████████████████████| 9997/9997 [00:03<00:00, 2536.36it/s]\n"
     ]
    },
    {
     "name": "stdout",
     "output_type": "stream",
     "text": [
      "      ratio  mean_pos_sim  mean_diff       method  reduction_rate\n",
      "0  0.837651      0.960283    0.02767  Autoencoder            32.0\n"
     ]
    },
    {
     "name": "stderr",
     "output_type": "stream",
     "text": [
      "100%|█████████████████████████████████████████████████████████████████████████████████████████████████████████████████████████████████████████████████████████████████| 89978/89978 [00:35<00:00, 2526.32it/s]\n",
      "COMET ERROR: Error sending a notification, make sure you have opted-in for notifications\n",
      "COMET INFO: Uploading 1 metrics, params and output messages\n",
      "COMET INFO: Waiting for completion of the file uploads (may take several seconds)\n",
      "COMET INFO: The Python SDK has 10800 seconds to finish before aborting...\n",
      "COMET INFO: Still uploading 2 file(s), remaining 132.99 KB/28.47 MB\n"
     ]
    },
    {
     "name": "stdout",
     "output_type": "stream",
     "text": [
      "      ratio  mean_pos_sim  mean_diff       method  reduction_rate\n",
      "0  0.837927      0.960247   0.027499  Autoencoder            32.0\n"
     ]
    },
    {
     "name": "stderr",
     "output_type": "stream",
     "text": [
      "100%|█████████████████████████████████████████████████████████████████████████████████████████████████████████████████████████████████████████████████████████████████| 89978/89978 [00:34<00:00, 2594.52it/s]\n",
      "COMET WARNING: As you are running in a Jupyter environment, you will need to call `experiment.end()` when finished to ensure all metrics and code are logged before exiting.\n"
     ]
    },
    {
     "name": "stdout",
     "output_type": "stream",
     "text": [
      "{'Input dim': 128, 'Output dim': 8, 'LR': 0.0003}\n"
     ]
    },
    {
     "name": "stderr",
     "output_type": "stream",
     "text": [
      "COMET INFO: Experiment is live on comet.ml https://www.comet.ml/wwydmanski/vector-compression/595c806a4a7e4cc89cdd3de76cb3335f\n",
      "\n",
      "100%|██████████████████████████████████████████████████████████████████████████████████████████████████████████████████████████████████████████████████████████████████████| 938/938 [00:07<00:00, 123.07it/s]\n",
      "/home/wwydmanski/.conda/envs/img_processing/lib/python3.8/site-packages/numpy/core/fromnumeric.py:3440: RuntimeWarning: Mean of empty slice.\n",
      "  return _methods._mean(a, axis=axis, dtype=dtype,\n",
      "/home/wwydmanski/.conda/envs/img_processing/lib/python3.8/site-packages/numpy/core/_methods.py:189: RuntimeWarning: invalid value encountered in double_scalars\n",
      "  ret = ret.dtype.type(ret / rcount)\n",
      "100%|███████████████████████████████████████████████████████████████████████████████████████████████████████████████████████████████████████████████████████████████████| 9997/9997 [00:03<00:00, 2566.12it/s]\n"
     ]
    },
    {
     "name": "stdout",
     "output_type": "stream",
     "text": [
      "      ratio  mean_pos_sim  mean_diff       method  reduction_rate\n",
      "0  0.911273      0.966956    0.02866  Autoencoder            16.0\n"
     ]
    },
    {
     "name": "stderr",
     "output_type": "stream",
     "text": [
      "100%|██████████████████████████████████████████████████████████████████████████████████████████████████████████████████████████████████████████████████████████████████████| 938/938 [00:07<00:00, 129.08it/s]\n",
      "/home/wwydmanski/.conda/envs/img_processing/lib/python3.8/site-packages/numpy/core/fromnumeric.py:3440: RuntimeWarning: Mean of empty slice.\n",
      "  return _methods._mean(a, axis=axis, dtype=dtype,\n",
      "/home/wwydmanski/.conda/envs/img_processing/lib/python3.8/site-packages/numpy/core/_methods.py:189: RuntimeWarning: invalid value encountered in double_scalars\n",
      "  ret = ret.dtype.type(ret / rcount)\n",
      "100%|███████████████████████████████████████████████████████████████████████████████████████████████████████████████████████████████████████████████████████████████████| 9997/9997 [00:03<00:00, 2614.63it/s]\n"
     ]
    },
    {
     "name": "stdout",
     "output_type": "stream",
     "text": [
      "      ratio  mean_pos_sim  mean_diff       method  reduction_rate\n",
      "0  0.910973      0.964465     0.0308  Autoencoder            16.0\n"
     ]
    },
    {
     "name": "stderr",
     "output_type": "stream",
     "text": [
      "100%|██████████████████████████████████████████████████████████████████████████████████████████████████████████████████████████████████████████████████████████████████████| 938/938 [00:07<00:00, 128.49it/s]\n",
      "/home/wwydmanski/.conda/envs/img_processing/lib/python3.8/site-packages/numpy/core/fromnumeric.py:3440: RuntimeWarning: Mean of empty slice.\n",
      "  return _methods._mean(a, axis=axis, dtype=dtype,\n",
      "/home/wwydmanski/.conda/envs/img_processing/lib/python3.8/site-packages/numpy/core/_methods.py:189: RuntimeWarning: invalid value encountered in double_scalars\n",
      "  ret = ret.dtype.type(ret / rcount)\n",
      "100%|███████████████████████████████████████████████████████████████████████████████████████████████████████████████████████████████████████████████████████████████████| 9997/9997 [00:04<00:00, 2449.41it/s]\n"
     ]
    },
    {
     "name": "stdout",
     "output_type": "stream",
     "text": [
      "      ratio  mean_pos_sim  mean_diff       method  reduction_rate\n",
      "0  0.912274      0.959616   0.034907  Autoencoder            16.0\n"
     ]
    },
    {
     "name": "stderr",
     "output_type": "stream",
     "text": [
      "100%|██████████████████████████████████████████████████████████████████████████████████████████████████████████████████████████████████████████████████████████████████████| 938/938 [00:07<00:00, 129.37it/s]\n",
      "/home/wwydmanski/.conda/envs/img_processing/lib/python3.8/site-packages/numpy/core/fromnumeric.py:3440: RuntimeWarning: Mean of empty slice.\n",
      "  return _methods._mean(a, axis=axis, dtype=dtype,\n",
      "/home/wwydmanski/.conda/envs/img_processing/lib/python3.8/site-packages/numpy/core/_methods.py:189: RuntimeWarning: invalid value encountered in double_scalars\n",
      "  ret = ret.dtype.type(ret / rcount)\n",
      "100%|███████████████████████████████████████████████████████████████████████████████████████████████████████████████████████████████████████████████████████████████████| 9997/9997 [00:04<00:00, 2484.27it/s]\n"
     ]
    },
    {
     "name": "stdout",
     "output_type": "stream",
     "text": [
      "      ratio  mean_pos_sim  mean_diff       method  reduction_rate\n",
      "0  0.913074      0.955115    0.03862  Autoencoder            16.0\n"
     ]
    },
    {
     "name": "stderr",
     "output_type": "stream",
     "text": [
      "100%|█████████████████████████████████████████████████████████████████████████████████████████████████████████████████████████████████████████████████████████████████| 89978/89978 [00:36<00:00, 2496.04it/s]\n",
      "COMET ERROR: Error sending a notification, make sure you have opted-in for notifications\n"
     ]
    },
    {
     "name": "stdout",
     "output_type": "stream",
     "text": [
      "      ratio  mean_pos_sim  mean_diff       method  reduction_rate\n",
      "0  0.908511      0.954903    0.03825  Autoencoder            16.0\n"
     ]
    },
    {
     "name": "stderr",
     "output_type": "stream",
     "text": [
      "COMET INFO: Uploading 1 metrics, params and output messages\n",
      "100%|█████████████████████████████████████████████████████████████████████████████████████████████████████████████████████████████████████████████████████████████████| 89978/89978 [00:35<00:00, 2558.71it/s]\n"
     ]
    }
   ],
   "source": [
    "hinge_margin = torch.tensor(0)\n",
    "gamma = 1\n",
    "def var_loss(x):\n",
    "    var = torch.sqrt(x.var(0)+1e-6)\n",
    "    loss = torch.maximum(hinge_margin, gamma-var).mean()\n",
    "    return loss\n",
    "\n",
    "\n",
    "dim=32\n",
    "output_dim = 8\n",
    "lr = 3e-4\n",
    "\n",
    "for shape in [(128, 8), (256, 8), (256, 4), (128, 4)][::-1]:\n",
    "    params = {\"Input dim\": shape[0], \"Output dim\": shape[1], \"LR\": lr}\n",
    "    print(params)\n",
    "    model = get_model(shape[0], shape[1])\n",
    "\n",
    "    optim = torch.optim.Adam(model.parameters(), lr)\n",
    "    criterion_ = nn.CosineSimilarity()\n",
    "    criterion = lambda x, y: -criterion_(x, y).mean() - 0.1*var_loss(y)\n",
    "\n",
    "    train_autoenc(model, shape[0], criterion, epochs=4, params=params)\n",
    "    metrics.append(calculate_metrics(test_autoenc(model, shape[0]), test_data, f\"Autoencoder\"))"
   ]
  },
  {
   "cell_type": "code",
   "execution_count": 124,
   "metadata": {},
   "outputs": [
    {
     "data": {
      "text/html": [
       "<div>\n",
       "<style scoped>\n",
       "    .dataframe tbody tr th:only-of-type {\n",
       "        vertical-align: middle;\n",
       "    }\n",
       "\n",
       "    .dataframe tbody tr th {\n",
       "        vertical-align: top;\n",
       "    }\n",
       "\n",
       "    .dataframe thead th {\n",
       "        text-align: right;\n",
       "    }\n",
       "</style>\n",
       "<table border=\"1\" class=\"dataframe\">\n",
       "  <thead>\n",
       "    <tr style=\"text-align: right;\">\n",
       "      <th></th>\n",
       "      <th>ratio</th>\n",
       "      <th>mean_pos_sim</th>\n",
       "      <th>mean_diff</th>\n",
       "      <th>method</th>\n",
       "      <th>reduction_rate</th>\n",
       "    </tr>\n",
       "  </thead>\n",
       "  <tbody>\n",
       "    <tr>\n",
       "      <th>0</th>\n",
       "      <td>0.751017</td>\n",
       "      <td>0.961556</td>\n",
       "      <td>0.027461</td>\n",
       "      <td>Autoencoder</td>\n",
       "      <td>64.0</td>\n",
       "    </tr>\n",
       "    <tr>\n",
       "      <th>0</th>\n",
       "      <td>0.837927</td>\n",
       "      <td>0.960247</td>\n",
       "      <td>0.027499</td>\n",
       "      <td>Autoencoder</td>\n",
       "      <td>32.0</td>\n",
       "    </tr>\n",
       "    <tr>\n",
       "      <th>0</th>\n",
       "      <td>0.909922</td>\n",
       "      <td>0.970591</td>\n",
       "      <td>0.023799</td>\n",
       "      <td>Autoencoder</td>\n",
       "      <td>16.0</td>\n",
       "    </tr>\n",
       "    <tr>\n",
       "      <th>0</th>\n",
       "      <td>0.935818</td>\n",
       "      <td>0.962036</td>\n",
       "      <td>0.031864</td>\n",
       "      <td>Autoencoder</td>\n",
       "      <td>8.0</td>\n",
       "    </tr>\n",
       "    <tr>\n",
       "      <th>0</th>\n",
       "      <td>0.958501</td>\n",
       "      <td>0.987163</td>\n",
       "      <td>0.010953</td>\n",
       "      <td>Autoencoder</td>\n",
       "      <td>2.0</td>\n",
       "    </tr>\n",
       "  </tbody>\n",
       "</table>\n",
       "</div>"
      ],
      "text/plain": [
       "      ratio  mean_pos_sim  mean_diff       method  reduction_rate\n",
       "0  0.751017      0.961556   0.027461  Autoencoder            64.0\n",
       "0  0.837927      0.960247   0.027499  Autoencoder            32.0\n",
       "0  0.909922      0.970591   0.023799  Autoencoder            16.0\n",
       "0  0.935818      0.962036   0.031864  Autoencoder             8.0\n",
       "0  0.958501      0.987163   0.010953  Autoencoder             2.0"
      ]
     },
     "execution_count": 124,
     "metadata": {},
     "output_type": "execute_result"
    }
   ],
   "source": [
    "cmetrics = pd.concat(metrics)\n",
    "\n",
    "max_ratio = cmetrics.groupby(\"reduction_rate\").max()[\"ratio\"]\n",
    "cmetrics = cmetrics[cmetrics.apply(lambda x: x[\"ratio\"]==max_ratio[x[\"reduction_rate\"]], axis=1)]\n",
    "cmetrics = cmetrics.sort_values(\"reduction_rate\", ascending=False)\n",
    "cmetrics.to_csv(\"results/autoencoder.csv\")\n",
    "\n",
    "cmetrics"
   ]
  },
  {
   "cell_type": "markdown",
   "metadata": {},
   "source": [
    "### PCA"
   ]
  },
  {
   "cell_type": "code",
   "execution_count": null,
   "metadata": {},
   "outputs": [],
   "source": [
    "metrics = []"
   ]
  },
  {
   "cell_type": "code",
   "execution_count": 126,
   "metadata": {},
   "outputs": [],
   "source": [
    "from sklearn.decomposition import PCA"
   ]
  },
  {
   "cell_type": "code",
   "execution_count": 19,
   "metadata": {},
   "outputs": [],
   "source": [
    "def test_pca(model, input_dim):\n",
    "    def _inner(embeddings):\n",
    "        x = embeddings.reshape(-1, input_dim)\n",
    "        x = model.transform(x)\n",
    "        x = x.reshape(len(embeddings), -1)\n",
    "        return x\n",
    "    return _inner\n",
    "\n",
    "def get_pca(input_dim, output_dim):\n",
    "    model = PCA(output_dim)\n",
    "    data = train_data[0].reshape(-1, input_dim)\n",
    "    model.fit(data)\n",
    "    return model"
   ]
  },
  {
   "cell_type": "code",
   "execution_count": 139,
   "metadata": {},
   "outputs": [],
   "source": [
    "model = get_pca(64, 8)"
   ]
  },
  {
   "cell_type": "code",
   "execution_count": 142,
   "metadata": {
    "collapsed": true,
    "jupyter": {
     "outputs_hidden": true
    },
    "tags": []
   },
   "outputs": [
    {
     "name": "stderr",
     "output_type": "stream",
     "text": [
      "100%|█████████████████████████████████████████████████████████████████████████████████████████████████████████████████████████████████████████████████████████████████| 89978/89978 [00:33<00:00, 2695.88it/s]\n",
      "100%|█████████████████████████████████████████████████████████████████████████████████████████████████████████████████████████████████████████████████████████████████| 89978/89978 [00:34<00:00, 2633.27it/s]\n",
      "100%|█████████████████████████████████████████████████████████████████████████████████████████████████████████████████████████████████████████████████████████████████| 89978/89978 [00:33<00:00, 2665.43it/s]\n",
      "100%|█████████████████████████████████████████████████████████████████████████████████████████████████████████████████████████████████████████████████████████████████| 89978/89978 [00:33<00:00, 2686.41it/s]\n",
      "100%|█████████████████████████████████████████████████████████████████████████████████████████████████████████████████████████████████████████████████████████████████| 89978/89978 [00:34<00:00, 2596.12it/s]\n",
      "100%|█████████████████████████████████████████████████████████████████████████████████████████████████████████████████████████████████████████████████████████████████| 89978/89978 [00:32<00:00, 2728.08it/s]\n",
      "100%|█████████████████████████████████████████████████████████████████████████████████████████████████████████████████████████████████████████████████████████████████| 89978/89978 [00:33<00:00, 2647.04it/s]\n",
      "100%|█████████████████████████████████████████████████████████████████████████████████████████████████████████████████████████████████████████████████████████████████| 89978/89978 [00:32<00:00, 2764.61it/s]\n",
      "100%|█████████████████████████████████████████████████████████████████████████████████████████████████████████████████████████████████████████████████████████████████| 89978/89978 [00:32<00:00, 2736.98it/s]\n",
      "100%|█████████████████████████████████████████████████████████████████████████████████████████████████████████████████████████████████████████████████████████████████| 89978/89978 [00:32<00:00, 2736.41it/s]\n",
      "100%|█████████████████████████████████████████████████████████████████████████████████████████████████████████████████████████████████████████████████████████████████| 89978/89978 [00:32<00:00, 2768.61it/s]\n",
      "100%|█████████████████████████████████████████████████████████████████████████████████████████████████████████████████████████████████████████████████████████████████| 89978/89978 [00:33<00:00, 2680.83it/s]\n",
      "100%|█████████████████████████████████████████████████████████████████████████████████████████████████████████████████████████████████████████████████████████████████| 89978/89978 [00:33<00:00, 2719.47it/s]\n",
      "100%|█████████████████████████████████████████████████████████████████████████████████████████████████████████████████████████████████████████████████████████████████| 89978/89978 [00:33<00:00, 2651.07it/s]\n",
      "100%|█████████████████████████████████████████████████████████████████████████████████████████████████████████████████████████████████████████████████████████████████| 89978/89978 [00:32<00:00, 2761.40it/s]\n",
      "100%|█████████████████████████████████████████████████████████████████████████████████████████████████████████████████████████████████████████████████████████████████| 89978/89978 [00:33<00:00, 2695.57it/s]\n",
      "100%|█████████████████████████████████████████████████████████████████████████████████████████████████████████████████████████████████████████████████████████████████| 89978/89978 [00:32<00:00, 2739.79it/s]\n",
      "100%|█████████████████████████████████████████████████████████████████████████████████████████████████████████████████████████████████████████████████████████████████| 89978/89978 [00:33<00:00, 2682.83it/s]\n",
      "100%|█████████████████████████████████████████████████████████████████████████████████████████████████████████████████████████████████████████████████████████████████| 89978/89978 [00:32<00:00, 2736.54it/s]\n",
      "100%|█████████████████████████████████████████████████████████████████████████████████████████████████████████████████████████████████████████████████████████████████| 89978/89978 [00:31<00:00, 2818.04it/s]\n",
      "100%|█████████████████████████████████████████████████████████████████████████████████████████████████████████████████████████████████████████████████████████████████| 89978/89978 [00:32<00:00, 2782.54it/s]\n",
      "100%|█████████████████████████████████████████████████████████████████████████████████████████████████████████████████████████████████████████████████████████████████| 89978/89978 [00:32<00:00, 2767.81it/s]\n",
      "100%|█████████████████████████████████████████████████████████████████████████████████████████████████████████████████████████████████████████████████████████████████| 89978/89978 [00:32<00:00, 2740.07it/s]\n",
      "100%|█████████████████████████████████████████████████████████████████████████████████████████████████████████████████████████████████████████████████████████████████| 89978/89978 [00:32<00:00, 2791.16it/s]\n",
      "100%|█████████████████████████████████████████████████████████████████████████████████████████████████████████████████████████████████████████████████████████████████| 89978/89978 [00:32<00:00, 2730.84it/s]\n",
      "100%|█████████████████████████████████████████████████████████████████████████████████████████████████████████████████████████████████████████████████████████████████| 89978/89978 [00:32<00:00, 2800.74it/s]\n",
      "100%|█████████████████████████████████████████████████████████████████████████████████████████████████████████████████████████████████████████████████████████████████| 89978/89978 [00:32<00:00, 2789.97it/s]\n"
     ]
    }
   ],
   "source": [
    "for input_dim in [8, 16, 32, 64, 128, 768]:\n",
    "    for output_dim in [2, 4, 8, 16, 32, 64, 128]:\n",
    "        if input_dim <= output_dim:\n",
    "            continue\n",
    "            \n",
    "        model = get_pca(input_dim, output_dim)\n",
    "        metrics.append(calculate_metrics(test_pca(model, input_dim), test_data, f\"PCA ({input_dim}x{output_dim})\"))"
   ]
  },
  {
   "cell_type": "code",
   "execution_count": 144,
   "metadata": {},
   "outputs": [
    {
     "data": {
      "text/html": [
       "<div>\n",
       "<style scoped>\n",
       "    .dataframe tbody tr th:only-of-type {\n",
       "        vertical-align: middle;\n",
       "    }\n",
       "\n",
       "    .dataframe tbody tr th {\n",
       "        vertical-align: top;\n",
       "    }\n",
       "\n",
       "    .dataframe thead th {\n",
       "        text-align: right;\n",
       "    }\n",
       "</style>\n",
       "<table border=\"1\" class=\"dataframe\">\n",
       "  <thead>\n",
       "    <tr style=\"text-align: right;\">\n",
       "      <th></th>\n",
       "      <th>ratio</th>\n",
       "      <th>mean_pos_sim</th>\n",
       "      <th>mean_diff</th>\n",
       "      <th>method</th>\n",
       "      <th>reduction_rate</th>\n",
       "    </tr>\n",
       "  </thead>\n",
       "  <tbody>\n",
       "    <tr>\n",
       "      <th>0</th>\n",
       "      <td>0.610516</td>\n",
       "      <td>0.811125</td>\n",
       "      <td>0.125235</td>\n",
       "      <td>PCA (768x2)</td>\n",
       "      <td>384.0</td>\n",
       "    </tr>\n",
       "    <tr>\n",
       "      <th>0</th>\n",
       "      <td>0.683045</td>\n",
       "      <td>0.841940</td>\n",
       "      <td>0.127949</td>\n",
       "      <td>PCA (768x4)</td>\n",
       "      <td>192.0</td>\n",
       "    </tr>\n",
       "    <tr>\n",
       "      <th>0</th>\n",
       "      <td>0.749561</td>\n",
       "      <td>0.841689</td>\n",
       "      <td>0.138854</td>\n",
       "      <td>PCA (768x8)</td>\n",
       "      <td>96.0</td>\n",
       "    </tr>\n",
       "    <tr>\n",
       "      <th>0</th>\n",
       "      <td>0.810209</td>\n",
       "      <td>0.735790</td>\n",
       "      <td>0.207031</td>\n",
       "      <td>PCA (128x2)</td>\n",
       "      <td>64.0</td>\n",
       "    </tr>\n",
       "    <tr>\n",
       "      <th>0</th>\n",
       "      <td>0.829080</td>\n",
       "      <td>0.832002</td>\n",
       "      <td>0.157467</td>\n",
       "      <td>PCA (768x16)</td>\n",
       "      <td>48.0</td>\n",
       "    </tr>\n",
       "    <tr>\n",
       "      <th>0</th>\n",
       "      <td>0.879971</td>\n",
       "      <td>0.728551</td>\n",
       "      <td>0.222813</td>\n",
       "      <td>PCA (64x2)</td>\n",
       "      <td>32.0</td>\n",
       "    </tr>\n",
       "    <tr>\n",
       "      <th>0</th>\n",
       "      <td>0.895930</td>\n",
       "      <td>0.815812</td>\n",
       "      <td>0.179110</td>\n",
       "      <td>PCA (768x32)</td>\n",
       "      <td>24.0</td>\n",
       "    </tr>\n",
       "    <tr>\n",
       "      <th>0</th>\n",
       "      <td>0.920536</td>\n",
       "      <td>0.734346</td>\n",
       "      <td>0.224905</td>\n",
       "      <td>PCA (32x2)</td>\n",
       "      <td>16.0</td>\n",
       "    </tr>\n",
       "    <tr>\n",
       "      <th>0</th>\n",
       "      <td>0.935962</td>\n",
       "      <td>0.802815</td>\n",
       "      <td>0.198501</td>\n",
       "      <td>PCA (768x64)</td>\n",
       "      <td>12.0</td>\n",
       "    </tr>\n",
       "    <tr>\n",
       "      <th>0</th>\n",
       "      <td>0.944464</td>\n",
       "      <td>0.738165</td>\n",
       "      <td>0.221835</td>\n",
       "      <td>PCA (64x8)</td>\n",
       "      <td>8.0</td>\n",
       "    </tr>\n",
       "    <tr>\n",
       "      <th>0</th>\n",
       "      <td>0.954633</td>\n",
       "      <td>0.783558</td>\n",
       "      <td>0.213439</td>\n",
       "      <td>PCA (768x128)</td>\n",
       "      <td>6.0</td>\n",
       "    </tr>\n",
       "    <tr>\n",
       "      <th>0</th>\n",
       "      <td>0.957478</td>\n",
       "      <td>0.738141</td>\n",
       "      <td>0.225173</td>\n",
       "      <td>PCA (64x16)</td>\n",
       "      <td>4.0</td>\n",
       "    </tr>\n",
       "    <tr>\n",
       "      <th>0</th>\n",
       "      <td>0.964836</td>\n",
       "      <td>0.741855</td>\n",
       "      <td>0.223853</td>\n",
       "      <td>PCA (128x64)</td>\n",
       "      <td>2.0</td>\n",
       "    </tr>\n",
       "  </tbody>\n",
       "</table>\n",
       "</div>"
      ],
      "text/plain": [
       "      ratio  mean_pos_sim  mean_diff         method  reduction_rate\n",
       "0  0.610516      0.811125   0.125235    PCA (768x2)           384.0\n",
       "0  0.683045      0.841940   0.127949    PCA (768x4)           192.0\n",
       "0  0.749561      0.841689   0.138854    PCA (768x8)            96.0\n",
       "0  0.810209      0.735790   0.207031    PCA (128x2)            64.0\n",
       "0  0.829080      0.832002   0.157467   PCA (768x16)            48.0\n",
       "0  0.879971      0.728551   0.222813     PCA (64x2)            32.0\n",
       "0  0.895930      0.815812   0.179110   PCA (768x32)            24.0\n",
       "0  0.920536      0.734346   0.224905     PCA (32x2)            16.0\n",
       "0  0.935962      0.802815   0.198501   PCA (768x64)            12.0\n",
       "0  0.944464      0.738165   0.221835     PCA (64x8)             8.0\n",
       "0  0.954633      0.783558   0.213439  PCA (768x128)             6.0\n",
       "0  0.957478      0.738141   0.225173    PCA (64x16)             4.0\n",
       "0  0.964836      0.741855   0.223853   PCA (128x64)             2.0"
      ]
     },
     "execution_count": 144,
     "metadata": {},
     "output_type": "execute_result"
    }
   ],
   "source": [
    "cmetrics = pd.concat(metrics)\n",
    "\n",
    "max_ratio = cmetrics.groupby(\"reduction_rate\").max()[\"ratio\"]\n",
    "cmetrics = cmetrics[cmetrics.apply(lambda x: x[\"ratio\"]==max_ratio[x[\"reduction_rate\"]], axis=1)]\n",
    "cmetrics = cmetrics.sort_values(\"reduction_rate\", ascending=False)\n",
    "cmetrics.to_csv(\"results/PCA.csv\")\n",
    "\n",
    "cmetrics"
   ]
  },
  {
   "cell_type": "markdown",
   "metadata": {},
   "source": [
    "### UMAP"
   ]
  },
  {
   "cell_type": "code",
   "execution_count": 9,
   "metadata": {},
   "outputs": [],
   "source": [
    "metrics = []"
   ]
  },
  {
   "cell_type": "code",
   "execution_count": 23,
   "metadata": {},
   "outputs": [],
   "source": [
    "from cuml.manifold import UMAP"
   ]
  },
  {
   "cell_type": "code",
   "execution_count": 32,
   "metadata": {},
   "outputs": [],
   "source": [
    "def get_umap(input_dim, output_dim):\n",
    "    model = UMAP(n_components=output_dim)\n",
    "    data = train_data[0].reshape(-1, input_dim)\n",
    "    model.fit(data)\n",
    "    return model"
   ]
  },
  {
   "cell_type": "code",
   "execution_count": 33,
   "metadata": {},
   "outputs": [],
   "source": [
    "model = get_umap(128, 16)"
   ]
  },
  {
   "cell_type": "code",
   "execution_count": 34,
   "metadata": {
    "tags": []
   },
   "outputs": [
    {
     "name": "stderr",
     "output_type": "stream",
     "text": [
      "100%|█████████████████████████████████████████████████████████████████████████████████████████████████████████████████████████████████████████████████████████████████| 89978/89978 [00:33<00:00, 2704.04it/s]\n",
      "100%|█████████████████████████████████████████████████████████████████████████████████████████████████████████████████████████████████████████████████████████████████| 89978/89978 [00:33<00:00, 2696.86it/s]\n",
      "100%|█████████████████████████████████████████████████████████████████████████████████████████████████████████████████████████████████████████████████████████████████| 89978/89978 [00:32<00:00, 2750.38it/s]\n",
      "100%|█████████████████████████████████████████████████████████████████████████████████████████████████████████████████████████████████████████████████████████████████| 89978/89978 [00:32<00:00, 2729.56it/s]\n",
      "100%|█████████████████████████████████████████████████████████████████████████████████████████████████████████████████████████████████████████████████████████████████| 89978/89978 [00:34<00:00, 2640.38it/s]\n",
      "100%|█████████████████████████████████████████████████████████████████████████████████████████████████████████████████████████████████████████████████████████████████| 89978/89978 [00:33<00:00, 2671.50it/s]\n",
      "100%|█████████████████████████████████████████████████████████████████████████████████████████████████████████████████████████████████████████████████████████████████| 89978/89978 [00:33<00:00, 2656.95it/s]\n",
      "100%|█████████████████████████████████████████████████████████████████████████████████████████████████████████████████████████████████████████████████████████████████| 89978/89978 [00:32<00:00, 2749.47it/s]\n",
      "100%|█████████████████████████████████████████████████████████████████████████████████████████████████████████████████████████████████████████████████████████████████| 89978/89978 [00:33<00:00, 2696.82it/s]\n",
      "100%|█████████████████████████████████████████████████████████████████████████████████████████████████████████████████████████████████████████████████████████████████| 89978/89978 [00:33<00:00, 2692.21it/s]\n",
      "100%|█████████████████████████████████████████████████████████████████████████████████████████████████████████████████████████████████████████████████████████████████| 89978/89978 [00:33<00:00, 2696.28it/s]\n",
      "100%|█████████████████████████████████████████████████████████████████████████████████████████████████████████████████████████████████████████████████████████████████| 89978/89978 [00:33<00:00, 2690.08it/s]\n",
      "100%|█████████████████████████████████████████████████████████████████████████████████████████████████████████████████████████████████████████████████████████████████| 89978/89978 [00:33<00:00, 2693.01it/s]\n",
      "100%|█████████████████████████████████████████████████████████████████████████████████████████████████████████████████████████████████████████████████████████████████| 89978/89978 [00:33<00:00, 2662.22it/s]\n",
      "100%|█████████████████████████████████████████████████████████████████████████████████████████████████████████████████████████████████████████████████████████████████| 89978/89978 [00:34<00:00, 2616.28it/s]\n",
      "100%|█████████████████████████████████████████████████████████████████████████████████████████████████████████████████████████████████████████████████████████████████| 89978/89978 [00:33<00:00, 2706.31it/s]\n",
      "100%|█████████████████████████████████████████████████████████████████████████████████████████████████████████████████████████████████████████████████████████████████| 89978/89978 [00:33<00:00, 2685.35it/s]\n",
      "100%|█████████████████████████████████████████████████████████████████████████████████████████████████████████████████████████████████████████████████████████████████| 89978/89978 [00:33<00:00, 2700.66it/s]\n",
      "100%|█████████████████████████████████████████████████████████████████████████████████████████████████████████████████████████████████████████████████████████████████| 89978/89978 [00:33<00:00, 2694.31it/s]\n",
      "100%|█████████████████████████████████████████████████████████████████████████████████████████████████████████████████████████████████████████████████████████████████| 89978/89978 [00:33<00:00, 2695.66it/s]\n",
      "100%|█████████████████████████████████████████████████████████████████████████████████████████████████████████████████████████████████████████████████████████████████| 89978/89978 [00:33<00:00, 2695.01it/s]\n",
      "100%|█████████████████████████████████████████████████████████████████████████████████████████████████████████████████████████████████████████████████████████████████| 89978/89978 [00:33<00:00, 2691.27it/s]\n"
     ]
    }
   ],
   "source": [
    "for input_dim in [32, 64, 128, 768]:\n",
    "    for output_dim in [2, 4, 8, 16, 32, 64, 128]:\n",
    "        if input_dim <= output_dim:\n",
    "            continue\n",
    "            \n",
    "        model = get_umap(input_dim, output_dim)\n",
    "        metrics.append(calculate_metrics(test_pca(model, input_dim), test_data, f\"UMAP ({input_dim}x{output_dim})\"))"
   ]
  },
  {
   "cell_type": "code",
   "execution_count": 35,
   "metadata": {},
   "outputs": [
    {
     "data": {
      "text/html": [
       "<div>\n",
       "<style scoped>\n",
       "    .dataframe tbody tr th:only-of-type {\n",
       "        vertical-align: middle;\n",
       "    }\n",
       "\n",
       "    .dataframe tbody tr th {\n",
       "        vertical-align: top;\n",
       "    }\n",
       "\n",
       "    .dataframe thead th {\n",
       "        text-align: right;\n",
       "    }\n",
       "</style>\n",
       "<table border=\"1\" class=\"dataframe\">\n",
       "  <thead>\n",
       "    <tr style=\"text-align: right;\">\n",
       "      <th></th>\n",
       "      <th>ratio</th>\n",
       "      <th>mean_pos_sim</th>\n",
       "      <th>mean_diff</th>\n",
       "      <th>method</th>\n",
       "      <th>reduction_rate</th>\n",
       "    </tr>\n",
       "  </thead>\n",
       "  <tbody>\n",
       "    <tr>\n",
       "      <th>0</th>\n",
       "      <td>0.550879</td>\n",
       "      <td>0.668035</td>\n",
       "      <td>0.040766</td>\n",
       "      <td>UMAP (768x2)</td>\n",
       "      <td>384.0</td>\n",
       "    </tr>\n",
       "    <tr>\n",
       "      <th>0</th>\n",
       "      <td>0.632088</td>\n",
       "      <td>0.911761</td>\n",
       "      <td>0.057221</td>\n",
       "      <td>UMAP (768x4)</td>\n",
       "      <td>192.0</td>\n",
       "    </tr>\n",
       "    <tr>\n",
       "      <th>0</th>\n",
       "      <td>0.651104</td>\n",
       "      <td>0.957159</td>\n",
       "      <td>0.033607</td>\n",
       "      <td>UMAP (768x8)</td>\n",
       "      <td>96.0</td>\n",
       "    </tr>\n",
       "    <tr>\n",
       "      <th>0</th>\n",
       "      <td>0.544500</td>\n",
       "      <td>0.846501</td>\n",
       "      <td>0.028204</td>\n",
       "      <td>UMAP (128x2)</td>\n",
       "      <td>64.0</td>\n",
       "    </tr>\n",
       "    <tr>\n",
       "      <th>0</th>\n",
       "      <td>0.653393</td>\n",
       "      <td>0.968231</td>\n",
       "      <td>0.024588</td>\n",
       "      <td>UMAP (768x16)</td>\n",
       "      <td>48.0</td>\n",
       "    </tr>\n",
       "    <tr>\n",
       "      <th>0</th>\n",
       "      <td>0.644124</td>\n",
       "      <td>0.954982</td>\n",
       "      <td>0.030882</td>\n",
       "      <td>UMAP (128x4)</td>\n",
       "      <td>32.0</td>\n",
       "    </tr>\n",
       "    <tr>\n",
       "      <th>0</th>\n",
       "      <td>0.650470</td>\n",
       "      <td>0.975806</td>\n",
       "      <td>0.017704</td>\n",
       "      <td>UMAP (768x32)</td>\n",
       "      <td>24.0</td>\n",
       "    </tr>\n",
       "    <tr>\n",
       "      <th>0</th>\n",
       "      <td>0.673565</td>\n",
       "      <td>0.965916</td>\n",
       "      <td>0.033695</td>\n",
       "      <td>UMAP (128x8)</td>\n",
       "      <td>16.0</td>\n",
       "    </tr>\n",
       "    <tr>\n",
       "      <th>0</th>\n",
       "      <td>0.614295</td>\n",
       "      <td>0.824949</td>\n",
       "      <td>0.034135</td>\n",
       "      <td>UMAP (768x64)</td>\n",
       "      <td>12.0</td>\n",
       "    </tr>\n",
       "    <tr>\n",
       "      <th>0</th>\n",
       "      <td>0.885116</td>\n",
       "      <td>0.629663</td>\n",
       "      <td>0.168973</td>\n",
       "      <td>UMAP (32x4)</td>\n",
       "      <td>8.0</td>\n",
       "    </tr>\n",
       "    <tr>\n",
       "      <th>0</th>\n",
       "      <td>0.615717</td>\n",
       "      <td>0.820846</td>\n",
       "      <td>0.037329</td>\n",
       "      <td>UMAP (768x128)</td>\n",
       "      <td>6.0</td>\n",
       "    </tr>\n",
       "    <tr>\n",
       "      <th>0</th>\n",
       "      <td>0.897897</td>\n",
       "      <td>0.650991</td>\n",
       "      <td>0.175584</td>\n",
       "      <td>UMAP (32x8)</td>\n",
       "      <td>4.0</td>\n",
       "    </tr>\n",
       "    <tr>\n",
       "      <th>0</th>\n",
       "      <td>0.934006</td>\n",
       "      <td>0.676887</td>\n",
       "      <td>0.184324</td>\n",
       "      <td>UMAP (32x16)</td>\n",
       "      <td>2.0</td>\n",
       "    </tr>\n",
       "  </tbody>\n",
       "</table>\n",
       "</div>"
      ],
      "text/plain": [
       "      ratio  mean_pos_sim  mean_diff          method  reduction_rate\n",
       "0  0.550879      0.668035   0.040766    UMAP (768x2)           384.0\n",
       "0  0.632088      0.911761   0.057221    UMAP (768x4)           192.0\n",
       "0  0.651104      0.957159   0.033607    UMAP (768x8)            96.0\n",
       "0  0.544500      0.846501   0.028204    UMAP (128x2)            64.0\n",
       "0  0.653393      0.968231   0.024588   UMAP (768x16)            48.0\n",
       "0  0.644124      0.954982   0.030882    UMAP (128x4)            32.0\n",
       "0  0.650470      0.975806   0.017704   UMAP (768x32)            24.0\n",
       "0  0.673565      0.965916   0.033695    UMAP (128x8)            16.0\n",
       "0  0.614295      0.824949   0.034135   UMAP (768x64)            12.0\n",
       "0  0.885116      0.629663   0.168973     UMAP (32x4)             8.0\n",
       "0  0.615717      0.820846   0.037329  UMAP (768x128)             6.0\n",
       "0  0.897897      0.650991   0.175584     UMAP (32x8)             4.0\n",
       "0  0.934006      0.676887   0.184324    UMAP (32x16)             2.0"
      ]
     },
     "execution_count": 35,
     "metadata": {},
     "output_type": "execute_result"
    }
   ],
   "source": [
    "cmetrics = pd.concat(metrics)\n",
    "\n",
    "max_ratio = cmetrics.groupby(\"reduction_rate\").max()[\"ratio\"]\n",
    "cmetrics = cmetrics[cmetrics.apply(lambda x: x[\"ratio\"]==max_ratio[x[\"reduction_rate\"]], axis=1)]\n",
    "cmetrics = cmetrics.sort_values(\"reduction_rate\", ascending=False)\n",
    "cmetrics.to_csv(\"results/UMAP.csv\")\n",
    "\n",
    "cmetrics"
   ]
  },
  {
   "cell_type": "markdown",
   "metadata": {},
   "source": [
    "### Similarity Embedding Framework"
   ]
  },
  {
   "cell_type": "code",
   "execution_count": null,
   "metadata": {},
   "outputs": [],
   "source": []
  },
  {
   "cell_type": "markdown",
   "metadata": {},
   "source": [
    "\n",
    "## Whitening Sentence Representations "
   ]
  },
  {
   "cell_type": "code",
   "execution_count": 45,
   "metadata": {},
   "outputs": [],
   "source": [
    "def compute_kernel_bias(input_dim):\n",
    "    \"\"\"\n",
    "    y = (x + bias).dot(kernel)\n",
    "    \"\"\"\n",
    "    vecs = train_data[0].reshape(-1, input_dim)\n",
    "    # vecs = np.concatenate(vecs, axis=0)\n",
    "    mu = vecs.mean(axis=0, keepdims=True)\n",
    "    cov = np.cov(vecs.T)\n",
    "    u, s, vh = np.linalg.svd(cov)\n",
    "    W = np.dot(u, np.diag(1/np.sqrt(s)))\n",
    "    return W, -mu\n",
    "\n",
    "def transform_and_normalize(vecs, kernel, bias):\n",
    "    if not (kernel is None or bias is None):\n",
    "        vecs = (vecs + bias).dot(kernel)\n",
    "    normalized=vecs / (vecs**2).sum(axis=1, keepdims=True)**0.5\n",
    "    return normalized\n",
    "\n",
    "def test_whitening(kernel, bias,input_dim):\n",
    "    def _inner(embeddings):\n",
    "        x = embeddings.reshape(-1, input_dim)\n",
    "        x = transform_and_normalize(x,kernel=kernel,bias=bias)\n",
    "        x = x.reshape(len(embeddings), -1)\n",
    "        return x\n",
    "    return _inner"
   ]
  },
  {
   "cell_type": "code",
   "execution_count": 48,
   "metadata": {},
   "outputs": [],
   "source": [
    "metrics = []"
   ]
  },
  {
   "cell_type": "code",
   "execution_count": 51,
   "metadata": {},
   "outputs": [
    {
     "name": "stderr",
     "output_type": "stream",
     "text": [
      "100%|████████████████████████████████████████████████████████████████████████████████████████████████████████| 89978/89978 [00:26<00:00, 3379.08it/s]\n",
      "100%|████████████████████████████████████████████████████████████████████████████████████████████████████████| 89978/89978 [00:26<00:00, 3382.49it/s]\n",
      "100%|████████████████████████████████████████████████████████████████████████████████████████████████████████| 89978/89978 [00:27<00:00, 3255.82it/s]\n",
      "100%|████████████████████████████████████████████████████████████████████████████████████████████████████████| 89978/89978 [00:27<00:00, 3287.66it/s]\n",
      "100%|████████████████████████████████████████████████████████████████████████████████████████████████████████| 89978/89978 [00:24<00:00, 3643.45it/s]\n",
      "100%|████████████████████████████████████████████████████████████████████████████████████████████████████████| 89978/89978 [00:26<00:00, 3371.60it/s]\n",
      "100%|████████████████████████████████████████████████████████████████████████████████████████████████████████| 89978/89978 [00:26<00:00, 3372.40it/s]\n",
      "100%|████████████████████████████████████████████████████████████████████████████████████████████████████████| 89978/89978 [00:26<00:00, 3334.77it/s]\n",
      "100%|████████████████████████████████████████████████████████████████████████████████████████████████████████| 89978/89978 [00:27<00:00, 3294.87it/s]\n",
      "100%|████████████████████████████████████████████████████████████████████████████████████████████████████████| 89978/89978 [00:24<00:00, 3671.68it/s]\n",
      "100%|████████████████████████████████████████████████████████████████████████████████████████████████████████| 89978/89978 [00:25<00:00, 3538.82it/s]\n",
      "100%|████████████████████████████████████████████████████████████████████████████████████████████████████████| 89978/89978 [00:26<00:00, 3391.17it/s]\n",
      "100%|████████████████████████████████████████████████████████████████████████████████████████████████████████| 89978/89978 [00:26<00:00, 3386.55it/s]\n",
      "100%|████████████████████████████████████████████████████████████████████████████████████████████████████████| 89978/89978 [00:27<00:00, 3316.19it/s]\n",
      "100%|████████████████████████████████████████████████████████████████████████████████████████████████████████| 89978/89978 [00:27<00:00, 3317.57it/s]\n",
      "100%|████████████████████████████████████████████████████████████████████████████████████████████████████████| 89978/89978 [00:24<00:00, 3745.43it/s]\n",
      "100%|████████████████████████████████████████████████████████████████████████████████████████████████████████| 89978/89978 [00:23<00:00, 3760.84it/s]\n",
      "100%|████████████████████████████████████████████████████████████████████████████████████████████████████████| 89978/89978 [00:23<00:00, 3789.50it/s]\n",
      "100%|████████████████████████████████████████████████████████████████████████████████████████████████████████| 89978/89978 [00:24<00:00, 3697.62it/s]\n",
      "100%|████████████████████████████████████████████████████████████████████████████████████████████████████████| 89978/89978 [00:26<00:00, 3383.84it/s]\n",
      "100%|████████████████████████████████████████████████████████████████████████████████████████████████████████| 89978/89978 [00:26<00:00, 3402.47it/s]\n",
      "100%|████████████████████████████████████████████████████████████████████████████████████████████████████████| 89978/89978 [00:26<00:00, 3386.55it/s]\n"
     ]
    }
   ],
   "source": [
    "for input_dim in [32, 64, 128, 768]:\n",
    "    for output_dim in [2, 4, 8, 16, 32, 64, 128]:\n",
    "        if input_dim <= output_dim:\n",
    "            continue\n",
    "        kernel, bias = compute_kernel_bias(input_dim)\n",
    "        kernel = kernel[:, :output_dim]\n",
    "        metrics.append(calculate_metrics(test_whitening(kernel,bias,input_dim), test_data, f\"Whitening ({input_dim}x{output_dim})\"))"
   ]
  },
  {
   "cell_type": "code",
   "execution_count": 55,
   "metadata": {},
   "outputs": [
    {
     "data": {
      "text/html": [
       "<div>\n",
       "<style scoped>\n",
       "    .dataframe tbody tr th:only-of-type {\n",
       "        vertical-align: middle;\n",
       "    }\n",
       "\n",
       "    .dataframe tbody tr th {\n",
       "        vertical-align: top;\n",
       "    }\n",
       "\n",
       "    .dataframe thead th {\n",
       "        text-align: right;\n",
       "    }\n",
       "</style>\n",
       "<table border=\"1\" class=\"dataframe\">\n",
       "  <thead>\n",
       "    <tr style=\"text-align: right;\">\n",
       "      <th></th>\n",
       "      <th>ratio</th>\n",
       "      <th>mean_pos_sim</th>\n",
       "      <th>mean_diff</th>\n",
       "      <th>method</th>\n",
       "      <th>reduction_rate</th>\n",
       "    </tr>\n",
       "  </thead>\n",
       "  <tbody>\n",
       "    <tr>\n",
       "      <th>0</th>\n",
       "      <td>0.610883</td>\n",
       "      <td>0.810334</td>\n",
       "      <td>0.124641</td>\n",
       "      <td>Whitening (768x2)</td>\n",
       "      <td>384.0</td>\n",
       "    </tr>\n",
       "    <tr>\n",
       "      <th>0</th>\n",
       "      <td>0.683523</td>\n",
       "      <td>0.840056</td>\n",
       "      <td>0.128928</td>\n",
       "      <td>Whitening (768x4)</td>\n",
       "      <td>192.0</td>\n",
       "    </tr>\n",
       "    <tr>\n",
       "      <th>0</th>\n",
       "      <td>0.751950</td>\n",
       "      <td>0.838032</td>\n",
       "      <td>0.142059</td>\n",
       "      <td>Whitening (768x8)</td>\n",
       "      <td>96.0</td>\n",
       "    </tr>\n",
       "    <tr>\n",
       "      <th>0</th>\n",
       "      <td>0.748850</td>\n",
       "      <td>0.652865</td>\n",
       "      <td>0.199488</td>\n",
       "      <td>Whitening (128x2)</td>\n",
       "      <td>64.0</td>\n",
       "    </tr>\n",
       "    <tr>\n",
       "      <th>0</th>\n",
       "      <td>0.833070</td>\n",
       "      <td>0.826492</td>\n",
       "      <td>0.163008</td>\n",
       "      <td>Whitening (768x16)</td>\n",
       "      <td>48.0</td>\n",
       "    </tr>\n",
       "    <tr>\n",
       "      <th>0</th>\n",
       "      <td>0.839594</td>\n",
       "      <td>0.703681</td>\n",
       "      <td>0.209091</td>\n",
       "      <td>Whitening (128x4)</td>\n",
       "      <td>32.0</td>\n",
       "    </tr>\n",
       "    <tr>\n",
       "      <th>0</th>\n",
       "      <td>0.902454</td>\n",
       "      <td>0.806293</td>\n",
       "      <td>0.190766</td>\n",
       "      <td>Whitening (768x32)</td>\n",
       "      <td>24.0</td>\n",
       "    </tr>\n",
       "    <tr>\n",
       "      <th>0</th>\n",
       "      <td>0.902409</td>\n",
       "      <td>0.724704</td>\n",
       "      <td>0.213697</td>\n",
       "      <td>Whitening (128x8)</td>\n",
       "      <td>16.0</td>\n",
       "    </tr>\n",
       "    <tr>\n",
       "      <th>0</th>\n",
       "      <td>0.937863</td>\n",
       "      <td>0.793159</td>\n",
       "      <td>0.210244</td>\n",
       "      <td>Whitening (768x64)</td>\n",
       "      <td>12.0</td>\n",
       "    </tr>\n",
       "    <tr>\n",
       "      <th>0</th>\n",
       "      <td>0.938040</td>\n",
       "      <td>0.735265</td>\n",
       "      <td>0.217495</td>\n",
       "      <td>Whitening (128x16)</td>\n",
       "      <td>8.0</td>\n",
       "    </tr>\n",
       "    <tr>\n",
       "      <th>0</th>\n",
       "      <td>0.952499</td>\n",
       "      <td>0.769796</td>\n",
       "      <td>0.226474</td>\n",
       "      <td>Whitening (768x128)</td>\n",
       "      <td>6.0</td>\n",
       "    </tr>\n",
       "    <tr>\n",
       "      <th>0</th>\n",
       "      <td>0.956512</td>\n",
       "      <td>0.740897</td>\n",
       "      <td>0.220680</td>\n",
       "      <td>Whitening (128x32)</td>\n",
       "      <td>4.0</td>\n",
       "    </tr>\n",
       "    <tr>\n",
       "      <th>0</th>\n",
       "      <td>0.964714</td>\n",
       "      <td>0.738850</td>\n",
       "      <td>0.224645</td>\n",
       "      <td>Whitening (128x64)</td>\n",
       "      <td>2.0</td>\n",
       "    </tr>\n",
       "  </tbody>\n",
       "</table>\n",
       "</div>"
      ],
      "text/plain": [
       "      ratio  mean_pos_sim  mean_diff               method  reduction_rate\n",
       "0  0.610883      0.810334   0.124641    Whitening (768x2)           384.0\n",
       "0  0.683523      0.840056   0.128928    Whitening (768x4)           192.0\n",
       "0  0.751950      0.838032   0.142059    Whitening (768x8)            96.0\n",
       "0  0.748850      0.652865   0.199488    Whitening (128x2)            64.0\n",
       "0  0.833070      0.826492   0.163008   Whitening (768x16)            48.0\n",
       "0  0.839594      0.703681   0.209091    Whitening (128x4)            32.0\n",
       "0  0.902454      0.806293   0.190766   Whitening (768x32)            24.0\n",
       "0  0.902409      0.724704   0.213697    Whitening (128x8)            16.0\n",
       "0  0.937863      0.793159   0.210244   Whitening (768x64)            12.0\n",
       "0  0.938040      0.735265   0.217495   Whitening (128x16)             8.0\n",
       "0  0.952499      0.769796   0.226474  Whitening (768x128)             6.0\n",
       "0  0.956512      0.740897   0.220680   Whitening (128x32)             4.0\n",
       "0  0.964714      0.738850   0.224645   Whitening (128x64)             2.0"
      ]
     },
     "execution_count": 55,
     "metadata": {},
     "output_type": "execute_result"
    }
   ],
   "source": [
    "cmetrics = pd.concat(metrics)\n",
    "\n",
    "max_ratio = cmetrics.groupby(\"reduction_rate\").max()[\"ratio\"]\n",
    "cmetrics = cmetrics[cmetrics.apply(lambda x: x[\"ratio\"]==max_ratio[x[\"reduction_rate\"]], axis=1)]\n",
    "cmetrics = cmetrics.sort_values(\"reduction_rate\", ascending=False)\n",
    "cmetrics.to_csv(\"results/Whitening.csv\")\n",
    "cmetrics"
   ]
  },
  {
   "cell_type": "code",
   "execution_count": null,
   "metadata": {},
   "outputs": [],
   "source": []
  }
 ],
 "metadata": {
  "kernelspec": {
   "display_name": "Python 3 (ipykernel)",
   "language": "python",
   "name": "python3"
  },
  "language_info": {
   "codemirror_mode": {
    "name": "ipython",
    "version": 3
   },
   "file_extension": ".py",
   "mimetype": "text/x-python",
   "name": "python",
   "nbconvert_exporter": "python",
   "pygments_lexer": "ipython3",
   "version": "3.7.10"
  }
 },
 "nbformat": 4,
 "nbformat_minor": 4
}
